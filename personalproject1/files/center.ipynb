{
 "cells": [
  {
   "cell_type": "code",
   "execution_count": 1,
   "metadata": {},
   "outputs": [],
   "source": [
    "import requests, bs4\n",
    "import pandas as pd\n",
    "from lxml import html\n",
    "from urllib.request import Request, urlopen\n",
    "from urllib.parse import urlencode, quote_plus, unquote\n",
    "import os\n",
    "os.environ['JAVA_OPTS'] = 'Xmx4096M'\n"
   ]
  },
  {
   "cell_type": "code",
   "execution_count": 2,
   "metadata": {},
   "outputs": [
    {
     "name": "stdout",
     "output_type": "stream",
     "text": [
      "Wall time: 473 ms\n"
     ]
    },
    {
     "data": {
      "text/plain": [
       "[<item><careAddr>대구광역시 북구 호국로 229 (서변동) 6층</careAddr><careNm>(사)대구수의사회</careNm><careTel>053-764-3708</careTel><closeDay>0</closeDay><dataStdDt>2020-12-18</dataStdDt><divisionNm>법인</divisionNm><dsignationDate>2017-01-01</dsignationDate><jibunAddr> 6층</jibunAddr><lat>35.922355665</lat><lng>128.599034473</lng><orgNm>대구광역시 수성구</orgNm><rnum>1</rnum><saveTrgtAnimal>개+고양이+기타</saveTrgtAnimal><specsPersonCnt>0</specsPersonCnt><vetPersonCnt>0</vetPersonCnt><weekCellEtime>:</weekCellEtime><weekCellStime>:</weekCellStime><weekOprEtime>24:00</weekOprEtime><weekOprStime>00:00</weekOprStime><weekendCellEtime>:</weekendCellEtime><weekendCellStime>:</weekendCellStime><weekendOprEtime>:</weekendOprEtime><weekendOprStime>:</weekendOprStime></item>,\n",
       " <item><careAddr>부산광역시 강서구 제도로 726 (강동동) </careAddr><careNm>(사)하얀비둘기</careNm><careTel>051-293-9779</careTel><dataStdDt>2021-01-05</dataStdDt><divisionNm>법인</divisionNm><jibunAddr>부산광역시 강서구 강동동 3223-7 </jibunAddr><orgNm>부산광역시 사하구</orgNm><rnum>1</rnum></item>,\n",
       " <item><careAddr>서울특별시 용산구 보광동 259-1</careAddr><careNm>21세기동물병원</careNm><careTel>02-749-6750</careTel><dataStdDt>2021-06-11</dataStdDt><divisionNm>동물병원</divisionNm><jibunAddr> 259-1</jibunAddr><orgNm>서울특별시 용산구</orgNm><rnum>1</rnum></item>,\n",
       " <item><careAddr>경기도 부천시 오정구 원종동 229-8</careAddr><careNm>24시아이동물메디컬</careNm><careTel>032-677-5262</careTel><dataStdDt>2015-02-23</dataStdDt><divisionNm>동물병원</divisionNm><jibunAddr> </jibunAddr><orgNm>경기도 부천시</orgNm><rnum>1</rnum></item>,\n",
       " <item><careAddr>서울특별시 마포구 만리재로 74 (신공덕동, 신공덕2차삼성래미안) 삼성 래미안상가 117호</careAddr><careNm>C.T종합동물병원</careNm><careTel>02-6375-0075</careTel><closeDay>일요일+공휴일</closeDay><dataStdDt>2020-06-03</dataStdDt><divisionNm>동물병원</divisionNm><dsignationDate>2020-01-01</dsignationDate><jibunAddr>서울특별시 마포구 신공덕동 160 삼성 래미안상가 117호</jibunAddr><lat>37.546859734</lat><lng>126.958384698</lng><orgNm>서울특별시 마포구</orgNm><rnum>1</rnum><saveTrgtAnimal>개+고양이+토끼+기니피그+페럿+햄스터</saveTrgtAnimal><specsPersonCnt>1</specsPersonCnt><vetPersonCnt>1</vetPersonCnt><weekCellEtime>19:00</weekCellEtime><weekCellStime>10:00</weekCellStime><weekOprEtime>19:30</weekOprEtime><weekOprStime>09:30</weekOprStime><weekendCellEtime>15:00</weekendCellEtime><weekendCellStime>10:00</weekendCellStime><weekendOprEtime>16:00</weekendOprEtime><weekendOprStime>09:30</weekendOprStime></item>,\n",
       " <item><careAddr>서울특별시 강동구 상일로 13 (상일동) 1~2층 GD동물병원</careAddr><careNm>GD동물병원</careNm><careTel>02-429-8822</careTel><dataStdDt>2020-11-30</dataStdDt><divisionNm>동물병원</divisionNm><jibunAddr>서울특별시 강동구 상일동 341-2 1~2층 GD동물병원</jibunAddr><orgNm>서울특별시 강동구</orgNm><rnum>1</rnum></item>,\n",
       " <item><breedCnt>1</breedCnt><careAddr>울산광역시 울주군 온산읍 덕신로 250 (온산읍) </careAddr><careNm>MK동물병원</careNm><careTel>052-237-2475</careTel><closeDay>공휴일</closeDay><dataStdDt>2020-06-05</dataStdDt><divisionNm>동물병원</divisionNm><dsignationDate>2020-01-01</dsignationDate><feedCnt>1</feedCnt><jibunAddr> </jibunAddr><lat>35.433533</lat><lng>129.308733</lng><medicalCnt>1</medicalCnt><orgNm>울산광역시 울주군</orgNm><quarabtineCnt>1</quarabtineCnt><rnum>1</rnum><saveTrgtAnimal>개</saveTrgtAnimal><specsPersonCnt>2</specsPersonCnt><vetPersonCnt>1</vetPersonCnt><weekCellEtime>19:00</weekCellEtime><weekCellStime>09:30</weekCellStime><weekOprEtime>19:00</weekOprEtime><weekOprStime>09:30</weekOprStime><weekendCellEtime>16:00</weekendCellEtime><weekendCellStime>09:30</weekendCellStime><weekendOprEtime>16:00</weekendOprEtime><weekendOprStime>09:30</weekendOprStime></item>,\n",
       " <item><careAddr>경기도 부천시 소향로 246 (중동, 새롬프라자6차) </careAddr><careNm>cj동물병원</careNm><careTel>032-323-4999</careTel><divisionNm>동물병원</divisionNm><jibunAddr> </jibunAddr><orgNm>경기도 부천시</orgNm><rnum>1</rnum></item>,\n",
       " <item><careAddr>경기도 부천시 경인로 72 (송내동) </careAddr><careNm>가나동물병원</careNm><careTel>032-665-0075</careTel><dataStdDt>2021-03-03</dataStdDt><divisionNm>동물병원</divisionNm><jibunAddr> </jibunAddr><orgNm>경기도 부천시</orgNm><rnum>1</rnum></item>,\n",
       " <item><careAddr>경기도 파주시 가온로 116 (목동동) </careAddr><careNm>가온동물병원</careNm><careTel>031-945-7552</careTel><dataStdDt>2017-02-17</dataStdDt><divisionNm>동물병원</divisionNm><jibunAddr> </jibunAddr><orgNm>경기도 파주시</orgNm><rnum>1</rnum></item>,\n",
       " <item><careAddr>인천광역시 서구 가정로 346 (가정동) </careAddr><careNm>가정동물병원</careNm><careTel>032-575-0833</careTel><closeDay>2</closeDay><dataStdDt>2020-01-23</dataStdDt><divisionNm>동물병원</divisionNm><dsignationDate>2019-01-01</dsignationDate><jibunAddr>인천광역시 서구 가정동 517-32 </jibunAddr><lat>37.515665283</lat><lng>126.673021837</lng><orgNm>인천광역시 서구</orgNm><rnum>1</rnum><saveTrgtAnimal>개+고양이+기타반려동물</saveTrgtAnimal><specsPersonCnt>4</specsPersonCnt><transCarCnt>1</transCarCnt><vetPersonCnt>2</vetPersonCnt><weekCellEtime>:</weekCellEtime><weekCellStime>:</weekCellStime><weekOprEtime>20:00</weekOprEtime><weekOprStime>10:00</weekOprStime><weekendCellEtime>:</weekendCellEtime><weekendCellStime>:</weekendCellStime><weekendOprEtime>:</weekendOprEtime><weekendOprStime>:</weekendOprStime></item>,\n",
       " <item><careAddr>경기도 가평군 가평읍 아랫마장길 59 (가평읍, 농업기술센터) 가평 유기동물 보호소(10:00~18:00)</careAddr><careNm>가평군유기동물보호소</careNm><careTel>031-580-4748</careTel><dataStdDt>2009-02-25</dataStdDt><divisionNm>법인</divisionNm><jibunAddr> 가평 유기동물 보호소(10:00~18:00)</jibunAddr><lat>37.8459716369</lat><lng>127.4986540628</lng><orgNm>경기도 가평군</orgNm><rnum>1</rnum></item>,\n",
       " <item><careAddr>대구광역시 수성구 달구벌대로 3179 (매호동) 1층</careAddr><careNm>감자동물병원</careNm><careTel>053-795-5589</careTel><closeDay>일요일</closeDay><dataStdDt>2021-01-11</dataStdDt><divisionNm>동물병원</divisionNm><dsignationDate>2021-01-01</dsignationDate><jibunAddr>대구광역시 수성구 매호동 1344-21 1층</jibunAddr><lat>35.841278417</lat><lng>128.704727246</lng><orgNm>대구광역시 수성구</orgNm><rnum>1</rnum><saveTrgtAnimal>개+고양이+기타</saveTrgtAnimal><specsPersonCnt>1</specsPersonCnt><vetPersonCnt>1</vetPersonCnt><weekCellEtime>:</weekCellEtime><weekCellStime>:</weekCellStime><weekOprEtime>20:00</weekOprEtime><weekOprStime>10:00</weekOprStime><weekendCellEtime>:</weekendCellEtime><weekendCellStime>:</weekendCellStime><weekendOprEtime>18:00</weekendOprEtime><weekendOprStime>10:00</weekendOprStime></item>,\n",
       " <item><careAddr>울산광역시 남구 돋질로 232 (달동) 1층</careAddr><careNm>강남동물병원</careNm><careTel>052-271-0075</careTel><closeDay>토요일+일요일</closeDay><dataStdDt>2020-06-04</dataStdDt><divisionNm>동물병원</divisionNm><dsignationDate>2020-01-09</dsignationDate><jibunAddr> 1층</jibunAddr><lat>35.542604193</lat><lng>129.330474173</lng><orgNm>울산광역시 남구</orgNm><rnum>1</rnum><saveTrgtAnimal>개+고양이</saveTrgtAnimal><specsPersonCnt>1</specsPersonCnt><vetPersonCnt>2</vetPersonCnt><weekCellEtime>:</weekCellEtime><weekCellStime>:</weekCellStime><weekOprEtime>17:00</weekOprEtime><weekOprStime>10:00</weekOprStime><weekendCellEtime>:</weekendCellEtime><weekendCellStime>:</weekendCellStime><weekendOprEtime>:</weekendOprEtime><weekendOprStime>:</weekendOprStime></item>,\n",
       " <item><careAddr>서울특별시 강동구 성내로 25 (성내동, 강동구청) 강동구청 </careAddr><careNm>강동구청 반려동물팀 </careNm><careTel>02-3425-6015</careTel><dataStdDt>2020-11-30</dataStdDt><divisionNm>법인</divisionNm><jibunAddr> 강동구청 </jibunAddr><orgNm>서울특별시 강동구</orgNm><rnum>1</rnum></item>,\n",
       " <item><careAddr>서울특별시 강동구 양재대로81길 73 (성내동) 강동구 유기동물 분양센터(reborn)</careAddr><careNm>강동리본센터(reborn)</careNm><careTel>070-4163-7350</careTel><dataStdDt>2020-11-30</dataStdDt><divisionNm>법인</divisionNm><jibunAddr> 강동구 유기동물 분양센터(reborn)</jibunAddr><orgNm>서울특별시 강동구</orgNm><rnum>1</rnum></item>,\n",
       " <item><breedCnt>15</breedCnt><careAddr>강원도 강릉시 성산면 내맬길 172  </careAddr><careNm>강릉시동물사랑센터</careNm><careTel>033-641-7515</careTel><closeDay>토요일+일요일</closeDay><dataStdDt>2021-03-26</dataStdDt><divisionNm>단체</divisionNm><dsignationDate>2006-01-01</dsignationDate><jibunAddr>강원도 강릉시 성산면 산북리 1193 </jibunAddr><lat>37.698788664</lat><lng>128.829276323</lng><medicalCnt>1</medicalCnt><orgNm>강원도 강릉시</orgNm><quarabtineCnt>1</quarabtineCnt><rnum>1</rnum><saveTrgtAnimal>개</saveTrgtAnimal><specsPersonCnt>3</specsPersonCnt><transCarCnt>1</transCarCnt><vetPersonCnt>1</vetPersonCnt><weekCellEtime>:</weekCellEtime><weekCellStime>:</weekCellStime><weekOprEtime>18:00</weekOprEtime><weekOprStime>09:00</weekOprStime><weekendCellEtime>:</weekendCellEtime><weekendCellStime>:</weekendCellStime><weekendOprEtime>:</weekendOprEtime><weekendOprStime>:</weekendOprStime></item>,\n",
       " <item><breedCnt>8</breedCnt><careAddr>전라남도 강진군 강진읍 초지길 109-62 (강진읍, 강진군상하수도사업소) </careAddr><careNm>강진군 유기견 보호소</careNm><careTel>061-430-3613</careTel><closeDay>토요일+일요일+공휴일</closeDay><dataStdDt>2020-06-01</dataStdDt><divisionNm>법인</divisionNm><dsignationDate>2015-08-21</dsignationDate><feedCnt>0</feedCnt><jibunAddr>전라남도 강진군 강진읍 목리 495 </jibunAddr><lat>34.62315224</lat><lng>126.776205899</lng><medicalCnt>0</medicalCnt><orgNm>전라남도 강진군</orgNm><quarabtineCnt>0</quarabtineCnt><rnum>1</rnum><saveTrgtAnimal>개</saveTrgtAnimal><specsPersonCnt>1</specsPersonCnt><transCarCnt>1</transCarCnt><vetPersonCnt>1</vetPersonCnt><weekCellEtime>18:00</weekCellEtime><weekCellStime>09:00</weekCellStime><weekOprEtime>18:00</weekOprEtime><weekOprStime>09:00</weekOprStime><weekendCellEtime>:</weekendCellEtime><weekendCellStime>:</weekendCellStime><weekendOprEtime>:</weekendOprEtime><weekendOprStime>:</weekendOprStime></item>,\n",
       " <item><breedCnt>2</breedCnt><careAddr>서울특별시 양천구 등촌로 160 (목동) 1층</careAddr><careNm>강현림동물병원</careNm><careTel>02-2642-9159</careTel><closeDay>일요일+공휴일</closeDay><dataStdDt>2020-08-11</dataStdDt><divisionNm>동물병원</divisionNm><dsignationDate>2020-01-01</dsignationDate><feedCnt>1</feedCnt><jibunAddr>서울특별시 양천구 목동 657-16 1층</jibunAddr><lat>37.54403479</lat><lng>126.862420091</lng><medicalCnt>1</medicalCnt><orgNm>서울특별시 양천구</orgNm><quarabtineCnt>1</quarabtineCnt><rnum>1</rnum><saveTrgtAnimal>개+고양이+기타</saveTrgtAnimal><specsPersonCnt>2</specsPersonCnt><transCarCnt>1</transCarCnt><vetPersonCnt>1</vetPersonCnt><weekCellEtime>18:00</weekCellEtime><weekCellStime>10:00</weekCellStime><weekOprEtime>20:00</weekOprEtime><weekOprStime>10:00</weekOprStime><weekendCellEtime>18:00</weekendCellEtime><weekendCellStime>10:00</weekendCellStime><weekendOprEtime>20:00</weekendOprEtime><weekendOprStime>10:00</weekendOprStime></item>,\n",
       " <item><careAddr>경상남도 거제시 사등면 두동로1길 109 (사등면, 한국자원재생공사폐비닐적재장) 거제시유기동물보호소</careAddr><careNm>거제시유기동물보호소</careNm><careTel>055-639-6368</careTel><closeDay>0</closeDay><dataStdDt>2020-06-02</dataStdDt><divisionNm>법인</divisionNm><dsignationDate>2009-08-24</dsignationDate><jibunAddr>경상남도 거제시 사등면 사곡리 375-1 거제시유기동물보호소</jibunAddr><lat>34.883767588</lat><lng>128.573667027</lng><orgNm>경상남도 거제시</orgNm><rnum>1</rnum><saveTrgtAnimal>개+고양이</saveTrgtAnimal><specsPersonCnt>4</specsPersonCnt><transCarCnt>1</transCarCnt><vetPersonCnt>0</vetPersonCnt><weekCellEtime>16:00</weekCellEtime><weekCellStime>13:00</weekCellStime><weekOprEtime>18:00</weekOprEtime><weekOprStime>09:00</weekOprStime><weekendCellEtime>15:00</weekendCellEtime><weekendCellStime>13:00</weekendCellStime><weekendOprEtime>18:00</weekendOprEtime><weekendOprStime>09:00</weekendOprStime></item>,\n",
       " <item><careAddr>인천광역시 중구 개항로 68 (경동) </careAddr><careNm>경동동물병원</careNm><careTel>032-765-9988</careTel><dataStdDt>2021-04-02</dataStdDt><divisionNm>동물병원</divisionNm><jibunAddr>인천광역시 중구 경동 240-60 </jibunAddr><orgNm>인천광역시 동구</orgNm><rnum>1</rnum></item>,\n",
       " <item><breedCnt>2</breedCnt><careAddr>인천광역시 중구 개항로 68 (경동) </careAddr><careNm>경동동물병원</careNm><careTel>032-765-9988</careTel><closeDay>일요일</closeDay><dataStdDt>2019-12-27</dataStdDt><divisionNm>동물병원</divisionNm><dsignationDate>2019-12-30</dsignationDate><feedCnt>1</feedCnt><jibunAddr> </jibunAddr><lat>37.471957668</lat><lng>126.629945155</lng><medicalCnt>1</medicalCnt><orgNm>인천광역시 중구</orgNm><quarabtineCnt>1</quarabtineCnt><rnum>1</rnum><saveTrgtAnimal>개+고양이+기타</saveTrgtAnimal><specsPersonCnt>1</specsPersonCnt><transCarCnt>2</transCarCnt><vetPersonCnt>1</vetPersonCnt><weekCellEtime>17:00</weekCellEtime><weekCellStime>10:00</weekCellStime><weekOprEtime>18:00</weekOprEtime><weekOprStime>09:00</weekOprStime><weekendCellEtime>:</weekendCellEtime><weekendCellStime>:</weekendCellStime><weekendOprEtime>18:00</weekendOprEtime><weekendOprStime>09:00</weekendOprStime></item>,\n",
       " <item><breedCnt>1</breedCnt><careAddr>경상북도 경주시 용담로 12 (황성동) </careAddr><careNm>경주시유기동물보호소</careNm><careTel>010-3841-6303</careTel><closeDay>일요일+공휴일</closeDay><dataStdDt>2021-03-05</dataStdDt><divisionNm>동물병원</divisionNm><dsignationDate>2017-01-02</dsignationDate><feedCnt>1</feedCnt><jibunAddr>경상북도 경주시 황성동 357-5 </jibunAddr><lat>35.860817385</lat><lng>129.219656239</lng><medicalCnt>3</medicalCnt><orgNm>경상북도 경주시</orgNm><quarabtineCnt>1</quarabtineCnt><rnum>1</rnum><saveTrgtAnimal>개+고양이+기타</saveTrgtAnimal><specsPersonCnt>0</specsPersonCnt><vetPersonCnt>1</vetPersonCnt><weekCellEtime>18:00</weekCellEtime><weekCellStime>09:30</weekCellStime><weekOprEtime>18:00</weekOprEtime><weekOprStime>09:30</weekOprStime><weekendCellEtime>:</weekendCellEtime><weekendCellStime>:</weekendCellStime><weekendOprEtime>:</weekendOprEtime><weekendOprStime>:</weekendOprStime></item>,\n",
       " <item><careAddr>경상남도 고성군 고성읍 남해안대로 2829-60  고성군농업기술센터 동물보호센터</careAddr><careNm>고성군유기동물보호소</careNm><careTel>055-670-4314</careTel><dataStdDt>2021-04-09</dataStdDt><divisionNm>법인</divisionNm><jibunAddr>경상남도 고성군 고성읍 우산리 206-2 농업기술센터 고성군농업기술센터 동물보호센터</jibunAddr><orgNm>경상남도 고성군</orgNm><rnum>1</rnum></item>,\n",
       " <item><careAddr>경기도 고양시 덕양구 고양대로 1695 (원흥동, 고양시 농업기술센터) 고양시동물보호센터</careAddr><careNm>고양시동물보호센터</careNm><careTel>031-962-3232</careTel><closeDay>0</closeDay><dataStdDt>2020-01-23</dataStdDt><divisionNm>법인</divisionNm><dsignationDate>2014-02-19</dsignationDate><jibunAddr> 고양시동물보호센터</jibunAddr><lat>37.649779396</lat><lng>126.870084624</lng><orgNm>경기도 고양시</orgNm><rnum>1</rnum><saveTrgtAnimal>개+고양이+기타축종</saveTrgtAnimal><specsPersonCnt>5</specsPersonCnt><vetPersonCnt>1</vetPersonCnt><weekCellEtime>:</weekCellEtime><weekCellStime>:</weekCellStime><weekOprEtime>22:00</weekOprEtime><weekOprStime>09:00</weekOprStime><weekendCellEtime>:</weekendCellEtime><weekendCellStime>:</weekendCellStime><weekendOprEtime>:</weekendOprEtime><weekendOprStime>:</weekendOprStime></item>,\n",
       " <item><careAddr>전라북도 고창군 무장면 원금곡길 13  </careAddr><careNm>고창동물병원</careNm><careTel>063-561-0561</careTel><closeDay>일요일+공휴일</closeDay><dataStdDt>2021-01-10</dataStdDt><divisionNm>동물병원</divisionNm><dsignationDate>2017-01-01</dsignationDate><jibunAddr>전라북도 고창군 무장면 원촌리 56-16 </jibunAddr><lat>35.4379775760</lat><lng>126.6995480785</lng><orgNm>전라북도 고창군</orgNm><rnum>1</rnum><saveTrgtAnimal>개+고양이+기타</saveTrgtAnimal><specsPersonCnt>2</specsPersonCnt><vetPersonCnt>1</vetPersonCnt><weekCellEtime>:</weekCellEtime><weekCellStime>:</weekCellStime><weekOprEtime>18:00</weekOprEtime><weekOprStime>09:00</weekOprStime><weekendCellEtime>:</weekendCellEtime><weekendCellStime>:</weekendCellStime><weekendOprEtime>:</weekendOprEtime><weekendOprStime>:</weekendOprStime></item>,\n",
       " <item><breedCnt>1</breedCnt><careAddr>전라남도 광양시 봉강면 인덕로 1169-20 (봉강면) 지곡리 864-24</careAddr><careNm>광양시 임시보호소</careNm><careTel>061-797-3386</careTel><closeDay>토요일+일요일</closeDay><dataStdDt>2019-10-01</dataStdDt><divisionNm>법인</divisionNm><dsignationDate>2019-10-14</dsignationDate><feedCnt>1</feedCnt><jibunAddr> </jibunAddr><lat>34.988870019</lat><lng>127.57785957</lng><medicalCnt>1</medicalCnt><orgNm>전라남도 광양시</orgNm><quarabtineCnt>1</quarabtineCnt><rnum>1</rnum><saveTrgtAnimal>개+고양이+기타</saveTrgtAnimal><specsPersonCnt>1</specsPersonCnt><transCarCnt>1</transCarCnt><vetPersonCnt>1</vetPersonCnt><weekCellEtime>17:00</weekCellEtime><weekCellStime>10:00</weekCellStime><weekOprEtime>18:00</weekOprEtime><weekOprStime>09:00</weekOprStime><weekendCellEtime>:</weekendCellEtime><weekendCellStime>:</weekendCellStime><weekendOprEtime>:</weekendOprEtime><weekendOprStime>:</weekendOprStime></item>,\n",
       " <item><careAddr>광주광역시 북구 본촌마을길 25 (본촌동, 건국동사무소) 광주 동물보호소</careAddr><careNm>광주 동물보호소</careNm><careTel>062-571-2808</careTel><dataStdDt>2013-02-01</dataStdDt><divisionNm>법인</divisionNm><jibunAddr> </jibunAddr><orgNm>광주광역시 동구</orgNm><rnum>1</rnum></item>,\n",
       " <item><careAddr>광주광역시 북구 본촌마을길 25 (본촌동, 건국동사무소) 광주 동물보호소</careAddr><careNm>광주 동물보호소</careNm><careTel>062-571-2808</careTel><divisionNm>법인</divisionNm><jibunAddr> </jibunAddr><orgNm>광주광역시 서구</orgNm><rnum>1</rnum></item>,\n",
       " <item><careAddr>광주광역시 북구 본촌마을길 25 (본촌동, 건국동사무소) 광주 동물보호소</careAddr><careNm>광주 동물보호소</careNm><careTel>062-571-2808</careTel><divisionNm>법인</divisionNm><jibunAddr> </jibunAddr><orgNm>광주광역시 남구</orgNm><rnum>1</rnum></item>,\n",
       " <item><breedCnt>13</breedCnt><careAddr>광주광역시 북구 본촌마을길 25 (본촌동, 건국동사무소) 광주 동물보호소</careAddr><careNm>광주 동물보호소</careNm><careTel>062-571-2808</careTel><closeDay>0</closeDay><dataStdDt>2020-06-02</dataStdDt><divisionNm>법인</divisionNm><dsignationDate>2011-07-01</dsignationDate><feedCnt>1</feedCnt><jibunAddr> 광주 동물보호소</jibunAddr><lat>35.22293555</lat><lng>126.881646146</lng><medicalCnt>1</medicalCnt><orgNm>광주광역시 북구</orgNm><quarabtineCnt>1</quarabtineCnt><rnum>1</rnum><saveTrgtAnimal>개+고양이+기타</saveTrgtAnimal><specsPersonCnt>6</specsPersonCnt><transCarCnt>1</transCarCnt><vetPersonCnt>1</vetPersonCnt><weekCellEtime>16:30</weekCellEtime><weekCellStime>13:30</weekCellStime><weekOprEtime>17:30</weekOprEtime><weekOprStime>09:30</weekOprStime><weekendCellEtime>16:30</weekendCellEtime><weekendCellStime>13:30</weekendCellStime><weekendOprEtime>17:30</weekendOprEtime><weekendOprStime>09:30</weekendOprStime></item>,\n",
       " <item><careAddr>광주광역시 북구 본촌마을길 25 (본촌동, 건국동사무소) 광주 동물보호소</careAddr><careNm>광주 동물보호소</careNm><careTel>062-571-2808</careTel><dataStdDt>2019-01-22</dataStdDt><divisionNm>법인</divisionNm><jibunAddr> </jibunAddr><orgNm>광주광역시 광산구</orgNm><rnum>1</rnum></item>,\n",
       " <item><careAddr>경기도 광주시 경안천로 144 (송정동) 1층</careAddr><careNm>광주TNR동물병원송정</careNm><careTel>031-798-7583</careTel><dataStdDt>2020-11-09</dataStdDt><divisionNm>동물병원</divisionNm><jibunAddr>경기도 광주시 송정동 6-9 1층</jibunAddr><orgNm>경기도 광주시</orgNm><rnum>1</rnum></item>,\n",
       " <item><careAddr>경기도 광주시 초월읍 현산로385번길 74-12 (초월읍) </careAddr><careNm>광주TNR동물병원초월</careNm><careTel>031-798-7581</careTel><dataStdDt>2020-06-02</dataStdDt><divisionNm>동물병원</divisionNm><jibunAddr>경기도 광주시 초월읍 지월리 713-2 </jibunAddr><orgNm>경기도 광주시</orgNm><rnum>1</rnum></item>,\n",
       " <item><careAddr>경상북도 구미시 해평면 낙동대로 2206  </careAddr><careNm>구미시 동물보호센터</careNm><careTel>054-471-5718</careTel><dataStdDt>2021-01-04</dataStdDt><divisionNm>단체</divisionNm><jibunAddr>경상북도 구미시 해평면 금호리 707 </jibunAddr><orgNm>경상북도 구미시</orgNm><rnum>1</rnum></item>,\n",
       " <item><breedCnt>10</breedCnt><careAddr>전라북도 군산시 대야면 보덕안정길 124  유기동물보호소(사단법인 리턴)</careAddr><careNm>군산유기동물보호센터</careNm><careTel>063-451-2975</careTel><closeDay>공휴일</closeDay><dataStdDt>2021-05-27</dataStdDt><divisionNm>법인</divisionNm><dsignationDate>2018-02-01</dsignationDate><feedCnt>1</feedCnt><jibunAddr>전라북도 군산시 대야면 보덕리 829 유기동물보호소(사단법인 리턴)</jibunAddr><lat>35.960814865</lat><lng>126.816307954</lng><medicalCnt>1</medicalCnt><orgNm>전라북도 군산시</orgNm><quarabtineCnt>2</quarabtineCnt><rnum>1</rnum><saveTrgtAnimal>개+고양이+기타</saveTrgtAnimal><specsPersonCnt>7</specsPersonCnt><transCarCnt>2</transCarCnt><vetPersonCnt>1</vetPersonCnt><weekCellEtime>18:00</weekCellEtime><weekCellStime>09:00</weekCellStime><weekOprEtime>24:00</weekOprEtime><weekOprStime>00:00</weekOprStime><weekendCellEtime>18:00</weekendCellEtime><weekendCellStime>09:00</weekendCellStime><weekendOprEtime>24:00</weekendOprEtime><weekendOprStime>00:00</weekendOprStime></item>,\n",
       " <item><careAddr>대구광역시 수성구 동원로 150 (만촌동) 금강동물병원</careAddr><careNm>금강동물병원</careNm><careTel>053-746-7111</careTel><closeDay>일요일</closeDay><dataStdDt>2020-12-18</dataStdDt><divisionNm>동물병원</divisionNm><dsignationDate>2018-01-30</dsignationDate><jibunAddr> 금강동물병원</jibunAddr><lat>35.871651862</lat><lng>128.635874536</lng><orgNm>대구광역시 수성구</orgNm><rnum>1</rnum><saveTrgtAnimal>개+고양이+기타</saveTrgtAnimal><specsPersonCnt>1</specsPersonCnt><vetPersonCnt>1</vetPersonCnt><weekCellEtime>:</weekCellEtime><weekCellStime>:</weekCellStime><weekOprEtime>18:30</weekOprEtime><weekOprStime>09:30</weekOprStime><weekendCellEtime>:</weekendCellEtime><weekendCellStime>:</weekendCellStime><weekendOprEtime>:</weekendOprEtime><weekendOprStime>:</weekendOprStime></item>,\n",
       " <item><careAddr>경기도 파주시 금빛로 19 (금촌동, 파주프라임타워) </careAddr><careNm>금릉동물병원</careNm><careTel>031-948-3375</careTel><dataStdDt>2017-02-17</dataStdDt><divisionNm>동물병원</divisionNm><jibunAddr> </jibunAddr><orgNm>경기도 파주시</orgNm><rnum>1</rnum></item>,\n",
       " <item><careAddr>경기도 파주시 가재울로94번길 27 (목동동) </careAddr><careNm>금쪽같은</careNm><careTel>031-944-9979</careTel><dataStdDt>2013-01-07</dataStdDt><divisionNm>동물병원</divisionNm><jibunAddr> </jibunAddr><orgNm>경기도 파주시</orgNm><rnum>1</rnum></item>,\n",
       " <item><careAddr>부산광역시 기장군 기장읍 기장대로 560  </careAddr><careNm>기장군</careNm><careTel>051-709-2894</careTel><divisionNm>법인</divisionNm><jibunAddr>부산광역시 기장군 기장읍 신천리 1 기장군청 </jibunAddr><orgNm>부산광역시 기장군</orgNm><rnum>1</rnum></item>,\n",
       " <item><breedCnt>2</breedCnt><careAddr>경상북도 김천시 조마로 2128 (양천동) </careAddr><careNm>김천시 동물보호센터</careNm><careTel>010-3477-7771</careTel><closeDay>일요일</closeDay><dataStdDt>2020-06-04</dataStdDt><divisionNm>단체</divisionNm><dsignationDate>2018-01-04</dsignationDate><feedCnt>1</feedCnt><jibunAddr> </jibunAddr><lat>36.084043041</lat><lng>128.118882067</lng><medicalCnt>1</medicalCnt><orgNm>경상북도 김천시</orgNm><quarabtineCnt>1</quarabtineCnt><rnum>1</rnum><saveTrgtAnimal>개+고양이+기타</saveTrgtAnimal><specsPersonCnt>1</specsPersonCnt><transCarCnt>1</transCarCnt><vetPersonCnt>1</vetPersonCnt><weekCellEtime>18:00</weekCellEtime><weekCellStime>09:00</weekCellStime><weekOprEtime>18:00</weekOprEtime><weekOprStime>09:00</weekOprStime><weekendCellEtime>18:00</weekendCellEtime><weekendCellStime>09:00</weekendCellStime><weekendOprEtime>18:00</weekendOprEtime><weekendOprStime>09:00</weekendOprStime></item>,\n",
       " <item><careAddr>경기도 파주시 새꽃로 207 (아동동) 나은동물병원</careAddr><careNm>나은동물병원</careNm><careTel>031-944-8288</careTel><dataStdDt>2017-06-15</dataStdDt><divisionNm>동물병원</divisionNm><jibunAddr> </jibunAddr><orgNm>경기도 파주시</orgNm><rnum>1</rnum></item>,\n",
       " <item><careAddr>전라남도 나주시 산포면 내기3길 71-43 [*미고시] </careAddr><careNm>나주유기동물보호센터</careNm><careTel>010-2331-7377</careTel><dataStdDt>2021-06-17</dataStdDt><divisionNm>개인</divisionNm><jibunAddr>전라남도 나주시 산포면 내기리 616 </jibunAddr><orgNm>전라남도 나주시</orgNm><rnum>1</rnum></item>,\n",
       " <item><breedCnt>28</breedCnt><careAddr>충청남도 부여군 부여읍 성왕로 190-1  남부여동물병원</careAddr><careNm>남부여동물병원</careNm><careTel>041-837-8275</careTel><closeDay>일요일</closeDay><dataStdDt>2021-03-12</dataStdDt><divisionNm>동물병원</divisionNm><dsignationDate>2020-01-01</dsignationDate><feedCnt>1</feedCnt><jibunAddr>충청남도 부여군 부여읍 구아리 391 남부여동물병원</jibunAddr><lat>36.28164852</lat><lng>126.909280389</lng><medicalCnt>1</medicalCnt><orgNm>충청남도 부여군</orgNm><quarabtineCnt>12</quarabtineCnt><rnum>1</rnum><saveTrgtAnimal>개+고양이</saveTrgtAnimal><specsPersonCnt>2</specsPersonCnt><transCarCnt>1</transCarCnt><vetPersonCnt>1</vetPersonCnt><weekCellEtime>18:00</weekCellEtime><weekCellStime>09:00</weekCellStime><weekOprEtime>18:30</weekOprEtime><weekOprStime>08:30</weekOprStime><weekendCellEtime>14:00</weekendCellEtime><weekendCellStime>09:00</weekendCellStime><weekendOprEtime>14:00</weekendOprEtime><weekendOprStime>08:30</weekendOprStime></item>,\n",
       " <item><careAddr>서울특별시 용산구 후암동 244-60</careAddr><careNm>남산동물병원</careNm><careTel>02-778-7582</careTel><dataStdDt>2021-06-11</dataStdDt><divisionNm>동물병원</divisionNm><jibunAddr> 244-60</jibunAddr><orgNm>서울특별시 용산구</orgNm><rnum>1</rnum></item>,\n",
       " <item><careAddr>울산광역시 남구 북부순환도로 40 (무거동) </careAddr><careNm>남산동물병원</careNm><careTel>052-224-8275</careTel><closeDay>토요일+일요일</closeDay><dataStdDt>2020-06-04</dataStdDt><divisionNm>동물병원</divisionNm><dsignationDate>2020-01-09</dsignationDate><jibunAddr> </jibunAddr><lat>35.551956519</lat><lng>129.268013763</lng><orgNm>울산광역시 남구</orgNm><rnum>1</rnum><saveTrgtAnimal>개+고양이+기타</saveTrgtAnimal><specsPersonCnt>2</specsPersonCnt><vetPersonCnt>1</vetPersonCnt><weekCellEtime>:</weekCellEtime><weekCellStime>:</weekCellStime><weekOprEtime>17:00</weekOprEtime><weekOprStime>10:00</weekOprStime><weekendCellEtime>:</weekendCellEtime><weekendCellStime>:</weekendCellStime><weekendOprEtime>:</weekendOprEtime><weekendOprStime>:</weekendOprStime></item>,\n",
       " <item><careAddr>서울특별시 노원구 수락산로 258 (상계동, 호성빌딩) 1층</careAddr><careNm>노원반려동물문화센터</careNm><careTel>02-933-8500</careTel><closeDay>월요일</closeDay><dataStdDt>2020-12-21</dataStdDt><divisionNm>법인</divisionNm><dsignationDate>2020-10-28</dsignationDate><jibunAddr>서울특별시 노원구 상계동 1075-1 1층</jibunAddr><lat>37.671351047</lat><lng>127.049962143</lng><orgNm>서울특별시 노원구</orgNm><rnum>1</rnum><saveTrgtAnimal>개</saveTrgtAnimal><specsPersonCnt>2</specsPersonCnt><vetPersonCnt>0</vetPersonCnt><weekCellEtime>:</weekCellEtime><weekCellStime>:</weekCellStime><weekOprEtime>19:00</weekOprEtime><weekOprStime>10:00</weekOprStime><weekendCellEtime>:</weekendCellEtime><weekendCellStime>:</weekendCellStime><weekendOprEtime>:</weekendOprEtime><weekendOprStime>:</weekendOprStime></item>,\n",
       " <item><careAddr>충청남도 논산시 시민로210번길 9 (내동) </careAddr><careNm>논산시청</careNm><careTel>041-746-6109</careTel><dataStdDt>2020-11-30</dataStdDt><divisionNm>단체</divisionNm><jibunAddr>충청남도 논산시 내동 824 논산시청 </jibunAddr><orgNm>충청남도 논산시</orgNm><rnum>1</rnum></item>,\n",
       " <item><careAddr>부산광역시 해운대구 송정2로13번길 46 (송정동) </careAddr><careNm>누리동물병원</careNm><careTel>051-701-7599</careTel><dataStdDt>2021-01-07</dataStdDt><divisionNm>동물병원</divisionNm><jibunAddr>부산광역시 해운대구 송정동 85-1 </jibunAddr><orgNm>경상남도 김해시</orgNm><rnum>1</rnum></item>,\n",
       " <item><careAddr>부산광역시 해운대구 송정2로13번길 46 (송정동) 누리동물병원</careAddr><careNm>누리동물병원</careNm><careTel>051-701-7599</careTel><closeDay>일요일</closeDay><dataStdDt>2021-02-19</dataStdDt><divisionNm>동물병원</divisionNm><dsignationDate>2021-01-01</dsignationDate><jibunAddr> 누리동물병원</jibunAddr><lat>35.194808961</lat><lng>129.206317652</lng><orgNm>부산광역시 동래구</orgNm><rnum>1</rnum><saveTrgtAnimal>개+고양이+기타</saveTrgtAnimal><specsPersonCnt>4</specsPersonCnt><vetPersonCnt>1</vetPersonCnt><weekCellEtime>17:00</weekCellEtime><weekCellStime>14:00</weekCellStime><weekOprEtime>18:00</weekOprEtime><weekOprStime>10:00</weekOprStime><weekendCellEtime>14:00</weekendCellEtime><weekendCellStime>10:00</weekendCellStime><weekendOprEtime>14:00</weekendOprEtime><weekendOprStime>10:00</weekendOprStime></item>,\n",
       " <item><breedCnt>15</breedCnt><careAddr>부산광역시 해운대구 송정2로13번길 46 (송정동) </careAddr><careNm>누리동물병원</careNm><careTel>051-701-7599</careTel><closeDay>일요일</closeDay><dataStdDt>2020-06-05</dataStdDt><divisionNm>동물병원</divisionNm><dsignationDate>2020-01-01</dsignationDate><feedCnt>1</feedCnt><jibunAddr> </jibunAddr><lat>35.194808961</lat><lng>129.206317652</lng><medicalCnt>3</medicalCnt><orgNm>부산광역시 수영구</orgNm><quarabtineCnt>3</quarabtineCnt><rnum>1</rnum><saveTrgtAnimal>개+고양이+기타</saveTrgtAnimal><specsPersonCnt>5</specsPersonCnt><transCarCnt>3</transCarCnt><vetPersonCnt>2</vetPersonCnt><weekCellEtime>16:00</weekCellEtime><weekCellStime>14:00</weekCellStime><weekOprEtime>18:00</weekOprEtime><weekOprStime>09:00</weekOprStime><weekendCellEtime>13:00</weekendCellEtime><weekendCellStime>10:00</weekendCellStime><weekendOprEtime>14:00</weekendOprEtime><weekendOprStime>10:00</weekendOprStime></item>,\n",
       " <item><breedCnt>9</breedCnt><careAddr>부산광역시 해운대구 송정2로13번길 46 (송정동) </careAddr><careNm>누리동물병원</careNm><careTel>051-701-7599</careTel><closeDay>0</closeDay><dataStdDt>2019-12-30</dataStdDt><divisionNm>동물병원</divisionNm><dsignationDate>2017-01-01</dsignationDate><feedCnt>1</feedCnt><jibunAddr> </jibunAddr><lat>35.1948086299</lat><lng>129.2063155055</lng><medicalCnt>3</medicalCnt><orgNm>부산광역시 금정구</orgNm><quarabtineCnt>1</quarabtineCnt><rnum>1</rnum><saveTrgtAnimal>개+고양이+기타</saveTrgtAnimal><specsPersonCnt>0</specsPersonCnt><transCarCnt>3</transCarCnt><vetPersonCnt>2</vetPersonCnt><weekCellEtime>:</weekCellEtime><weekCellStime>:</weekCellStime><weekOprEtime>24:00</weekOprEtime><weekOprStime>00:00</weekOprStime><weekendCellEtime>:</weekendCellEtime><weekendCellStime>:</weekendCellStime><weekendOprEtime>:</weekendOprEtime><weekendOprStime>:</weekendOprStime></item>,\n",
       " <item><careAddr>강원도 정선군 정선읍 비봉로 46  </careAddr><careNm>다나동물병원</careNm><careTel>033-563-6563</careTel><closeDay>일요일</closeDay><dataStdDt>2020-12-11</dataStdDt><divisionNm>동물병원</divisionNm><dsignationDate>2012-04-02</dsignationDate><jibunAddr>강원도 정선군 정선읍 봉양리 321-3 </jibunAddr><lat>37.378820999</lat><lng>128.659550261</lng><orgNm>강원도 정선군</orgNm><rnum>1</rnum><saveTrgtAnimal>개+고양이</saveTrgtAnimal><specsPersonCnt>10</specsPersonCnt><vetPersonCnt>1</vetPersonCnt><weekCellEtime>:</weekCellEtime><weekCellStime>:</weekCellStime><weekOprEtime>19:00</weekOprEtime><weekOprStime>09:00</weekOprStime><weekendCellEtime>:</weekendCellEtime><weekendCellStime>:</weekendCellStime><weekendOprEtime>:</weekendOprEtime><weekendOprStime>:</weekendOprStime></item>,\n",
       " <item><careAddr>충청북도 단양군 매포읍 우덕리 910번지</careAddr><careNm>단양군유기동물보호소</careNm><careTel>010-3822-4351</careTel><closeDay>토요일+일요일</closeDay><dataStdDt>2020-07-03</dataStdDt><divisionNm>법인</divisionNm><dsignationDate>2009-01-01</dsignationDate><jibunAddr> 910번지</jibunAddr><lat>37.017139</lat><lng>128.301287</lng><orgNm>충청북도 단양군</orgNm><rnum>1</rnum><saveTrgtAnimal>개+고양이+기타</saveTrgtAnimal><specsPersonCnt>1</specsPersonCnt><vetPersonCnt>0</vetPersonCnt><weekCellEtime>:</weekCellEtime><weekCellStime>:</weekCellStime><weekOprEtime>18:00</weekOprEtime><weekOprStime>09:00</weekOprStime><weekendCellEtime>:</weekendCellEtime><weekendCellStime>:</weekendCellStime><weekendOprEtime>:</weekendOprEtime><weekendOprStime>:</weekendOprStime></item>,\n",
       " <item><careAddr>전라남도 담양군 용면 시암골로 280-57 (용면) :용면 두장리 21번지</careAddr><careNm>담양군 동물보호 센터</careNm><careTel>010-3604-1338</careTel><closeDay>토요일+일요일</closeDay><dataStdDt>2020-06-01</dataStdDt><divisionNm>개인</divisionNm><dsignationDate>2020-03-05</dsignationDate><jibunAddr> :용면 두장리 21번지</jibunAddr><lat>35.358597268</lat><lng>127.001965613</lng><orgNm>전라남도 담양군</orgNm><rnum>1</rnum><saveTrgtAnimal>개</saveTrgtAnimal><specsPersonCnt>1</specsPersonCnt><vetPersonCnt>1</vetPersonCnt><weekCellEtime>:</weekCellEtime><weekCellStime>:</weekCellStime><weekOprEtime>18:00</weekOprEtime><weekOprStime>09:00</weekOprStime><weekendCellEtime>:</weekendCellEtime><weekendCellStime>:</weekendCellStime><weekendOprEtime>:</weekendOprEtime><weekendOprStime>:</weekendOprStime></item>,\n",
       " <item><careAddr>대구광역시 서구 서대구로 64 (평리동) </careAddr><careNm>대구수의사회(아이펫)</careNm><careTel>053-573-1175</careTel><closeDay>일요일+공휴일</closeDay><dataStdDt>2020-06-02</dataStdDt><divisionNm>법인</divisionNm><dsignationDate>2018-12-27</dsignationDate><jibunAddr> </jibunAddr><lat>35.863815962</lat><lng>128.556541359</lng><orgNm>대구광역시 서구</orgNm><rnum>1</rnum><saveTrgtAnimal>개+고양이</saveTrgtAnimal><specsPersonCnt>1</specsPersonCnt><vetPersonCnt>1</vetPersonCnt><weekCellEtime>:</weekCellEtime><weekCellStime>:</weekCellStime><weekOprEtime>19:00</weekOprEtime><weekOprStime>09:00</weekOprStime><weekendCellEtime>:</weekendCellEtime><weekendCellStime>:</weekendCellStime><weekendOprEtime>:</weekendOprEtime><weekendOprStime>:</weekendOprStime></item>,\n",
       " <item><careAddr>대구광역시 북구 호국로 229 (서변동) 대구경북수의사회관 6층</careAddr><careNm>대구시수의사회</careNm><careTel>053-764-3708</careTel><divisionNm>단체</divisionNm><jibunAddr>대구광역시 북구 서변동 1783-3 대구경북수의사회관 6층</jibunAddr><orgNm>대구광역시 동구</orgNm><rnum>1</rnum></item>,\n",
       " <item><careAddr>대구광역시 서구 국채보상로 176 (중리동) </careAddr><careNm>대구시수의사회(더난)</careNm><careTel>053-552-0075</careTel><closeDay>일요일+공휴일</closeDay><dataStdDt>2020-06-02</dataStdDt><divisionNm>법인</divisionNm><dsignationDate>2018-12-27</dsignationDate><jibunAddr> </jibunAddr><lat>35.869326757</lat><lng>128.550478302</lng><orgNm>대구광역시 서구</orgNm><rnum>1</rnum><saveTrgtAnimal>개+고양이</saveTrgtAnimal><specsPersonCnt>1</specsPersonCnt><vetPersonCnt>1</vetPersonCnt><weekCellEtime>:</weekCellEtime><weekCellStime>:</weekCellStime><weekOprEtime>19:00</weekOprEtime><weekOprStime>09:00</weekOprStime><weekendCellEtime>:</weekendCellEtime><weekendCellStime>:</weekendCellStime><weekendOprEtime>:</weekendOprEtime><weekendOprStime>:</weekendOprStime></item>,\n",
       " <item><careAddr>대구광역시 서구 서대구로 361 (비산동) 2층</careAddr><careNm>대구시수의사회(더펫)</careNm><careTel>070-4293-0622</careTel><closeDay>일요일+공휴일</closeDay><dataStdDt>2019-01-29</dataStdDt><divisionNm>법인</divisionNm><dsignationDate>2018-12-27</dsignationDate><jibunAddr> </jibunAddr><lat>35.889095781</lat><lng>128.560711191</lng><orgNm>대구광역시 서구</orgNm><rnum>1</rnum><saveTrgtAnimal>개+고양이</saveTrgtAnimal><specsPersonCnt>1</specsPersonCnt><vetPersonCnt>1</vetPersonCnt><weekCellEtime>:</weekCellEtime><weekCellStime>:</weekCellStime><weekOprEtime>19:00</weekOprEtime><weekOprStime>09:00</weekOprStime><weekendCellEtime>:</weekendCellEtime><weekendCellStime>:</weekendCellStime><weekendOprEtime>:</weekendOprEtime><weekendOprStime>:</weekendOprStime></item>,\n",
       " <item><careAddr>대구광역시 중구 동인동4가 국채보상로 724 </careAddr><careNm>대구시수의사회(동인)</careNm><careTel>070-4466-1575</careTel><closeDay>0</closeDay><dataStdDt>2020-06-02</dataStdDt><divisionNm>법인</divisionNm><dsignationDate>2018-12-26</dsignationDate><jibunAddr> </jibunAddr><lat>35.868390999</lat><lng>128.60968014</lng><orgNm>대구광역시 중구</orgNm><rnum>1</rnum><saveTrgtAnimal>개+고양이+기타</saveTrgtAnimal><specsPersonCnt>2</specsPersonCnt><vetPersonCnt>3</vetPersonCnt><weekCellEtime>:</weekCellEtime><weekCellStime>:</weekCellStime><weekOprEtime>24:00</weekOprEtime><weekOprStime>00:00</weekOprStime><weekendCellEtime>:</weekendCellEtime><weekendCellStime>:</weekendCellStime><weekendOprEtime>:</weekendOprEtime><weekendOprStime>:</weekendOprStime></item>,\n",
       " <item><careAddr>대구광역시 서구 달서로 165 (비산동) </careAddr><careNm>대구시수의사회(보경)</careNm><careTel>053-559-9020</careTel><closeDay>일요일+공휴일</closeDay><dataStdDt>2020-06-02</dataStdDt><divisionNm>법인</divisionNm><dsignationDate>2018-06-27</dsignationDate><jibunAddr> </jibunAddr><lat>35.877030489</lat><lng>128.57099979</lng><orgNm>대구광역시 서구</orgNm><rnum>1</rnum><saveTrgtAnimal>개+고양이</saveTrgtAnimal><specsPersonCnt>1</specsPersonCnt><vetPersonCnt>1</vetPersonCnt><weekCellEtime>:</weekCellEtime><weekCellStime>:</weekCellStime><weekOprEtime>19:00</weekOprEtime><weekOprStime>09:00</weekOprStime><weekendCellEtime>:</weekendCellEtime><weekendCellStime>:</weekendCellStime><weekendOprEtime>:</weekendOprEtime><weekendOprStime>:</weekendOprStime></item>,\n",
       " <item><careAddr>대구광역시 중구 삼덕동1가 달구벌대로 2145 </careAddr><careNm>대구시수의사회(삼덕)</careNm><careTel>053-426-1731</careTel><closeDay>일요일</closeDay><dataStdDt>2020-06-02</dataStdDt><divisionNm>법인</divisionNm><dsignationDate>2018-12-26</dsignationDate><jibunAddr> </jibunAddr><lat>35.864857229</lat><lng>128.598401934</lng><orgNm>대구광역시 중구</orgNm><rnum>1</rnum><saveTrgtAnimal>개+고양이+기타</saveTrgtAnimal><specsPersonCnt>0</specsPersonCnt><vetPersonCnt>1</vetPersonCnt><weekCellEtime>:</weekCellEtime><weekCellStime>:</weekCellStime><weekOprEtime>19:00</weekOprEtime><weekOprStime>10:00</weekOprStime><weekendCellEtime>:</weekendCellEtime><weekendCellStime>:</weekendCellStime><weekendOprEtime>:</weekendOprEtime><weekendOprStime>:</weekendOprStime></item>,\n",
       " <item><careAddr>대구광역시 서구 서대구로 24 (내당동) </careAddr><careNm>대구시수의사회(삼성)</careNm><careTel>053-556-8575</careTel><closeDay>일요일+공휴일</closeDay><dataStdDt>2020-06-02</dataStdDt><divisionNm>법인</divisionNm><dsignationDate>2018-12-27</dsignationDate><jibunAddr> </jibunAddr><lat>35.860186857</lat><lng>128.557148742</lng><orgNm>대구광역시 서구</orgNm><rnum>1</rnum><saveTrgtAnimal>개+고양이</saveTrgtAnimal><specsPersonCnt>1</specsPersonCnt><vetPersonCnt>1</vetPersonCnt><weekCellEtime>:</weekCellEtime><weekCellStime>:</weekCellStime><weekOprEtime>19:00</weekOprEtime><weekOprStime>09:00</weekOprStime><weekendCellEtime>:</weekendCellEtime><weekendCellStime>:</weekendCellStime><weekendOprEtime>:</weekendOprEtime><weekendOprStime>:</weekendOprStime></item>,\n",
       " <item><careAddr>대구광역시 중구 동덕로8길 2 (대봉동) </careAddr><careNm>대구시수의사회(원)</careNm><careTel>053-255-8275</careTel><closeDay>일요일</closeDay><dataStdDt>2020-06-02</dataStdDt><divisionNm>법인</divisionNm><dsignationDate>2018-12-26</dsignationDate><jibunAddr> </jibunAddr><lat>35.858496547</lat><lng>128.605454984</lng><orgNm>대구광역시 중구</orgNm><rnum>1</rnum><saveTrgtAnimal>개+고양이+기타</saveTrgtAnimal><specsPersonCnt>0</specsPersonCnt><vetPersonCnt>1</vetPersonCnt><weekCellEtime>:</weekCellEtime><weekCellStime>:</weekCellStime><weekOprEtime>19:00</weekOprEtime><weekOprStime>10:00</weekOprStime><weekendCellEtime>:</weekendCellEtime><weekendCellStime>:</weekendCellStime><weekendOprEtime>:</weekendOprEtime><weekendOprStime>:</weekendOprStime></item>,\n",
       " <item><breedCnt>8</breedCnt><careAddr>대전광역시 유성구 금남구즉로 1234 (금고동) 대전광역시 동물보호센터</careAddr><careNm>대전동물보호센터</careNm><careTel>042-825-1118</careTel><closeDay>0</closeDay><dataStdDt>2021-04-05</dataStdDt><divisionNm>법인</divisionNm><dsignationDate>2011-01-01</dsignationDate><feedCnt>1</feedCnt><jibunAddr>대전광역시 유성구 금고동 583 대전광역시 동물보호센터</jibunAddr><lat>36.362990159</lat><lng>127.286853557</lng><medicalCnt>1</medicalCnt><orgNm>대전광역시 유성구</orgNm><quarabtineCnt>3</quarabtineCnt><rnum>1</rnum><saveTrgtAnimal>개+고양이+기타</saveTrgtAnimal><specsPersonCnt>9</specsPersonCnt><vetPersonCnt>2</vetPersonCnt><weekCellEtime>16:00</weekCellEtime><weekCellStime>13:00</weekCellStime><weekOprEtime>18:00</weekOprEtime><weekOprStime>10:00</weekOprStime><weekendCellEtime>16:00</weekendCellEtime><weekendCellStime>13:00</weekendCellStime><weekendOprEtime>18:00</weekendOprEtime><weekendOprStime>10:00</weekendOprStime></item>,\n",
       " <item><breedCnt>8</breedCnt><careAddr>대전광역시 유성구 금남구즉로 1234 (금고동) 대전광역시 동물보호센터</careAddr><careNm>대전동물보호센터</careNm><careTel>042-825-1118</careTel><closeDay>0</closeDay><dataStdDt>2021-04-05</dataStdDt><divisionNm>법인</divisionNm><dsignationDate>2011-01-01</dsignationDate><feedCnt>1</feedCnt><jibunAddr>대전광역시 유성구 금고동 583 대전광역시 동물보호센터</jibunAddr><lat>36.362990159</lat><lng>127.286853557</lng><medicalCnt>1</medicalCnt><orgNm>대전광역시 중구</orgNm><quarabtineCnt>3</quarabtineCnt><rnum>1</rnum><saveTrgtAnimal>개+고양이+기타</saveTrgtAnimal><specsPersonCnt>9</specsPersonCnt><vetPersonCnt>2</vetPersonCnt><weekCellEtime>16:00</weekCellEtime><weekCellStime>13:00</weekCellStime><weekOprEtime>18:00</weekOprEtime><weekOprStime>10:00</weekOprStime><weekendCellEtime>16:00</weekendCellEtime><weekendCellStime>13:00</weekendCellStime><weekendOprEtime>18:00</weekendOprEtime><weekendOprStime>10:00</weekendOprStime></item>,\n",
       " <item><breedCnt>8</breedCnt><careAddr>대전광역시 유성구 금남구즉로 1234 (금고동) 대전광역시 동물보호센터</careAddr><careNm>대전동물보호센터</careNm><careTel>042-825-1118</careTel><closeDay>0</closeDay><dataStdDt>2021-04-05</dataStdDt><divisionNm>법인</divisionNm><dsignationDate>2011-01-01</dsignationDate><feedCnt>1</feedCnt><jibunAddr>대전광역시 유성구 금고동 583 대전광역시 동물보호센터</jibunAddr><lat>36.362990159</lat><lng>127.286853557</lng><medicalCnt>1</medicalCnt><orgNm>대전광역시 서구</orgNm><quarabtineCnt>3</quarabtineCnt><rnum>1</rnum><saveTrgtAnimal>개+고양이+기타</saveTrgtAnimal><specsPersonCnt>9</specsPersonCnt><vetPersonCnt>2</vetPersonCnt><weekCellEtime>16:00</weekCellEtime><weekCellStime>13:00</weekCellStime><weekOprEtime>18:00</weekOprEtime><weekOprStime>10:00</weekOprStime><weekendCellEtime>16:00</weekendCellEtime><weekendCellStime>13:00</weekendCellStime><weekendOprEtime>18:00</weekendOprEtime><weekendOprStime>10:00</weekendOprStime></item>,\n",
       " <item><breedCnt>8</breedCnt><careAddr>대전광역시 유성구 금남구즉로 1234 (금고동) 대전광역시 동물보호센터</careAddr><careNm>대전동물보호센터</careNm><careTel>042-825-1118</careTel><closeDay>0</closeDay><dataStdDt>2021-04-05</dataStdDt><divisionNm>법인</divisionNm><dsignationDate>2011-01-01</dsignationDate><feedCnt>1</feedCnt><jibunAddr>대전광역시 유성구 금고동 583 대전광역시 동물보호센터</jibunAddr><lat>36.362990159</lat><lng>127.286853557</lng><medicalCnt>1</medicalCnt><orgNm>대전광역시 대덕구</orgNm><quarabtineCnt>3</quarabtineCnt><rnum>1</rnum><saveTrgtAnimal>개+고양이+기타</saveTrgtAnimal><specsPersonCnt>9</specsPersonCnt><vetPersonCnt>2</vetPersonCnt><weekCellEtime>16:00</weekCellEtime><weekCellStime>13:00</weekCellStime><weekOprEtime>18:00</weekOprEtime><weekOprStime>10:00</weekOprStime><weekendCellEtime>16:00</weekendCellEtime><weekendCellStime>13:00</weekendCellStime><weekendOprEtime>18:00</weekendOprEtime><weekendOprStime>10:00</weekendOprStime></item>,\n",
       " <item><breedCnt>8</breedCnt><careAddr>대전광역시 유성구 금남구즉로 1234 (금고동) 대전광역시 동물보호센터</careAddr><careNm>대전동물보호센터</careNm><careTel>042-825-1118</careTel><closeDay>0</closeDay><dataStdDt>2021-04-05</dataStdDt><divisionNm>법인</divisionNm><dsignationDate>2011-01-01</dsignationDate><feedCnt>1</feedCnt><jibunAddr>대전광역시 유성구 금고동 583 대전광역시 동물보호센터</jibunAddr><lat>36.362990159</lat><lng>127.286853557</lng><medicalCnt>1</medicalCnt><orgNm>대전광역시 동구</orgNm><quarabtineCnt>3</quarabtineCnt><rnum>1</rnum><saveTrgtAnimal>개+고양이+기타</saveTrgtAnimal><specsPersonCnt>9</specsPersonCnt><vetPersonCnt>2</vetPersonCnt><weekCellEtime>16:00</weekCellEtime><weekCellStime>13:00</weekCellStime><weekOprEtime>18:00</weekOprEtime><weekOprStime>10:00</weekOprStime><weekendCellEtime>16:00</weekendCellEtime><weekendCellStime>13:00</weekendCellStime><weekendOprEtime>18:00</weekendOprEtime><weekendOprStime>10:00</weekendOprStime></item>,\n",
       " <item><careAddr>서울특별시 영등포구 영중로8길 6 (영등포동3가, 성남빌딩) 비동 530호</careAddr><careNm>동물구조119</careNm><careTel>02-6337-0119</careTel><divisionNm>법인</divisionNm><jibunAddr>서울특별시 영등포구 영등포동3가 8-1 비동 530호</jibunAddr><orgNm>서울특별시</orgNm><rnum>1</rnum></item>,\n",
       " <item><careAddr>부산광역시 강서구 가락대로1283번길 25-2 (봉림동) </careAddr><careNm>동물보호관리협회</careNm><careTel>051-971-6208</careTel><closeDay>일요일</closeDay><dataStdDt>2020-06-02</dataStdDt><divisionNm>법인</divisionNm><dsignationDate>2020-01-15</dsignationDate><jibunAddr> </jibunAddr><lat>35.178922615</lat><lng>128.899758103</lng><orgNm>부산광역시 부산진구</orgNm><rnum>1</rnum><saveTrgtAnimal>개+고양이</saveTrgtAnimal><specsPersonCnt>3</specsPersonCnt><vetPersonCnt>0</vetPersonCnt><weekCellEtime>:</weekCellEtime><weekCellStime>:</weekCellStime><weekOprEtime>24:00</weekOprEtime><weekOprStime>00:00</weekOprStime><weekendCellEtime>:</weekendCellEtime><weekendCellStime>:</weekendCellStime><weekendOprEtime>:</weekendOprEtime><weekendOprStime>:</weekendOprStime></item>,\n",
       " <item><careAddr>서울특별시 도봉구 방학로 119 (방학동) 2층</careAddr><careNm>동물보호단체 다솜</careNm><careTel>02-6406-0226</careTel><dataStdDt>2020-04-16</dataStdDt><divisionNm>법인</divisionNm><jibunAddr>서울특별시 도봉구 방학동 673-20 2층</jibunAddr><orgNm>서울특별시</orgNm><rnum>1</rnum></item>,\n",
       " <item><breedCnt>3</breedCnt><careAddr>대구광역시 중구 동인동4가 국채보상로 724 (동인동4가) 가창면 관할</careAddr><careNm>동인동물병원</careNm><careTel>053-424-4258</careTel><closeDay>일요일</closeDay><dataStdDt>2020-06-02</dataStdDt><divisionNm>동물병원</divisionNm><dsignationDate>2017-02-01</dsignationDate><feedCnt>1</feedCnt><jibunAddr> 가창면 관할</jibunAddr><lat>35.868390999</lat><lng>128.60968014</lng><medicalCnt>3</medicalCnt><orgNm>대구광역시 달성군</orgNm><quarabtineCnt>1</quarabtineCnt><rnum>1</rnum><saveTrgtAnimal>개+고양이+기타</saveTrgtAnimal><specsPersonCnt>2</specsPersonCnt><transCarCnt>1</transCarCnt><vetPersonCnt>2</vetPersonCnt><weekCellEtime>19:00</weekCellEtime><weekCellStime>09:30</weekCellStime><weekOprEtime>19:00</weekOprEtime><weekOprStime>09:30</weekOprStime><weekendCellEtime>18:00</weekendCellEtime><weekendCellStime>09:30</weekendCellStime><weekendOprEtime>18:00</weekendOprEtime><weekendOprStime>09:30</weekendOprStime></item>,\n",
       " <item><careAddr>강원도 동해시 대동로 159-13 (송정동, 동해시유기동물보호소) </careAddr><careNm>동해시유기동물보호소</careNm><careTel>033-522-2990</careTel><dataStdDt>2019-12-27</dataStdDt><divisionNm>법인</divisionNm><jibunAddr>강원도 동해시 송정동 1708 </jibunAddr><orgNm>강원도 동해시</orgNm><rnum>1</rnum></item>,\n",
       " <item><careAddr>서울특별시 강동구 양재대로 1385 (성내동) 둔촌동물병원</careAddr><careNm>둔촌동물병원</careNm><careTel>02-474-5100</careTel><dataStdDt>2020-11-30</dataStdDt><divisionNm>동물병원</divisionNm><jibunAddr>서울특별시 강동구 성내동 415-1 둔촌동물병원</jibunAddr><orgNm>서울특별시 강동구</orgNm><rnum>1</rnum></item>,\n",
       " <item><careAddr>경기도 파주시 순못길 6-18 (다율동) 라임동물병원</careAddr><careNm>라임동물병원</careNm><careTel>031-8071-2060</careTel><dataStdDt>2013-01-07</dataStdDt><divisionNm>동물병원</divisionNm><jibunAddr> </jibunAddr><orgNm>경기도 파주시</orgNm><rnum>1</rnum></item>,\n",
       " <item><breedCnt>1</breedCnt><careAddr>경기도 하남시 신평로 58 (신장동) 1층</careAddr><careNm>러브펫동물병원</careNm><careTel>031-791-5775</careTel><closeDay>일요일</closeDay><dataStdDt>2020-06-02</dataStdDt><divisionNm>동물병원</divisionNm><dsignationDate>2020-04-01</dsignationDate><feedCnt>1</feedCnt><jibunAddr> 1층</jibunAddr><lat>37.53867483</lat><lng>127.205225785</lng><medicalCnt>1</medicalCnt><orgNm>경기도 하남시</orgNm><rnum>1</rnum><saveTrgtAnimal>개+고양이</saveTrgtAnimal><specsPersonCnt>1</specsPersonCnt><transCarCnt>1</transCarCnt><vetPersonCnt>1</vetPersonCnt><weekCellEtime>19:00</weekCellEtime><weekCellStime>10:30</weekCellStime><weekOprEtime>19:00</weekOprEtime><weekOprStime>10:30</weekOprStime><weekendCellEtime>18:00</weekendCellEtime><weekendCellStime>11:00</weekendCellStime><weekendOprEtime>18:00</weekendOprEtime><weekendOprStime>11:00</weekendOprStime></item>,\n",
       " <item><careAddr>서울특별시 관악구 남부순환로 1429 (신림동) </careAddr><careNm>러브펫종합동물병원</careNm><careTel>02-837-8875</careTel><closeDay>0</closeDay><dataStdDt>2020-05-29</dataStdDt><divisionNm>동물병원</divisionNm><dsignationDate>2019-03-01</dsignationDate><jibunAddr> </jibunAddr><lat>37.4811777</lat><lng>126.909573105</lng><orgNm>서울특별시 관악구</orgNm><rnum>1</rnum><saveTrgtAnimal>개+고양이+기타</saveTrgtAnimal><specsPersonCnt>4</specsPersonCnt><transCarCnt>1</transCarCnt><vetPersonCnt>2</vetPersonCnt><weekCellEtime>18:00</weekCellEtime><weekCellStime>09:00</weekCellStime><weekOprEtime>18:00</weekOprEtime><weekOprStime>09:00</weekOprStime><weekendCellEtime>18:00</weekendCellEtime><weekendCellStime>09:00</weekendCellStime><weekendOprEtime>18:00</weekendOprEtime><weekendOprStime>09:00</weekendOprStime></item>,\n",
       " <item><careAddr>경기도 파주시 문산읍 방촌로 1636 (문산읍, 강산설렁탕) </careAddr><careNm>로뎀동물병원</careNm><careTel>031-952-7576</careTel><divisionNm>동물병원</divisionNm><jibunAddr> </jibunAddr><orgNm>경기도 파주시</orgNm><rnum>1</rnum></item>,\n",
       " <item><careAddr>울산광역시 남구 봉월로 104 (신정동) </careAddr><careNm>리틀쥬동물의료원</careNm><careTel>052-268-8884</careTel><closeDay>토요일+일요일</closeDay><dataStdDt>2020-06-04</dataStdDt><divisionNm>동물병원</divisionNm><dsignationDate>2020-01-09</dsignationDate><jibunAddr> </jibunAddr><lat>35.541733493</lat><lng>129.306308764</lng><orgNm>울산광역시 남구</orgNm><rnum>1</rnum><saveTrgtAnimal>개+고양이</saveTrgtAnimal><specsPersonCnt>3</specsPersonCnt><vetPersonCnt>2</vetPersonCnt><weekCellEtime>:</weekCellEtime><weekCellStime>:</weekCellStime><weekOprEtime>17:00</weekOprEtime><weekOprStime>10:00</weekOprStime><weekendCellEtime>:</weekendCellEtime><weekendCellStime>:</weekendCellStime><weekendOprEtime>:</weekendOprEtime><weekendOprStime>:</weekendOprStime></item>,\n",
       " <item><careAddr>경상남도 창원시 마산합포구 진북면 지산2길 139-112 226-19</careAddr><careNm>마산유기동물보호소</careNm><careTel>055-225-5481</careTel><closeDay>0</closeDay><dataStdDt>2020-06-03</dataStdDt><divisionNm>법인</divisionNm><dsignationDate>2008-03-28</dsignationDate><jibunAddr> 226-19</jibunAddr><lat>35.1194213340</lat><lng>128.4682650739</lng><orgNm>경상남도 창원시 마산합포회원구</orgNm><rnum>1</rnum><saveTrgtAnimal>개</saveTrgtAnimal><specsPersonCnt>4</specsPersonCnt><transCarCnt>1</transCarCnt><vetPersonCnt>0</vetPersonCnt><weekCellEtime>15:00</weekCellEtime><weekCellStime>14:00</weekCellStime><weekOprEtime>16:00</weekOprEtime><weekOprStime>07:00</weekOprStime><weekendCellEtime>:</weekendCellEtime><weekendCellStime>:</weekendCellStime><weekendOprEtime>16:00</weekendOprEtime><weekendOprStime>07:00</weekendOprStime></item>,\n",
       " <item><careAddr>서울특별시 마포구 월드컵로 212 (성산동, 마포구청) 8층 지역경제과</careAddr><careNm>마포구청</careNm><careTel>02-3153-8542</careTel><divisionNm>법인</divisionNm><jibunAddr>서울특별시 마포구 성산동 369-1 8층 지역경제과</jibunAddr><orgNm>서울특별시 마포구</orgNm><rnum>1</rnum></item>,\n",
       " <item><careAddr>서울특별시 마포구 월드컵로 65 (망원동, 망원 양경회관) </careAddr><careNm>망원동물병원</careNm><careTel>02-332-0175</careTel><closeDay>일요일+공휴일</closeDay><dataStdDt>2020-06-03</dataStdDt><divisionNm>동물병원</divisionNm><dsignationDate>2020-01-01</dsignationDate><jibunAddr>서울특별시 마포구 망원동 386-2 </jibunAddr><lat>37.554863058</lat><lng>126.910866093</lng><orgNm>서울특별시 마포구</orgNm><rnum>1</rnum><saveTrgtAnimal>개+고양이+토끼+기니피그+페럿+햄스터</saveTrgtAnimal><specsPersonCnt>1</specsPersonCnt><vetPersonCnt>1</vetPersonCnt><weekCellEtime>19:00</weekCellEtime><weekCellStime>11:00</weekCellStime><weekOprEtime>20:00</weekOprEtime><weekOprStime>10:00</weekOprStime><weekendCellEtime>16:00</weekendCellEtime><weekendCellStime>11:00</weekendCellStime><weekendOprEtime>17:00</weekendOprEtime><weekendOprStime>10:00</weekendOprStime></item>,\n",
       " <item><careAddr>전라남도 무안군 무안읍 백로로 164-123  </careAddr><careNm>무안군유기동물보호소</careNm><careTel>061-450-4059</careTel><divisionNm>개인</divisionNm><jibunAddr>전라남도 무안군 무안읍 용월리 504 </jibunAddr><orgNm>전라남도 무안군</orgNm><rnum>1</rnum></item>,\n",
       " <item><careAddr>경기도 파주시 문산읍 문향로 35 문산동물병원</careAddr><careNm>문산동물병원</careNm><careTel>031-953-7570</careTel><divisionNm>동물병원</divisionNm><jibunAddr> </jibunAddr><orgNm>경기도 파주시</orgNm><rnum>1</rnum></item>,\n",
       " <item><breedCnt>1</breedCnt><careAddr>울산광역시 남구 중앙로 218-1 (신정동) </careAddr><careNm>미래펫동물병원</careNm><careTel>052-273-5911</careTel><closeDay>토요일+일요일</closeDay><dataStdDt>2020-06-04</dataStdDt><divisionNm>동물병원</divisionNm><dsignationDate>2020-01-09</dsignationDate><feedCnt>1</feedCnt><jibunAddr> </jibunAddr><lat>35.540416309</lat><lng>129.312249549</lng><medicalCnt>1</medicalCnt><orgNm>울산광역시 남구</orgNm><quarabtineCnt>1</quarabtineCnt><rnum>1</rnum><saveTrgtAnimal>개+고양이</saveTrgtAnimal><specsPersonCnt>2</specsPersonCnt><vetPersonCnt>1</vetPersonCnt><weekCellEtime>:</weekCellEtime><weekCellStime>:</weekCellStime><weekOprEtime>17:00</weekOprEtime><weekOprStime>10:00</weekOprStime><weekendCellEtime>:</weekendCellEtime><weekendCellStime>:</weekendCellStime><weekendOprEtime>:</weekendOprEtime><weekendOprStime>:</weekendOprStime></item>,\n",
       " <item><careAddr>경기도 파주시 청석로 264 (동패동) 2층 201호 거북목프라자</careAddr><careNm>미엘동물병원</careNm><careTel>031-935-5009</careTel><dataStdDt>2017-07-17</dataStdDt><divisionNm>동물병원</divisionNm><jibunAddr> </jibunAddr><orgNm>경기도 파주시</orgNm><rnum>1</rnum></item>,\n",
       " <item><careAddr>서울특별시 용산구 원효로 51 (산천동, 삼성테마트) 119호</careAddr><careNm>민트동물병원</careNm><careTel>02-707-2235</careTel><dataStdDt>2021-06-11</dataStdDt><divisionNm>동물병원</divisionNm><jibunAddr> 119호</jibunAddr><orgNm>서울특별시 용산구</orgNm><rnum>1</rnum></item>,\n",
       " <item><breedCnt>2</breedCnt><careAddr>경상남도 밀양시 삼랑진읍 천태로 472 (삼랑진읍) </careAddr><careNm>밀양시동물보호센터</careNm><careTel>010-5656-6665</careTel><closeDay>0</closeDay><dataStdDt>2020-12-31</dataStdDt><divisionNm>개인</divisionNm><dsignationDate>2020-12-29</dsignationDate><feedCnt>1</feedCnt><jibunAddr> </jibunAddr><lat>35.40768428</lat><lng>128.879770197</lng><medicalCnt>0</medicalCnt><orgNm>경상남도 밀양시</orgNm><quarabtineCnt>1</quarabtineCnt><rnum>1</rnum><saveTrgtAnimal>개+고양이</saveTrgtAnimal><specsPersonCnt>3</specsPersonCnt><transCarCnt>1</transCarCnt><vetPersonCnt>0</vetPersonCnt><weekCellEtime>18:00</weekCellEtime><weekCellStime>09:00</weekCellStime><weekOprEtime>24:00</weekOprEtime><weekOprStime>00:00</weekOprStime><weekendCellEtime>18:00</weekendCellEtime><weekendCellStime>09:00</weekendCellStime><weekendOprEtime>18:00</weekendOprEtime><weekendOprStime>09:00</weekendOprStime></item>,\n",
       " <item><careAddr>전라북도 전주시 완산구 전주천서로 111 (서서학동) 박영재 동물병원</careAddr><careNm>박영재동물병원</careNm><careTel>063-284-7774</careTel><dataStdDt>2021-02-09</dataStdDt><divisionNm>동물병원</divisionNm><jibunAddr>전라북도 전주시 완산구 서서학동 940-8 박영재 동물병원</jibunAddr><orgNm>전라북도 임실군</orgNm><rnum>1</rnum></item>,\n",
       " <item><careAddr>서울특별시 마포구 도화길 42 (도화동) </careAddr><careNm>박창석동물병원</careNm><careTel>02-6405-7582</careTel><closeDay>일요일+공휴일</closeDay><dataStdDt>2020-06-03</dataStdDt><divisionNm>동물병원</divisionNm><dsignationDate>2020-01-01</dsignationDate><jibunAddr>서울특별시 마포구 도화동 182-6 </jibunAddr><lat>37.541517149</lat><lng>126.950364461</lng><orgNm>서울특별시 마포구</orgNm><rnum>1</rnum><saveTrgtAnimal>개+고양이+토끼+페럿+햄스터+기니피그</saveTrgtAnimal><specsPersonCnt>0</specsPersonCnt><vetPersonCnt>1</vetPersonCnt><weekCellEtime>18:00</weekCellEtime><weekCellStime>10:00</weekCellStime><weekOprEtime>19:00</weekOprEtime><weekOprStime>09:00</weekOprStime><weekendCellEtime>15:00</weekendCellEtime><weekendCellStime>08:00</weekendCellStime><weekendOprEtime>16:00</weekendOprEtime><weekendOprStime>09:00</weekendOprStime></item>,\n",
       " <item><careAddr>충청북도 청주시 흥덕구 강내면 서부로 411-55 (강내면) </careAddr><careNm>반려동물보호센터</careNm><careTel>043-201-2298</careTel><closeDay>일요일</closeDay><dataStdDt>2020-06-04</dataStdDt><divisionNm>법인</divisionNm><dsignationDate>2019-07-01</dsignationDate><feedCnt>1</feedCnt><jibunAddr> </jibunAddr><lat>36.590336584</lat><lng>127.365419051</lng><medicalCnt>1</medicalCnt><orgNm>충청북도 청주시</orgNm><rnum>1</rnum><saveTrgtAnimal>개+고양이+기타</saveTrgtAnimal><specsPersonCnt>7</specsPersonCnt><transCarCnt>1</transCarCnt><vetPersonCnt>1</vetPersonCnt><weekCellEtime>16:00</weekCellEtime><weekCellStime>13:00</weekCellStime><weekOprEtime>18:00</weekOprEtime><weekOprStime>09:00</weekOprStime><weekendCellEtime>16:00</weekendCellEtime><weekendCellStime>13:00</weekendCellStime><weekendOprEtime>18:00</weekendOprEtime><weekendOprStime>09:00</weekendOprStime></item>,\n",
       " <item><careAddr>경기도 파주시 문산읍 문산역로 77 버디종합동물병원</careAddr><careNm>버디종합동물병원</careNm><careTel>031-953-1183</careTel><divisionNm>동물병원</divisionNm><jibunAddr> </jibunAddr><orgNm>경기도 파주시</orgNm><rnum>1</rnum></item>,\n",
       " <item><breedCnt>1</breedCnt><careAddr>울산광역시 울주군 범서읍 천상중앙길 49 (범서읍) </careAddr><careNm>범서조은동물병원</careNm><careTel>052-248-7582</careTel><closeDay>공휴일</closeDay><dataStdDt>2020-04-21</dataStdDt><divisionNm>동물병원</divisionNm><dsignationDate>2016-01-01</dsignationDate><feedCnt>1</feedCnt><jibunAddr> </jibunAddr><lat>35.56351794</lat><lng>129.23102294</lng><medicalCnt>1</medicalCnt><orgNm>울산광역시 울주군</orgNm><quarabtineCnt>1</quarabtineCnt><rnum>1</rnum><saveTrgtAnimal>개</saveTrgtAnimal><specsPersonCnt>5</specsPersonCnt><transCarCnt>0</transCarCnt><vetPersonCnt>1</vetPersonCnt><weekCellEtime>18:00</weekCellEtime><weekCellStime>09:00</weekCellStime><weekOprEtime>18:00</weekOprEtime><weekOprStime>09:00</weekOprStime><weekendCellEtime>16:00</weekendCellEtime><weekendCellStime>10:00</weekendCellStime><weekendOprEtime>16:00</weekendOprEtime><weekendOprStime>10:00</weekendOprStime></item>,\n",
       " <item><careAddr>인천광역시 강화군 강화읍 강화대로 217 (강화읍, 린나이보일러) </careAddr><careNm>베스트동물병원</careNm><careTel>032-934-9340</careTel><closeDay>일요일</closeDay><dataStdDt>2020-06-09</dataStdDt><divisionNm>동물병원</divisionNm><dsignationDate>2020-01-01</dsignationDate><jibunAddr> </jibunAddr><lat>37.73968128</lat><lng>126.505433379</lng><orgNm>인천광역시 강화군</orgNm><rnum>1</rnum><saveTrgtAnimal>개+고양이+염소+기타축종</saveTrgtAnimal><specsPersonCnt>1</specsPersonCnt><vetPersonCnt>1</vetPersonCnt><weekCellEtime>:</weekCellEtime><weekCellStime>:</weekCellStime><weekOprEtime>20:00</weekOprEtime><weekOprStime>10:00</weekOprStime><weekendCellEtime>:</weekendCellEtime><weekendCellStime>:</weekendCellStime><weekendOprEtime>:</weekendOprEtime><weekendOprStime>:</weekendOprStime></item>,\n",
       " <item><careAddr>전라북도 완주군 용진읍 순지2길 187-6  </careAddr><careNm>별빛유기동물지킴이</careNm><careTel>010-4137-1009</careTel><dataStdDt>2021-03-19</dataStdDt><divisionNm>단체</divisionNm><jibunAddr>전라북도 완주군 용진읍 신지리 산31-2 </jibunAddr><orgNm>전라북도 완주군</orgNm><rnum>1</rnum></item>,\n",
       " <item><careAddr>전라남도 보성군 노동면 노동천동길 209 (노동면) 신천리 71</careAddr><careNm>보성유기동물보호센터</careNm><careTel>061-850-5403</careTel><dataStdDt>2020-08-31</dataStdDt><divisionNm>법인</divisionNm><jibunAddr>전라남도 보성군 노동면 신천리 136 신천리 71</jibunAddr><orgNm>전라남도 보성군</orgNm><rnum>1</rnum></item>,\n",
       " <item><breedCnt>6</breedCnt><careAddr>경상북도 봉화군 봉성면 농업인길 24 (봉성면) 봉화군농업기술센터</careAddr><careNm>봉화군유기동물보호소</careNm><careTel>054-679-6865</careTel><closeDay>토요일+일요일+공휴일</closeDay><dataStdDt>2020-06-01</dataStdDt><divisionNm>단체</divisionNm><dsignationDate>2017-01-01</dsignationDate><feedCnt>1</feedCnt><jibunAddr> 봉화군농업기술센터</jibunAddr><lat>36.903668173</lat><lng>128.772537713</lng><orgNm>경상북도 봉화군</orgNm><rnum>1</rnum><saveTrgtAnimal>개</saveTrgtAnimal><specsPersonCnt>1</specsPersonCnt><vetPersonCnt>1</vetPersonCnt><weekCellEtime>18:00</weekCellEtime><weekCellStime>09:00</weekCellStime><weekOprEtime>18:00</weekOprEtime><weekOprStime>09:00</weekOprStime><weekendCellEtime>:</weekendCellEtime><weekendCellStime>:</weekendCellStime><weekendOprEtime>:</weekendOprEtime><weekendOprStime>:</weekendOprStime></item>,\n",
       " <item><breedCnt>7</breedCnt><careAddr>부산광역시 강서구 맥도강변길 752-15 (대저2동) </careAddr><careNm>부산동물보호센터</careNm><careTel>051-832-7119</careTel><closeDay>0</closeDay><dataStdDt>2020-06-18</dataStdDt><divisionNm>단체</divisionNm><dsignationDate>2020-01-01</dsignationDate><feedCnt>1</feedCnt><jibunAddr>부산광역시 강서구 대저2동 4708-5 </jibunAddr><lat>35.151443296</lat><lng>128.939632885</lng><medicalCnt>1</medicalCnt><orgNm>부산광역시 강서구</orgNm><quarabtineCnt>2</quarabtineCnt><rnum>1</rnum><saveTrgtAnimal>개+고양이+기타</saveTrgtAnimal><specsPersonCnt>2</specsPersonCnt><transCarCnt>2</transCarCnt><vetPersonCnt>1</vetPersonCnt><weekCellEtime>16:00</weekCellEtime><weekCellStime>13:00</weekCellStime><weekOprEtime>18:00</weekOprEtime><weekOprStime>09:00</weekOprStime><weekendCellEtime>13:00</weekendCellEtime><weekendCellStime>09:00</weekendCellStime><weekendOprEtime>14:00</weekendOprEtime><weekendOprStime>09:00</weekendOprStime></item>,\n",
       " <item><careAddr>경기도 부천시 길주로 660 (춘의동) </careAddr><careNm>부천시수의사회</careNm><careTel>032-323-4999</careTel><dataStdDt>2021-03-03</dataStdDt><divisionNm>단체</divisionNm><jibunAddr>경기도 부천시 춘의동 381 농산지원사업소 </jibunAddr><orgNm>경기도 부천시</orgNm><rnum>1</rnum></item>,\n",
       " <item><careAddr>전라남도 영광군 불갑면 함영로 2758 </careAddr><careNm>불갑동물임시보호소</careNm><careTel>010-9188-5525</careTel><divisionNm>개인</divisionNm><jibunAddr> </jibunAddr><orgNm>전라남도 영광군</orgNm><rnum>1</rnum></item>,\n",
       " <item><careAddr>부산광역시 강서구 제도로 726 (강동동) </careAddr><careNm>사단법인 하얀비둘기</careNm><careTel>051-293-9779</careTel><dataStdDt>2021-03-26</dataStdDt><divisionNm>법인</divisionNm><jibunAddr>부산광역시 강서구 강동동 3223-7 </jibunAddr><orgNm>부산광역시 기장군</orgNm><rnum>1</rnum></item>,\n",
       " <item><breedCnt>1</breedCnt><careAddr>울산광역시 남구 중앙로 165-1 (신정동) </careAddr><careNm>사랑동물병원</careNm><careTel>052-273-0075</careTel><closeDay>토요일+일요일</closeDay><dataStdDt>2020-06-04</dataStdDt><divisionNm>동물병원</divisionNm><dsignationDate>2020-01-09</dsignationDate><feedCnt>1</feedCnt><jibunAddr> </jibunAddr><lat>35.535831807</lat><lng>129.313489602</lng><medicalCnt>1</medicalCnt><orgNm>울산광역시 남구</orgNm><quarabtineCnt>1</quarabtineCnt><rnum>1</rnum><saveTrgtAnimal>개+고양이</saveTrgtAnimal><specsPersonCnt>3</specsPersonCnt><vetPersonCnt>1</vetPersonCnt><weekCellEtime>:</weekCellEtime><weekCellStime>:</weekCellStime><weekOprEtime>17:00</weekOprEtime><weekOprStime>10:00</weekOprStime><weekendCellEtime>:</weekendCellEtime><weekendCellStime>:</weekendCellStime><weekendOprEtime>:</weekendOprEtime><weekendOprStime>:</weekendOprStime></item>,\n",
       " <item><careAddr>경상남도 사천시 용현면 진삼로 902  </careAddr><careNm>사천시 동물보호센터</careNm><careTel>055-831-3784</careTel><dataStdDt>2020-10-30</dataStdDt><divisionNm>법인</divisionNm><jibunAddr>경상남도 사천시 용현면 신복리 500 사천시농업기술센터 </jibunAddr><orgNm>경상남도 사천시</orgNm><rnum>1</rnum></item>,\n",
       " <item><breedCnt>3</breedCnt><careAddr>경상남도 산청군 산청읍 친환경로 2783-25 (산청읍) </careAddr><careNm>산청동물보호센터</careNm><careTel>010-2050-8577</careTel><closeDay>토요일+일요일+공휴일</closeDay><dataStdDt>2020-08-04</dataStdDt><divisionNm>단체</divisionNm><dsignationDate>2011-03-23</dsignationDate><jibunAddr>경상남도 산청군 산청읍 모고리 1349 </jibunAddr><lat>35.426394</lat><lng>127.881274</lng><medicalCnt>1</medicalCnt><orgNm>경상남도 산청군</orgNm><quarabtineCnt>2</quarabtineCnt><rnum>1</rnum><saveTrgtAnimal>개</saveTrgtAnimal><specsPersonCnt>1</specsPersonCnt><vetPersonCnt>2</vetPersonCnt><weekCellEtime>16:00</weekCellEtime><weekCellStime>10:00</weekCellStime><weekOprEtime>16:00</weekOprEtime><weekOprStime>10:00</weekOprStime><weekendCellEtime>:</weekendCellEtime><weekendCellStime>:</weekendCellStime><weekendOprEtime>:</weekendOprEtime><weekendOprStime>:</weekendOprStime></item>,\n",
       " <item><breedCnt>1</breedCnt><careAddr>강원도 삼척시 근덕면 교곡길 127-281 (근덕면, 쓰레기소각시설) 유기동물보호소</careAddr><careNm>삼척시유기동물보호소</careNm><careTel>010-4373-1899</careTel><closeDay>토요일+일요일+공휴일</closeDay><dataStdDt>2019-12-27</dataStdDt><divisionNm>개인</divisionNm><dsignationDate>2019-10-11</dsignationDate><feedCnt>1</feedCnt><jibunAddr> 유기동물보호소</jibunAddr><lat>37.359297145</lat><lng>129.21957696</lng><medicalCnt>0</medicalCnt><orgNm>강원도 삼척시</orgNm><quarabtineCnt>0</quarabtineCnt><rnum>1</rnum><saveTrgtAnimal>개+고양이</saveTrgtAnimal><specsPersonCnt>1</specsPersonCnt><transCarCnt>1</transCarCnt><vetPersonCnt>0</vetPersonCnt><weekCellEtime>18:00</weekCellEtime><weekCellStime>09:00</weekCellStime><weekOprEtime>18:00</weekOprEtime><weekOprStime>09:00</weekOprStime><weekendCellEtime>:</weekendCellEtime><weekendCellStime>:</weekendCellStime><weekendOprEtime>:</weekendOprEtime><weekendOprStime>:</weekendOprStime></item>,\n",
       " <item><careAddr>경상북도 상주시 청리면 남상주로 1205-59  </careAddr><careNm>상주유기동물보호센터</careNm><careTel>010-2415-2467</careTel><dataStdDt>2021-05-03</dataStdDt><divisionNm>개인</divisionNm><jibunAddr>경상북도 상주시 청리면 원장리 724 </jibunAddr><orgNm>경상북도 상주시</orgNm><rnum>1</rnum></item>,\n",
       " <item><careAddr>충청남도 서산시 안견로 235 (동문동) </careAddr><careNm>서산동물병원</careNm><careTel>041-667-5525</careTel><dataStdDt>2021-03-05</dataStdDt><divisionNm>동물병원</divisionNm><jibunAddr>충청남도 서산시 동문동 1024-6 </jibunAddr><orgNm>충청남도 서산시</orgNm><rnum>1</rnum></item>,\n",
       " <item><careAddr>충청남도 서산시 인지면 무학재1길 99  </careAddr><careNm>서산시 동물보호센터</careNm><careTel>041-660-2040</careTel><dataStdDt>2021-05-04</dataStdDt><divisionNm>법인</divisionNm><jibunAddr>충청남도 서산시 인지면 산동리 565-22 서산시 농업기술센터 </jibunAddr><orgNm>충청남도 서산시</orgNm><rnum>1</rnum></item>,\n",
       " <item><careAddr>서울특별시 마포구 매봉산로 31 (상암동) 지하1층</careAddr><careNm>서울동물복지지원센터</careNm><careTel>02-2124-2832</careTel><divisionNm>법인</divisionNm><jibunAddr>서울특별시 마포구 상암동 1648 S-PLEX CENTER 지하1층</jibunAddr><orgNm>서울특별시 용산구</orgNm><rnum>1</rnum></item>,\n",
       " <item><careAddr>서울특별시 마포구 매봉산로 31 (상암동) 지하1층</careAddr><careNm>서울동물복지지원센터</careNm><careTel>02-2124-2832</careTel><dataStdDt>2021-06-10</dataStdDt><divisionNm>단체</divisionNm><jibunAddr>서울특별시 마포구 상암동 1648 S-PLEX CENTER 지하1층</jibunAddr><orgNm>서울특별시 관악구</orgNm><rnum>1</rnum></item>,\n",
       " <item><careAddr>서울특별시 마포구 매봉산로 31 (상암동) 에스플렉스센터 지하1층</careAddr><careNm>서울동물복지지원센터</careNm><careTel>02-2124-2832</careTel><divisionNm>단체</divisionNm><jibunAddr>서울특별시 마포구 상암동 1648 S-PLEX CENTER 에스플렉스센터 지하1층</jibunAddr><orgNm>서울특별시 마포구</orgNm><rnum>1</rnum></item>,\n",
       " <item><careAddr>서울특별시 용산구 후암동 244-60</careAddr><careNm>서울수의사용산구분회</careNm><careTel>02-2199-8053</careTel><dataStdDt>2021-06-11</dataStdDt><divisionNm>동물병원</divisionNm><jibunAddr> 244-60</jibunAddr><orgNm>서울특별시 용산구</orgNm><rnum>1</rnum></item>,\n",
       " <item><careAddr>충청남도 서천군 마산면 한마로 1189-19 </careAddr><careNm>서천유기동물보호소</careNm><careTel>041-950-4388</careTel><closeDay>공휴일</closeDay><dataStdDt>2019-12-24</dataStdDt><divisionNm>개인</divisionNm><dsignationDate>2010-01-01</dsignationDate><jibunAddr> </jibunAddr><lat>36.179524706</lat><lng>126.772387742</lng><orgNm>충청남도 서천군</orgNm><rnum>1</rnum><saveTrgtAnimal>개</saveTrgtAnimal><specsPersonCnt>1</specsPersonCnt><vetPersonCnt>1</vetPersonCnt><weekCellEtime>:</weekCellEtime><weekCellStime>:</weekCellStime><weekOprEtime>18:00</weekOprEtime><weekOprStime>09:00</weekOprStime><weekendCellEtime>:</weekendCellEtime><weekendCellStime>:</weekendCellStime><weekendOprEtime>:</weekendOprEtime><weekendOprStime>:</weekendOprStime></item>,\n",
       " <item><careAddr>서울특별시 서초구 양재천로19길 22 (양재동, 숨빌딩) 서초동물사랑센터</careAddr><careNm>서초동물사랑센터</careNm><careTel>02-6956-7980</careTel><dataStdDt>2021-03-10</dataStdDt><divisionNm>법인</divisionNm><jibunAddr> 서초동물사랑센터</jibunAddr><orgNm>서울특별시 서초구</orgNm><rnum>1</rnum></item>,\n",
       " <item><careAddr>세종특별자치시  전동면 미륵당1길 188 (전동면) </careAddr><careNm>세종유기동물보호센터</careNm><careTel>010-4435-3720</careTel><dataStdDt>2020-09-18</dataStdDt><divisionNm>개인</divisionNm><jibunAddr>세종특별자치시  전동면 미곡리 421-1 </jibunAddr><orgNm>세종특별자치시</orgNm><rnum>1</rnum></item>,\n",
       " <item><careAddr>세종특별자치시  조치원읍 새내로 81-2 (조치원읍) 세종종합동물병원</careAddr><careNm>세종종합동물병원</careNm><careTel>044-868-8275</careTel><dataStdDt>2020-11-17</dataStdDt><divisionNm>동물병원</divisionNm><jibunAddr> 세종종합동물병원</jibunAddr><orgNm>세종특별자치시</orgNm><rnum>1</rnum></item>,\n",
       " <item><careAddr>강원도 속초시 하도문길 103 (대포동) </careAddr><careNm>속초시유기동물보호소</careNm><careTel>033-633-2519</careTel><dataStdDt>2020-06-30</dataStdDt><divisionNm>법인</divisionNm><jibunAddr>강원도 속초시 대포동 159-14 </jibunAddr><orgNm>강원도 속초시</orgNm><rnum>1</rnum></item>,\n",
       " <item><careAddr>경기도 수원시 영통구 광교호수로 234 (하동, 수원시 동물보호센터) 하동 40-10</careAddr><careNm>수원시 동물보호센터</careNm><careTel>031-228-3557</careTel><closeDay>토요일+일요일</closeDay><dataStdDt>2020-11-11</dataStdDt><divisionNm>법인</divisionNm><dsignationDate>2020-01-01</dsignationDate><jibunAddr>경기도 수원시 영통구 하동 40-10 하동 40-10</jibunAddr><lat>37.28501978</lat><lng>127.078698506</lng><orgNm>경기도 수원시</orgNm><rnum>1</rnum><saveTrgtAnimal>개+고양이+기타</saveTrgtAnimal><specsPersonCnt>6</specsPersonCnt><transCarCnt>1</transCarCnt><vetPersonCnt>1</vetPersonCnt><weekCellEtime>18:00</weekCellEtime><weekCellStime>09:00</weekCellStime><weekOprEtime>18:00</weekOprEtime><weekOprStime>09:00</weekOprStime><weekendCellEtime>:</weekendCellEtime><weekendCellStime>:</weekendCellStime><weekendOprEtime>:</weekendOprEtime><weekendOprStime>:</weekendOprStime></item>,\n",
       " <item><careAddr>전라남도 순천시 승주읍 승주로 628 (승주읍, 농업기술센터) 순천시유기동물보호소</careAddr><careNm>순천시유기동물보호소</careNm><careTel>061-749-8793</careTel><dataStdDt>2020-06-09</dataStdDt><divisionNm>법인</divisionNm><jibunAddr>전라남도 순천시 승주읍 서평리 555 순천시유기동물보호소</jibunAddr><orgNm>전라남도 순천시</orgNm><rnum>1</rnum></item>,\n",
       " <item><careAddr>울산광역시 남구 대학로 112 (무거동) </careAddr><careNm>스마일동물병원</careNm><careTel>052-277-0075</careTel><closeDay>토요일+일요일</closeDay><dataStdDt>2020-06-04</dataStdDt><divisionNm>동물병원</divisionNm><dsignationDate>2020-01-09</dsignationDate><jibunAddr> </jibunAddr><lat>35.544706294</lat><lng>129.260875251</lng><orgNm>울산광역시 남구</orgNm><rnum>1</rnum><saveTrgtAnimal>개+고양이</saveTrgtAnimal><specsPersonCnt>2</specsPersonCnt><vetPersonCnt>2</vetPersonCnt><weekCellEtime>:</weekCellEtime><weekCellStime>:</weekCellStime><weekOprEtime>17:00</weekOprEtime><weekOprStime>10:00</weekOprStime><weekendCellEtime>:</weekendCellEtime><weekendCellStime>:</weekendCellStime><weekendOprEtime>:</weekendOprEtime><weekendOprStime>:</weekendOprStime></item>,\n",
       " <item><careAddr>경기도 파주시 금빛로 44 (금촌동, 마이프라자) 203호</careAddr><careNm>스마일양한방동물병원</careNm><careTel>031-942-3575</careTel><dataStdDt>2017-02-17</dataStdDt><divisionNm>동물병원</divisionNm><jibunAddr> </jibunAddr><orgNm>경기도 파주시</orgNm><rnum>1</rnum></item>,\n",
       " <item><careAddr>경기도 안산시 단원구 한양대학로 208 (고잔동) 2층 스타캣츠</careAddr><careNm>스타캣츠</careNm><careTel>031-410-3777</careTel><closeDay>토요일+일요일+공휴일</closeDay><dataStdDt>2021-04-02</dataStdDt><divisionNm>동물병원</divisionNm><dsignationDate>2019-06-05</dsignationDate><jibunAddr> 2층 스타캣츠</jibunAddr><lat>37.313576381</lat><lng>126.836753395</lng><orgNm>경기도 안산시</orgNm><rnum>1</rnum><saveTrgtAnimal>고양이</saveTrgtAnimal><specsPersonCnt>2</specsPersonCnt><vetPersonCnt>1</vetPersonCnt><weekCellEtime>18:00</weekCellEtime><weekCellStime>09:00</weekCellStime><weekOprEtime>24:00</weekOprEtime><weekOprStime>00:00</weekOprStime><weekendCellEtime>:</weekendCellEtime><weekendCellStime>:</weekendCellStime><weekendOprEtime>24:00</weekendOprEtime><weekendOprStime>00:00</weekendOprStime></item>,\n",
       " <item><careAddr>경기도 시흥시 관곡지로 139 (하중동, 생명농업기술센터) </careAddr><careNm>시흥시농업기술센터</careNm><careTel>031-310-2247</careTel><dataStdDt>2019-12-23</dataStdDt><divisionNm>법인</divisionNm><jibunAddr> </jibunAddr><orgNm>경기도 시흥시</orgNm><rnum>1</rnum></item>,\n",
       " <item><breedCnt>50</breedCnt><careAddr>인천광역시 중구 운중로 33 (운남동) </careAddr><careNm>신공항동물병원</careNm><careTel>032-751-4598</careTel><closeDay>일요일</closeDay><dataStdDt>2019-12-27</dataStdDt><divisionNm>동물병원</divisionNm><dsignationDate>2019-12-30</dsignationDate><feedCnt>2</feedCnt><jibunAddr>인천광역시 중구 운남동 507-10 </jibunAddr><lat>37.493607492</lat><lng>126.537184779</lng><medicalCnt>1</medicalCnt><orgNm>인천광역시 중구</orgNm><quarabtineCnt>1</quarabtineCnt><rnum>1</rnum><saveTrgtAnimal>개+고양이+기타</saveTrgtAnimal><specsPersonCnt>1</specsPersonCnt><transCarCnt>1</transCarCnt><vetPersonCnt>1</vetPersonCnt><weekCellEtime>17:00</weekCellEtime><weekCellStime>10:00</weekCellStime><weekOprEtime>18:00</weekOprEtime><weekOprStime>09:00</weekOprStime><weekendCellEtime>:</weekendCellEtime><weekendCellStime>:</weekendCellStime><weekendOprEtime>18:00</weekendOprEtime><weekendOprStime>09:00</weekendOprStime></item>,\n",
       " <item><careAddr>대구광역시 수성구 수성동1가 명덕로 393 (수성동1가) </careAddr><careNm>신세계동물병원</careNm><careTel>053-751-6693</careTel><closeDay>일요일</closeDay><dataStdDt>2020-12-18</dataStdDt><divisionNm>동물병원</divisionNm><dsignationDate>2017-01-01</dsignationDate><jibunAddr> </jibunAddr><lat>35.854747079</lat><lng>128.613181114</lng><orgNm>대구광역시 수성구</orgNm><rnum>1</rnum><saveTrgtAnimal>개+고양이+기타</saveTrgtAnimal><specsPersonCnt>2</specsPersonCnt><vetPersonCnt>2</vetPersonCnt><weekCellEtime>:</weekCellEtime><weekCellStime>:</weekCellStime><weekOprEtime>19:00</weekOprEtime><weekOprStime>09:00</weekOprStime><weekendCellEtime>:</weekendCellEtime><weekendCellStime>:</weekendCellStime><weekendOprEtime>:</weekendOprEtime><weekendOprStime>:</weekendOprStime></item>,\n",
       " <item><careAddr>전라남도 무안군 삼향읍 석매길 21-5 (삼향읍) </careAddr><careNm>신안유기동물보호센터</careNm><careTel>010-9678-9966</careTel><dataStdDt>2020-09-22</dataStdDt><divisionNm>개인</divisionNm><jibunAddr>전라남도 무안군 삼향읍 왕산리 193-1 </jibunAddr><orgNm>전라남도 신안군</orgNm><rnum>1</rnum></item>,\n",
       " <item><breedCnt>1</breedCnt><careAddr>충청남도 아산시 염치읍 충무로 295-9 (염치읍) </careAddr><careNm>아산시동물보호센터</careNm><careTel>041-533-3563</careTel><closeDay>0</closeDay><dataStdDt>2019-12-23</dataStdDt><divisionNm>동물병원</divisionNm><dsignationDate>2016-07-01</dsignationDate><feedCnt>1</feedCnt><jibunAddr> </jibunAddr><lat>36.927579855</lat><lng>127.038607031</lng><medicalCnt>1</medicalCnt><orgNm>충청남도 아산시</orgNm><quarabtineCnt>1</quarabtineCnt><rnum>1</rnum><saveTrgtAnimal>개+고양이</saveTrgtAnimal><specsPersonCnt>2</specsPersonCnt><transCarCnt>3</transCarCnt><vetPersonCnt>1</vetPersonCnt><weekCellEtime>18:00</weekCellEtime><weekCellStime>13:00</weekCellStime><weekOprEtime>18:00</weekOprEtime><weekOprStime>09:00</weekOprStime><weekendCellEtime>18:00</weekendCellEtime><weekendCellStime>13:00</weekendCellStime><weekendOprEtime>18:00</weekendOprEtime><weekendOprStime>09:00</weekendOprStime></item>,\n",
       " <item><careAddr>경기도 파주시 경의로 1100 (야당동) 201호</careAddr><careNm>야당동물병원</careNm><careTel>031-948-7579</careTel><divisionNm>동물병원</divisionNm><jibunAddr> </jibunAddr><orgNm>경기도 파주시</orgNm><rnum>1</rnum></item>,\n",
       " <item><careAddr>강원도 양구군 남면 양남로 319-31 (남면) 양구군농업기술센터</careAddr><careNm>양구</careNm><careTel>033-480-2911</careTel><dataStdDt>2021-02-23</dataStdDt><divisionNm>법인</divisionNm><jibunAddr> 양구군농업기술센터</jibunAddr><orgNm>강원도 양구군</orgNm><rnum>1</rnum></item>,\n",
       " <item><careAddr>경상남도 양산시 동면 석산리 392 양산시농업기술센터</careAddr><careNm>양산시유기동물보호소</careNm><careTel>055-392-5337</careTel><closeDay>32</closeDay><dataStdDt>2020-06-03</dataStdDt><divisionNm>법인</divisionNm><dsignationDate>2008-02-01</dsignationDate><jibunAddr> 392 양산시농업기술센터</jibunAddr><lat>35.324090</lat><lng>129.034170</lng><orgNm>경상남도 양산시</orgNm><rnum>1</rnum><saveTrgtAnimal>개+고양이</saveTrgtAnimal><specsPersonCnt>4</specsPersonCnt><transCarCnt>1</transCarCnt><vetPersonCnt>0</vetPersonCnt><weekCellEtime>18:00</weekCellEtime><weekCellStime>09:00</weekCellStime><weekOprEtime>18:00</weekOprEtime><weekOprStime>09:00</weekOprStime><weekendCellEtime>:</weekendCellEtime><weekendCellStime>:</weekendCellStime><weekendOprEtime>18:00</weekendOprEtime><weekendOprStime>09:00</weekendOprStime></item>,\n",
       " <item><careAddr>강원도 양양군 손양면 동막골길 115-35 (손양면) </careAddr><careNm>양양군유기동물보호소</careNm><careTel>033-670-2278</careTel><dataStdDt>2020-02-17</dataStdDt><divisionNm>법인</divisionNm><jibunAddr> </jibunAddr><orgNm>강원도 양양군</orgNm><rnum>1</rnum></item>,\n",
       " <item><careAddr>경기도 양평군 양평읍 농업기술센터길 59 (양평읍) </careAddr><careNm>양평군유기동물보호소</careNm><careTel>031-770-2337</careTel><dataStdDt>2019-10-15</dataStdDt><divisionNm>법인</divisionNm><jibunAddr> </jibunAddr><orgNm>경기도 양평군</orgNm><rnum>1</rnum></item>,\n",
       " <item><careAddr>서울특별시 용산구 원효로2가 84-10</careAddr><careNm>열린동물병원</careNm><careTel>02-3273-0075</careTel><dataStdDt>2021-06-11</dataStdDt><divisionNm>동물병원</divisionNm><jibunAddr> 84-10</jibunAddr><orgNm>서울특별시 용산구</orgNm><rnum>1</rnum></item>,\n",
       " <item><breedCnt>1</breedCnt><careAddr>경상북도 영덕군 영덕읍 구미2길 14-1 (영덕읍) 영덕군유기동물보호센터</careAddr><careNm>영덕유기동물보호센터</careNm><careTel>054-730-6286</careTel><closeDay>0</closeDay><dataStdDt>2020-06-01</dataStdDt><divisionNm>단체</divisionNm><dsignationDate>2017-08-01</dsignationDate><feedCnt>1</feedCnt><jibunAddr>경상북도 영덕군 영덕읍 구미리 22 영덕군유기동물보호센터</jibunAddr><lat>36.43572989</lat><lng>129.357620501</lng><medicalCnt>1</medicalCnt><orgNm>경상북도 영덕군</orgNm><quarabtineCnt>1</quarabtineCnt><rnum>1</rnum><saveTrgtAnimal>개+고양이</saveTrgtAnimal><specsPersonCnt>1</specsPersonCnt><transCarCnt>1</transCarCnt><vetPersonCnt>1</vetPersonCnt><weekCellEtime>18:00</weekCellEtime><weekCellStime>09:00</weekCellStime><weekOprEtime>18:00</weekOprEtime><weekOprStime>09:00</weekOprStime><weekendCellEtime>:</weekendCellEtime><weekendCellStime>:</weekendCellStime><weekendOprEtime>18:00</weekendOprEtime><weekendOprStime>09:00</weekendOprStime></item>,\n",
       " <item><careAddr>경상북도 포항시 북구 흥해읍 덕장길 224 (흥해읍) </careAddr><careNm>영일동물플러스</careNm><careTel>054-262-8295</careTel><closeDay>0</closeDay><dataStdDt>2019-12-23</dataStdDt><divisionNm>단체</divisionNm><dsignationDate>2019-07-01</dsignationDate><jibunAddr> </jibunAddr><lat>36.14538842</lat><lng>129.333019051</lng><orgNm>경상북도 포항시</orgNm><rnum>1</rnum><saveTrgtAnimal>개+고양이+야생동물</saveTrgtAnimal><specsPersonCnt>5</specsPersonCnt><vetPersonCnt>1</vetPersonCnt><weekCellEtime>:</weekCellEtime><weekCellStime>:</weekCellStime><weekOprEtime>18:00</weekOprEtime><weekOprStime>09:00</weekOprStime><weekendCellEtime>:</weekendCellEtime><weekendCellStime>:</weekendCellStime><weekendOprEtime>:</weekendOprEtime><weekendOprStime>:</weekendOprStime></item>,\n",
       " <item><careAddr>경상북도 영주시 문수면 반구로324번길 135 (문수면) 장수면 반구리 407-8</careAddr><careNm>영주시 동물보호센터</careNm><careTel>010-6682-1185</careTel><closeDay>일요일+공휴일</closeDay><dataStdDt>2020-06-01</dataStdDt><divisionNm>법인</divisionNm><dsignationDate>2015-05-23</dsignationDate><jibunAddr>경상북도 영주시 문수면 권선리 538 장수면 반구리 407-8</jibunAddr><lat>36.766579037</lat><lng>128.600891055</lng><orgNm>경상북도 영주시</orgNm><rnum>1</rnum><saveTrgtAnimal>개</saveTrgtAnimal><specsPersonCnt>1</specsPersonCnt><vetPersonCnt>1</vetPersonCnt><weekCellEtime>18:00</weekCellEtime><weekCellStime>09:00</weekCellStime><weekOprEtime>18:00</weekOprEtime><weekOprStime>09:00</weekOprStime><weekendCellEtime>17:00</weekendCellEtime><weekendCellStime>09:00</weekendCellStime><weekendOprEtime>17:00</weekendOprEtime><weekendOprStime>09:00</weekendOprStime></item>,\n",
       " <item><breedCnt>1</breedCnt><careAddr>경상북도 영천시 천문로 622-13 (오미동, 영천시농업기술센터) </careAddr><careNm>영천유기동물보호센터</careNm><careTel>054-339-7175</careTel><closeDay>토요일+일요일</closeDay><dataStdDt>2020-07-08</dataStdDt><divisionNm>법인</divisionNm><dsignationDate>2018-11-01</dsignationDate><feedCnt>1</feedCnt><jibunAddr>경상북도 영천시 오미동 1147-1 </jibunAddr><lat>35.990661644</lat><lng>128.926441328</lng><orgNm>경상북도 영천시</orgNm><quarabtineCnt>1</quarabtineCnt><rnum>1</rnum><saveTrgtAnimal>개+고양이+기타</saveTrgtAnimal><specsPersonCnt>2</specsPersonCnt><transCarCnt>1</transCarCnt><vetPersonCnt>1</vetPersonCnt><weekCellEtime>17:00</weekCellEtime><weekCellStime>13:00</weekCellStime><weekOprEtime>18:00</weekOprEtime><weekOprStime>09:00</weekOprStime><weekendCellEtime>:</weekendCellEtime><weekendCellStime>:</weekendCellStime><weekendOprEtime>:</weekendOprEtime><weekendOprStime>:</weekendOprStime></item>,\n",
       " <item><careAddr>대구광역시 수성구 동대구로 207 (황금동) </careAddr><careNm>예스동물병원</careNm><careTel>053-768-7543</careTel><closeDay>일요일</closeDay><dataStdDt>2021-01-20</dataStdDt><divisionNm>동물병원</divisionNm><dsignationDate>2017-01-01</dsignationDate><jibunAddr> </jibunAddr><lat>35.84890794</lat><lng>128.624392603</lng><orgNm>대구광역시 수성구</orgNm><rnum>1</rnum><saveTrgtAnimal>개+고양이+기타</saveTrgtAnimal><specsPersonCnt>2</specsPersonCnt><vetPersonCnt>1</vetPersonCnt><weekCellEtime>:</weekCellEtime><weekCellStime>:</weekCellStime><weekOprEtime>18:00</weekOprEtime><weekOprStime>10:00</weekOprStime><weekendCellEtime>:</weekendCellEtime><weekendCellStime>:</weekendCellStime><weekendOprEtime>:</weekendOprEtime><weekendOprStime>:</weekendOprStime></item>,\n",
       " <item><breedCnt>36</breedCnt><careAddr>경상북도 예천군 예천읍 충효로 632-84 (예천읍, 유기동물보호소) </careAddr><careNm>예천군유기동물보호소</careNm><careTel>054-650-8167</careTel><closeDay>일요일</closeDay><dataStdDt>2021-04-12</dataStdDt><divisionNm>법인</divisionNm><dsignationDate>2016-05-30</dsignationDate><feedCnt>1</feedCnt><jibunAddr> </jibunAddr><lat>36.674849138</lat><lng>128.47624852</lng><medicalCnt>1</medicalCnt><orgNm>경상북도 예천군</orgNm><quarabtineCnt>1</quarabtineCnt><rnum>1</rnum><saveTrgtAnimal>개</saveTrgtAnimal><specsPersonCnt>1</specsPersonCnt><transCarCnt>1</transCarCnt><vetPersonCnt>1</vetPersonCnt><weekCellEtime>18:00</weekCellEtime><weekCellStime>09:00</weekCellStime><weekOprEtime>18:00</weekOprEtime><weekOprStime>09:00</weekOprStime><weekendCellEtime>18:00</weekendCellEtime><weekendCellStime>09:00</weekendCellStime><weekendOprEtime>18:00</weekendOprEtime><weekendOprStime>09:00</weekendOprStime></item>,\n",
       " <item><breedCnt>1</breedCnt><careAddr>충청북도 옥천군 옥천읍 삼금로 53 (옥천읍, 동물병원) 옥천동물병원</careAddr><careNm>옥천동물병원</careNm><careTel>010-8843-8844</careTel><closeDay>토요일+일요일</closeDay><dataStdDt>2021-01-21</dataStdDt><divisionNm>동물병원</divisionNm><dsignationDate>2017-01-01</dsignationDate><feedCnt>1</feedCnt><jibunAddr> 옥천동물병원</jibunAddr><lat>36.303049814</lat><lng>127.568776907</lng><medicalCnt>1</medicalCnt><orgNm>충청북도 옥천군</orgNm><quarabtineCnt>1</quarabtineCnt><rnum>1</rnum><saveTrgtAnimal>개+고양이</saveTrgtAnimal><specsPersonCnt>0</specsPersonCnt><transCarCnt>1</transCarCnt><vetPersonCnt>2</vetPersonCnt><weekCellEtime>18:00</weekCellEtime><weekCellStime>09:00</weekCellStime><weekOprEtime>18:00</weekOprEtime><weekOprStime>09:00</weekOprStime><weekendCellEtime>:</weekendCellEtime><weekendCellStime>:</weekendCellStime><weekendOprEtime>:</weekendOprEtime><weekendOprStime>:</weekendOprStime></item>,\n",
       " <item><breedCnt>1</breedCnt><careAddr>울산광역시 울주군 언양읍 읍성로 135 (언양읍) </careAddr><careNm>와우동물병원</careNm><careTel>052-225-0075</careTel><closeDay>공휴일</closeDay><dataStdDt>2020-01-23</dataStdDt><divisionNm>동물병원</divisionNm><dsignationDate>2012-01-01</dsignationDate><feedCnt>1</feedCnt><jibunAddr>울산광역시 울주군 언양읍 동부리 370-15 </jibunAddr><lat>35.570265956</lat><lng>129.12309314</lng><medicalCnt>1</medicalCnt><orgNm>울산광역시 울주군</orgNm><quarabtineCnt>1</quarabtineCnt><rnum>1</rnum><saveTrgtAnimal>개+고양이+기타</saveTrgtAnimal><specsPersonCnt>0</specsPersonCnt><vetPersonCnt>1</vetPersonCnt><weekCellEtime>18:00</weekCellEtime><weekCellStime>09:00</weekCellStime><weekOprEtime>18:00</weekOprEtime><weekOprStime>09:00</weekOprStime><weekendCellEtime>12:00</weekendCellEtime><weekendCellStime>09:00</weekendCellStime><weekendOprEtime>12:00</weekendOprEtime><weekendOprStime>09:00</weekendOprStime></item>,\n",
       " <item><careAddr>서울특별시 마포구 대흥로 48 (대흥동) </careAddr><careNm>용강동물병원</careNm><careTel>02-707-2340</careTel><closeDay>0</closeDay><dataStdDt>2020-06-03</dataStdDt><divisionNm>동물병원</divisionNm><dsignationDate>2020-01-01</dsignationDate><jibunAddr>서울특별시 마포구 대흥동 337-41 </jibunAddr><lat>37.544846922</lat><lng>126.939479132</lng><orgNm>서울특별시 마포구</orgNm><rnum>1</rnum><saveTrgtAnimal>개+고양이+토끼+페럿+햄스터+기니피그</saveTrgtAnimal><specsPersonCnt>7</specsPersonCnt><vetPersonCnt>3</vetPersonCnt><weekCellEtime>19:00</weekCellEtime><weekCellStime>10:00</weekCellStime><weekOprEtime>20:00</weekOprEtime><weekOprStime>09:00</weekOprStime><weekendCellEtime>18:00</weekendCellEtime><weekendCellStime>10:00</weekendCellStime><weekendOprEtime>19:00</weekendOprEtime><weekendOprStime>09:00</weekendOprStime></item>,\n",
       " <item><careAddr>경기도 용인시 처인구 중부대로 1074-1 (삼가동, 용인시 동물보호센터) </careAddr><careNm>용인시 동물보호센터</careNm><careTel>031-324-3463</careTel><closeDay>0</closeDay><dataStdDt>2020-06-01</dataStdDt><divisionNm>법인</divisionNm><dsignationDate>2017-01-01</dsignationDate><jibunAddr> </jibunAddr><lat>37.24331386</lat><lng>127.159335344</lng><orgNm>경기도 용인시</orgNm><rnum>1</rnum><saveTrgtAnimal>개+고양이</saveTrgtAnimal><specsPersonCnt>7</specsPersonCnt><vetPersonCnt>1</vetPersonCnt><weekCellEtime>16:00</weekCellEtime><weekCellStime>10:00</weekCellStime><weekOprEtime>18:00</weekOprEtime><weekOprStime>09:00</weekOprStime><weekendCellEtime>:</weekendCellEtime><weekendCellStime>:</weekendCellStime><weekendOprEtime>:</weekendOprEtime><weekendOprStime>:</weekendOprStime></item>,\n",
       " <item><careAddr>경상북도 군위군 군위읍 중앙1길 17 (군위읍) </careAddr><careNm>우성동물병원</careNm><careTel>054-382-1357</careTel><closeDay>토요일+일요일</closeDay><dataStdDt>2020-06-01</dataStdDt><divisionNm>법인</divisionNm><dsignationDate>2018-01-16</dsignationDate><jibunAddr>경상북도 군위군 군위읍 서부리 151-31 </jibunAddr><lat>36.230581367</lat><lng>128.566102004</lng><orgNm>경상북도 군위군</orgNm><rnum>1</rnum><saveTrgtAnimal>개</saveTrgtAnimal><specsPersonCnt>1</specsPersonCnt><vetPersonCnt>1</vetPersonCnt><weekCellEtime>:</weekCellEtime><weekCellStime>:</weekCellStime><weekOprEtime>18:00</weekOprEtime><weekOprStime>09:00</weekOprStime><weekendCellEtime>:</weekendCellEtime><weekendCellStime>:</weekendCellStime><weekendOprEtime>:</weekendOprEtime><weekendOprStime>:</weekendOprStime></item>,\n",
       " <item><careAddr>경상북도 울릉군 울릉읍 신리길 68 (울릉읍, 울릉도축장) </careAddr><careNm>울릉군농업기술센터</careNm><careTel>054-790-6283</careTel><closeDay>토요일+일요일</closeDay><dataStdDt>2020-06-03</dataStdDt><divisionNm>법인</divisionNm><dsignationDate>2017-10-17</dsignationDate><jibunAddr>경상북도 울릉군 울릉읍 사동리 714-2 </jibunAddr><lat>37.460054248</lat><lng>130.87377027</lng><orgNm>경상북도 울릉군</orgNm><rnum>1</rnum><saveTrgtAnimal>개+고양이+기타</saveTrgtAnimal><specsPersonCnt>1</specsPersonCnt><vetPersonCnt>1</vetPersonCnt><weekCellEtime>:</weekCellEtime><weekCellStime>:</weekCellStime><weekOprEtime>24:00</weekOprEtime><weekOprStime>00:00</weekOprStime><weekendCellEtime>:</weekendCellEtime><weekendCellStime>:</weekendCellStime><weekendOprEtime>:</weekendOprEtime><weekendOprStime>:</weekendOprStime></item>,\n",
       " <item><careAddr>울산광역시 중구 학성공원13길 45 (학성동) </careAddr><careNm>울산동물병원</careNm><careTel>052-297-0979</careTel><closeDay>일요일</closeDay><dataStdDt>2020-06-30</dataStdDt><divisionNm>동물병원</divisionNm><dsignationDate>2020-01-10</dsignationDate><jibunAddr> </jibunAddr><lat>35.555686102</lat><lng>129.337060829</lng><orgNm>울산광역시 중구</orgNm><rnum>1</rnum><saveTrgtAnimal>개+고양이</saveTrgtAnimal><specsPersonCnt>4</specsPersonCnt><vetPersonCnt>2</vetPersonCnt><weekCellEtime>:</weekCellEtime><weekCellStime>:</weekCellStime><weekOprEtime>17:00</weekOprEtime><weekOprStime>09:00</weekOprStime><weekendCellEtime>:</weekendCellEtime><weekendCellStime>:</weekendCellStime><weekendOprEtime>:</weekendOprEtime><weekendOprStime>:</weekendOprStime></item>,\n",
       " <item><breedCnt>3</breedCnt><careAddr>울산광역시 울주군 온양읍 발리 1144</careAddr><careNm>울산유기동물보호센터</careNm><careTel>052-238-6113</careTel><closeDay>공휴일</closeDay><dataStdDt>2020-06-05</dataStdDt><divisionNm>개인</divisionNm><dsignationDate>2012-01-01</dsignationDate><feedCnt>1</feedCnt><jibunAddr> 1144</jibunAddr><lat>35.410291657</lat><lng>129.288511713</lng><medicalCnt>1</medicalCnt><orgNm>울산광역시 울주군</orgNm><quarabtineCnt>1</quarabtineCnt><rnum>1</rnum><saveTrgtAnimal>개+고양이+기타</saveTrgtAnimal><specsPersonCnt>8</specsPersonCnt><transCarCnt>1</transCarCnt><vetPersonCnt>1</vetPersonCnt><weekCellEtime>18:00</weekCellEtime><weekCellStime>09:00</weekCellStime><weekOprEtime>18:00</weekOprEtime><weekOprStime>09:00</weekOprStime><weekendCellEtime>12:00</weekendCellEtime><weekendCellStime>09:00</weekendCellStime><weekendOprEtime>12:00</weekendOprEtime><weekendOprStime>09:00</weekendOprStime></item>,\n",
       " <item><careAddr>울산광역시 울주군 온양읍 화산발리로 543 (온양읍) </careAddr><careNm>울산유기동물보호센터</careNm><careTel>052-238-6113</careTel><closeDay>토요일+일요일</closeDay><dataStdDt>2020-01-20</dataStdDt><divisionNm>단체</divisionNm><dsignationDate>2020-01-09</dsignationDate><jibunAddr> </jibunAddr><lat>35.390890519</lat><lng>129.286001678</lng><orgNm>울산광역시 남구</orgNm><rnum>1</rnum><saveTrgtAnimal>개+고양이</saveTrgtAnimal><specsPersonCnt>3</specsPersonCnt><vetPersonCnt>1</vetPersonCnt><weekCellEtime>:</weekCellEtime><weekCellStime>:</weekCellStime><weekOprEtime>17:00</weekOprEtime><weekOprStime>10:00</weekOprStime><weekendCellEtime>:</weekendCellEtime><weekendCellStime>:</weekendCellStime><weekendOprEtime>:</weekendOprEtime><weekendOprStime>:</weekendOprStime></item>,\n",
       " <item><careAddr>울산광역시 울주군 온양읍 발리 1144</careAddr><careNm>울산유기동물보호센터</careNm><careTel>052-238-6113</careTel><closeDay>공휴일</closeDay><dataStdDt>2020-01-02</dataStdDt><divisionNm>단체</divisionNm><dsignationDate>2020-01-01</dsignationDate><jibunAddr> 1144</jibunAddr><lat>35.410291657</lat><lng>129.288511713</lng><orgNm>울산광역시 북구</orgNm><rnum>1</rnum><saveTrgtAnimal>개+고양이</saveTrgtAnimal><specsPersonCnt>3</specsPersonCnt><vetPersonCnt>0</vetPersonCnt><weekCellEtime>:</weekCellEtime><weekCellStime>:</weekCellStime><weekOprEtime>24:00</weekOprEtime><weekOprStime>00:00</weekOprStime><weekendCellEtime>:</weekendCellEtime><weekendCellStime>:</weekendCellStime><weekendOprEtime>:</weekendOprEtime><weekendOprStime>:</weekendOprStime></item>,\n",
       " <item><breedCnt>3</breedCnt><careAddr>울산광역시 울주군 온양읍 화산발리로 543 (온양읍) </careAddr><careNm>울산유기동물보호센터</careNm><careTel>052-238-6113</careTel><closeDay>토요일+일요일</closeDay><dataStdDt>2020-06-30</dataStdDt><divisionNm>법인</divisionNm><dsignationDate>2020-01-10</dsignationDate><feedCnt>1</feedCnt><jibunAddr> </jibunAddr><lat>35.390890519</lat><lng>129.286001678</lng><medicalCnt>1</medicalCnt><orgNm>울산광역시 중구</orgNm><quarabtineCnt>1</quarabtineCnt><rnum>1</rnum><saveTrgtAnimal>개+고양이</saveTrgtAnimal><specsPersonCnt>8</specsPersonCnt><transCarCnt>1</transCarCnt><vetPersonCnt>1</vetPersonCnt><weekCellEtime>18:00</weekCellEtime><weekCellStime>09:00</weekCellStime><weekOprEtime>18:00</weekOprEtime><weekOprStime>09:00</weekOprStime><weekendCellEtime>12:00</weekendCellEtime><weekendCellStime>09:00</weekendCellStime><weekendOprEtime>12:00</weekendOprEtime><weekendOprStime>09:00</weekendOprStime></item>,\n",
       " <item><careAddr>경상북도 울진군 울진읍 대흥신림로 916-37 [*미고시] </careAddr><careNm>울진군동물보호센터</careNm><careTel>054-789-6795</careTel><dataStdDt>2021-02-19</dataStdDt><divisionNm>법인</divisionNm><jibunAddr>경상북도 울진군 울진읍 고성리 864-1 </jibunAddr><orgNm>경상북도 울진군</orgNm><rnum>1</rnum></item>,\n",
       " <item><breedCnt>4</breedCnt><careAddr>강원도 원주시 호저면 칠봉로 110-6 </careAddr><careNm>원주유기동물보호센터</careNm><careTel>033-731-1119</careTel><closeDay>연중무휴</closeDay><dataStdDt>2021-03-18</dataStdDt><divisionNm>법인</divisionNm><dsignationDate>2006-06-03</dsignationDate><feedCnt>1</feedCnt><jibunAddr> </jibunAddr><lat>37.416318018</lat><lng>127.912860682</lng><medicalCnt>1</medicalCnt><orgNm>강원도 원주시</orgNm><quarabtineCnt>1</quarabtineCnt><rnum>1</rnum><saveTrgtAnimal>개+고양이+기타</saveTrgtAnimal><specsPersonCnt>4</specsPersonCnt><transCarCnt>1</transCarCnt><vetPersonCnt>0</vetPersonCnt><weekCellEtime>16:00</weekCellEtime><weekCellStime>09:00</weekCellStime><weekOprEtime>18:00</weekOprEtime><weekOprStime>09:00</weekOprStime><weekendCellEtime>11:00</weekendCellEtime><weekendCellStime>09:00</weekendCellStime><weekendOprEtime>13:00</weekendOprEtime><weekendOprStime>09:00</weekendOprStime></item>,\n",
       " <item><careAddr>서울특별시 용산구 원효로2가 30-4</careAddr><careNm>원효동물병원</careNm><careTel>02-719-7070</careTel><dataStdDt>2021-06-11</dataStdDt><divisionNm>동물병원</divisionNm><jibunAddr> 30-4</jibunAddr><orgNm>서울특별시 용산구</orgNm><rnum>1</rnum></item>,\n",
       " <item><careAddr>충청남도 금산군 금산읍 오리정로 68  월드동물병원</careAddr><careNm>월드동물병원</careNm><careTel>041-750-2584</careTel><closeDay>토요일+일요일</closeDay><dataStdDt>2021-02-25</dataStdDt><divisionNm>동물병원</divisionNm><dsignationDate>2021-02-01</dsignationDate><jibunAddr>충청남도 금산군 금산읍 상리 11-27 쏠플레르 월드동물병원</jibunAddr><lat>36.108375551</lat><lng>127.484174292</lng><orgNm>충청남도 금산군</orgNm><rnum>1</rnum><saveTrgtAnimal>개+고양이</saveTrgtAnimal><specsPersonCnt>1</specsPersonCnt><vetPersonCnt>1</vetPersonCnt><weekCellEtime>:</weekCellEtime><weekCellStime>:</weekCellStime><weekOprEtime>18:00</weekOprEtime><weekOprStime>09:00</weekOprStime><weekendCellEtime>:</weekendCellEtime><weekendCellStime>:</weekendCellStime><weekendOprEtime>:</weekendOprEtime><weekendOprStime>:</weekendOprStime></item>,\n",
       " <item><careAddr>경기도 파주시 한울로 123 (동패동, 이마트운정점) 2층, 웰니스클리닉</careAddr><careNm>웰니스클리닉</careNm><careTel>031-942-7524</careTel><dataStdDt>2017-04-13</dataStdDt><divisionNm>동물병원</divisionNm><jibunAddr> </jibunAddr><orgNm>경기도 파주시</orgNm><rnum>1</rnum></item>,\n",
       " <item><careAddr>서울특별시 마포구 월드컵북로 27 (서교동, 이화빌딩) 서교동447-2</careAddr><careNm>웰케어 동물병원</careNm><careTel>02-337-7575</careTel><closeDay>0</closeDay><dataStdDt>2020-05-29</dataStdDt><divisionNm>동물병원</divisionNm><dsignationDate>2020-01-01</dsignationDate><jibunAddr> 서교동447-2</jibunAddr><lat>37.556875043</lat><lng>126.919088707</lng><orgNm>서울특별시 마포구</orgNm><rnum>1</rnum><saveTrgtAnimal>개+고양이+토끼+기니피그+페럿+햄스터</saveTrgtAnimal><specsPersonCnt>3</specsPersonCnt><vetPersonCnt>2</vetPersonCnt><weekCellEtime>21:00</weekCellEtime><weekCellStime>10:00</weekCellStime><weekOprEtime>22:00</weekOprEtime><weekOprStime>09:00</weekOprStime><weekendCellEtime>21:00</weekendCellEtime><weekendCellStime>10:00</weekendCellStime><weekendOprEtime>22:00</weekendOprEtime><weekendOprStime>09:00</weekendOprStime></item>,\n",
       " <item><careAddr>강원도 고성군 간성읍 꽃내마루길 53-49  </careAddr><careNm>유기견임시보호소</careNm><careTel>033-680-3724</careTel><divisionNm>개인</divisionNm><jibunAddr>강원도 고성군 간성읍 어천리 3 </jibunAddr><orgNm>강원도 고성군</orgNm><rnum>1</rnum></item>,\n",
       " <item><breedCnt>9</breedCnt><careAddr>부산광역시 강서구 가락대로1283번길 25-2 (봉림동) </careAddr><careNm>유기동물및동물보호협</careNm><careTel>051-971-6208</careTel><closeDay>일요일</closeDay><dataStdDt>2020-06-04</dataStdDt><divisionNm>법인</divisionNm><dsignationDate>2018-02-01</dsignationDate><feedCnt>1</feedCnt><jibunAddr> </jibunAddr><lat>35.178922615</lat><lng>128.899758103</lng><medicalCnt>1</medicalCnt><orgNm>부산광역시 사하구</orgNm><quarabtineCnt>2</quarabtineCnt><rnum>1</rnum><saveTrgtAnimal>개+고양이</saveTrgtAnimal><specsPersonCnt>3</specsPersonCnt><transCarCnt>4</transCarCnt><vetPersonCnt>1</vetPersonCnt><weekCellEtime>15:00</weekCellEtime><weekCellStime>13:00</weekCellStime><weekOprEtime>17:00</weekOprEtime><weekOprStime>08:30</weekOprStime><weekendCellEtime>15:00</weekendCellEtime><weekendCellStime>13:00</weekendCellStime><weekendOprEtime>15:00</weekendOprEtime><weekendOprStime>08:30</weekendOprStime></item>,\n",
       " <item><breedCnt>10</breedCnt><careAddr>경상북도 안동시 서후면 풍산태사로 3252-29 (서후면) </careAddr><careNm>유기동물보호센터</careNm><careTel>010-7703-1999</careTel><closeDay>일요일</closeDay><dataStdDt>2020-06-03</dataStdDt><divisionNm>단체</divisionNm><dsignationDate>2012-01-02</dsignationDate><feedCnt>1</feedCnt><jibunAddr>경상북도 안동시 서후면 태장리 201-1 </jibunAddr><lat>36.635989904</lat><lng>128.683831267</lng><medicalCnt>1</medicalCnt><orgNm>경상북도 안동시</orgNm><quarabtineCnt>2</quarabtineCnt><rnum>1</rnum><saveTrgtAnimal>개+고양이</saveTrgtAnimal><specsPersonCnt>3</specsPersonCnt><transCarCnt>1</transCarCnt><vetPersonCnt>0</vetPersonCnt><weekCellEtime>17:00</weekCellEtime><weekCellStime>10:00</weekCellStime><weekOprEtime>18:00</weekOprEtime><weekOprStime>09:00</weekOprStime><weekendCellEtime>15:00</weekendCellEtime><weekendCellStime>12:00</weekendCellStime><weekendOprEtime>17:00</weekendOprEtime><weekendOprStime>10:00</weekendOprStime></item>,\n",
       " <item><careAddr>전라남도 여수시 주동1길 32 (주삼동, 여수시농업기술센터) 여수시 유기동물보호소</careAddr><careNm>유기동물보호소</careNm><careTel>061-659-4429</careTel><closeDay>토요일+일요일+공휴일</closeDay><dataStdDt>2020-06-10</dataStdDt><divisionNm>법인</divisionNm><dsignationDate>2013-11-01</dsignationDate><jibunAddr>전라남도 여수시 주삼동 1003-8 여수시 유기동물보호소</jibunAddr><lat>34.7875755</lat><lng>127.663041626</lng><orgNm>전라남도 여수시</orgNm><rnum>1</rnum><saveTrgtAnimal>개+다친고양이</saveTrgtAnimal><specsPersonCnt>2</specsPersonCnt><transCarCnt>1</transCarCnt><vetPersonCnt>0</vetPersonCnt><weekCellEtime>17:00</weekCellEtime><weekCellStime>09:00</weekCellStime><weekOprEtime>17:00</weekOprEtime><weekOprStime>09:00</weekOprStime><weekendCellEtime>:</weekendCellEtime><weekendCellStime>:</weekendCellStime><weekendOprEtime>:</weekendOprEtime><weekendOprStime>:</weekendOprStime></item>,\n",
       " <item><careAddr>전라남도 완도군 신지면 신지로6번길 23-89 (신지면) </careAddr><careNm>유기동물임시보호센터</careNm><careTel>010-3616-6658</careTel><closeDay>토요일+일요일+공휴일</closeDay><dataStdDt>2020-06-01</dataStdDt><divisionNm>개인</divisionNm><dsignationDate>2019-10-01</dsignationDate><jibunAddr> </jibunAddr><lat>34.331872997</lat><lng>126.781226058</lng><orgNm>전라남도 완도군</orgNm><rnum>1</rnum><saveTrgtAnimal>개</saveTrgtAnimal><specsPersonCnt>1</specsPersonCnt><transCarCnt>1</transCarCnt><vetPersonCnt>0</vetPersonCnt><weekCellEtime>18:00</weekCellEtime><weekCellStime>09:00</weekCellStime><weekOprEtime>18:00</weekOprEtime><weekOprStime>09:00</weekOprStime><weekendCellEtime>:</weekendCellEtime><weekendCellStime>:</weekendCellStime><weekendOprEtime>:</weekendOprEtime><weekendOprStime>:</weekendOprStime></item>,\n",
       " <item><careAddr>충청남도 천안시 동남구 충절로 441 (삼룡동) </careAddr><careNm>유실유기동물보호소</careNm><careTel>010-8897-5119</careTel><dataStdDt>2021-01-19</dataStdDt><divisionNm>동물병원</divisionNm><jibunAddr>충청남도 천안시 동남구 삼룡동 140-1 </jibunAddr><orgNm>충청남도 천안시</orgNm><rnum>1</rnum></item>,\n",
       " <item><careAddr>서울특별시 도봉구 마들로 664 (도봉동) 2층</careAddr><careNm>이n김동물병원</careNm><careTel>02-955-6530</careTel><dataStdDt>2021-03-02</dataStdDt><divisionNm>동물병원</divisionNm><jibunAddr>서울특별시 도봉구 도봉동 636-12 킴스타워 2층</jibunAddr><orgNm>서울특별시 노원구</orgNm><rnum>1</rnum></item>,\n",
       " <item><careAddr>세종특별자치시  조치원읍 장안로 27 (조치원읍) </careAddr><careNm>이병훈동물병원</careNm><careTel>044-862-4831</careTel><divisionNm>동물병원</divisionNm><jibunAddr>세종특별자치시  조치원읍 명리 67-17 </jibunAddr><orgNm>세종특별자치시</orgNm><rnum>1</rnum></item>,\n",
       " <item><careAddr>서울특별시 용산구 이촌동 300-23</careAddr><careNm>이상윤동물병원</careNm><careTel>02-792-5455</careTel><dataStdDt>2021-06-11</dataStdDt><divisionNm>동물병원</divisionNm><jibunAddr> 300-23</jibunAddr><orgNm>서울특별시 용산구</orgNm><rnum>1</rnum></item>,\n",
       " <item><careAddr>서울특별시 용산구 이태원동 531</careAddr><careNm>이태원동물병원</careNm><careTel>02-794-4945</careTel><dataStdDt>2021-06-11</dataStdDt><divisionNm>동물병원</divisionNm><jibunAddr> 531</jibunAddr><orgNm>서울특별시 용산구</orgNm><rnum>1</rnum></item>,\n",
       " <item><careAddr>전라북도 익산시 서동로42길 77 (용제동) 16통 1반</careAddr><careNm>익산유기동물보호소</careNm><careTel>063-855-1214</careTel><closeDay>공휴일</closeDay><dataStdDt>2021-07-01</dataStdDt><divisionNm>법인</divisionNm><dsignationDate>2019-12-27</dsignationDate><jibunAddr> 16통 1반</jibunAddr><lat>35.936684242</lat><lng>127.00241245</lng><orgNm>전라북도 익산시</orgNm><rnum>1</rnum><saveTrgtAnimal>개+고양이</saveTrgtAnimal><specsPersonCnt>4</specsPersonCnt><transCarCnt>2</transCarCnt><vetPersonCnt>2</vetPersonCnt><weekCellEtime>:</weekCellEtime><weekCellStime>:</weekCellStime><weekOprEtime>24:00</weekOprEtime><weekOprStime>00:00</weekOprStime><weekendCellEtime>:</weekendCellEtime><weekendCellStime>:</weekendCellStime><weekendOprEtime>:</weekendOprEtime><weekendOprStime>:</weekendOprStime></item>,\n",
       " <item><careAddr>강원도 인제군 인제읍 비봉로44번길 105 </careAddr><careNm>인제군유기동물보호소</careNm><careTel>033-460-2473</careTel><dataStdDt>2019-08-02</dataStdDt><divisionNm>법인</divisionNm><jibunAddr> </jibunAddr><orgNm>강원도 인제군</orgNm><rnum>1</rnum></item>,\n",
       " <item><breedCnt>7</breedCnt><careAddr>인천광역시 계양구 다남로165번길 56 (다남동, 유기동물보호소) </careAddr><careNm>인천광역시 수의사회 </careNm><careTel>032-515-7567</careTel><closeDay>토요일+일요일+공휴일</closeDay><dataStdDt>2020-06-03</dataStdDt><divisionNm>단체</divisionNm><dsignationDate>2007-12-24</dsignationDate><feedCnt>3</feedCnt><jibunAddr>인천광역시 계양구 다남동 35-8 </jibunAddr><lat>37.566239094</lat><lng>126.719642412</lng><medicalCnt>1</medicalCnt><orgNm>인천광역시 미추홀구</orgNm><quarabtineCnt>1</quarabtineCnt><rnum>1</rnum><saveTrgtAnimal>개+고양이+기타</saveTrgtAnimal><specsPersonCnt>3</specsPersonCnt><transCarCnt>2</transCarCnt><vetPersonCnt>1</vetPersonCnt><weekCellEtime>16:00</weekCellEtime><weekCellStime>13:00</weekCellStime><weekOprEtime>17:30</weekOprEtime><weekOprStime>09:00</weekOprStime><weekendCellEtime>:</weekendCellEtime><weekendCellStime>:</weekendCellStime><weekendOprEtime>12:00</weekendOprEtime><weekendOprStime>09:00</weekendOprStime></item>,\n",
       " <item><careAddr>인천광역시 계양구 다남동 35-8</careAddr><careNm>인천수의사회유기동물</careNm><careTel>032-515-7567</careTel><closeDay>일요일</closeDay><dataStdDt>2019-12-25</dataStdDt><divisionNm>법인</divisionNm><dsignationDate>2006-01-01</dsignationDate><jibunAddr> 35-8</jibunAddr><lat>37.571188167</lat><lng>126.728413758</lng><orgNm>인천광역시 옹진군</orgNm><rnum>1</rnum><saveTrgtAnimal>개+고양이</saveTrgtAnimal><specsPersonCnt>4</specsPersonCnt><vetPersonCnt>1</vetPersonCnt><weekCellEtime>:</weekCellEtime><weekCellStime>:</weekCellStime><weekOprEtime>18:00</weekOprEtime><weekOprStime>09:00</weekOprStime><weekendCellEtime>:</weekendCellEtime><weekendCellStime>:</weekendCellStime><weekendOprEtime>:</weekendOprEtime><weekendOprStime>:</weekendOprStime></item>,\n",
       " <item><careAddr>전라남도 장성군 삼서면 대중길 29-27  </careAddr><careNm>장성군동물보호센터</careNm><careTel>010-6271-8889</careTel><closeDay>토요일+일요일</closeDay><dataStdDt>2021-01-04</dataStdDt><divisionNm>개인</divisionNm><dsignationDate>2019-07-04</dsignationDate><jibunAddr>전라남도 장성군 삼서면 대도리 490 </jibunAddr><lat>35.241536</lat><lng>126.610565</lng><orgNm>전라남도 장성군</orgNm><rnum>1</rnum><saveTrgtAnimal>개+고양이</saveTrgtAnimal><specsPersonCnt>1</specsPersonCnt><vetPersonCnt>0</vetPersonCnt><weekCellEtime>:</weekCellEtime><weekCellStime>:</weekCellStime><weekOprEtime>18:00</weekOprEtime><weekOprStime>09:00</weekOprStime><weekendCellEtime>:</weekendCellEtime><weekendCellStime>:</weekendCellStime><weekendOprEtime>:</weekendOprEtime><weekendOprStime>:</weekendOprStime></item>,\n",
       " <item><careAddr>전라남도 장흥군 안양면 우드랜드길 288 (안양면, 남도국제교육원) 축산사업소</careAddr><careNm>장흥군 동물보호센터</careNm><careTel>061-860-6729</careTel><closeDay>토요일+일요일</closeDay><dataStdDt>2020-06-09</dataStdDt><divisionNm>법인</divisionNm><dsignationDate>2018-01-01</dsignationDate><jibunAddr> 축산사업소</jibunAddr><lat>34.667650229</lat><lng>126.944610554</lng><orgNm>전라남도 장흥군</orgNm><rnum>1</rnum><saveTrgtAnimal>개</saveTrgtAnimal><specsPersonCnt>1</specsPersonCnt><vetPersonCnt>0</vetPersonCnt><weekCellEtime>18:00</weekCellEtime><weekCellStime>09:00</weekCellStime><weekOprEtime>18:00</weekOprEtime><weekOprStime>09:00</weekOprStime><weekendCellEtime>:</weekendCellEtime><weekendCellStime>:</weekendCellStime><weekendOprEtime>:</weekendOprEtime><weekendOprStime>:</weekendOprStime></item>,\n",
       " <item><careAddr>전라북도 김제시 용지면 금백로 571-39 (용지면) 전북말산업복합센터</careAddr><careNm>전북말산업복합센터</careNm><careTel>063-547-3549</careTel><closeDay>토요일+일요일</closeDay><dataStdDt>2019-04-08</dataStdDt><divisionNm>법인</divisionNm><dsignationDate>2020-01-01</dsignationDate><jibunAddr> </jibunAddr><lat>35.823616274</lat><lng>126.994724153</lng><orgNm>전라북도 김제시</orgNm><rnum>1</rnum><saveTrgtAnimal>개+고양이</saveTrgtAnimal><specsPersonCnt>3</specsPersonCnt><vetPersonCnt>2</vetPersonCnt><weekCellEtime>:</weekCellEtime><weekCellStime>:</weekCellStime><weekOprEtime>18:00</weekOprEtime><weekOprStime>10:00</weekOprStime><weekendCellEtime>:</weekendCellEtime><weekendCellStime>:</weekendCellStime><weekendOprEtime>:</weekendOprEtime><weekendOprStime>:</weekendOprStime></item>,\n",
       " <item><careAddr>경상북도 청송군 현동면 청송로 3128-135 (현동면) </careAddr><careNm>점곡보호소</careNm><careTel>010-5139-8617</careTel><dataStdDt>2021-06-10</dataStdDt><divisionNm>개인</divisionNm><jibunAddr>경상북도 청송군 현동면 도평리 산11-1 </jibunAddr><orgNm>경상북도 청송군</orgNm><rnum>1</rnum></item>,\n",
       " <item><careAddr>전라북도 정읍시 2산단5길 37-1 (하북동) </careAddr><careNm>정읍시 동물보호소</careNm><careTel>063-539-6356</careTel><dataStdDt>2020-10-13</dataStdDt><divisionNm>단체</divisionNm><jibunAddr> </jibunAddr><orgNm>전라북도 정읍시</orgNm><rnum>1</rnum></item>,\n",
       " <item><careAddr>울산광역시 북구 진장17길 11 (진장동) 정철동물병원</careAddr><careNm>정철동물병원</careNm><careTel>052-287-0348</careTel><closeDay>0</closeDay><dataStdDt>2020-01-08</dataStdDt><divisionNm>동물병원</divisionNm><dsignationDate>2020-01-01</dsignationDate><jibunAddr>울산광역시 북구 진장동 727-4 정철동물병원</jibunAddr><lat>35.562033122</lat><lng>129.355306941</lng><orgNm>울산광역시 북구</orgNm><rnum>1</rnum><saveTrgtAnimal>개+고양이</saveTrgtAnimal><specsPersonCnt>2</specsPersonCnt><vetPersonCnt>2</vetPersonCnt><weekCellEtime>:</weekCellEtime><weekCellStime>:</weekCellStime><weekOprEtime>24:00</weekOprEtime><weekOprStime>00:00</weekOprStime><weekendCellEtime>:</weekendCellEtime><weekendCellStime>:</weekendCellStime><weekendOprEtime>:</weekendOprEtime><weekendOprStime>:</weekendOprStime></item>,\n",
       " <item><careAddr>대구광역시 수성구 달구벌대로 2475 (범어동) </careAddr><careNm>제니스동물병원</careNm><careTel>053-756-8293</careTel><closeDay>일요일</closeDay><dataStdDt>2020-12-18</dataStdDt><divisionNm>동물병원</divisionNm><dsignationDate>2017-01-01</dsignationDate><jibunAddr> </jibunAddr><lat>35.859113776</lat><lng>128.633406625</lng><orgNm>대구광역시 수성구</orgNm><rnum>1</rnum><saveTrgtAnimal>개+고양이+기타</saveTrgtAnimal><specsPersonCnt>2</specsPersonCnt><vetPersonCnt>1</vetPersonCnt><weekCellEtime>:</weekCellEtime><weekCellStime>:</weekCellStime><weekOprEtime>18:00</weekOprEtime><weekOprStime>10:00</weekOprStime><weekendCellEtime>:</weekendCellEtime><weekendCellStime>:</weekendCellStime><weekendOprEtime>:</weekendOprEtime><weekendOprStime>:</weekendOprStime></item>,\n",
       " <item><careAddr>전라북도 장수군 장계면 한들로 76  제이준동물병원</careAddr><careNm>제이준동물병원</careNm><careTel>010-9800-2212</careTel><dataStdDt>2021-02-05</dataStdDt><divisionNm>동물병원</divisionNm><jibunAddr>전라북도 장수군 장계면 장계리 244-9 제이준동물병원</jibunAddr><orgNm>전라북도 장수군</orgNm><rnum>1</rnum></item>,\n",
       " <item><careAddr>제주특별자치도 제주시 첨단동길 184-14 (용강동) </careAddr><careNm>제주 동물보호센터</careNm><careTel>064-710-4065</careTel><closeDay>일요일</closeDay><dataStdDt>2020-06-03</dataStdDt><divisionNm>법인</divisionNm><dsignationDate>2011-05-16</dsignationDate><feedCnt>1</feedCnt><jibunAddr> </jibunAddr><lat>33.455532904</lat><lng>126.589213112</lng><medicalCnt>1</medicalCnt><orgNm>제주특별자치도</orgNm><rnum>1</rnum><saveTrgtAnimal>개+고양이</saveTrgtAnimal><specsPersonCnt>10</specsPersonCnt><vetPersonCnt>3</vetPersonCnt><weekCellEtime>:</weekCellEtime><weekCellStime>:</weekCellStime><weekOprEtime>18:00</weekOprEtime><weekOprStime>09:00</weekOprStime><weekendCellEtime>:</weekendCellEtime><weekendCellStime>:</weekendCellStime><weekendOprEtime>:</weekendOprEtime><weekendOprStime>:</weekendOprStime></item>,\n",
       " <item><careAddr>제주특별자치도 제주시 첨단동길 184-14 (용강동) </careAddr><careNm>제주동물보호센터</careNm><careTel>064-710-4067</careTel><dataStdDt>2015-11-12</dataStdDt><divisionNm>법인</divisionNm><jibunAddr> </jibunAddr><orgNm>제주특별자치도 제주시</orgNm><rnum>1</rnum></item>,\n",
       " <item><careAddr>제주특별자치도 제주시 첨단동길 184-14 (용강동) </careAddr><careNm>제주동물보호센터</careNm><careTel>064-710-4067</careTel><dataStdDt>2015-11-12</dataStdDt><divisionNm>법인</divisionNm><jibunAddr> </jibunAddr><orgNm>제주특별자치도 서귀포시</orgNm><rnum>1</rnum></item>,\n",
       " <item><breedCnt>40</breedCnt><careAddr>충청북도 제천시 금성면 적성로8길 51 (금성면) </careAddr><careNm>제천시 동물보호센터</careNm><careTel>043-647-0059</careTel><closeDay>0</closeDay><dataStdDt>2021-06-01</dataStdDt><divisionNm>단체</divisionNm><dsignationDate>2020-01-01</dsignationDate><feedCnt>1</feedCnt><jibunAddr>충청북도 제천시 금성면 동막리 994-2 </jibunAddr><lat>37.084565721</lat><lng>128.215049843</lng><medicalCnt>1</medicalCnt><orgNm>충청북도 제천시</orgNm><quarabtineCnt>3</quarabtineCnt><rnum>1</rnum><saveTrgtAnimal>개+고양이+기타</saveTrgtAnimal><specsPersonCnt>0</specsPersonCnt><transCarCnt>1</transCarCnt><vetPersonCnt>0</vetPersonCnt><weekCellEtime>18:00</weekCellEtime><weekCellStime>09:00</weekCellStime><weekOprEtime>18:00</weekOprEtime><weekOprStime>09:00</weekOprStime><weekendCellEtime>18:00</weekendCellEtime><weekendCellStime>09:00</weekendCellStime><weekendOprEtime>18:00</weekendOprEtime><weekendOprStime>09:00</weekendOprStime></item>,\n",
       " <item><breedCnt>1</breedCnt><careAddr>경상북도 문경시 중앙로 170 (흥덕동) 종합가축병원</careAddr><careNm>종합가축병원</careNm><careTel>054-552-2233</careTel><closeDay>일요일+공휴일</closeDay><dataStdDt>2019-12-23</dataStdDt><divisionNm>동물병원</divisionNm><dsignationDate>2017-07-11</dsignationDate><feedCnt>1</feedCnt><jibunAddr> 종합가축병원</jibunAddr><lat>36.599690621</lat><lng>128.202505671</lng><medicalCnt>1</medicalCnt><orgNm>경상북도 문경시</orgNm><quarabtineCnt>1</quarabtineCnt><rnum>1</rnum><saveTrgtAnimal>개+고양이+기타</saveTrgtAnimal><specsPersonCnt>1</specsPersonCnt><transCarCnt>1</transCarCnt><vetPersonCnt>1</vetPersonCnt><weekCellEtime>19:00</weekCellEtime><weekCellStime>09:00</weekCellStime><weekOprEtime>22:00</weekOprEtime><weekOprStime>09:00</weekOprStime><weekendCellEtime>14:00</weekendCellEtime><weekendCellStime>10:00</weekendCellStime><weekendOprEtime>22:00</weekendOprEtime><weekendOprStime>09:00</weekendOprStime></item>,\n",
       " <item><careAddr>울산광역시 남구 돋질로 385-1 (삼산동) </careAddr><careNm>주동물병원</careNm><careTel>052-268-8275</careTel><closeDay>토요일+일요일</closeDay><dataStdDt>2020-06-04</dataStdDt><divisionNm>동물병원</divisionNm><dsignationDate>2020-01-09</dsignationDate><jibunAddr>울산광역시 남구 삼산동 180-33 </jibunAddr><lat>35.543654331</lat><lng>129.347125727</lng><orgNm>울산광역시 남구</orgNm><rnum>1</rnum><saveTrgtAnimal>개+고양이</saveTrgtAnimal><specsPersonCnt>2</specsPersonCnt><vetPersonCnt>2</vetPersonCnt><weekCellEtime>:</weekCellEtime><weekCellStime>:</weekCellStime><weekOprEtime>17:00</weekOprEtime><weekOprStime>10:00</weekOprStime><weekendCellEtime>:</weekendCellEtime><weekendCellStime>:</weekendCellStime><weekendOprEtime>:</weekendOprEtime><weekendOprStime>:</weekendOprStime></item>,\n",
       " <item><breedCnt>22</breedCnt><careAddr>전라남도 진도군 진도읍 성죽골길 30 (진도읍) 진도개축산과</careAddr><careNm>진도개메디컬센터</careNm><careTel>061-540-6327</careTel><closeDay>토요일+일요일+공휴일</closeDay><dataStdDt>2019-12-23</dataStdDt><divisionNm>법인</divisionNm><dsignationDate>2016-06-01</dsignationDate><feedCnt>1</feedCnt><jibunAddr>전라남도 진도군 진도읍 동외리 268-14 진도개축산과</jibunAddr><lat>34.482361769</lat><lng>126.278574748</lng><medicalCnt>1</medicalCnt><orgNm>전라남도 진도군</orgNm><quarabtineCnt>3</quarabtineCnt><rnum>1</rnum><saveTrgtAnimal>개+기타</saveTrgtAnimal><specsPersonCnt>2</specsPersonCnt><transCarCnt>1</transCarCnt><vetPersonCnt>1</vetPersonCnt><weekCellEtime>18:00</weekCellEtime><weekCellStime>09:00</weekCellStime><weekOprEtime>18:00</weekOprEtime><weekOprStime>09:00</weekOprStime><weekendCellEtime>:</weekendCellEtime><weekendCellStime>:</weekendCellStime><weekendOprEtime>:</weekendOprEtime><weekendOprStime>:</weekendOprStime></item>,\n",
       " <item><breedCnt>1</breedCnt><careAddr>경상남도 진주시 집현면 신당길207번길 22 (집현면, 지역농업개발시설) </careAddr><careNm>진주시유기동물보호소</careNm><careTel>055-749-6134</careTel><closeDay>공휴일</closeDay><dataStdDt>2020-01-17</dataStdDt><divisionNm>법인</divisionNm><dsignationDate>2005-12-01</dsignationDate><feedCnt>1</feedCnt><jibunAddr> </jibunAddr><lat>35.227086565</lat><lng>128.121872771</lng><orgNm>경상남도 진주시</orgNm><quarabtineCnt>1</quarabtineCnt><rnum>1</rnum><saveTrgtAnimal>개</saveTrgtAnimal><specsPersonCnt>3</specsPersonCnt><transCarCnt>1</transCarCnt><vetPersonCnt>0</vetPersonCnt><weekCellEtime>17:00</weekCellEtime><weekCellStime>09:00</weekCellStime><weekOprEtime>18:00</weekOprEtime><weekOprStime>09:00</weekOprStime><weekendCellEtime>17:00</weekendCellEtime><weekendCellStime>09:00</weekendCellStime><weekendOprEtime>18:00</weekendOprEtime><weekendOprStime>09:00</weekendOprStime></item>,\n",
       " <item><careAddr>경상남도 창원시 진해구 웅천로 218 (성내동, 농업기술센터) 205번지 </careAddr><careNm>진해유기동물보호소</careNm><careTel>055-225-5481</careTel><closeDay>0</closeDay><dataStdDt>2020-06-03</dataStdDt><divisionNm>법인</divisionNm><dsignationDate>2010-11-01</dsignationDate><jibunAddr> 205번지 </jibunAddr><lat>35.1139994618</lat><lng>128.7543116703</lng><orgNm>경상남도 창원시 진해구</orgNm><rnum>1</rnum><saveTrgtAnimal>개</saveTrgtAnimal><specsPersonCnt>4</specsPersonCnt><transCarCnt>1</transCarCnt><vetPersonCnt>0</vetPersonCnt><weekCellEtime>16:00</weekCellEtime><weekCellStime>15:00</weekCellStime><weekOprEtime>17:00</weekOprEtime><weekOprStime>08:00</weekOprStime><weekendCellEtime>:</weekendCellEtime><weekendCellStime>:</weekendCellStime><weekendOprEtime>17:00</weekendOprEtime><weekendOprStime>08:00</weekendOprStime></item>,\n",
       " <item><careAddr>서울특별시 용산구 산천동 93-1</careAddr><careNm>차오름동물병원</careNm><careTel>02-706-7975</careTel><dataStdDt>2021-06-11</dataStdDt><divisionNm>동물병원</divisionNm><jibunAddr> 93-1</jibunAddr><orgNm>서울특별시 용산구</orgNm><rnum>1</rnum></item>,\n",
       " <item><breedCnt>1</breedCnt><careAddr>경상남도 창녕군 고암면 창밀로 335-26 (고암면) 고암면 억만리 28</careAddr><careNm>창녕 유기동물보호소</careNm><careTel>010-5488-5003</careTel><closeDay>토요일+일요일+공휴일</closeDay><dataStdDt>2021-02-28</dataStdDt><divisionNm>개인</divisionNm><dsignationDate>2019-01-02</dsignationDate><feedCnt>1</feedCnt><jibunAddr>경상남도 창녕군 고암면 억만리 870 고암면 억만리 28</jibunAddr><lat>35.573454643</lat><lng>128.507695136</lng><medicalCnt>1</medicalCnt><orgNm>경상남도 창녕군</orgNm><quarabtineCnt>1</quarabtineCnt><rnum>1</rnum><saveTrgtAnimal>개+고양이</saveTrgtAnimal><specsPersonCnt>1</specsPersonCnt><transCarCnt>1</transCarCnt><vetPersonCnt>1</vetPersonCnt><weekCellEtime>18:00</weekCellEtime><weekCellStime>09:00</weekCellStime><weekOprEtime>18:00</weekOprEtime><weekOprStime>09:00</weekOprStime><weekendCellEtime>:</weekendCellEtime><weekendCellStime>:</weekendCellStime><weekendOprEtime>:</weekendOprEtime><weekendOprStime>:</weekendOprStime></item>,\n",
       " <item><careAddr>경상남도 창원시 의창구 창이대로 71 (명서동, 창원시농업기술센터) 축산과</careAddr><careNm>창원유기동물보호소</careNm><careTel>055-225-5481</careTel><closeDay>0</closeDay><dataStdDt>2020-06-03</dataStdDt><divisionNm>법인</divisionNm><dsignationDate>2013-10-10</dsignationDate><jibunAddr> 축산과</jibunAddr><lat>35.2382793017</lat><lng>128.6456003034</lng><orgNm>경상남도 창원시 의창성산구</orgNm><rnum>1</rnum><saveTrgtAnimal>개</saveTrgtAnimal><specsPersonCnt>4</specsPersonCnt><transCarCnt>0</transCarCnt><vetPersonCnt>0</vetPersonCnt><weekCellEtime>16:00</weekCellEtime><weekCellStime>15:00</weekCellStime><weekOprEtime>17:00</weekOprEtime><weekOprStime>08:00</weekOprStime><weekendCellEtime>:</weekendCellEtime><weekendCellStime>:</weekendCellStime><weekendOprEtime>17:00</weekendOprEtime><weekendOprStime>08:00</weekendOprStime></item>,\n",
       " <item><careAddr>강원도 철원군 동송읍 장흥로 311 (동송읍, 철원군농업기술센타) 농업기술센터</careAddr><careNm>철원군</careNm><careTel>033-450-5394</careTel><dataStdDt>2019-02-26</dataStdDt><divisionNm>법인</divisionNm><jibunAddr> </jibunAddr><orgNm>강원도 철원군</orgNm><rnum>1</rnum></item>,\n",
       " <item><careAddr>경상북도 청도군 화양읍 청화3길 10  청도군 농업기술센터</careAddr><careNm>청도군동물보호소</careNm><careTel>054-370-6558</careTel><closeDay>토요일+일요일</closeDay><dataStdDt>2021-05-07</dataStdDt><divisionNm>법인</divisionNm><dsignationDate>2021-05-01</dsignationDate><jibunAddr>경상북도 청도군 화양읍 범곡리 147 청도군 농업기술센터</jibunAddr><lat>35.6492911927</lat><lng>128.7343704070</lng><orgNm>경상북도 청도군</orgNm><rnum>1</rnum><saveTrgtAnimal>개</saveTrgtAnimal><specsPersonCnt>1</specsPersonCnt><vetPersonCnt>0</vetPersonCnt><weekCellEtime>:</weekCellEtime><weekCellStime>:</weekCellStime><weekOprEtime>18:00</weekOprEtime><weekOprStime>09:00</weekOprStime><weekendCellEtime>:</weekendCellEtime><weekendCellStime>:</weekendCellStime><weekendOprEtime>:</weekendOprEtime><weekendOprStime>:</weekendOprStime></item>,\n",
       " <item><careAddr>충청남도 청양군 대치면 청산로 446-17 (대치면) </careAddr><careNm>청양보호소</careNm><careTel>041-940-2972</careTel><dataStdDt>2020-06-03</dataStdDt><divisionNm>동물병원</divisionNm><jibunAddr>충청남도 청양군 대치면 수석리 341-1 </jibunAddr><orgNm>충청남도 청양군</orgNm><rnum>1</rnum></item>,\n",
       " <item><careAddr>서울특별시 용산구 이태원동 21-1</careAddr><careNm>청화동물병원</careNm><careTel>02-792-7602</careTel><divisionNm>동물병원</divisionNm><jibunAddr> </jibunAddr><orgNm>서울특별시 용산구</orgNm><rnum>1</rnum></item>,\n",
       " <item><careAddr>충청남도 태안군 태안읍 남문리 504-6</careAddr><careNm>최동물병원</careNm><careTel>041-672-0346</careTel><closeDay>일요일</closeDay><dataStdDt>2020-06-04</dataStdDt><divisionNm>동물병원</divisionNm><dsignationDate>2013-01-01</dsignationDate><jibunAddr> 504-6</jibunAddr><lat>36.747003864</lat><lng>126.298537278</lng><orgNm>충청남도 태안군</orgNm><rnum>1</rnum><saveTrgtAnimal>개</saveTrgtAnimal><specsPersonCnt>1</specsPersonCnt><vetPersonCnt>1</vetPersonCnt><weekCellEtime>17:00</weekCellEtime><weekCellStime>10:00</weekCellStime><weekOprEtime>19:00</weekOprEtime><weekOprStime>09:00</weekOprStime><weekendCellEtime>12:00</weekendCellEtime><weekendCellStime>10:00</weekendCellStime><weekendOprEtime>14:00</weekendOprEtime><weekendOprStime>09:00</weekendOprStime></item>,\n",
       " <item><breedCnt>12</breedCnt><careAddr>충청북도 보은군 보은읍 보은로 119-1 (보은읍) </careAddr><careNm>최상오동물병원</careNm><careTel>043-543-0753</careTel><closeDay>토요일+일요일</closeDay><dataStdDt>2020-06-08</dataStdDt><divisionNm>동물병원</divisionNm><dsignationDate>2015-01-01</dsignationDate><feedCnt>1</feedCnt><jibunAddr> </jibunAddr><lat>36.484828662</lat><lng>127.717656316</lng><medicalCnt>1</medicalCnt><orgNm>충청북도 보은군</orgNm><quarabtineCnt>1</quarabtineCnt><rnum>1</rnum><saveTrgtAnimal>개+고양이+기타</saveTrgtAnimal><specsPersonCnt>1</specsPersonCnt><transCarCnt>1</transCarCnt><vetPersonCnt>1</vetPersonCnt><weekCellEtime>18:00</weekCellEtime><weekCellStime>09:00</weekCellStime><weekOprEtime>18:00</weekOprEtime><weekOprStime>09:00</weekOprStime><weekendCellEtime>18:00</weekendCellEtime><weekendCellStime>09:00</weekendCellStime><weekendOprEtime>18:00</weekendOprEtime><weekendOprStime>09:00</weekendOprStime></item>,\n",
       " <item><breedCnt>1</breedCnt><careAddr>충청북도 영동군 영동읍 계산로 54 (영동읍, 최종주동물병원) </careAddr><careNm>최종주동물병원</careNm><careTel>043-744-4209</careTel><closeDay>토요일+일요일</closeDay><dataStdDt>2021-04-08</dataStdDt><divisionNm>동물병원</divisionNm><dsignationDate>2017-01-01</dsignationDate><feedCnt>1</feedCnt><jibunAddr> </jibunAddr><lat>36.172622878</lat><lng>127.782333696</lng><medicalCnt>1</medicalCnt><orgNm>충청북도 영동군</orgNm><quarabtineCnt>1</quarabtineCnt><rnum>1</rnum><saveTrgtAnimal>개+고양이+기타</saveTrgtAnimal><specsPersonCnt>1</specsPersonCnt><transCarCnt>1</transCarCnt><vetPersonCnt>1</vetPersonCnt><weekCellEtime>17:00</weekCellEtime><weekCellStime>10:00</weekCellStime><weekOprEtime>18:00</weekOprEtime><weekOprStime>09:00</weekOprStime><weekendCellEtime>:</weekendCellEtime><weekendCellStime>:</weekendCellStime><weekendOprEtime>:</weekendOprEtime><weekendOprStime>:</weekendOprStime></item>,\n",
       " <item><careAddr>강원도 춘천시 신북읍 영서로 3282 (신북읍) (전)102보충대 주차장</careAddr><careNm>춘천시 동물보호센터</careNm><careTel>033-245-5351</careTel><closeDay>토요일+일요일+공휴일</closeDay><dataStdDt>2019-12-23</dataStdDt><divisionNm>법인</divisionNm><dsignationDate>2013-01-14</dsignationDate><jibunAddr> (전)102보충대 주차장</jibunAddr><lat>37.923210233</lat><lng>127.734479045</lng><orgNm>강원도 춘천시</orgNm><rnum>1</rnum><saveTrgtAnimal>개+고양이+기타</saveTrgtAnimal><specsPersonCnt>4</specsPersonCnt><vetPersonCnt>1</vetPersonCnt><weekCellEtime>18:00</weekCellEtime><weekCellStime>09:00</weekCellStime><weekOprEtime>18:00</weekOprEtime><weekOprStime>09:00</weekOprStime><weekendCellEtime>:</weekendCellEtime><weekendCellStime>:</weekendCellStime><weekendOprEtime>:</weekendOprEtime><weekendOprStime>:</weekendOprStime></item>,\n",
       " <item><careAddr>울산광역시 북구 신답로 26 (상안동, 홈플러스) 쿨펫동물병원 홈플러스 북구점</careAddr><careNm>쿨펫 홈플러스 북구점</careNm><careTel>052-286-3567</careTel><closeDay>0</closeDay><dataStdDt>2020-01-22</dataStdDt><divisionNm>동물병원</divisionNm><dsignationDate>2020-01-01</dsignationDate><jibunAddr>울산광역시 북구 상안동 322-9 쿨펫동물병원 홈플러스 북구점</jibunAddr><lat>35.630043356</lat><lng>129.344880426</lng><orgNm>울산광역시 북구</orgNm><rnum>1</rnum><saveTrgtAnimal>개+고양이</saveTrgtAnimal><specsPersonCnt>1</specsPersonCnt><vetPersonCnt>1</vetPersonCnt><weekCellEtime>:</weekCellEtime><weekCellStime>:</weekCellStime><weekOprEtime>24:00</weekOprEtime><weekOprStime>10:00</weekOprStime><weekendCellEtime>:</weekendCellEtime><weekendCellStime>:</weekendCellStime><weekendOprEtime>:</weekendOprEtime><weekendOprStime>:</weekendOprStime></item>,\n",
       " <item><careAddr>울산광역시 북구 진장유통로 64 (진장동, 롯데마트) 4층 쿨펫동물병원</careAddr><careNm>쿨펫동물병원</careNm><careTel>052-288-7572</careTel><closeDay>0</closeDay><dataStdDt>2020-01-02</dataStdDt><divisionNm>동물병원</divisionNm><dsignationDate>2020-01-01</dsignationDate><jibunAddr> 4층 쿨펫동물병원</jibunAddr><lat>35.576007017</lat><lng>129.359022747</lng><orgNm>울산광역시 북구</orgNm><rnum>1</rnum><saveTrgtAnimal>개+고양이</saveTrgtAnimal><specsPersonCnt>2</specsPersonCnt><transCarCnt>0</transCarCnt><vetPersonCnt>2</vetPersonCnt><weekCellEtime>23:00</weekCellEtime><weekCellStime>10:00</weekCellStime><weekOprEtime>23:00</weekOprEtime><weekOprStime>10:00</weekOprStime><weekendCellEtime>:</weekendCellEtime><weekendCellStime>:</weekendCellStime><weekendOprEtime>:</weekendOprEtime><weekendOprStime>:</weekendOprStime></item>,\n",
       " <item><careAddr>경기도 파주시 문산읍 방촌로 1759 쿨펫동물병원</careAddr><careNm>쿨펫동물병원(문산)</careNm><careTel>031-954-7588</careTel><divisionNm>동물병원</divisionNm><jibunAddr> </jibunAddr><orgNm>경기도 파주시</orgNm><rnum>1</rnum></item>,\n",
       " <item><breedCnt>1</breedCnt><careAddr>강원도 태백시 문의재로 5 (통동) </careAddr><careNm>태백유기동물</careNm><careTel>010-6380-5566</careTel><closeDay>토요일+일요일+공휴일</closeDay><dataStdDt>2020-06-03</dataStdDt><divisionNm>개인</divisionNm><dsignationDate>2009-02-06</dsignationDate><feedCnt>1</feedCnt><jibunAddr> </jibunAddr><lat>37.172887869</lat><lng>129.040791072</lng><medicalCnt>0</medicalCnt><orgNm>강원도 태백시</orgNm><quarabtineCnt>1</quarabtineCnt><rnum>1</rnum><saveTrgtAnimal>개</saveTrgtAnimal><specsPersonCnt>1</specsPersonCnt><transCarCnt>1</transCarCnt><vetPersonCnt>0</vetPersonCnt><weekCellEtime>18:00</weekCellEtime><weekCellStime>10:00</weekCellStime><weekOprEtime>18:00</weekOprEtime><weekOprStime>09:00</weekOprStime><weekendCellEtime>:</weekendCellEtime><weekendCellStime>:</weekendCellStime><weekendOprEtime>:</weekendOprEtime><weekendOprStime>:</weekendOprStime></item>,\n",
       " <item><careAddr>경기도 파주시 교하로 87 (목동동) 삼성프라자 201</careAddr><careNm>파주24시동물병원</careNm><careTel>031-944-5575</careTel><dataStdDt>2017-02-17</dataStdDt><divisionNm>동물병원</divisionNm><jibunAddr> </jibunAddr><orgNm>경기도 파주시</orgNm><rnum>1</rnum></item>,\n",
       " <item><careAddr>경기도 파주시 책향기로 573 (목동동) </careAddr><careNm>파주365동물의료센터</careNm><careTel>031-945-5365</careTel><dataStdDt>2017-02-17</dataStdDt><divisionNm>동물병원</divisionNm><jibunAddr> </jibunAddr><lat>37.7277542870</lat><lng>126.7343761802</lng><orgNm>경기도 파주시</orgNm><rnum>1</rnum></item>,\n",
       " <item><careAddr>경기도 파주시 청암로17번길 17 (목동동, 홈플러스 파주운정점) 2층 17호</careAddr><careNm>팻파라다이스</careNm><careTel>031-942-7583</careTel><divisionNm>동물병원</divisionNm><jibunAddr> </jibunAddr><orgNm>경기도 파주시</orgNm><rnum>1</rnum></item>,\n",
       " <item><careAddr>대구광역시 수성구 달구벌대로 3144 (노변동) 펫동물병원</careAddr><careNm>펫동물병원</careNm><careTel>053-474-9820</careTel><closeDay>목요일</closeDay><dataStdDt>2020-12-18</dataStdDt><divisionNm>동물병원</divisionNm><dsignationDate>2017-01-01</dsignationDate><jibunAddr> 펫동물병원</jibunAddr><lat>35.841449078</lat><lng>128.700814566</lng><orgNm>대구광역시 수성구</orgNm><rnum>1</rnum><saveTrgtAnimal>금강동물병원</saveTrgtAnimal><specsPersonCnt>2</specsPersonCnt><vetPersonCnt>1</vetPersonCnt><weekCellEtime>:</weekCellEtime><weekCellStime>:</weekCellStime><weekOprEtime>19:00</weekOprEtime><weekOprStime>10:00</weekOprStime><weekendCellEtime>:</weekendCellEtime><weekendCellStime>:</weekendCellStime><weekendOprEtime>:</weekendOprEtime><weekendOprStime>:</weekendOprStime></item>,\n",
       " <item><careAddr>서울특별시 용산구 한남동 653-26</careAddr><careNm>펫토이동물병원</careNm><careTel>02-795-2184</careTel><dataStdDt>2021-06-11</dataStdDt><divisionNm>동물병원</divisionNm><jibunAddr> 653-26</jibunAddr><orgNm>서울특별시 용산구</orgNm><rnum>1</rnum></item>,\n",
       " <item><careAddr>경기도 성남시 분당구 불정로 266 (수내동, 유신제일조합) </careAddr><careNm>펫토피아동물병원</careNm><careTel>031-714-8392</careTel><closeDay>공휴일</closeDay><dataStdDt>2020-07-10</dataStdDt><divisionNm>동물병원</divisionNm><dsignationDate>2017-01-01</dsignationDate><jibunAddr> </jibunAddr><lat>37.367095691</lat><lng>127.127681498</lng><orgNm>경기도 성남시</orgNm><rnum>1</rnum><saveTrgtAnimal>개+고양이+유기유실동물</saveTrgtAnimal><specsPersonCnt>6</specsPersonCnt><vetPersonCnt>1</vetPersonCnt><weekCellEtime>:</weekCellEtime><weekCellStime>:</weekCellStime><weekOprEtime>18:00</weekOprEtime><weekOprStime>10:00</weekOprStime><weekendCellEtime>:</weekendCellEtime><weekendCellStime>:</weekendCellStime><weekendOprEtime>:</weekendOprEtime><weekendOprStime>:</weekendOprStime></item>,\n",
       " <item><careAddr>강원도 평창군 진부면 청송로 61 </careAddr><careNm>평창군유기동물보호소</careNm><careTel>010-3397-9150</careTel><dataStdDt>2013-07-15</dataStdDt><divisionNm>개인</divisionNm><jibunAddr> </jibunAddr><orgNm>강원도 평창군</orgNm><rnum>1</rnum></item>,\n",
       " <item><careAddr>경기도 평택시 진위면 야막길 108-86 (진위면) </careAddr><careNm>평택시유기동물보호소</careNm><careTel>031-8024-3849</careTel><dataStdDt>2021-01-19</dataStdDt><divisionNm>법인</divisionNm><jibunAddr> </jibunAddr><lat>37.1306303346</lat><lng>127.0554225287</lng><orgNm>경기도 평택시</orgNm><rnum>1</rnum></item>,\n",
       " <item><careAddr>충청북도 증평군 증평읍 증안길 83-11  </careAddr><careNm>피학대동물임시보호소</careNm><careTel>010-2061-9119</careTel><dataStdDt>2021-04-30</dataStdDt><divisionNm>단체</divisionNm><jibunAddr>충청북도 증평군 증평읍 초중리 177 </jibunAddr><orgNm>충청북도 증평군</orgNm><rnum>1</rnum></item>,\n",
       " <item><breedCnt>1</breedCnt><careAddr>경기도 하남시 신평로 37 (덕풍동) 하남동물병원</careAddr><careNm>하남동물병원</careNm><careTel>031-793-7802</careTel><closeDay>일요일</closeDay><dataStdDt>2019-12-20</dataStdDt><divisionNm>동물병원</divisionNm><dsignationDate>2019-11-01</dsignationDate><feedCnt>1</feedCnt><jibunAddr> 하남동물병원</jibunAddr><lat>37.537155986</lat><lng>127.204047798</lng><medicalCnt>1</medicalCnt><orgNm>경기도 하남시</orgNm><quarabtineCnt>1</quarabtineCnt><rnum>1</rnum><saveTrgtAnimal>개+고양이+햄스터</saveTrgtAnimal><specsPersonCnt>1</specsPersonCnt><transCarCnt>1</transCarCnt><vetPersonCnt>1</vetPersonCnt><weekCellEtime>18:00</weekCellEtime><weekCellStime>11:00</weekCellStime><weekOprEtime>18:00</weekOprEtime><weekOprStime>09:00</weekOprStime><weekendCellEtime>18:00</weekendCellEtime><weekendCellStime>11:00</weekendCellStime><weekendOprEtime>18:00</weekendOprEtime><weekendOprStime>09:00</weekendOprStime></item>,\n",
       " <item><breedCnt>1</breedCnt><careAddr>경상남도 하동군 적량면 한옥정길 90 (적량면) 유기동물보호소</careAddr><careNm>하동군유기동물보호소</careNm><careTel>055-880-2439</careTel><closeDay>일요일+공휴일</closeDay><dataStdDt>2020-06-29</dataStdDt><divisionNm>법인</divisionNm><dsignationDate>2009-09-01</dsignationDate><feedCnt>1</feedCnt><jibunAddr>경상남도 하동군 적량면 동산리 1830 유기동물보호소</jibunAddr><lat>35.07884862</lat><lng>127.769121348</lng><medicalCnt>1</medicalCnt><orgNm>경상남도 하동군</orgNm><quarabtineCnt>1</quarabtineCnt><rnum>1</rnum><saveTrgtAnimal>개+고양이+기타</saveTrgtAnimal><specsPersonCnt>2</specsPersonCnt><transCarCnt>1</transCarCnt><vetPersonCnt>1</vetPersonCnt><weekCellEtime>17:00</weekCellEtime><weekCellStime>09:00</weekCellStime><weekOprEtime>18:00</weekOprEtime><weekOprStime>09:00</weekOprStime><weekendCellEtime>17:00</weekendCellEtime><weekendCellStime>09:00</weekendCellStime><weekendOprEtime>18:00</weekendOprEtime><weekendOprStime>09:00</weekendOprStime></item>,\n",
       " <item><breedCnt>8</breedCnt><careAddr>부산광역시 강서구 제도로 726 (강동동) </careAddr><careNm>하얀비둘기</careNm><careTel>051-293-9779</careTel><closeDay>연중무휴</closeDay><dataStdDt>2020-06-17</dataStdDt><divisionNm>법인</divisionNm><dsignationDate>2019-01-01</dsignationDate><feedCnt>1</feedCnt><jibunAddr>부산광역시 강서구 강동동 3223-26 </jibunAddr><lat>35.177499068</lat><lng>128.917023278</lng><medicalCnt>1</medicalCnt><orgNm>부산광역시 영도구</orgNm><quarabtineCnt>2</quarabtineCnt><rnum>1</rnum><saveTrgtAnimal>개+고양이+기타동물</saveTrgtAnimal><specsPersonCnt>1</specsPersonCnt><transCarCnt>4</transCarCnt><vetPersonCnt>1</vetPersonCnt><weekCellEtime>15:00</weekCellEtime><weekCellStime>10:00</weekCellStime><weekOprEtime>17:00</weekOprEtime><weekOprStime>10:00</weekOprStime><weekendCellEtime>13:00</weekendCellEtime><weekendCellStime>11:00</weekendCellStime><weekendOprEtime>17:00</weekendOprEtime><weekendOprStime>10:00</weekendOprStime></item>,\n",
       " <item><breedCnt>0</breedCnt><careAddr>경상남도 의령군 의령읍 남강로 485-75  </careAddr><careNm>하영효</careNm><careTel>055-570-4202</careTel><closeDay>일요일</closeDay><dataStdDt>2021-02-01</dataStdDt><divisionNm>개인</divisionNm><dsignationDate>2019-10-01</dsignationDate><feedCnt>0</feedCnt><jibunAddr>경상남도 의령군 의령읍 만천리 232 </jibunAddr><lat>35.328164046</lat><lng>128.250490253</lng><medicalCnt>0</medicalCnt><orgNm>경상남도 의령군</orgNm><quarabtineCnt>0</quarabtineCnt><rnum>1</rnum><saveTrgtAnimal>개</saveTrgtAnimal><specsPersonCnt>1</specsPersonCnt><transCarCnt>1</transCarCnt><vetPersonCnt>0</vetPersonCnt><weekCellEtime>17:00</weekCellEtime><weekCellStime>13:00</weekCellStime><weekOprEtime>18:00</weekOprEtime><weekOprStime>09:00</weekOprStime><weekendCellEtime>:</weekendCellEtime><weekendCellStime>:</weekendCellStime><weekendOprEtime>18:00</weekendOprEtime><weekendOprStime>09:00</weekendOprStime></item>,\n",
       " <item><careAddr>전라남도 함평군 학교면 송산길 84 (학교면) 월산리 806-1 </careAddr><careNm>학교동물임시보호센터</careNm><careTel>010-5649-3435</careTel><closeDay>토요일+일요일</closeDay><dataStdDt>2021-03-12</dataStdDt><divisionNm>개인</divisionNm><dsignationDate>2019-01-01</dsignationDate><jibunAddr> 월산리 806-1 </jibunAddr><lat>35.045491004</lat><lng>126.538990071</lng><orgNm>전라남도 함평군</orgNm><rnum>1</rnum><saveTrgtAnimal>개+기타</saveTrgtAnimal><specsPersonCnt>1</specsPersonCnt><vetPersonCnt>0</vetPersonCnt><weekCellEtime>:</weekCellEtime><weekCellStime>:</weekCellStime><weekOprEtime>18:00</weekOprEtime><weekOprStime>09:00</weekOprStime><weekendCellEtime>:</weekendCellEtime><weekendCellStime>:</weekendCellStime><weekendOprEtime>:</weekendOprEtime><weekendOprStime>:</weekendOprStime></item>,\n",
       " <item><careAddr>경기도 양주시 남면 감악산로 63-37 </careAddr><careNm>한국동물구조관리협회</careNm><careTel>031-867-9119</careTel><dataStdDt>2020-08-14</dataStdDt><divisionNm>법인</divisionNm><jibunAddr> </jibunAddr><orgNm>서울특별시 영등포구</orgNm><rnum>1</rnum></item>,\n",
       " <item><breedCnt>6</breedCnt><careAddr>경기도 양주시 남면 감악산로 63-37  (사)한국동물구조관리협회</careAddr><careNm>한국동물구조관리협회</careNm><careTel>031-867-9119</careTel><closeDay>일요일+공휴일</closeDay><dataStdDt>2020-11-30</dataStdDt><divisionNm>법인</divisionNm><dsignationDate>2020-01-01</dsignationDate><feedCnt>1</feedCnt><jibunAddr>경기도 양주시 남면 상수리 410-1 (사)한국동물구조관리협회</jibunAddr><lat>37.8701158122</lat><lng>126.9835430508</lng><medicalCnt>1</medicalCnt><orgNm>서울특별시 강동구</orgNm><quarabtineCnt>1</quarabtineCnt><rnum>1</rnum><saveTrgtAnimal>개+고양이+기타</saveTrgtAnimal><specsPersonCnt>8</specsPersonCnt><vetPersonCnt>1</vetPersonCnt><weekCellEtime>18:00</weekCellEtime><weekCellStime>09:00</weekCellStime><weekOprEtime>18:00</weekOprEtime><weekOprStime>09:00</weekOprStime><weekendCellEtime>16:00</weekendCellEtime><weekendCellStime>09:00</weekendCellStime><weekendOprEtime>16:00</weekendOprEtime><weekendOprStime>09:00</weekendOprStime></item>,\n",
       " <item><breedCnt>6</breedCnt><careAddr>경기도 양주시 남면 감악산로 63-37 (남면) </careAddr><careNm>한국동물구조관리협회</careNm><careTel>031-867-9119</careTel><closeDay>일요일+공휴일</closeDay><dataStdDt>2020-08-14</dataStdDt><divisionNm>법인</divisionNm><dsignationDate>2020-03-01</dsignationDate><feedCnt>1</feedCnt><jibunAddr> </jibunAddr><lat>37.8701158122</lat><lng>126.9835430508</lng><medicalCnt>1</medicalCnt><orgNm>서울특별시 서초구</orgNm><quarabtineCnt>1</quarabtineCnt><rnum>1</rnum><saveTrgtAnimal>개+고양이+기타</saveTrgtAnimal><specsPersonCnt>8</specsPersonCnt><vetPersonCnt>1</vetPersonCnt><weekCellEtime>18:00</weekCellEtime><weekCellStime>09:00</weekCellStime><weekOprEtime>18:00</weekOprEtime><weekOprStime>09:00</weekOprStime><weekendCellEtime>16:00</weekendCellEtime><weekendCellStime>09:00</weekendCellStime><weekendOprEtime>16:00</weekendOprEtime><weekendOprStime>09:00</weekendOprStime></item>,\n",
       " <item><breedCnt>6</breedCnt><careAddr>경기도 양주시 남면 상수리 410-1</careAddr><careNm>한국동물구조관리협회</careNm><careTel>031-867-9119</careTel><closeDay>일요일+공휴일</closeDay><dataStdDt>2020-08-14</dataStdDt><divisionNm>법인</divisionNm><dsignationDate>2020-02-29</dsignationDate><feedCnt>1</feedCnt><jibunAddr> 410-1</jibunAddr><lat>37.8701158122</lat><lng>126.9835430508</lng><medicalCnt>1</medicalCnt><orgNm>서울특별시 구로구</orgNm><quarabtineCnt>1</quarabtineCnt><rnum>1</rnum><saveTrgtAnimal>개+고양이+기타</saveTrgtAnimal><specsPersonCnt>8</specsPersonCnt><vetPersonCnt>1</vetPersonCnt><weekCellEtime>18:00</weekCellEtime><weekCellStime>09:00</weekCellStime><weekOprEtime>18:00</weekOprEtime><weekOprStime>09:00</weekOprStime><weekendCellEtime>16:00</weekendCellEtime><weekendCellStime>09:00</weekendCellStime><weekendOprEtime>16:00</weekendOprEtime><weekendOprStime>09:00</weekendOprStime></item>,\n",
       " <item><breedCnt>6</breedCnt><careAddr>경기도 양주시 남면 감악산로 63-37 (남면) </careAddr><careNm>한국동물구조관리협회</careNm><careTel>031-867-9119</careTel><closeDay>일요일+공휴일</closeDay><dataStdDt>2020-08-14</dataStdDt><divisionNm>법인</divisionNm><dsignationDate>2020-01-01</dsignationDate><feedCnt>1</feedCnt><jibunAddr> </jibunAddr><lat>37.869894005</lat><lng>126.98311544</lng><medicalCnt>1</medicalCnt><orgNm>서울특별시 서대문구</orgNm><quarabtineCnt>1</quarabtineCnt><rnum>1</rnum><saveTrgtAnimal>개+고양이+기타</saveTrgtAnimal><specsPersonCnt>8</specsPersonCnt><transCarCnt>7</transCarCnt><vetPersonCnt>1</vetPersonCnt><weekCellEtime>:</weekCellEtime><weekCellStime>:</weekCellStime><weekOprEtime>23:00</weekOprEtime><weekOprStime>09:00</weekOprStime><weekendCellEtime>:</weekendCellEtime><weekendCellStime>:</weekendCellStime><weekendOprEtime>:</weekendOprEtime><weekendOprStime>:</weekendOprStime></item>,\n",
       " <item><breedCnt>6</breedCnt><careAddr>경기도 양주시 남면 감악산로 63-37 (남면) </careAddr><careNm>한국동물구조관리협회</careNm><careTel>031-868-2851</careTel><closeDay>일요일+공휴일</closeDay><dataStdDt>2020-08-14</dataStdDt><divisionNm>법인</divisionNm><dsignationDate>2020-01-01</dsignationDate><feedCnt>1</feedCnt><jibunAddr> </jibunAddr><lat>37.869894005</lat><lng>126.98311544</lng><medicalCnt>1</medicalCnt><orgNm>서울특별시 노원구</orgNm><quarabtineCnt>1</quarabtineCnt><rnum>1</rnum><saveTrgtAnimal>개+고양이+기타</saveTrgtAnimal><specsPersonCnt>8</specsPersonCnt><vetPersonCnt>1</vetPersonCnt><weekCellEtime>18:00</weekCellEtime><weekCellStime>09:00</weekCellStime><weekOprEtime>18:00</weekOprEtime><weekOprStime>09:00</weekOprStime><weekendCellEtime>16:00</weekendCellEtime><weekendCellStime>09:00</weekendCellStime><weekendOprEtime>16:00</weekendOprEtime><weekendOprStime>09:00</weekendOprStime></item>,\n",
       " <item><breedCnt>6</breedCnt><careAddr>경기도 양주시 남면 감악산로 63-37 (남면) </careAddr><careNm>한국동물구조관리협회</careNm><careTel>031-867-9119</careTel><closeDay>일요일+공휴일</closeDay><dataStdDt>2020-08-14</dataStdDt><divisionNm>법인</divisionNm><dsignationDate>2020-03-01</dsignationDate><feedCnt>1</feedCnt><jibunAddr> </jibunAddr><lat>37.869894005</lat><lng>126.98311544</lng><medicalCnt>1</medicalCnt><orgNm>서울특별시 강북구</orgNm><quarabtineCnt>1</quarabtineCnt><rnum>1</rnum><saveTrgtAnimal>개+고양이+기타</saveTrgtAnimal><specsPersonCnt>8</specsPersonCnt><vetPersonCnt>1</vetPersonCnt><weekCellEtime>18:00</weekCellEtime><weekCellStime>09:00</weekCellStime><weekOprEtime>18:00</weekOprEtime><weekOprStime>09:00</weekOprStime><weekendCellEtime>16:00</weekendCellEtime><weekendCellStime>09:00</weekendCellStime><weekendOprEtime>16:00</weekendOprEtime><weekendOprStime>09:00</weekendOprStime></item>,\n",
       " <item><breedCnt>6</breedCnt><careAddr>경기도 양주시 남면 감악산로 63-37 (남면) 한국동물구조관리협회</careAddr><careNm>한국동물구조관리협회</careNm><careTel>031-867-9119</careTel><closeDay>일요일+공휴일</closeDay><dataStdDt>2017-11-01</dataStdDt><divisionNm>법인</divisionNm><dsignationDate>2017-10-23</dsignationDate><feedCnt>1</feedCnt><jibunAddr> </jibunAddr><lat>37.870483656</lat><lng>126.983640464</lng><medicalCnt>1</medicalCnt><orgNm>경기도 포천시</orgNm><quarabtineCnt>1</quarabtineCnt><rnum>1</rnum><saveTrgtAnimal>개+고양이+기타</saveTrgtAnimal><specsPersonCnt>8</specsPersonCnt><transCarCnt>8</transCarCnt><vetPersonCnt>1</vetPersonCnt><weekCellEtime>16:00</weekCellEtime><weekCellStime>09:00</weekCellStime><weekOprEtime>18:00</weekOprEtime><weekOprStime>09:00</weekOprStime><weekendCellEtime>:</weekendCellEtime><weekendCellStime>:</weekendCellStime><weekendOprEtime>16:00</weekendOprEtime><weekendOprStime>09:00</weekendOprStime></item>,\n",
       " <item><breedCnt>6</breedCnt><careAddr>경기도 양주시 남면 감악산로 63-37 (남면) </careAddr><careNm>한국동물구조관리협회</careNm><careTel>031-867-9119</careTel><closeDay>공휴일</closeDay><dataStdDt>2020-08-14</dataStdDt><divisionNm>법인</divisionNm><dsignationDate>2020-02-29</dsignationDate><feedCnt>1</feedCnt><jibunAddr>경기도 양주시 남면 상수리 410-1 </jibunAddr><lat>37.869894005</lat><lng>126.98311544</lng><medicalCnt>1</medicalCnt><orgNm>서울특별시 성북구</orgNm><quarabtineCnt>1</quarabtineCnt><rnum>1</rnum><saveTrgtAnimal>개등유기유실동물</saveTrgtAnimal><specsPersonCnt>9</specsPersonCnt><transCarCnt>5</transCarCnt><vetPersonCnt>1</vetPersonCnt><weekCellEtime>16:00</weekCellEtime><weekCellStime>09:00</weekCellStime><weekOprEtime>18:00</weekOprEtime><weekOprStime>09:00</weekOprStime><weekendCellEtime>16:00</weekendCellEtime><weekendCellStime>09:00</weekendCellStime><weekendOprEtime>18:00</weekendOprEtime><weekendOprStime>09:00</weekendOprStime></item>,\n",
       " <item><careAddr>경기도 양주시 남면 감악산로 63-37 (남면) </careAddr><careNm>한국동물구조관리협회</careNm><careTel>031-867-9119</careTel><closeDay>토요일+일요일+공휴일</closeDay><dataStdDt>2020-06-08</dataStdDt><divisionNm>법인</divisionNm><dsignationDate>2020-03-01</dsignationDate><jibunAddr> </jibunAddr><lat>37.870483656</lat><lng>126.983640464</lng><orgNm>경기도 양주시</orgNm><rnum>1</rnum><saveTrgtAnimal>개+고양이+기타</saveTrgtAnimal><specsPersonCnt>8</specsPersonCnt><vetPersonCnt>1</vetPersonCnt><weekCellEtime>:</weekCellEtime><weekCellStime>:</weekCellStime><weekOprEtime>18:00</weekOprEtime><weekOprStime>09:00</weekOprStime><weekendCellEtime>:</weekendCellEtime><weekendCellStime>:</weekendCellStime><weekendOprEtime>:</weekendOprEtime><weekendOprStime>:</weekendOprStime></item>,\n",
       " <item><breedCnt>6</breedCnt><careAddr>경기도 양주시 남면 감악산로 63-37 </careAddr><careNm>한국동물구조관리협회</careNm><careTel>031-867-9119</careTel><closeDay>일요일</closeDay><dataStdDt>2020-08-14</dataStdDt><divisionNm>법인</divisionNm><dsignationDate>2020-01-01</dsignationDate><feedCnt>1</feedCnt><jibunAddr> </jibunAddr><lat>37.869894005</lat><lng>126.98311544</lng><medicalCnt>1</medicalCnt><orgNm>서울특별시 중랑구</orgNm><quarabtineCnt>1</quarabtineCnt><rnum>1</rnum><saveTrgtAnimal>개+고양이+기타</saveTrgtAnimal><specsPersonCnt>8</specsPersonCnt><transCarCnt>6</transCarCnt><vetPersonCnt>1</vetPersonCnt><weekCellEtime>18:00</weekCellEtime><weekCellStime>09:00</weekCellStime><weekOprEtime>24:00</weekOprEtime><weekOprStime>09:00</weekOprStime><weekendCellEtime>18:00</weekendCellEtime><weekendCellStime>09:00</weekendCellStime><weekendOprEtime>24:00</weekendOprEtime><weekendOprStime>09:00</weekendOprStime></item>,\n",
       " <item><breedCnt>6</breedCnt><careAddr>경기도 양주시 남면 감악산로 63-37 (남면) </careAddr><careNm>한국동물구조관리협회</careNm><careTel>031-867-9119</careTel><closeDay>일요일+공휴일</closeDay><dataStdDt>2020-08-14</dataStdDt><divisionNm>법인</divisionNm><dsignationDate>2020-01-01</dsignationDate><feedCnt>1</feedCnt><jibunAddr> </jibunAddr><lat>37.870483656</lat><lng>126.983640464</lng><medicalCnt>1</medicalCnt><orgNm>서울특별시 중구</orgNm><quarabtineCnt>1</quarabtineCnt><rnum>1</rnum><saveTrgtAnimal>개+반려묘+다친새끼고양이</saveTrgtAnimal><specsPersonCnt>8</specsPersonCnt><vetPersonCnt>1</vetPersonCnt><weekCellEtime>18:00</weekCellEtime><weekCellStime>09:00</weekCellStime><weekOprEtime>18:00</weekOprEtime><weekOprStime>09:00</weekOprStime><weekendCellEtime>16:00</weekendCellEtime><weekendCellStime>09:00</weekendCellStime><weekendOprEtime>16:00</weekendOprEtime><weekendOprStime>09:00</weekendOprStime></item>,\n",
       " <item><breedCnt>6</breedCnt><careAddr>경기도 양주시 남면 감악산로 63-37 (남면) </careAddr><careNm>한국동물구조관리협회</careNm><careTel>031-867-9119</careTel><closeDay>일요일+공휴일</closeDay><dataStdDt>2020-08-14</dataStdDt><divisionNm>단체</divisionNm><dsignationDate>2020-02-27</dsignationDate><feedCnt>1</feedCnt><jibunAddr>경기도 양주시 남면 상수리 410-1 </jibunAddr><lat>37.870483656</lat><lng>126.983640464</lng><medicalCnt>1</medicalCnt><orgNm>서울특별시 종로구</orgNm><quarabtineCnt>1</quarabtineCnt><rnum>1</rnum><saveTrgtAnimal>개+고양이+기타</saveTrgtAnimal><specsPersonCnt>8</specsPersonCnt><vetPersonCnt>1</vetPersonCnt><weekCellEtime>18:00</weekCellEtime><weekCellStime>09:00</weekCellStime><weekOprEtime>18:00</weekOprEtime><weekOprStime>09:00</weekOprStime><weekendCellEtime>16:00</weekendCellEtime><weekendCellStime>09:00</weekendCellStime><weekendOprEtime>16:00</weekendOprEtime><weekendOprStime>09:00</weekendOprStime></item>,\n",
       " <item><breedCnt>6</breedCnt><careAddr>경기도 양주시 남면 감악산로 63-37 </careAddr><careNm>한국동물구조관리협회</careNm><careTel>031-867-9119</careTel><closeDay>일요일+공휴일</closeDay><dataStdDt>2020-08-14</dataStdDt><divisionNm>법인</divisionNm><dsignationDate>2020-03-01</dsignationDate><feedCnt>1</feedCnt><jibunAddr> </jibunAddr><lat>37.869894005</lat><lng>126.98311544</lng><medicalCnt>1</medicalCnt><orgNm>서울특별시 동대문구</orgNm><quarabtineCnt>1</quarabtineCnt><rnum>1</rnum><saveTrgtAnimal>개+고양이+기타</saveTrgtAnimal><specsPersonCnt>8</specsPersonCnt><vetPersonCnt>1</vetPersonCnt><weekCellEtime>18:00</weekCellEtime><weekCellStime>09:00</weekCellStime><weekOprEtime>18:00</weekOprEtime><weekOprStime>09:00</weekOprStime><weekendCellEtime>16:00</weekendCellEtime><weekendCellStime>09:00</weekendCellStime><weekendOprEtime>16:00</weekendOprEtime><weekendOprStime>09:00</weekendOprStime></item>,\n",
       " <item><breedCnt>6</breedCnt><careAddr>경기도 양주시 남면 상수리 410-1</careAddr><careNm>한국동물구조관리협회</careNm><careTel>031-867-9119</careTel><closeDay>일요일+공휴일</closeDay><dataStdDt>2020-08-14</dataStdDt><divisionNm>법인</divisionNm><dsignationDate>2020-01-01</dsignationDate><feedCnt>1</feedCnt><jibunAddr> 상수리 410-1</jibunAddr><lat>37.874444736</lat><lng>126.981671632</lng><medicalCnt>1</medicalCnt><orgNm>서울특별시 도봉구</orgNm><quarabtineCnt>1</quarabtineCnt><rnum>1</rnum><saveTrgtAnimal>개+고양이+기타</saveTrgtAnimal><specsPersonCnt>8</specsPersonCnt><vetPersonCnt>1</vetPersonCnt><weekCellEtime>18:00</weekCellEtime><weekCellStime>09:00</weekCellStime><weekOprEtime>18:00</weekOprEtime><weekOprStime>09:00</weekOprStime><weekendCellEtime>16:00</weekendCellEtime><weekendCellStime>09:00</weekendCellStime><weekendOprEtime>16:00</weekendOprEtime><weekendOprStime>09:00</weekendOprStime></item>,\n",
       " <item><breedCnt>6</breedCnt><careAddr>경기도 양주시 남면 상수리 410-1</careAddr><careNm>한국동물구조관리협회</careNm><careTel>031-867-9119</careTel><closeDay>공휴일+일요일</closeDay><dataStdDt>2020-08-14</dataStdDt><divisionNm>법인</divisionNm><dsignationDate>2020-03-01</dsignationDate><feedCnt>1</feedCnt><jibunAddr> 410-1</jibunAddr><lat>37.8701158122</lat><lng>126.9835430508</lng><medicalCnt>1</medicalCnt><orgNm>서울특별시 은평구</orgNm><quarabtineCnt>1</quarabtineCnt><rnum>1</rnum><saveTrgtAnimal>개+고양이+기타</saveTrgtAnimal><specsPersonCnt>8</specsPersonCnt><vetPersonCnt>1</vetPersonCnt><weekCellEtime>18:00</weekCellEtime><weekCellStime>09:00</weekCellStime><weekOprEtime>18:00</weekOprEtime><weekOprStime>09:00</weekOprStime><weekendCellEtime>16:00</weekendCellEtime><weekendCellStime>09:00</weekendCellStime><weekendOprEtime>16:00</weekendOprEtime><weekendOprStime>09:00</weekendOprStime></item>,\n",
       " <item><breedCnt>6</breedCnt><careAddr>경기도 양주시 남면 감악산로 63-37 (남면) 한국동물구조관리협회</careAddr><careNm>한국동물구조관리협회</careNm><careTel>031-867-9119</careTel><closeDay>일요일+공휴일</closeDay><dataStdDt>2020-08-14</dataStdDt><divisionNm>법인</divisionNm><dsignationDate>2020-03-01</dsignationDate><feedCnt>1</feedCnt><jibunAddr>경기도 양주시 남면 상수리 410-1 한국동물구조관리협회</jibunAddr><lat>37.869894005</lat><lng>126.98311544</lng><medicalCnt>1</medicalCnt><orgNm>서울특별시 강서구</orgNm><quarabtineCnt>1</quarabtineCnt><rnum>1</rnum><saveTrgtAnimal>개+고양이+기타</saveTrgtAnimal><specsPersonCnt>8</specsPersonCnt><vetPersonCnt>1</vetPersonCnt><weekCellEtime>18:00</weekCellEtime><weekCellStime>09:00</weekCellStime><weekOprEtime>18:00</weekOprEtime><weekOprStime>09:00</weekOprStime><weekendCellEtime>16:00</weekendCellEtime><weekendCellStime>09:00</weekendCellStime><weekendOprEtime>16:00</weekendOprEtime><weekendOprStime>09:00</weekendOprStime></item>,\n",
       " <item><breedCnt>6</breedCnt><careAddr>경기도 양주시 남면 감악산로 63-37 (남면) </careAddr><careNm>한국동물구조관리협회</careNm><careTel>031-867-9119</careTel><closeDay>일요일+공휴일</closeDay><dataStdDt>2020-08-14</dataStdDt><divisionNm>법인</divisionNm><dsignationDate>2014-01-01</dsignationDate><feedCnt>1</feedCnt><jibunAddr> </jibunAddr><lat>37.870666189</lat><lng>126.983355051</lng><medicalCnt>1</medicalCnt><orgNm>서울특별시 금천구</orgNm><quarabtineCnt>1</quarabtineCnt><rnum>1</rnum><saveTrgtAnimal>개+고양이+기타</saveTrgtAnimal><specsPersonCnt>10</specsPersonCnt><vetPersonCnt>1</vetPersonCnt><weekCellEtime>18:00</weekCellEtime><weekCellStime>09:00</weekCellStime><weekOprEtime>18:00</weekOprEtime><weekOprStime>09:00</weekOprStime><weekendCellEtime>16:00</weekendCellEtime><weekendCellStime>09:00</weekendCellStime><weekendOprEtime>16:00</weekendOprEtime><weekendOprStime>09:00</weekendOprStime></item>,\n",
       " <item><breedCnt>6</breedCnt><careAddr>경기도 양주시 남면 감악산로 63-37 (남면) 한국동물구조관리협회</careAddr><careNm>한국동물구조관리협회</careNm><careTel>031-867-9119</careTel><closeDay>일요일+공휴일</closeDay><dataStdDt>2020-08-14</dataStdDt><divisionNm>법인</divisionNm><dsignationDate>2019-03-01</dsignationDate><feedCnt>1</feedCnt><jibunAddr>경기도 양주시 남면 상수리 410-1 한국동물구조관리협회</jibunAddr><lat>37.8701158122</lat><lng>126.9835430508</lng><medicalCnt>1</medicalCnt><orgNm>서울특별시 강남구</orgNm><quarabtineCnt>1</quarabtineCnt><rnum>1</rnum><saveTrgtAnimal>개+고양이+기타</saveTrgtAnimal><specsPersonCnt>8</specsPersonCnt><vetPersonCnt>1</vetPersonCnt><weekCellEtime>18:00</weekCellEtime><weekCellStime>09:00</weekCellStime><weekOprEtime>18:00</weekOprEtime><weekOprStime>09:00</weekOprStime><weekendCellEtime>16:00</weekendCellEtime><weekendCellStime>09:00</weekendCellStime><weekendOprEtime>16:00</weekendOprEtime><weekendOprStime>09:00</weekendOprStime></item>,\n",
       " <item><careAddr>경기도 양주시 남면 감악산로 63-37 (남면) </careAddr><careNm>한국동물구조관리협회</careNm><careTel>031-867-9119</careTel><closeDay>공휴일+일요일</closeDay><dataStdDt>2019-12-23</dataStdDt><divisionNm>법인</divisionNm><dsignationDate>2019-12-16</dsignationDate><jibunAddr>경기도 양주시 남면 상수리 410-1 </jibunAddr><lat>37.870198</lat><lng>126.983347</lng><orgNm>서울특별시 성동구</orgNm><rnum>1</rnum><saveTrgtAnimal>개+고양이+기타</saveTrgtAnimal><specsPersonCnt>8</specsPersonCnt><vetPersonCnt>1</vetPersonCnt><weekCellEtime>17:00</weekCellEtime><weekCellStime>09:00</weekCellStime><weekOprEtime>18:00</weekOprEtime><weekOprStime>09:00</weekOprStime><weekendCellEtime>16:00</weekendCellEtime><weekendCellStime>09:00</weekendCellStime><weekendOprEtime>17:00</weekendOprEtime><weekendOprStime>09:00</weekendOprStime></item>,\n",
       " <item><careAddr>경기도 양주시 남면 감악산로 63-37 (남면) </careAddr><careNm>한국동물구조관리협회</careNm><careTel>031-867-9119</careTel><closeDay>0</closeDay><dataStdDt>2019-12-24</dataStdDt><divisionNm>법인</divisionNm><dsignationDate>2014-03-01</dsignationDate><jibunAddr>경기도 양주시 남면 상수리 410-1 </jibunAddr><lat>37.869894005</lat><lng>126.98311544</lng><orgNm>서울특별시 광진구</orgNm><rnum>1</rnum><saveTrgtAnimal>개+고양이+기타</saveTrgtAnimal><specsPersonCnt>8</specsPersonCnt><vetPersonCnt>1</vetPersonCnt><weekCellEtime>:</weekCellEtime><weekCellStime>:</weekCellStime><weekOprEtime>23:00</weekOprEtime><weekOprStime>09:00</weekOprStime><weekendCellEtime>:</weekendCellEtime><weekendCellStime>:</weekendCellStime><weekendOprEtime>17:00</weekendOprEtime><weekendOprStime>09:00</weekendOprStime></item>,\n",
       " <item><careAddr>경기도 안산시 상록구 청곡길 50 (부곡동) (사)한국야생동물보호협회</careAddr><careNm>한국야생동물보호협회</careNm><careTel>031-296-0124</careTel><dataStdDt>2021-01-04</dataStdDt><divisionNm>법인</divisionNm><jibunAddr>경기도 안산시 상록구 부곡동 231-5 (사)한국야생동물보호협회</jibunAddr><orgNm>경기도 과천시</orgNm><rnum>1</rnum></item>,\n",
       " <item><breedCnt>5</breedCnt><careAddr>경기도 안산시 상록구 청곡길 50 (부곡동) 한국야생동물보호협회</careAddr><careNm>한국야생동물보호협회</careNm><careTel>031-296-0124</careTel><closeDay>일요일+공휴일</closeDay><dataStdDt>2021-04-08</dataStdDt><divisionNm>법인</divisionNm><dsignationDate>2019-01-07</dsignationDate><feedCnt>1</feedCnt><jibunAddr> 한국야생동물보호협회</jibunAddr><lat>37.340107739</lat><lng>126.869974021</lng><medicalCnt>1</medicalCnt><orgNm>경기도 광명시</orgNm><quarabtineCnt>2</quarabtineCnt><rnum>1</rnum><saveTrgtAnimal>개+고양이+기타</saveTrgtAnimal><specsPersonCnt>6</specsPersonCnt><transCarCnt>2</transCarCnt><vetPersonCnt>1</vetPersonCnt><weekCellEtime>17:00</weekCellEtime><weekCellStime>10:00</weekCellStime><weekOprEtime>18:00</weekOprEtime><weekOprStime>09:00</weekOprStime><weekendCellEtime>15:00</weekendCellEtime><weekendCellStime>10:00</weekendCellStime><weekendOprEtime>17:00</weekendOprEtime><weekendOprStime>09:00</weekendOprStime></item>,\n",
       " <item><careAddr>경기도 안산시 상록구 청곡길 50 (부곡동) </careAddr><careNm>한국야생동물보호협회</careNm><careTel>031-296-0124</careTel><divisionNm>단체</divisionNm><jibunAddr>경기도 안산시 상록구 부곡동 231-5 </jibunAddr><orgNm>경기도 군포시</orgNm><rnum>1</rnum></item>,\n",
       " <item><careAddr>경기도 안산시 상록구 청곡길 50 (부곡동) </careAddr><careNm>한국야생동물보호협회</careNm><careTel>031-296-0124</careTel><dataStdDt>2021-01-12</dataStdDt><divisionNm>법인</divisionNm><jibunAddr>경기도 안산시 상록구 부곡동 231-5 </jibunAddr><orgNm>경기도 의왕시</orgNm><rnum>1</rnum></item>,\n",
       " <item><careAddr>서울특별시 용산구 한남동 642-4</careAddr><careNm>한남동물병원</careNm><careTel>02-793-9230</careTel><dataStdDt>2021-06-11</dataStdDt><divisionNm>동물병원</divisionNm><jibunAddr> 642-4</jibunAddr><orgNm>서울특별시 용산구</orgNm><rnum>1</rnum></item>,\n",
       " <item><careAddr>서울특별시 성동구 금호산길 63-1 (금호동2가) </careAddr><careNm>한빛동물병원</careNm><careTel>02-2233-1848</careTel><dataStdDt>2020-10-05</dataStdDt><divisionNm>동물병원</divisionNm><jibunAddr>서울특별시 성동구 금호동2가 433 </jibunAddr><orgNm>서울특별시 성동구</orgNm><rnum>1</rnum></item>,\n",
       " <item><breedCnt>16</breedCnt><careAddr>경상남도 함양군 함양읍 함양남서로 996-76 (함양읍, 농업기술센터) </careAddr><careNm>함양군위탁보호소</careNm><careTel>055-960-8143</careTel><closeDay>토요일+일요일</closeDay><dataStdDt>2020-12-31</dataStdDt><divisionNm>단체</divisionNm><dsignationDate>2018-01-01</dsignationDate><feedCnt>0</feedCnt><jibunAddr> </jibunAddr><lat>35.507592843</lat><lng>127.741370753</lng><medicalCnt>0</medicalCnt><orgNm>경상남도 함양군</orgNm><quarabtineCnt>16</quarabtineCnt><rnum>1</rnum><saveTrgtAnimal>개</saveTrgtAnimal><specsPersonCnt>1</specsPersonCnt><transCarCnt>1</transCarCnt><vetPersonCnt>1</vetPersonCnt><weekCellEtime>18:00</weekCellEtime><weekCellStime>09:00</weekCellStime><weekOprEtime>18:00</weekOprEtime><weekOprStime>09:00</weekOprStime><weekendCellEtime>12:00</weekendCellEtime><weekendCellStime>09:00</weekendCellStime><weekendOprEtime>18:00</weekendOprEtime><weekendOprStime>09:00</weekendOprStime></item>,\n",
       " <item><careAddr>대구광역시 수성구 수성동2가 명덕로 421 (수성동2가) 허동물병원</careAddr><careNm>허동물병원</careNm><careTel>053-752-7535</careTel><closeDay>일요일</closeDay><dataStdDt>2020-12-18</dataStdDt><divisionNm>동물병원</divisionNm><dsignationDate>2018-01-30</dsignationDate><jibunAddr> 허동물병원</jibunAddr><lat>35.854639935</lat><lng>128.616327564</lng><orgNm>대구광역시 수성구</orgNm><rnum>1</rnum><saveTrgtAnimal>개+고양이+기타</saveTrgtAnimal><specsPersonCnt>3</specsPersonCnt><vetPersonCnt>1</vetPersonCnt><weekCellEtime>:</weekCellEtime><weekCellStime>:</weekCellStime><weekOprEtime>19:00</weekOprEtime><weekOprStime>09:00</weekOprStime><weekendCellEtime>:</weekendCellEtime><weekendCellStime>:</weekendCellStime><weekendOprEtime>:</weekendOprEtime><weekendOprStime>:</weekendOprStime></item>,\n",
       " <item><careAddr>서울특별시 마포구 독막로 45 (합정동) </careAddr><careNm>홍익동물병원</careNm><careTel>02-325-2026</careTel><closeDay>일요일+공휴일</closeDay><dataStdDt>2020-06-03</dataStdDt><divisionNm>동물병원</divisionNm><dsignationDate>2020-01-01</dsignationDate><jibunAddr>서울특별시 마포구 합정동 411-18 </jibunAddr><lat>37.548099112</lat><lng>126.918393548</lng><orgNm>서울특별시 마포구</orgNm><rnum>1</rnum><saveTrgtAnimal>개+고양이+토끼+기니피그+페럿+햄스터</saveTrgtAnimal><specsPersonCnt>1</specsPersonCnt><transCarCnt>1</transCarCnt><vetPersonCnt>1</vetPersonCnt><weekCellEtime>18:00</weekCellEtime><weekCellStime>10:30</weekCellStime><weekOprEtime>19:00</weekOprEtime><weekOprStime>09:30</weekOprStime><weekendCellEtime>17:00</weekendCellEtime><weekendCellStime>10:30</weekendCellStime><weekendOprEtime>18:00</weekendOprEtime><weekendOprStime>09:30</weekendOprStime></item>,\n",
       " <item><breedCnt>6</breedCnt><careAddr>강원도 홍천군 화촌면 둔덕이길 68 (화촌면, 홍천군유기동물보호센터) </careAddr><careNm>홍천군유기동물보호소</careNm><careTel>033-434-9435</careTel><closeDay>토요일+일요일</closeDay><dataStdDt>2019-12-23</dataStdDt><divisionNm>법인</divisionNm><dsignationDate>2013-12-21</dsignationDate><feedCnt>1</feedCnt><jibunAddr> </jibunAddr><lat>37.755090937</lat><lng>127.947470346</lng><medicalCnt>0</medicalCnt><orgNm>강원도 홍천군</orgNm><quarabtineCnt>1</quarabtineCnt><rnum>1</rnum><saveTrgtAnimal>개+고양이</saveTrgtAnimal><specsPersonCnt>3</specsPersonCnt><transCarCnt>1</transCarCnt><vetPersonCnt>0</vetPersonCnt><weekCellEtime>18:00</weekCellEtime><weekCellStime>09:00</weekCellStime><weekOprEtime>18:00</weekOprEtime><weekOprStime>09:00</weekOprStime><weekendCellEtime>18:00</weekendCellEtime><weekendCellStime>09:00</weekendCellStime><weekendOprEtime>18:00</weekendOprEtime><weekendOprStime>09:00</weekendOprStime></item>,\n",
       " <item><careAddr>전라남도 화순군 한천면 덕음로 115 (한천면) </careAddr><careNm>화순군유기동물보호소</careNm><careTel>010-4345-5580</careTel><dataStdDt>2020-06-09</dataStdDt><divisionNm>개인</divisionNm><jibunAddr> </jibunAddr><orgNm>전라남도 화순군</orgNm><rnum>1</rnum></item>,\n",
       " <item><careAddr>강원도 화천군 상서면 영서로 6387-9  화천군농업기술센터</careAddr><careNm>화천군농업기술센터</careNm><careTel>033-440-2941</careTel><dataStdDt>2021-04-28</dataStdDt><divisionNm>법인</divisionNm><jibunAddr>강원도 화천군 상서면 신풍리 809 화천군농업기술센터</jibunAddr><orgNm>강원도 화천군</orgNm><rnum>1</rnum></item>,\n",
       " <item><careAddr>서울특별시 용산구 효창동 70-11</careAddr><careNm>효창동물병원</careNm><careTel>02-711-4527</careTel><dataStdDt>2021-06-11</dataStdDt><divisionNm>동물병원</divisionNm><jibunAddr> 70-11</jibunAddr><orgNm>서울특별시 용산구</orgNm><rnum>1</rnum></item>]"
      ]
     },
     "execution_count": 2,
     "metadata": {},
     "output_type": "execute_result"
    }
   ],
   "source": [
    "%%time\n",
    "# 1. URL 파라미터 분리하기.\n",
    "# Service URL\n",
    "result_rows=[]\n",
    "\n",
    "xmlUrl = 'http://openapi.animal.go.kr/openapi/service/rest/animalShelterSrvc/shelterInfo'\n",
    "\n",
    "My_API_Key = unquote('xcg%2F8WIIEwWA7uDPAz2lS5x9KMparQfg1wdA5vIVDSR4j86lRyLPy2HIdFnFZt%2FJ0EkhWta650lriZhZyx8wzg%3D%3D')    # 아래 내가 받은 인증키가 안 되서 수업용 인증키 사용.\n",
    "# My_API_Key = unquote('xcg/8WIIEwWA7uDPAz2lS5x9KMparQfg1wdA5vIVDSR4j86lRyLPy2HIdFnFZt/J0EkhWta650lriZhZyx8wzg==')    # 사용자 인증키\n",
    "queryParams = '?' + urlencode(    # get 방식으로 쿼리를 분리하기 위해 '?'를 넣은 것이다. 메타코드 아님.\n",
    "    {\n",
    "        quote_plus('ServiceKey') : My_API_Key, # 필수 항목 1 : 서비스키 (본인의 서비스키)\n",
    "        quote_plus('numOfRows') : '1000'\n",
    "         \n",
    "\n",
    "    }\n",
    ")\n",
    "\n",
    "response = requests.get(xmlUrl + queryParams).text.encode('utf-8')\n",
    "xmlobj = bs4.BeautifulSoup(response, 'lxml-xml')\n",
    "\n",
    "\n",
    "\n",
    "rows = xmlobj.findAll('item')\n",
    "result_rows.extend(rows)\n",
    "result_rows"
   ]
  },
  {
   "cell_type": "code",
   "execution_count": 3,
   "metadata": {
    "scrolled": false
   },
   "outputs": [
    {
     "data": {
      "text/plain": [
       "([<breedCnt>16</breedCnt>,\n",
       "  <careAddr>경상남도 함양군 함양읍 함양남서로 996-76 (함양읍, 농업기술센터) </careAddr>,\n",
       "  <careNm>함양군위탁보호소</careNm>,\n",
       "  <careTel>055-960-8143</careTel>,\n",
       "  <closeDay>토요일+일요일</closeDay>,\n",
       "  <dataStdDt>2020-12-31</dataStdDt>,\n",
       "  <divisionNm>단체</divisionNm>,\n",
       "  <dsignationDate>2018-01-01</dsignationDate>,\n",
       "  <feedCnt>0</feedCnt>,\n",
       "  <jibunAddr> </jibunAddr>,\n",
       "  <lat>35.507592843</lat>,\n",
       "  <lng>127.741370753</lng>,\n",
       "  <medicalCnt>0</medicalCnt>,\n",
       "  <orgNm>경상남도 함양군</orgNm>,\n",
       "  <quarabtineCnt>16</quarabtineCnt>,\n",
       "  <rnum>1</rnum>,\n",
       "  <saveTrgtAnimal>개</saveTrgtAnimal>,\n",
       "  <specsPersonCnt>1</specsPersonCnt>,\n",
       "  <transCarCnt>1</transCarCnt>,\n",
       "  <vetPersonCnt>1</vetPersonCnt>,\n",
       "  <weekCellEtime>18:00</weekCellEtime>,\n",
       "  <weekCellStime>09:00</weekCellStime>,\n",
       "  <weekOprEtime>18:00</weekOprEtime>,\n",
       "  <weekOprStime>09:00</weekOprStime>,\n",
       "  <weekendCellEtime>12:00</weekendCellEtime>,\n",
       "  <weekendCellStime>09:00</weekendCellStime>,\n",
       "  <weekendOprEtime>18:00</weekendOprEtime>,\n",
       "  <weekendOprStime>09:00</weekendOprStime>],\n",
       " 28)"
      ]
     },
     "execution_count": 3,
     "metadata": {},
     "output_type": "execute_result"
    }
   ],
   "source": [
    "columns = result_rows[244].find_all()\n",
    "columns , len(columns)"
   ]
  },
  {
   "cell_type": "code",
   "execution_count": 4,
   "metadata": {},
   "outputs": [
    {
     "data": {
      "text/plain": [
       "['breedCnt',\n",
       " 'careAddr',\n",
       " 'careNm',\n",
       " 'careTel',\n",
       " 'closeDay',\n",
       " 'dataStdDt',\n",
       " 'divisionNm',\n",
       " 'dsignationDate',\n",
       " 'feedCnt',\n",
       " 'jibunAddr',\n",
       " 'lat',\n",
       " 'lng',\n",
       " 'medicalCnt',\n",
       " 'orgNm',\n",
       " 'quarabtineCnt',\n",
       " 'rnum',\n",
       " 'saveTrgtAnimal',\n",
       " 'specsPersonCnt',\n",
       " 'transCarCnt',\n",
       " 'vetPersonCnt',\n",
       " 'weekCellEtime',\n",
       " 'weekCellStime',\n",
       " 'weekOprEtime',\n",
       " 'weekOprStime',\n",
       " 'weekendCellEtime',\n",
       " 'weekendCellStime',\n",
       " 'weekendOprEtime',\n",
       " 'weekendOprStime']"
      ]
     },
     "execution_count": 4,
     "metadata": {},
     "output_type": "execute_result"
    }
   ],
   "source": [
    "columns = [i.name for i in  columns]\n",
    "columns"
   ]
  },
  {
   "cell_type": "code",
   "execution_count": 5,
   "metadata": {},
   "outputs": [
    {
     "data": {
      "text/plain": [
       "{'breedCnt': [],\n",
       " 'careAddr': [],\n",
       " 'careNm': [],\n",
       " 'careTel': [],\n",
       " 'closeDay': [],\n",
       " 'dataStdDt': [],\n",
       " 'divisionNm': [],\n",
       " 'dsignationDate': [],\n",
       " 'feedCnt': [],\n",
       " 'jibunAddr': [],\n",
       " 'lat': [],\n",
       " 'lng': [],\n",
       " 'medicalCnt': [],\n",
       " 'orgNm': [],\n",
       " 'quarabtineCnt': [],\n",
       " 'rnum': [],\n",
       " 'saveTrgtAnimal': [],\n",
       " 'specsPersonCnt': [],\n",
       " 'transCarCnt': [],\n",
       " 'vetPersonCnt': [],\n",
       " 'weekCellEtime': [],\n",
       " 'weekCellStime': [],\n",
       " 'weekOprEtime': [],\n",
       " 'weekOprStime': [],\n",
       " 'weekendCellEtime': [],\n",
       " 'weekendCellStime': [],\n",
       " 'weekendOprEtime': [],\n",
       " 'weekendOprStime': []}"
      ]
     },
     "execution_count": 5,
     "metadata": {},
     "output_type": "execute_result"
    }
   ],
   "source": [
    "D = {key : []  for key in columns}\n",
    "D"
   ]
  },
  {
   "cell_type": "code",
   "execution_count": 7,
   "metadata": {},
   "outputs": [
    {
     "data": {
      "text/plain": [
       "251"
      ]
     },
     "execution_count": 7,
     "metadata": {},
     "output_type": "execute_result"
    }
   ],
   "source": [
    "len(result_rows)"
   ]
  },
  {
   "cell_type": "code",
   "execution_count": 9,
   "metadata": {
    "scrolled": false
   },
   "outputs": [
    {
     "data": {
      "text/html": [
       "<div>\n",
       "<style scoped>\n",
       "    .dataframe tbody tr th:only-of-type {\n",
       "        vertical-align: middle;\n",
       "    }\n",
       "\n",
       "    .dataframe tbody tr th {\n",
       "        vertical-align: top;\n",
       "    }\n",
       "\n",
       "    .dataframe thead th {\n",
       "        text-align: right;\n",
       "    }\n",
       "</style>\n",
       "<table border=\"1\" class=\"dataframe\">\n",
       "  <thead>\n",
       "    <tr style=\"text-align: right;\">\n",
       "      <th></th>\n",
       "      <th>breedCnt</th>\n",
       "      <th>careAddr</th>\n",
       "      <th>careNm</th>\n",
       "      <th>careTel</th>\n",
       "      <th>closeDay</th>\n",
       "      <th>dataStdDt</th>\n",
       "      <th>divisionNm</th>\n",
       "      <th>dsignationDate</th>\n",
       "      <th>feedCnt</th>\n",
       "      <th>jibunAddr</th>\n",
       "      <th>...</th>\n",
       "      <th>transCarCnt</th>\n",
       "      <th>vetPersonCnt</th>\n",
       "      <th>weekCellEtime</th>\n",
       "      <th>weekCellStime</th>\n",
       "      <th>weekOprEtime</th>\n",
       "      <th>weekOprStime</th>\n",
       "      <th>weekendCellEtime</th>\n",
       "      <th>weekendCellStime</th>\n",
       "      <th>weekendOprEtime</th>\n",
       "      <th>weekendOprStime</th>\n",
       "    </tr>\n",
       "  </thead>\n",
       "  <tbody>\n",
       "    <tr>\n",
       "      <th>0</th>\n",
       "      <td>NaN</td>\n",
       "      <td>대구광역시 북구 호국로 229 (서변동) 6층</td>\n",
       "      <td>(사)대구수의사회</td>\n",
       "      <td>053-764-3708</td>\n",
       "      <td>0</td>\n",
       "      <td>2020-12-18</td>\n",
       "      <td>법인</td>\n",
       "      <td>2017-01-01</td>\n",
       "      <td>NaN</td>\n",
       "      <td>6층</td>\n",
       "      <td>...</td>\n",
       "      <td>NaN</td>\n",
       "      <td>0</td>\n",
       "      <td>:</td>\n",
       "      <td>:</td>\n",
       "      <td>24:00</td>\n",
       "      <td>00:00</td>\n",
       "      <td>:</td>\n",
       "      <td>:</td>\n",
       "      <td>:</td>\n",
       "      <td>:</td>\n",
       "    </tr>\n",
       "    <tr>\n",
       "      <th>1</th>\n",
       "      <td>NaN</td>\n",
       "      <td>부산광역시 강서구 제도로 726 (강동동)</td>\n",
       "      <td>(사)하얀비둘기</td>\n",
       "      <td>051-293-9779</td>\n",
       "      <td>NaN</td>\n",
       "      <td>2021-01-05</td>\n",
       "      <td>법인</td>\n",
       "      <td>NaN</td>\n",
       "      <td>NaN</td>\n",
       "      <td>부산광역시 강서구 강동동 3223-7</td>\n",
       "      <td>...</td>\n",
       "      <td>NaN</td>\n",
       "      <td>NaN</td>\n",
       "      <td>NaN</td>\n",
       "      <td>NaN</td>\n",
       "      <td>NaN</td>\n",
       "      <td>NaN</td>\n",
       "      <td>NaN</td>\n",
       "      <td>NaN</td>\n",
       "      <td>NaN</td>\n",
       "      <td>NaN</td>\n",
       "    </tr>\n",
       "    <tr>\n",
       "      <th>2</th>\n",
       "      <td>NaN</td>\n",
       "      <td>서울특별시 용산구 보광동 259-1</td>\n",
       "      <td>21세기동물병원</td>\n",
       "      <td>02-749-6750</td>\n",
       "      <td>NaN</td>\n",
       "      <td>2021-06-11</td>\n",
       "      <td>동물병원</td>\n",
       "      <td>NaN</td>\n",
       "      <td>NaN</td>\n",
       "      <td>259-1</td>\n",
       "      <td>...</td>\n",
       "      <td>NaN</td>\n",
       "      <td>NaN</td>\n",
       "      <td>NaN</td>\n",
       "      <td>NaN</td>\n",
       "      <td>NaN</td>\n",
       "      <td>NaN</td>\n",
       "      <td>NaN</td>\n",
       "      <td>NaN</td>\n",
       "      <td>NaN</td>\n",
       "      <td>NaN</td>\n",
       "    </tr>\n",
       "    <tr>\n",
       "      <th>3</th>\n",
       "      <td>NaN</td>\n",
       "      <td>경기도 부천시 오정구 원종동 229-8</td>\n",
       "      <td>24시아이동물메디컬</td>\n",
       "      <td>032-677-5262</td>\n",
       "      <td>NaN</td>\n",
       "      <td>2015-02-23</td>\n",
       "      <td>동물병원</td>\n",
       "      <td>NaN</td>\n",
       "      <td>NaN</td>\n",
       "      <td></td>\n",
       "      <td>...</td>\n",
       "      <td>NaN</td>\n",
       "      <td>NaN</td>\n",
       "      <td>NaN</td>\n",
       "      <td>NaN</td>\n",
       "      <td>NaN</td>\n",
       "      <td>NaN</td>\n",
       "      <td>NaN</td>\n",
       "      <td>NaN</td>\n",
       "      <td>NaN</td>\n",
       "      <td>NaN</td>\n",
       "    </tr>\n",
       "    <tr>\n",
       "      <th>4</th>\n",
       "      <td>NaN</td>\n",
       "      <td>서울특별시 마포구 만리재로 74 (신공덕동, 신공덕2차삼성래미안) 삼성 래미안상가 ...</td>\n",
       "      <td>C.T종합동물병원</td>\n",
       "      <td>02-6375-0075</td>\n",
       "      <td>일요일+공휴일</td>\n",
       "      <td>2020-06-03</td>\n",
       "      <td>동물병원</td>\n",
       "      <td>2020-01-01</td>\n",
       "      <td>NaN</td>\n",
       "      <td>서울특별시 마포구 신공덕동 160 삼성 래미안상가 117호</td>\n",
       "      <td>...</td>\n",
       "      <td>NaN</td>\n",
       "      <td>1</td>\n",
       "      <td>19:00</td>\n",
       "      <td>10:00</td>\n",
       "      <td>19:30</td>\n",
       "      <td>09:30</td>\n",
       "      <td>15:00</td>\n",
       "      <td>10:00</td>\n",
       "      <td>16:00</td>\n",
       "      <td>09:30</td>\n",
       "    </tr>\n",
       "  </tbody>\n",
       "</table>\n",
       "<p>5 rows × 28 columns</p>\n",
       "</div>"
      ],
      "text/plain": [
       "  breedCnt                                           careAddr      careNm  \\\n",
       "0      NaN                          대구광역시 북구 호국로 229 (서변동) 6층   (사)대구수의사회   \n",
       "1      NaN                           부산광역시 강서구 제도로 726 (강동동)     (사)하얀비둘기   \n",
       "2      NaN                                서울특별시 용산구 보광동 259-1    21세기동물병원   \n",
       "3      NaN                              경기도 부천시 오정구 원종동 229-8  24시아이동물메디컬   \n",
       "4      NaN  서울특별시 마포구 만리재로 74 (신공덕동, 신공덕2차삼성래미안) 삼성 래미안상가 ...   C.T종합동물병원   \n",
       "\n",
       "        careTel closeDay   dataStdDt divisionNm dsignationDate feedCnt  \\\n",
       "0  053-764-3708        0  2020-12-18         법인     2017-01-01     NaN   \n",
       "1  051-293-9779      NaN  2021-01-05         법인            NaN     NaN   \n",
       "2   02-749-6750      NaN  2021-06-11       동물병원            NaN     NaN   \n",
       "3  032-677-5262      NaN  2015-02-23       동물병원            NaN     NaN   \n",
       "4  02-6375-0075  일요일+공휴일  2020-06-03       동물병원     2020-01-01     NaN   \n",
       "\n",
       "                          jibunAddr  ... transCarCnt vetPersonCnt  \\\n",
       "0                                6층  ...         NaN            0   \n",
       "1             부산광역시 강서구 강동동 3223-7   ...         NaN          NaN   \n",
       "2                             259-1  ...         NaN          NaN   \n",
       "3                                    ...         NaN          NaN   \n",
       "4  서울특별시 마포구 신공덕동 160 삼성 래미안상가 117호  ...         NaN            1   \n",
       "\n",
       "  weekCellEtime weekCellStime weekOprEtime weekOprStime weekendCellEtime  \\\n",
       "0             :             :        24:00        00:00                :   \n",
       "1           NaN           NaN          NaN          NaN              NaN   \n",
       "2           NaN           NaN          NaN          NaN              NaN   \n",
       "3           NaN           NaN          NaN          NaN              NaN   \n",
       "4         19:00         10:00        19:30        09:30            15:00   \n",
       "\n",
       "  weekendCellStime weekendOprEtime weekendOprStime  \n",
       "0                :               :               :  \n",
       "1              NaN             NaN             NaN  \n",
       "2              NaN             NaN             NaN  \n",
       "3              NaN             NaN             NaN  \n",
       "4            10:00           16:00           09:30  \n",
       "\n",
       "[5 rows x 28 columns]"
      ]
     },
     "execution_count": 9,
     "metadata": {},
     "output_type": "execute_result"
    }
   ],
   "source": [
    "import numpy as np\n",
    "D = {key : []  for key in columns}\n",
    "for r in result_rows :\n",
    "    rows = r.find_all()\n",
    "    r_cols = [i.name for i in rows]\n",
    "    row = {key : np.nan for key in columns}\n",
    "    for i  in range(len(rows)) : \n",
    "        row[r_cols[i]] = rows[i].text\n",
    "    for k ,v in row.items() :\n",
    "        D[k].append(v)\n",
    "result = pd.DataFrame(data = D)\n",
    "result.head()"
   ]
  },
  {
   "cell_type": "code",
   "execution_count": 10,
   "metadata": {
    "scrolled": true
   },
   "outputs": [
    {
     "data": {
      "text/plain": [
       "breedCnt            178\n",
       "careAddr              0\n",
       "careNm                0\n",
       "careTel               0\n",
       "closeDay            103\n",
       "dataStdDt            21\n",
       "divisionNm            0\n",
       "dsignationDate      103\n",
       "feedCnt             178\n",
       "jibunAddr             0\n",
       "lat                 100\n",
       "lng                 100\n",
       "medicalCnt          179\n",
       "orgNm                 0\n",
       "quarabtineCnt       180\n",
       "rnum                  0\n",
       "saveTrgtAnimal      103\n",
       "specsPersonCnt      103\n",
       "transCarCnt         189\n",
       "vetPersonCnt        103\n",
       "weekCellEtime       103\n",
       "weekCellStime       103\n",
       "weekOprEtime        103\n",
       "weekOprStime        103\n",
       "weekendCellEtime    103\n",
       "weekendCellStime    103\n",
       "weekendOprEtime     103\n",
       "weekendOprStime     103\n",
       "dtype: int64"
      ]
     },
     "execution_count": 10,
     "metadata": {},
     "output_type": "execute_result"
    }
   ],
   "source": [
    "result.isna().sum()"
   ]
  },
  {
   "cell_type": "code",
   "execution_count": 11,
   "metadata": {},
   "outputs": [
    {
     "data": {
      "text/plain": [
       "법인      107\n",
       "동물병원     99\n",
       "단체       24\n",
       "개인       21\n",
       "Name: divisionNm, dtype: int64"
      ]
     },
     "execution_count": 11,
     "metadata": {},
     "output_type": "execute_result"
    }
   ],
   "source": [
    "result['divisionNm'].value_counts()"
   ]
  },
  {
   "cell_type": "code",
   "execution_count": null,
   "metadata": {},
   "outputs": [],
   "source": []
  },
  {
   "cell_type": "code",
   "execution_count": 93,
   "metadata": {
    "scrolled": true
   },
   "outputs": [
    {
     "data": {
      "text/plain": [
       "(251, 28)"
      ]
     },
     "execution_count": 93,
     "metadata": {},
     "output_type": "execute_result"
    }
   ],
   "source": [
    "result.shape"
   ]
  },
  {
   "cell_type": "code",
   "execution_count": 94,
   "metadata": {},
   "outputs": [],
   "source": [
    "result.to_csv('df_center.csv')"
   ]
  },
  {
   "cell_type": "code",
   "execution_count": 74,
   "metadata": {},
   "outputs": [
    {
     "name": "stderr",
     "output_type": "stream",
     "text": [
      "C:\\Users\\admin\\anaconda3\\lib\\site-packages\\ipykernel_launcher.py:3: SettingWithCopyWarning:\n",
      "\n",
      "\n",
      "A value is trying to be set on a copy of a slice from a DataFrame.\n",
      "Try using .loc[row_indexer,col_indexer] = value instead\n",
      "\n",
      "See the caveats in the documentation: https://pandas.pydata.org/pandas-docs/stable/user_guide/indexing.html#returning-a-view-versus-a-copy\n",
      "\n",
      "C:\\Users\\admin\\anaconda3\\lib\\site-packages\\ipykernel_launcher.py:4: SettingWithCopyWarning:\n",
      "\n",
      "\n",
      "A value is trying to be set on a copy of a slice from a DataFrame.\n",
      "Try using .loc[row_indexer,col_indexer] = value instead\n",
      "\n",
      "See the caveats in the documentation: https://pandas.pydata.org/pandas-docs/stable/user_guide/indexing.html#returning-a-view-versus-a-copy\n",
      "\n"
     ]
    },
    {
     "data": {
      "text/html": [
       "<div>\n",
       "<style scoped>\n",
       "    .dataframe tbody tr th:only-of-type {\n",
       "        vertical-align: middle;\n",
       "    }\n",
       "\n",
       "    .dataframe tbody tr th {\n",
       "        vertical-align: top;\n",
       "    }\n",
       "\n",
       "    .dataframe thead th {\n",
       "        text-align: right;\n",
       "    }\n",
       "</style>\n",
       "<table border=\"1\" class=\"dataframe\">\n",
       "  <thead>\n",
       "    <tr style=\"text-align: right;\">\n",
       "      <th></th>\n",
       "      <th>careAddr</th>\n",
       "      <th>careNm</th>\n",
       "      <th>divisionNm</th>\n",
       "      <th>jibunAddr</th>\n",
       "      <th>lat</th>\n",
       "      <th>lng</th>\n",
       "      <th>orgNm</th>\n",
       "      <th>careAddr_0</th>\n",
       "      <th>careAddr_1</th>\n",
       "    </tr>\n",
       "  </thead>\n",
       "  <tbody>\n",
       "    <tr>\n",
       "      <th>0</th>\n",
       "      <td>대구광역시 북구 호국로 229 (서변동) 6층</td>\n",
       "      <td>(사)대구수의사회</td>\n",
       "      <td>법인</td>\n",
       "      <td>6층</td>\n",
       "      <td>35.922355665</td>\n",
       "      <td>128.599034473</td>\n",
       "      <td>대구광역시 수성구</td>\n",
       "      <td>대구광역시</td>\n",
       "      <td>대구광역시 북구</td>\n",
       "    </tr>\n",
       "    <tr>\n",
       "      <th>1</th>\n",
       "      <td>부산광역시 강서구 제도로 726 (강동동)</td>\n",
       "      <td>(사)하얀비둘기</td>\n",
       "      <td>법인</td>\n",
       "      <td>부산광역시 강서구 강동동 3223-7</td>\n",
       "      <td>NaN</td>\n",
       "      <td>NaN</td>\n",
       "      <td>부산광역시 사하구</td>\n",
       "      <td>부산광역시</td>\n",
       "      <td>부산광역시 강서구</td>\n",
       "    </tr>\n",
       "    <tr>\n",
       "      <th>2</th>\n",
       "      <td>서울특별시 용산구 보광동 259-1</td>\n",
       "      <td>21세기동물병원</td>\n",
       "      <td>동물병원</td>\n",
       "      <td>259-1</td>\n",
       "      <td>NaN</td>\n",
       "      <td>NaN</td>\n",
       "      <td>서울특별시 용산구</td>\n",
       "      <td>서울특별시</td>\n",
       "      <td>서울특별시 용산구</td>\n",
       "    </tr>\n",
       "    <tr>\n",
       "      <th>3</th>\n",
       "      <td>경기도 부천시 오정구 원종동 229-8</td>\n",
       "      <td>24시아이동물메디컬</td>\n",
       "      <td>동물병원</td>\n",
       "      <td></td>\n",
       "      <td>NaN</td>\n",
       "      <td>NaN</td>\n",
       "      <td>경기도 부천시</td>\n",
       "      <td>경기도</td>\n",
       "      <td>경기도 부천시</td>\n",
       "    </tr>\n",
       "    <tr>\n",
       "      <th>4</th>\n",
       "      <td>서울특별시 마포구 만리재로 74 (신공덕동, 신공덕2차삼성래미안) 삼성 래미안상가 ...</td>\n",
       "      <td>C.T종합동물병원</td>\n",
       "      <td>동물병원</td>\n",
       "      <td>서울특별시 마포구 신공덕동 160 삼성 래미안상가 117호</td>\n",
       "      <td>37.546859734</td>\n",
       "      <td>126.958384698</td>\n",
       "      <td>서울특별시 마포구</td>\n",
       "      <td>서울특별시</td>\n",
       "      <td>서울특별시 마포구</td>\n",
       "    </tr>\n",
       "    <tr>\n",
       "      <th>...</th>\n",
       "      <td>...</td>\n",
       "      <td>...</td>\n",
       "      <td>...</td>\n",
       "      <td>...</td>\n",
       "      <td>...</td>\n",
       "      <td>...</td>\n",
       "      <td>...</td>\n",
       "      <td>...</td>\n",
       "      <td>...</td>\n",
       "    </tr>\n",
       "    <tr>\n",
       "      <th>246</th>\n",
       "      <td>서울특별시 마포구 독막로 45 (합정동)</td>\n",
       "      <td>홍익동물병원</td>\n",
       "      <td>동물병원</td>\n",
       "      <td>서울특별시 마포구 합정동 411-18</td>\n",
       "      <td>37.548099112</td>\n",
       "      <td>126.918393548</td>\n",
       "      <td>서울특별시 마포구</td>\n",
       "      <td>서울특별시</td>\n",
       "      <td>서울특별시 마포구</td>\n",
       "    </tr>\n",
       "    <tr>\n",
       "      <th>247</th>\n",
       "      <td>강원도 홍천군 화촌면 둔덕이길 68 (화촌면, 홍천군유기동물보호센터)</td>\n",
       "      <td>홍천군유기동물보호소</td>\n",
       "      <td>법인</td>\n",
       "      <td></td>\n",
       "      <td>37.755090937</td>\n",
       "      <td>127.947470346</td>\n",
       "      <td>강원도 홍천군</td>\n",
       "      <td>강원도</td>\n",
       "      <td>강원도 홍천군</td>\n",
       "    </tr>\n",
       "    <tr>\n",
       "      <th>248</th>\n",
       "      <td>전라남도 화순군 한천면 덕음로 115 (한천면)</td>\n",
       "      <td>화순군유기동물보호소</td>\n",
       "      <td>개인</td>\n",
       "      <td></td>\n",
       "      <td>NaN</td>\n",
       "      <td>NaN</td>\n",
       "      <td>전라남도 화순군</td>\n",
       "      <td>전라남도</td>\n",
       "      <td>전라남도 화순군</td>\n",
       "    </tr>\n",
       "    <tr>\n",
       "      <th>249</th>\n",
       "      <td>강원도 화천군 상서면 영서로 6387-9  화천군농업기술센터</td>\n",
       "      <td>화천군농업기술센터</td>\n",
       "      <td>법인</td>\n",
       "      <td>강원도 화천군 상서면 신풍리 809 화천군농업기술센터</td>\n",
       "      <td>NaN</td>\n",
       "      <td>NaN</td>\n",
       "      <td>강원도 화천군</td>\n",
       "      <td>강원도</td>\n",
       "      <td>강원도 화천군</td>\n",
       "    </tr>\n",
       "    <tr>\n",
       "      <th>250</th>\n",
       "      <td>서울특별시 용산구 효창동 70-11</td>\n",
       "      <td>효창동물병원</td>\n",
       "      <td>동물병원</td>\n",
       "      <td>70-11</td>\n",
       "      <td>NaN</td>\n",
       "      <td>NaN</td>\n",
       "      <td>서울특별시 용산구</td>\n",
       "      <td>서울특별시</td>\n",
       "      <td>서울특별시 용산구</td>\n",
       "    </tr>\n",
       "  </tbody>\n",
       "</table>\n",
       "<p>251 rows × 9 columns</p>\n",
       "</div>"
      ],
      "text/plain": [
       "                                              careAddr      careNm divisionNm  \\\n",
       "0                            대구광역시 북구 호국로 229 (서변동) 6층   (사)대구수의사회         법인   \n",
       "1                             부산광역시 강서구 제도로 726 (강동동)     (사)하얀비둘기         법인   \n",
       "2                                  서울특별시 용산구 보광동 259-1    21세기동물병원       동물병원   \n",
       "3                                경기도 부천시 오정구 원종동 229-8  24시아이동물메디컬       동물병원   \n",
       "4    서울특별시 마포구 만리재로 74 (신공덕동, 신공덕2차삼성래미안) 삼성 래미안상가 ...   C.T종합동물병원       동물병원   \n",
       "..                                                 ...         ...        ...   \n",
       "246                            서울특별시 마포구 독막로 45 (합정동)       홍익동물병원       동물병원   \n",
       "247            강원도 홍천군 화촌면 둔덕이길 68 (화촌면, 홍천군유기동물보호센터)   홍천군유기동물보호소         법인   \n",
       "248                        전라남도 화순군 한천면 덕음로 115 (한천면)   화순군유기동물보호소         개인   \n",
       "249                  강원도 화천군 상서면 영서로 6387-9  화천군농업기술센터   화천군농업기술센터         법인   \n",
       "250                                서울특별시 용산구 효창동 70-11      효창동물병원       동물병원   \n",
       "\n",
       "                            jibunAddr           lat            lng      orgNm  \\\n",
       "0                                  6층  35.922355665  128.599034473  대구광역시 수성구   \n",
       "1               부산광역시 강서구 강동동 3223-7            NaN            NaN  부산광역시 사하구   \n",
       "2                               259-1           NaN            NaN  서울특별시 용산구   \n",
       "3                                               NaN            NaN    경기도 부천시   \n",
       "4    서울특별시 마포구 신공덕동 160 삼성 래미안상가 117호  37.546859734  126.958384698  서울특별시 마포구   \n",
       "..                                ...           ...            ...        ...   \n",
       "246             서울특별시 마포구 합정동 411-18   37.548099112  126.918393548  서울특별시 마포구   \n",
       "247                                    37.755090937  127.947470346    강원도 홍천군   \n",
       "248                                             NaN            NaN   전라남도 화순군   \n",
       "249     강원도 화천군 상서면 신풍리 809 화천군농업기술센터           NaN            NaN    강원도 화천군   \n",
       "250                             70-11           NaN            NaN  서울특별시 용산구   \n",
       "\n",
       "    careAddr_0 careAddr_1  \n",
       "0        대구광역시   대구광역시 북구  \n",
       "1        부산광역시  부산광역시 강서구  \n",
       "2        서울특별시  서울특별시 용산구  \n",
       "3          경기도    경기도 부천시  \n",
       "4        서울특별시  서울특별시 마포구  \n",
       "..         ...        ...  \n",
       "246      서울특별시  서울특별시 마포구  \n",
       "247        강원도    강원도 홍천군  \n",
       "248       전라남도   전라남도 화순군  \n",
       "249        강원도    강원도 화천군  \n",
       "250      서울특별시  서울특별시 용산구  \n",
       "\n",
       "[251 rows x 9 columns]"
      ]
     },
     "execution_count": 74,
     "metadata": {},
     "output_type": "execute_result"
    }
   ],
   "source": [
    "feature = ['careAddr', 'careNm', 'divisionNm' , 'jibunAddr', 'lat', 'lng', 'orgNm']\n",
    "df_center = result[feature]\n",
    "df_center['careAddr_0'] =  df_center['careAddr'].apply(lambda x : x.split()[0])\n",
    "df_center['careAddr_1'] = df_center['careAddr'].apply(lambda x : ' '.join(x.split()[:2]))\n",
    "df_center['careAddr_1']\n",
    "df_center"
   ]
  },
  {
   "cell_type": "code",
   "execution_count": 75,
   "metadata": {},
   "outputs": [],
   "source": [
    "df_code = pd.read_csv(\"code.txt\", sep = '\\t', encoding = 'cp949') \n",
    "df_code['법정동코드'] = df_code['법정동코드'].apply(lambda x : x//100000 if x%100000 == 0 else 0) \n",
    "# df_code['법정동코드'] = df_code['법정동코드'].apply(lambda x : x//100000) \n",
    "# df_code =df_code.loc[df_code['폐지여부'] == '존재']\n",
    "df_code = df_code.rename(columns = {'법정동코드' : 'CODE'})\n",
    "df_code = df_code.drop(columns = '폐지여부')\n"
   ]
  },
  {
   "cell_type": "code",
   "execution_count": 76,
   "metadata": {},
   "outputs": [],
   "source": [
    "df_center_c = df_center[['careAddr','careAddr_1']].groupby(['careAddr_1']).count().reset_index()"
   ]
  },
  {
   "cell_type": "code",
   "execution_count": 77,
   "metadata": {
    "scrolled": true
   },
   "outputs": [
    {
     "data": {
      "text/html": [
       "<div>\n",
       "<style scoped>\n",
       "    .dataframe tbody tr th:only-of-type {\n",
       "        vertical-align: middle;\n",
       "    }\n",
       "\n",
       "    .dataframe tbody tr th {\n",
       "        vertical-align: top;\n",
       "    }\n",
       "\n",
       "    .dataframe thead th {\n",
       "        text-align: right;\n",
       "    }\n",
       "</style>\n",
       "<table border=\"1\" class=\"dataframe\">\n",
       "  <thead>\n",
       "    <tr style=\"text-align: right;\">\n",
       "      <th></th>\n",
       "      <th>careAddr_1</th>\n",
       "      <th>careAddr</th>\n",
       "      <th>CODE</th>\n",
       "      <th>법정동명</th>\n",
       "    </tr>\n",
       "  </thead>\n",
       "  <tbody>\n",
       "    <tr>\n",
       "      <th>0</th>\n",
       "      <td>강원도 강릉시</td>\n",
       "      <td>1</td>\n",
       "      <td>42150</td>\n",
       "      <td>강원도 강릉시</td>\n",
       "    </tr>\n",
       "    <tr>\n",
       "      <th>1</th>\n",
       "      <td>강원도 고성군</td>\n",
       "      <td>1</td>\n",
       "      <td>42820</td>\n",
       "      <td>강원도 고성군</td>\n",
       "    </tr>\n",
       "    <tr>\n",
       "      <th>2</th>\n",
       "      <td>강원도 동해시</td>\n",
       "      <td>1</td>\n",
       "      <td>42170</td>\n",
       "      <td>강원도 동해시</td>\n",
       "    </tr>\n",
       "    <tr>\n",
       "      <th>3</th>\n",
       "      <td>강원도 삼척시</td>\n",
       "      <td>1</td>\n",
       "      <td>42230</td>\n",
       "      <td>강원도 삼척시</td>\n",
       "    </tr>\n",
       "    <tr>\n",
       "      <th>4</th>\n",
       "      <td>강원도 속초시</td>\n",
       "      <td>1</td>\n",
       "      <td>42210</td>\n",
       "      <td>강원도 속초시</td>\n",
       "    </tr>\n",
       "    <tr>\n",
       "      <th>...</th>\n",
       "      <td>...</td>\n",
       "      <td>...</td>\n",
       "      <td>...</td>\n",
       "      <td>...</td>\n",
       "    </tr>\n",
       "    <tr>\n",
       "      <th>125</th>\n",
       "      <td>충청북도 영동군</td>\n",
       "      <td>1</td>\n",
       "      <td>43740</td>\n",
       "      <td>충청북도 영동군</td>\n",
       "    </tr>\n",
       "    <tr>\n",
       "      <th>126</th>\n",
       "      <td>충청북도 옥천군</td>\n",
       "      <td>1</td>\n",
       "      <td>43730</td>\n",
       "      <td>충청북도 옥천군</td>\n",
       "    </tr>\n",
       "    <tr>\n",
       "      <th>127</th>\n",
       "      <td>충청북도 제천시</td>\n",
       "      <td>1</td>\n",
       "      <td>43150</td>\n",
       "      <td>충청북도 제천시</td>\n",
       "    </tr>\n",
       "    <tr>\n",
       "      <th>128</th>\n",
       "      <td>충청북도 증평군</td>\n",
       "      <td>1</td>\n",
       "      <td>43745</td>\n",
       "      <td>충청북도 증평군</td>\n",
       "    </tr>\n",
       "    <tr>\n",
       "      <th>129</th>\n",
       "      <td>충청북도 청주시</td>\n",
       "      <td>1</td>\n",
       "      <td>43110</td>\n",
       "      <td>충청북도 청주시</td>\n",
       "    </tr>\n",
       "  </tbody>\n",
       "</table>\n",
       "<p>130 rows × 4 columns</p>\n",
       "</div>"
      ],
      "text/plain": [
       "    careAddr_1  careAddr   CODE      법정동명\n",
       "0      강원도 강릉시         1  42150   강원도 강릉시\n",
       "1      강원도 고성군         1  42820   강원도 고성군\n",
       "2      강원도 동해시         1  42170   강원도 동해시\n",
       "3      강원도 삼척시         1  42230   강원도 삼척시\n",
       "4      강원도 속초시         1  42210   강원도 속초시\n",
       "..         ...       ...    ...       ...\n",
       "125   충청북도 영동군         1  43740  충청북도 영동군\n",
       "126   충청북도 옥천군         1  43730  충청북도 옥천군\n",
       "127   충청북도 제천시         1  43150  충청북도 제천시\n",
       "128   충청북도 증평군         1  43745  충청북도 증평군\n",
       "129   충청북도 청주시         1  43110  충청북도 청주시\n",
       "\n",
       "[130 rows x 4 columns]"
      ]
     },
     "execution_count": 77,
     "metadata": {},
     "output_type": "execute_result"
    }
   ],
   "source": [
    "df_merge_center = pd.merge(left = df_center_c,\n",
    "                    right= df_code, left_on = 'careAddr_1', right_on = '법정동명', how = 'inner')\n",
    "df_merge_center"
   ]
  },
  {
   "cell_type": "code",
   "execution_count": 78,
   "metadata": {
    "scrolled": true
   },
   "outputs": [
    {
     "data": {
      "text/html": [
       "<div>\n",
       "<style scoped>\n",
       "    .dataframe tbody tr th:only-of-type {\n",
       "        vertical-align: middle;\n",
       "    }\n",
       "\n",
       "    .dataframe tbody tr th {\n",
       "        vertical-align: top;\n",
       "    }\n",
       "\n",
       "    .dataframe thead th {\n",
       "        text-align: right;\n",
       "    }\n",
       "</style>\n",
       "<table border=\"1\" class=\"dataframe\">\n",
       "  <thead>\n",
       "    <tr style=\"text-align: right;\">\n",
       "      <th></th>\n",
       "      <th>Unnamed: 0</th>\n",
       "      <th>CODE</th>\n",
       "      <th>NAME</th>\n",
       "      <th>X</th>\n",
       "      <th>Y</th>\n",
       "      <th>careAddr_1</th>\n",
       "      <th>careAddr</th>\n",
       "      <th>법정동명</th>\n",
       "    </tr>\n",
       "  </thead>\n",
       "  <tbody>\n",
       "    <tr>\n",
       "      <th>0</th>\n",
       "      <td>2</td>\n",
       "      <td>11170</td>\n",
       "      <td>용산구</td>\n",
       "      <td>126.9815</td>\n",
       "      <td>37.5315</td>\n",
       "      <td>서울특별시 용산구</td>\n",
       "      <td>13</td>\n",
       "      <td>서울특별시 용산구</td>\n",
       "    </tr>\n",
       "    <tr>\n",
       "      <th>1</th>\n",
       "      <td>3</td>\n",
       "      <td>11200</td>\n",
       "      <td>성동구</td>\n",
       "      <td>127.0415</td>\n",
       "      <td>37.5505</td>\n",
       "      <td>서울특별시 성동구</td>\n",
       "      <td>1</td>\n",
       "      <td>서울특별시 성동구</td>\n",
       "    </tr>\n",
       "    <tr>\n",
       "      <th>2</th>\n",
       "      <td>9</td>\n",
       "      <td>11320</td>\n",
       "      <td>도봉구</td>\n",
       "      <td>127.0320</td>\n",
       "      <td>37.6665</td>\n",
       "      <td>서울특별시 도봉구</td>\n",
       "      <td>2</td>\n",
       "      <td>서울특별시 도봉구</td>\n",
       "    </tr>\n",
       "    <tr>\n",
       "      <th>3</th>\n",
       "      <td>10</td>\n",
       "      <td>11350</td>\n",
       "      <td>노원구</td>\n",
       "      <td>127.0770</td>\n",
       "      <td>37.6550</td>\n",
       "      <td>서울특별시 노원구</td>\n",
       "      <td>1</td>\n",
       "      <td>서울특별시 노원구</td>\n",
       "    </tr>\n",
       "    <tr>\n",
       "      <th>4</th>\n",
       "      <td>13</td>\n",
       "      <td>11440</td>\n",
       "      <td>마포구</td>\n",
       "      <td>126.9090</td>\n",
       "      <td>37.5625</td>\n",
       "      <td>서울특별시 마포구</td>\n",
       "      <td>10</td>\n",
       "      <td>서울특별시 마포구</td>\n",
       "    </tr>\n",
       "    <tr>\n",
       "      <th>...</th>\n",
       "      <td>...</td>\n",
       "      <td>...</td>\n",
       "      <td>...</td>\n",
       "      <td>...</td>\n",
       "      <td>...</td>\n",
       "      <td>...</td>\n",
       "      <td>...</td>\n",
       "      <td>...</td>\n",
       "    </tr>\n",
       "    <tr>\n",
       "      <th>111</th>\n",
       "      <td>241</td>\n",
       "      <td>48820</td>\n",
       "      <td>고성군</td>\n",
       "      <td>128.2225</td>\n",
       "      <td>34.9285</td>\n",
       "      <td>경상남도 고성군</td>\n",
       "      <td>1</td>\n",
       "      <td>경상남도 고성군</td>\n",
       "    </tr>\n",
       "    <tr>\n",
       "      <th>112</th>\n",
       "      <td>243</td>\n",
       "      <td>48850</td>\n",
       "      <td>하동군</td>\n",
       "      <td>127.8315</td>\n",
       "      <td>34.9360</td>\n",
       "      <td>경상남도 하동군</td>\n",
       "      <td>1</td>\n",
       "      <td>경상남도 하동군</td>\n",
       "    </tr>\n",
       "    <tr>\n",
       "      <th>113</th>\n",
       "      <td>244</td>\n",
       "      <td>48860</td>\n",
       "      <td>산청군</td>\n",
       "      <td>127.9015</td>\n",
       "      <td>35.3975</td>\n",
       "      <td>경상남도 산청군</td>\n",
       "      <td>1</td>\n",
       "      <td>경상남도 산청군</td>\n",
       "    </tr>\n",
       "    <tr>\n",
       "      <th>114</th>\n",
       "      <td>245</td>\n",
       "      <td>48870</td>\n",
       "      <td>함양군</td>\n",
       "      <td>127.7315</td>\n",
       "      <td>35.5435</td>\n",
       "      <td>경상남도 함양군</td>\n",
       "      <td>1</td>\n",
       "      <td>경상남도 함양군</td>\n",
       "    </tr>\n",
       "    <tr>\n",
       "      <th>115</th>\n",
       "      <td>248</td>\n",
       "      <td>50110</td>\n",
       "      <td>제주시</td>\n",
       "      <td>126.2270</td>\n",
       "      <td>33.4085</td>\n",
       "      <td>제주특별자치도 제주시</td>\n",
       "      <td>3</td>\n",
       "      <td>제주특별자치도 제주시</td>\n",
       "    </tr>\n",
       "  </tbody>\n",
       "</table>\n",
       "<p>116 rows × 8 columns</p>\n",
       "</div>"
      ],
      "text/plain": [
       "     Unnamed: 0   CODE NAME         X        Y   careAddr_1  careAddr  \\\n",
       "0             2  11170  용산구  126.9815  37.5315    서울특별시 용산구        13   \n",
       "1             3  11200  성동구  127.0415  37.5505    서울특별시 성동구         1   \n",
       "2             9  11320  도봉구  127.0320  37.6665    서울특별시 도봉구         2   \n",
       "3            10  11350  노원구  127.0770  37.6550    서울특별시 노원구         1   \n",
       "4            13  11440  마포구  126.9090  37.5625    서울특별시 마포구        10   \n",
       "..          ...    ...  ...       ...      ...          ...       ...   \n",
       "111         241  48820  고성군  128.2225  34.9285     경상남도 고성군         1   \n",
       "112         243  48850  하동군  127.8315  34.9360     경상남도 하동군         1   \n",
       "113         244  48860  산청군  127.9015  35.3975     경상남도 산청군         1   \n",
       "114         245  48870  함양군  127.7315  35.5435     경상남도 함양군         1   \n",
       "115         248  50110  제주시  126.2270  33.4085  제주특별자치도 제주시         3   \n",
       "\n",
       "            법정동명  \n",
       "0      서울특별시 용산구  \n",
       "1      서울특별시 성동구  \n",
       "2      서울특별시 도봉구  \n",
       "3      서울특별시 노원구  \n",
       "4      서울특별시 마포구  \n",
       "..           ...  \n",
       "111     경상남도 고성군  \n",
       "112     경상남도 하동군  \n",
       "113     경상남도 산청군  \n",
       "114     경상남도 함양군  \n",
       "115  제주특별자치도 제주시  \n",
       "\n",
       "[116 rows x 8 columns]"
      ]
     },
     "execution_count": 78,
     "metadata": {},
     "output_type": "execute_result"
    }
   ],
   "source": [
    "center_locations = pd.read_csv('center_loc.csv')\n",
    "data_center_c = pd.merge(right = df_merge_center,left = center_locations, on = 'CODE', how = 'inner' )\n",
    "data_center_c"
   ]
  },
  {
   "cell_type": "code",
   "execution_count": 79,
   "metadata": {},
   "outputs": [
    {
     "data": {
      "text/plain": [
       "232"
      ]
     },
     "execution_count": 79,
     "metadata": {},
     "output_type": "execute_result"
    }
   ],
   "source": [
    "data_center['careAddr'].sum()"
   ]
  },
  {
   "cell_type": "code",
   "execution_count": 80,
   "metadata": {},
   "outputs": [
    {
     "data": {
      "application/vnd.plotly.v1+json": {
       "config": {
        "plotlyServerURL": "https://plot.ly"
       },
       "data": [
        {
         "hovertemplate": "<b>%{hovertext}</b><br><br>careAddr=%{marker.size}<br>Y=%{lat}<br>X=%{lon}<extra></extra>",
         "hovertext": [
          "서울특별시 용산구",
          "서울특별시 성동구",
          "서울특별시 도봉구",
          "서울특별시 노원구",
          "서울특별시 마포구",
          "서울특별시 양천구",
          "서울특별시 영등포구",
          "서울특별시 관악구",
          "서울특별시 서초구",
          "서울특별시 강동구",
          "부산광역시 해운대구",
          "부산광역시 강서구",
          "부산광역시 기장군",
          "대구광역시 중구",
          "대구광역시 서구",
          "대구광역시 북구",
          "대구광역시 수성구",
          "인천광역시 중구",
          "인천광역시 계양구",
          "인천광역시 서구",
          "인천광역시 강화군",
          "광주광역시 북구",
          "대전광역시 유성구",
          "울산광역시 중구",
          "울산광역시 남구",
          "울산광역시 북구",
          "울산광역시 울주군",
          "경기도 부천시",
          "경기도 평택시",
          "경기도 시흥시",
          "경기도 하남시",
          "경기도 파주시",
          "경기도 광주시",
          "경기도 양주시",
          "경기도 가평군",
          "경기도 양평군",
          "강원도 춘천시",
          "강원도 원주시",
          "강원도 강릉시",
          "강원도 동해시",
          "강원도 태백시",
          "강원도 속초시",
          "강원도 삼척시",
          "강원도 홍천군",
          "강원도 평창군",
          "강원도 정선군",
          "강원도 철원군",
          "강원도 화천군",
          "강원도 양구군",
          "강원도 인제군",
          "강원도 고성군",
          "강원도 양양군",
          "충청북도 제천시",
          "충청북도 보은군",
          "충청북도 옥천군",
          "충청북도 영동군",
          "충청북도 증평군",
          "충청북도 단양군",
          "충청남도 아산시",
          "충청남도 서산시",
          "충청남도 논산시",
          "충청남도 금산군",
          "충청남도 부여군",
          "충청남도 서천군",
          "충청남도 청양군",
          "충청남도 태안군",
          "전라북도 군산시",
          "전라북도 익산시",
          "전라북도 정읍시",
          "전라북도 김제시",
          "전라북도 완주군",
          "전라북도 장수군",
          "전라북도 고창군",
          "전라남도 여수시",
          "전라남도 순천시",
          "전라남도 나주시",
          "전라남도 광양시",
          "전라남도 담양군",
          "전라남도 보성군",
          "전라남도 화순군",
          "전라남도 장흥군",
          "전라남도 강진군",
          "전라남도 무안군",
          "전라남도 함평군",
          "전라남도 영광군",
          "전라남도 장성군",
          "전라남도 완도군",
          "전라남도 진도군",
          "경상북도 경주시",
          "경상북도 김천시",
          "경상북도 안동시",
          "경상북도 구미시",
          "경상북도 영주시",
          "경상북도 영천시",
          "경상북도 상주시",
          "경상북도 문경시",
          "경상북도 군위군",
          "경상북도 청송군",
          "경상북도 영덕군",
          "경상북도 청도군",
          "경상북도 예천군",
          "경상북도 봉화군",
          "경상북도 울진군",
          "경상북도 울릉군",
          "경상남도 진주시",
          "경상남도 사천시",
          "경상남도 밀양시",
          "경상남도 거제시",
          "경상남도 양산시",
          "경상남도 의령군",
          "경상남도 창녕군",
          "경상남도 고성군",
          "경상남도 하동군",
          "경상남도 산청군",
          "경상남도 함양군",
          "제주특별자치도 제주시"
         ],
         "lat": [
          37.5315,
          37.5505,
          37.6665,
          37.655,
          37.5625,
          37.527,
          37.5205,
          37.466,
          37.477,
          37.5485,
          35.2015,
          35.0595,
          35.286,
          35.867,
          35.875,
          35.931,
          35.834,
          37.37300000000001,
          37.559,
          37.556,
          37.589,
          35.1895,
          36.38200000000001,
          35.571999999999996,
          35.508,
          35.598,
          35.5275,
          37.505,
          37.023,
          37.3935,
          37.5305,
          37.8495,
          37.4005,
          37.8055,
          37.811,
          37.5185,
          37.8805,
          37.325,
          37.7105,
          37.516,
          37.20399999999999,
          38.174,
          37.258,
          37.7485,
          37.544000000000004,
          37.3695,
          38.2135,
          38.141,
          38.1655,
          38.096,
          38.389,
          38.012,
          37.035,
          36.4915,
          36.308,
          36.164,
          36.7805,
          36.98,
          36.7955,
          36.9075,
          36.2015,
          36.125,
          36.2295,
          35.9955,
          36.4435,
          36.78100000000001,
          35.7385,
          36.0205,
          35.61,
          35.773,
          35.82899999999999,
          35.6535,
          35.4385,
          34.0275,
          35.010000000000005,
          34.9915,
          34.8985,
          35.2915,
          34.7825,
          35.019,
          34.459,
          34.533500000000004,
          35.010000000000005,
          35.105,
          35.1855,
          35.339,
          33.9795,
          34.1455,
          35.8595,
          36.0435,
          36.5595,
          36.2115,
          36.8805,
          36.0075,
          36.446999999999996,
          36.6925,
          36.167,
          36.378,
          36.4705,
          35.7065,
          36.6515,
          36.9235,
          36.895,
          37.53100000000001,
          35.20050000000001,
          35.039,
          35.49299999999999,
          34.786,
          35.403,
          35.3855,
          35.526,
          34.9285,
          34.936,
          35.3975,
          35.5435,
          33.408500000000004
         ],
         "legendgroup": "",
         "lon": [
          126.9815,
          127.0415,
          127.03200000000001,
          127.07700000000001,
          126.909,
          126.85600000000001,
          126.914,
          126.944,
          127.038,
          127.146,
          129.159,
          128.91250000000002,
          129.2075,
          128.5945,
          128.54899999999998,
          128.5685,
          128.66,
          126.443,
          126.738,
          126.659,
          126.5145,
          126.9285,
          127.3335,
          129.3035,
          129.313,
          129.3765,
          129.1695,
          126.7875,
          126.9665,
          126.78399999999999,
          127.213,
          126.8385,
          127.2895,
          127.012,
          127.442,
          127.57700000000001,
          127.76799999999999,
          127.98100000000001,
          128.8265,
          129.058,
          128.98149999999998,
          128.518,
          129.10399999999998,
          128.062,
          128.5045,
          128.748,
          127.45299999999999,
          127.6725,
          128.012,
          128.2465,
          128.425,
          128.60649999999998,
          128.1275,
          127.7105,
          127.6885,
          127.8225,
          127.6005,
          128.4345,
          126.974,
          126.3365,
          127.158,
          127.4785,
          126.874,
          126.605,
          126.851,
          126.23899999999999,
          126.4505,
          126.9955,
          126.916,
          126.5015,
          127.0315,
          127.531,
          126.6015,
          127.3155,
          127.3845,
          126.706,
          127.64299999999999,
          126.986,
          127.42299999999999,
          127.0125,
          126.9635,
          126.7815,
          126.318,
          126.521,
          126.21,
          126.755,
          126.9235,
          125.944,
          129.24450000000002,
          128.088,
          128.7145,
          128.3485,
          128.585,
          128.9225,
          128.06799999999998,
          128.127,
          128.655,
          129.05100000000002,
          129.3005,
          128.78699999999998,
          128.43599999999998,
          128.9125,
          129.2775,
          130.938,
          128.128,
          128.0315,
          128.7975,
          128.71300000000002,
          129.04649999999998,
          128.2615,
          128.5015,
          128.2225,
          127.8315,
          127.9015,
          127.7315,
          126.227
         ],
         "marker": {
          "color": "#636efa",
          "size": [
           13,
           1,
           2,
           1,
           10,
           1,
           1,
           1,
           1,
           4,
           4,
           6,
           1,
           4,
           5,
           2,
           7,
           3,
           2,
           1,
           1,
           5,
           5,
           1,
           7,
           3,
           7,
           4,
           1,
           1,
           2,
           16,
           2,
           21,
           1,
           1,
           1,
           1,
           1,
           1,
           1,
           1,
           1,
           1,
           1,
           1,
           1,
           1,
           1,
           1,
           1,
           1,
           1,
           1,
           1,
           1,
           1,
           1,
           1,
           2,
           1,
           1,
           1,
           1,
           1,
           1,
           1,
           1,
           1,
           1,
           1,
           1,
           1,
           1,
           1,
           1,
           1,
           1,
           1,
           1,
           1,
           1,
           2,
           1,
           1,
           1,
           1,
           1,
           1,
           1,
           1,
           1,
           1,
           1,
           1,
           1,
           1,
           1,
           1,
           1,
           1,
           1,
           1,
           1,
           1,
           1,
           1,
           1,
           1,
           1,
           1,
           1,
           1,
           1,
           1,
           3
          ],
          "sizemode": "area",
          "sizeref": 0.0525
         },
         "mode": "markers",
         "name": "",
         "showlegend": false,
         "subplot": "mapbox",
         "type": "scattermapbox"
        }
       ],
       "layout": {
        "height": 700,
        "legend": {
         "itemsizing": "constant",
         "tracegroupgap": 0
        },
        "mapbox": {
         "center": {
          "lat": 36,
          "lon": 128
         },
         "domain": {
          "x": [
           0,
           1
          ],
          "y": [
           0,
           1
          ]
         },
         "style": "carto-positron",
         "zoom": 5
        },
        "margin": {
         "t": 60
        },
        "template": {
         "data": {
          "bar": [
           {
            "error_x": {
             "color": "#2a3f5f"
            },
            "error_y": {
             "color": "#2a3f5f"
            },
            "marker": {
             "line": {
              "color": "#E5ECF6",
              "width": 0.5
             }
            },
            "type": "bar"
           }
          ],
          "barpolar": [
           {
            "marker": {
             "line": {
              "color": "#E5ECF6",
              "width": 0.5
             }
            },
            "type": "barpolar"
           }
          ],
          "carpet": [
           {
            "aaxis": {
             "endlinecolor": "#2a3f5f",
             "gridcolor": "white",
             "linecolor": "white",
             "minorgridcolor": "white",
             "startlinecolor": "#2a3f5f"
            },
            "baxis": {
             "endlinecolor": "#2a3f5f",
             "gridcolor": "white",
             "linecolor": "white",
             "minorgridcolor": "white",
             "startlinecolor": "#2a3f5f"
            },
            "type": "carpet"
           }
          ],
          "choropleth": [
           {
            "colorbar": {
             "outlinewidth": 0,
             "ticks": ""
            },
            "type": "choropleth"
           }
          ],
          "contour": [
           {
            "colorbar": {
             "outlinewidth": 0,
             "ticks": ""
            },
            "colorscale": [
             [
              0,
              "#0d0887"
             ],
             [
              0.1111111111111111,
              "#46039f"
             ],
             [
              0.2222222222222222,
              "#7201a8"
             ],
             [
              0.3333333333333333,
              "#9c179e"
             ],
             [
              0.4444444444444444,
              "#bd3786"
             ],
             [
              0.5555555555555556,
              "#d8576b"
             ],
             [
              0.6666666666666666,
              "#ed7953"
             ],
             [
              0.7777777777777778,
              "#fb9f3a"
             ],
             [
              0.8888888888888888,
              "#fdca26"
             ],
             [
              1,
              "#f0f921"
             ]
            ],
            "type": "contour"
           }
          ],
          "contourcarpet": [
           {
            "colorbar": {
             "outlinewidth": 0,
             "ticks": ""
            },
            "type": "contourcarpet"
           }
          ],
          "heatmap": [
           {
            "colorbar": {
             "outlinewidth": 0,
             "ticks": ""
            },
            "colorscale": [
             [
              0,
              "#0d0887"
             ],
             [
              0.1111111111111111,
              "#46039f"
             ],
             [
              0.2222222222222222,
              "#7201a8"
             ],
             [
              0.3333333333333333,
              "#9c179e"
             ],
             [
              0.4444444444444444,
              "#bd3786"
             ],
             [
              0.5555555555555556,
              "#d8576b"
             ],
             [
              0.6666666666666666,
              "#ed7953"
             ],
             [
              0.7777777777777778,
              "#fb9f3a"
             ],
             [
              0.8888888888888888,
              "#fdca26"
             ],
             [
              1,
              "#f0f921"
             ]
            ],
            "type": "heatmap"
           }
          ],
          "heatmapgl": [
           {
            "colorbar": {
             "outlinewidth": 0,
             "ticks": ""
            },
            "colorscale": [
             [
              0,
              "#0d0887"
             ],
             [
              0.1111111111111111,
              "#46039f"
             ],
             [
              0.2222222222222222,
              "#7201a8"
             ],
             [
              0.3333333333333333,
              "#9c179e"
             ],
             [
              0.4444444444444444,
              "#bd3786"
             ],
             [
              0.5555555555555556,
              "#d8576b"
             ],
             [
              0.6666666666666666,
              "#ed7953"
             ],
             [
              0.7777777777777778,
              "#fb9f3a"
             ],
             [
              0.8888888888888888,
              "#fdca26"
             ],
             [
              1,
              "#f0f921"
             ]
            ],
            "type": "heatmapgl"
           }
          ],
          "histogram": [
           {
            "marker": {
             "colorbar": {
              "outlinewidth": 0,
              "ticks": ""
             }
            },
            "type": "histogram"
           }
          ],
          "histogram2d": [
           {
            "colorbar": {
             "outlinewidth": 0,
             "ticks": ""
            },
            "colorscale": [
             [
              0,
              "#0d0887"
             ],
             [
              0.1111111111111111,
              "#46039f"
             ],
             [
              0.2222222222222222,
              "#7201a8"
             ],
             [
              0.3333333333333333,
              "#9c179e"
             ],
             [
              0.4444444444444444,
              "#bd3786"
             ],
             [
              0.5555555555555556,
              "#d8576b"
             ],
             [
              0.6666666666666666,
              "#ed7953"
             ],
             [
              0.7777777777777778,
              "#fb9f3a"
             ],
             [
              0.8888888888888888,
              "#fdca26"
             ],
             [
              1,
              "#f0f921"
             ]
            ],
            "type": "histogram2d"
           }
          ],
          "histogram2dcontour": [
           {
            "colorbar": {
             "outlinewidth": 0,
             "ticks": ""
            },
            "colorscale": [
             [
              0,
              "#0d0887"
             ],
             [
              0.1111111111111111,
              "#46039f"
             ],
             [
              0.2222222222222222,
              "#7201a8"
             ],
             [
              0.3333333333333333,
              "#9c179e"
             ],
             [
              0.4444444444444444,
              "#bd3786"
             ],
             [
              0.5555555555555556,
              "#d8576b"
             ],
             [
              0.6666666666666666,
              "#ed7953"
             ],
             [
              0.7777777777777778,
              "#fb9f3a"
             ],
             [
              0.8888888888888888,
              "#fdca26"
             ],
             [
              1,
              "#f0f921"
             ]
            ],
            "type": "histogram2dcontour"
           }
          ],
          "mesh3d": [
           {
            "colorbar": {
             "outlinewidth": 0,
             "ticks": ""
            },
            "type": "mesh3d"
           }
          ],
          "parcoords": [
           {
            "line": {
             "colorbar": {
              "outlinewidth": 0,
              "ticks": ""
             }
            },
            "type": "parcoords"
           }
          ],
          "pie": [
           {
            "automargin": true,
            "type": "pie"
           }
          ],
          "scatter": [
           {
            "marker": {
             "colorbar": {
              "outlinewidth": 0,
              "ticks": ""
             }
            },
            "type": "scatter"
           }
          ],
          "scatter3d": [
           {
            "line": {
             "colorbar": {
              "outlinewidth": 0,
              "ticks": ""
             }
            },
            "marker": {
             "colorbar": {
              "outlinewidth": 0,
              "ticks": ""
             }
            },
            "type": "scatter3d"
           }
          ],
          "scattercarpet": [
           {
            "marker": {
             "colorbar": {
              "outlinewidth": 0,
              "ticks": ""
             }
            },
            "type": "scattercarpet"
           }
          ],
          "scattergeo": [
           {
            "marker": {
             "colorbar": {
              "outlinewidth": 0,
              "ticks": ""
             }
            },
            "type": "scattergeo"
           }
          ],
          "scattergl": [
           {
            "marker": {
             "colorbar": {
              "outlinewidth": 0,
              "ticks": ""
             }
            },
            "type": "scattergl"
           }
          ],
          "scattermapbox": [
           {
            "marker": {
             "colorbar": {
              "outlinewidth": 0,
              "ticks": ""
             }
            },
            "type": "scattermapbox"
           }
          ],
          "scatterpolar": [
           {
            "marker": {
             "colorbar": {
              "outlinewidth": 0,
              "ticks": ""
             }
            },
            "type": "scatterpolar"
           }
          ],
          "scatterpolargl": [
           {
            "marker": {
             "colorbar": {
              "outlinewidth": 0,
              "ticks": ""
             }
            },
            "type": "scatterpolargl"
           }
          ],
          "scatterternary": [
           {
            "marker": {
             "colorbar": {
              "outlinewidth": 0,
              "ticks": ""
             }
            },
            "type": "scatterternary"
           }
          ],
          "surface": [
           {
            "colorbar": {
             "outlinewidth": 0,
             "ticks": ""
            },
            "colorscale": [
             [
              0,
              "#0d0887"
             ],
             [
              0.1111111111111111,
              "#46039f"
             ],
             [
              0.2222222222222222,
              "#7201a8"
             ],
             [
              0.3333333333333333,
              "#9c179e"
             ],
             [
              0.4444444444444444,
              "#bd3786"
             ],
             [
              0.5555555555555556,
              "#d8576b"
             ],
             [
              0.6666666666666666,
              "#ed7953"
             ],
             [
              0.7777777777777778,
              "#fb9f3a"
             ],
             [
              0.8888888888888888,
              "#fdca26"
             ],
             [
              1,
              "#f0f921"
             ]
            ],
            "type": "surface"
           }
          ],
          "table": [
           {
            "cells": {
             "fill": {
              "color": "#EBF0F8"
             },
             "line": {
              "color": "white"
             }
            },
            "header": {
             "fill": {
              "color": "#C8D4E3"
             },
             "line": {
              "color": "white"
             }
            },
            "type": "table"
           }
          ]
         },
         "layout": {
          "annotationdefaults": {
           "arrowcolor": "#2a3f5f",
           "arrowhead": 0,
           "arrowwidth": 1
          },
          "autotypenumbers": "strict",
          "coloraxis": {
           "colorbar": {
            "outlinewidth": 0,
            "ticks": ""
           }
          },
          "colorscale": {
           "diverging": [
            [
             0,
             "#8e0152"
            ],
            [
             0.1,
             "#c51b7d"
            ],
            [
             0.2,
             "#de77ae"
            ],
            [
             0.3,
             "#f1b6da"
            ],
            [
             0.4,
             "#fde0ef"
            ],
            [
             0.5,
             "#f7f7f7"
            ],
            [
             0.6,
             "#e6f5d0"
            ],
            [
             0.7,
             "#b8e186"
            ],
            [
             0.8,
             "#7fbc41"
            ],
            [
             0.9,
             "#4d9221"
            ],
            [
             1,
             "#276419"
            ]
           ],
           "sequential": [
            [
             0,
             "#0d0887"
            ],
            [
             0.1111111111111111,
             "#46039f"
            ],
            [
             0.2222222222222222,
             "#7201a8"
            ],
            [
             0.3333333333333333,
             "#9c179e"
            ],
            [
             0.4444444444444444,
             "#bd3786"
            ],
            [
             0.5555555555555556,
             "#d8576b"
            ],
            [
             0.6666666666666666,
             "#ed7953"
            ],
            [
             0.7777777777777778,
             "#fb9f3a"
            ],
            [
             0.8888888888888888,
             "#fdca26"
            ],
            [
             1,
             "#f0f921"
            ]
           ],
           "sequentialminus": [
            [
             0,
             "#0d0887"
            ],
            [
             0.1111111111111111,
             "#46039f"
            ],
            [
             0.2222222222222222,
             "#7201a8"
            ],
            [
             0.3333333333333333,
             "#9c179e"
            ],
            [
             0.4444444444444444,
             "#bd3786"
            ],
            [
             0.5555555555555556,
             "#d8576b"
            ],
            [
             0.6666666666666666,
             "#ed7953"
            ],
            [
             0.7777777777777778,
             "#fb9f3a"
            ],
            [
             0.8888888888888888,
             "#fdca26"
            ],
            [
             1,
             "#f0f921"
            ]
           ]
          },
          "colorway": [
           "#636efa",
           "#EF553B",
           "#00cc96",
           "#ab63fa",
           "#FFA15A",
           "#19d3f3",
           "#FF6692",
           "#B6E880",
           "#FF97FF",
           "#FECB52"
          ],
          "font": {
           "color": "#2a3f5f"
          },
          "geo": {
           "bgcolor": "white",
           "lakecolor": "white",
           "landcolor": "#E5ECF6",
           "showlakes": true,
           "showland": true,
           "subunitcolor": "white"
          },
          "hoverlabel": {
           "align": "left"
          },
          "hovermode": "closest",
          "mapbox": {
           "style": "light"
          },
          "paper_bgcolor": "white",
          "plot_bgcolor": "#E5ECF6",
          "polar": {
           "angularaxis": {
            "gridcolor": "white",
            "linecolor": "white",
            "ticks": ""
           },
           "bgcolor": "#E5ECF6",
           "radialaxis": {
            "gridcolor": "white",
            "linecolor": "white",
            "ticks": ""
           }
          },
          "scene": {
           "xaxis": {
            "backgroundcolor": "#E5ECF6",
            "gridcolor": "white",
            "gridwidth": 2,
            "linecolor": "white",
            "showbackground": true,
            "ticks": "",
            "zerolinecolor": "white"
           },
           "yaxis": {
            "backgroundcolor": "#E5ECF6",
            "gridcolor": "white",
            "gridwidth": 2,
            "linecolor": "white",
            "showbackground": true,
            "ticks": "",
            "zerolinecolor": "white"
           },
           "zaxis": {
            "backgroundcolor": "#E5ECF6",
            "gridcolor": "white",
            "gridwidth": 2,
            "linecolor": "white",
            "showbackground": true,
            "ticks": "",
            "zerolinecolor": "white"
           }
          },
          "shapedefaults": {
           "line": {
            "color": "#2a3f5f"
           }
          },
          "ternary": {
           "aaxis": {
            "gridcolor": "white",
            "linecolor": "white",
            "ticks": ""
           },
           "baxis": {
            "gridcolor": "white",
            "linecolor": "white",
            "ticks": ""
           },
           "bgcolor": "#E5ECF6",
           "caxis": {
            "gridcolor": "white",
            "linecolor": "white",
            "ticks": ""
           }
          },
          "title": {
           "x": 0.05
          },
          "xaxis": {
           "automargin": true,
           "gridcolor": "white",
           "linecolor": "white",
           "ticks": "",
           "title": {
            "standoff": 15
           },
           "zerolinecolor": "white",
           "zerolinewidth": 2
          },
          "yaxis": {
           "automargin": true,
           "gridcolor": "white",
           "linecolor": "white",
           "ticks": "",
           "title": {
            "standoff": 15
           },
           "zerolinecolor": "white",
           "zerolinewidth": 2
          }
         }
        },
        "title": {
         "text": "지역별 동물보호센터 수",
         "x": 0.5
        },
        "width": 700
       }
      },
      "text/html": [
       "<div>                            <div id=\"d35fffd7-ce80-4901-addb-2b87093a7027\" class=\"plotly-graph-div\" style=\"height:700px; width:700px;\"></div>            <script type=\"text/javascript\">                require([\"plotly\"], function(Plotly) {                    window.PLOTLYENV=window.PLOTLYENV || {};                                    if (document.getElementById(\"d35fffd7-ce80-4901-addb-2b87093a7027\")) {                    Plotly.newPlot(                        \"d35fffd7-ce80-4901-addb-2b87093a7027\",                        [{\"hovertemplate\": \"<b>%{hovertext}</b><br><br>careAddr=%{marker.size}<br>Y=%{lat}<br>X=%{lon}<extra></extra>\", \"hovertext\": [\"\\uc11c\\uc6b8\\ud2b9\\ubcc4\\uc2dc \\uc6a9\\uc0b0\\uad6c\", \"\\uc11c\\uc6b8\\ud2b9\\ubcc4\\uc2dc \\uc131\\ub3d9\\uad6c\", \"\\uc11c\\uc6b8\\ud2b9\\ubcc4\\uc2dc \\ub3c4\\ubd09\\uad6c\", \"\\uc11c\\uc6b8\\ud2b9\\ubcc4\\uc2dc \\ub178\\uc6d0\\uad6c\", \"\\uc11c\\uc6b8\\ud2b9\\ubcc4\\uc2dc \\ub9c8\\ud3ec\\uad6c\", \"\\uc11c\\uc6b8\\ud2b9\\ubcc4\\uc2dc \\uc591\\ucc9c\\uad6c\", \"\\uc11c\\uc6b8\\ud2b9\\ubcc4\\uc2dc \\uc601\\ub4f1\\ud3ec\\uad6c\", \"\\uc11c\\uc6b8\\ud2b9\\ubcc4\\uc2dc \\uad00\\uc545\\uad6c\", \"\\uc11c\\uc6b8\\ud2b9\\ubcc4\\uc2dc \\uc11c\\ucd08\\uad6c\", \"\\uc11c\\uc6b8\\ud2b9\\ubcc4\\uc2dc \\uac15\\ub3d9\\uad6c\", \"\\ubd80\\uc0b0\\uad11\\uc5ed\\uc2dc \\ud574\\uc6b4\\ub300\\uad6c\", \"\\ubd80\\uc0b0\\uad11\\uc5ed\\uc2dc \\uac15\\uc11c\\uad6c\", \"\\ubd80\\uc0b0\\uad11\\uc5ed\\uc2dc \\uae30\\uc7a5\\uad70\", \"\\ub300\\uad6c\\uad11\\uc5ed\\uc2dc \\uc911\\uad6c\", \"\\ub300\\uad6c\\uad11\\uc5ed\\uc2dc \\uc11c\\uad6c\", \"\\ub300\\uad6c\\uad11\\uc5ed\\uc2dc \\ubd81\\uad6c\", \"\\ub300\\uad6c\\uad11\\uc5ed\\uc2dc \\uc218\\uc131\\uad6c\", \"\\uc778\\ucc9c\\uad11\\uc5ed\\uc2dc \\uc911\\uad6c\", \"\\uc778\\ucc9c\\uad11\\uc5ed\\uc2dc \\uacc4\\uc591\\uad6c\", \"\\uc778\\ucc9c\\uad11\\uc5ed\\uc2dc \\uc11c\\uad6c\", \"\\uc778\\ucc9c\\uad11\\uc5ed\\uc2dc \\uac15\\ud654\\uad70\", \"\\uad11\\uc8fc\\uad11\\uc5ed\\uc2dc \\ubd81\\uad6c\", \"\\ub300\\uc804\\uad11\\uc5ed\\uc2dc \\uc720\\uc131\\uad6c\", \"\\uc6b8\\uc0b0\\uad11\\uc5ed\\uc2dc \\uc911\\uad6c\", \"\\uc6b8\\uc0b0\\uad11\\uc5ed\\uc2dc \\ub0a8\\uad6c\", \"\\uc6b8\\uc0b0\\uad11\\uc5ed\\uc2dc \\ubd81\\uad6c\", \"\\uc6b8\\uc0b0\\uad11\\uc5ed\\uc2dc \\uc6b8\\uc8fc\\uad70\", \"\\uacbd\\uae30\\ub3c4 \\ubd80\\ucc9c\\uc2dc\", \"\\uacbd\\uae30\\ub3c4 \\ud3c9\\ud0dd\\uc2dc\", \"\\uacbd\\uae30\\ub3c4 \\uc2dc\\ud765\\uc2dc\", \"\\uacbd\\uae30\\ub3c4 \\ud558\\ub0a8\\uc2dc\", \"\\uacbd\\uae30\\ub3c4 \\ud30c\\uc8fc\\uc2dc\", \"\\uacbd\\uae30\\ub3c4 \\uad11\\uc8fc\\uc2dc\", \"\\uacbd\\uae30\\ub3c4 \\uc591\\uc8fc\\uc2dc\", \"\\uacbd\\uae30\\ub3c4 \\uac00\\ud3c9\\uad70\", \"\\uacbd\\uae30\\ub3c4 \\uc591\\ud3c9\\uad70\", \"\\uac15\\uc6d0\\ub3c4 \\ucd98\\ucc9c\\uc2dc\", \"\\uac15\\uc6d0\\ub3c4 \\uc6d0\\uc8fc\\uc2dc\", \"\\uac15\\uc6d0\\ub3c4 \\uac15\\ub989\\uc2dc\", \"\\uac15\\uc6d0\\ub3c4 \\ub3d9\\ud574\\uc2dc\", \"\\uac15\\uc6d0\\ub3c4 \\ud0dc\\ubc31\\uc2dc\", \"\\uac15\\uc6d0\\ub3c4 \\uc18d\\ucd08\\uc2dc\", \"\\uac15\\uc6d0\\ub3c4 \\uc0bc\\ucc99\\uc2dc\", \"\\uac15\\uc6d0\\ub3c4 \\ud64d\\ucc9c\\uad70\", \"\\uac15\\uc6d0\\ub3c4 \\ud3c9\\ucc3d\\uad70\", \"\\uac15\\uc6d0\\ub3c4 \\uc815\\uc120\\uad70\", \"\\uac15\\uc6d0\\ub3c4 \\ucca0\\uc6d0\\uad70\", \"\\uac15\\uc6d0\\ub3c4 \\ud654\\ucc9c\\uad70\", \"\\uac15\\uc6d0\\ub3c4 \\uc591\\uad6c\\uad70\", \"\\uac15\\uc6d0\\ub3c4 \\uc778\\uc81c\\uad70\", \"\\uac15\\uc6d0\\ub3c4 \\uace0\\uc131\\uad70\", \"\\uac15\\uc6d0\\ub3c4 \\uc591\\uc591\\uad70\", \"\\ucda9\\uccad\\ubd81\\ub3c4 \\uc81c\\ucc9c\\uc2dc\", \"\\ucda9\\uccad\\ubd81\\ub3c4 \\ubcf4\\uc740\\uad70\", \"\\ucda9\\uccad\\ubd81\\ub3c4 \\uc625\\ucc9c\\uad70\", \"\\ucda9\\uccad\\ubd81\\ub3c4 \\uc601\\ub3d9\\uad70\", \"\\ucda9\\uccad\\ubd81\\ub3c4 \\uc99d\\ud3c9\\uad70\", \"\\ucda9\\uccad\\ubd81\\ub3c4 \\ub2e8\\uc591\\uad70\", \"\\ucda9\\uccad\\ub0a8\\ub3c4 \\uc544\\uc0b0\\uc2dc\", \"\\ucda9\\uccad\\ub0a8\\ub3c4 \\uc11c\\uc0b0\\uc2dc\", \"\\ucda9\\uccad\\ub0a8\\ub3c4 \\ub17c\\uc0b0\\uc2dc\", \"\\ucda9\\uccad\\ub0a8\\ub3c4 \\uae08\\uc0b0\\uad70\", \"\\ucda9\\uccad\\ub0a8\\ub3c4 \\ubd80\\uc5ec\\uad70\", \"\\ucda9\\uccad\\ub0a8\\ub3c4 \\uc11c\\ucc9c\\uad70\", \"\\ucda9\\uccad\\ub0a8\\ub3c4 \\uccad\\uc591\\uad70\", \"\\ucda9\\uccad\\ub0a8\\ub3c4 \\ud0dc\\uc548\\uad70\", \"\\uc804\\ub77c\\ubd81\\ub3c4 \\uad70\\uc0b0\\uc2dc\", \"\\uc804\\ub77c\\ubd81\\ub3c4 \\uc775\\uc0b0\\uc2dc\", \"\\uc804\\ub77c\\ubd81\\ub3c4 \\uc815\\uc74d\\uc2dc\", \"\\uc804\\ub77c\\ubd81\\ub3c4 \\uae40\\uc81c\\uc2dc\", \"\\uc804\\ub77c\\ubd81\\ub3c4 \\uc644\\uc8fc\\uad70\", \"\\uc804\\ub77c\\ubd81\\ub3c4 \\uc7a5\\uc218\\uad70\", \"\\uc804\\ub77c\\ubd81\\ub3c4 \\uace0\\ucc3d\\uad70\", \"\\uc804\\ub77c\\ub0a8\\ub3c4 \\uc5ec\\uc218\\uc2dc\", \"\\uc804\\ub77c\\ub0a8\\ub3c4 \\uc21c\\ucc9c\\uc2dc\", \"\\uc804\\ub77c\\ub0a8\\ub3c4 \\ub098\\uc8fc\\uc2dc\", \"\\uc804\\ub77c\\ub0a8\\ub3c4 \\uad11\\uc591\\uc2dc\", \"\\uc804\\ub77c\\ub0a8\\ub3c4 \\ub2f4\\uc591\\uad70\", \"\\uc804\\ub77c\\ub0a8\\ub3c4 \\ubcf4\\uc131\\uad70\", \"\\uc804\\ub77c\\ub0a8\\ub3c4 \\ud654\\uc21c\\uad70\", \"\\uc804\\ub77c\\ub0a8\\ub3c4 \\uc7a5\\ud765\\uad70\", \"\\uc804\\ub77c\\ub0a8\\ub3c4 \\uac15\\uc9c4\\uad70\", \"\\uc804\\ub77c\\ub0a8\\ub3c4 \\ubb34\\uc548\\uad70\", \"\\uc804\\ub77c\\ub0a8\\ub3c4 \\ud568\\ud3c9\\uad70\", \"\\uc804\\ub77c\\ub0a8\\ub3c4 \\uc601\\uad11\\uad70\", \"\\uc804\\ub77c\\ub0a8\\ub3c4 \\uc7a5\\uc131\\uad70\", \"\\uc804\\ub77c\\ub0a8\\ub3c4 \\uc644\\ub3c4\\uad70\", \"\\uc804\\ub77c\\ub0a8\\ub3c4 \\uc9c4\\ub3c4\\uad70\", \"\\uacbd\\uc0c1\\ubd81\\ub3c4 \\uacbd\\uc8fc\\uc2dc\", \"\\uacbd\\uc0c1\\ubd81\\ub3c4 \\uae40\\ucc9c\\uc2dc\", \"\\uacbd\\uc0c1\\ubd81\\ub3c4 \\uc548\\ub3d9\\uc2dc\", \"\\uacbd\\uc0c1\\ubd81\\ub3c4 \\uad6c\\ubbf8\\uc2dc\", \"\\uacbd\\uc0c1\\ubd81\\ub3c4 \\uc601\\uc8fc\\uc2dc\", \"\\uacbd\\uc0c1\\ubd81\\ub3c4 \\uc601\\ucc9c\\uc2dc\", \"\\uacbd\\uc0c1\\ubd81\\ub3c4 \\uc0c1\\uc8fc\\uc2dc\", \"\\uacbd\\uc0c1\\ubd81\\ub3c4 \\ubb38\\uacbd\\uc2dc\", \"\\uacbd\\uc0c1\\ubd81\\ub3c4 \\uad70\\uc704\\uad70\", \"\\uacbd\\uc0c1\\ubd81\\ub3c4 \\uccad\\uc1a1\\uad70\", \"\\uacbd\\uc0c1\\ubd81\\ub3c4 \\uc601\\ub355\\uad70\", \"\\uacbd\\uc0c1\\ubd81\\ub3c4 \\uccad\\ub3c4\\uad70\", \"\\uacbd\\uc0c1\\ubd81\\ub3c4 \\uc608\\ucc9c\\uad70\", \"\\uacbd\\uc0c1\\ubd81\\ub3c4 \\ubd09\\ud654\\uad70\", \"\\uacbd\\uc0c1\\ubd81\\ub3c4 \\uc6b8\\uc9c4\\uad70\", \"\\uacbd\\uc0c1\\ubd81\\ub3c4 \\uc6b8\\ub989\\uad70\", \"\\uacbd\\uc0c1\\ub0a8\\ub3c4 \\uc9c4\\uc8fc\\uc2dc\", \"\\uacbd\\uc0c1\\ub0a8\\ub3c4 \\uc0ac\\ucc9c\\uc2dc\", \"\\uacbd\\uc0c1\\ub0a8\\ub3c4 \\ubc00\\uc591\\uc2dc\", \"\\uacbd\\uc0c1\\ub0a8\\ub3c4 \\uac70\\uc81c\\uc2dc\", \"\\uacbd\\uc0c1\\ub0a8\\ub3c4 \\uc591\\uc0b0\\uc2dc\", \"\\uacbd\\uc0c1\\ub0a8\\ub3c4 \\uc758\\ub839\\uad70\", \"\\uacbd\\uc0c1\\ub0a8\\ub3c4 \\ucc3d\\ub155\\uad70\", \"\\uacbd\\uc0c1\\ub0a8\\ub3c4 \\uace0\\uc131\\uad70\", \"\\uacbd\\uc0c1\\ub0a8\\ub3c4 \\ud558\\ub3d9\\uad70\", \"\\uacbd\\uc0c1\\ub0a8\\ub3c4 \\uc0b0\\uccad\\uad70\", \"\\uacbd\\uc0c1\\ub0a8\\ub3c4 \\ud568\\uc591\\uad70\", \"\\uc81c\\uc8fc\\ud2b9\\ubcc4\\uc790\\uce58\\ub3c4 \\uc81c\\uc8fc\\uc2dc\"], \"lat\": [37.5315, 37.5505, 37.6665, 37.655, 37.5625, 37.527, 37.5205, 37.466, 37.477, 37.5485, 35.2015, 35.0595, 35.286, 35.867, 35.875, 35.931, 35.834, 37.37300000000001, 37.559, 37.556, 37.589, 35.1895, 36.38200000000001, 35.571999999999996, 35.508, 35.598, 35.5275, 37.505, 37.023, 37.3935, 37.5305, 37.8495, 37.4005, 37.8055, 37.811, 37.5185, 37.8805, 37.325, 37.7105, 37.516, 37.20399999999999, 38.174, 37.258, 37.7485, 37.544000000000004, 37.3695, 38.2135, 38.141, 38.1655, 38.096, 38.389, 38.012, 37.035, 36.4915, 36.308, 36.164, 36.7805, 36.98, 36.7955, 36.9075, 36.2015, 36.125, 36.2295, 35.9955, 36.4435, 36.78100000000001, 35.7385, 36.0205, 35.61, 35.773, 35.82899999999999, 35.6535, 35.4385, 34.0275, 35.010000000000005, 34.9915, 34.8985, 35.2915, 34.7825, 35.019, 34.459, 34.533500000000004, 35.010000000000005, 35.105, 35.1855, 35.339, 33.9795, 34.1455, 35.8595, 36.0435, 36.5595, 36.2115, 36.8805, 36.0075, 36.446999999999996, 36.6925, 36.167, 36.378, 36.4705, 35.7065, 36.6515, 36.9235, 36.895, 37.53100000000001, 35.20050000000001, 35.039, 35.49299999999999, 34.786, 35.403, 35.3855, 35.526, 34.9285, 34.936, 35.3975, 35.5435, 33.408500000000004], \"legendgroup\": \"\", \"lon\": [126.9815, 127.0415, 127.03200000000001, 127.07700000000001, 126.909, 126.85600000000001, 126.914, 126.944, 127.038, 127.146, 129.159, 128.91250000000002, 129.2075, 128.5945, 128.54899999999998, 128.5685, 128.66, 126.443, 126.738, 126.659, 126.5145, 126.9285, 127.3335, 129.3035, 129.313, 129.3765, 129.1695, 126.7875, 126.9665, 126.78399999999999, 127.213, 126.8385, 127.2895, 127.012, 127.442, 127.57700000000001, 127.76799999999999, 127.98100000000001, 128.8265, 129.058, 128.98149999999998, 128.518, 129.10399999999998, 128.062, 128.5045, 128.748, 127.45299999999999, 127.6725, 128.012, 128.2465, 128.425, 128.60649999999998, 128.1275, 127.7105, 127.6885, 127.8225, 127.6005, 128.4345, 126.974, 126.3365, 127.158, 127.4785, 126.874, 126.605, 126.851, 126.23899999999999, 126.4505, 126.9955, 126.916, 126.5015, 127.0315, 127.531, 126.6015, 127.3155, 127.3845, 126.706, 127.64299999999999, 126.986, 127.42299999999999, 127.0125, 126.9635, 126.7815, 126.318, 126.521, 126.21, 126.755, 126.9235, 125.944, 129.24450000000002, 128.088, 128.7145, 128.3485, 128.585, 128.9225, 128.06799999999998, 128.127, 128.655, 129.05100000000002, 129.3005, 128.78699999999998, 128.43599999999998, 128.9125, 129.2775, 130.938, 128.128, 128.0315, 128.7975, 128.71300000000002, 129.04649999999998, 128.2615, 128.5015, 128.2225, 127.8315, 127.9015, 127.7315, 126.227], \"marker\": {\"color\": \"#636efa\", \"size\": [13, 1, 2, 1, 10, 1, 1, 1, 1, 4, 4, 6, 1, 4, 5, 2, 7, 3, 2, 1, 1, 5, 5, 1, 7, 3, 7, 4, 1, 1, 2, 16, 2, 21, 1, 1, 1, 1, 1, 1, 1, 1, 1, 1, 1, 1, 1, 1, 1, 1, 1, 1, 1, 1, 1, 1, 1, 1, 1, 2, 1, 1, 1, 1, 1, 1, 1, 1, 1, 1, 1, 1, 1, 1, 1, 1, 1, 1, 1, 1, 1, 1, 2, 1, 1, 1, 1, 1, 1, 1, 1, 1, 1, 1, 1, 1, 1, 1, 1, 1, 1, 1, 1, 1, 1, 1, 1, 1, 1, 1, 1, 1, 1, 1, 1, 3], \"sizemode\": \"area\", \"sizeref\": 0.0525}, \"mode\": \"markers\", \"name\": \"\", \"showlegend\": false, \"subplot\": \"mapbox\", \"type\": \"scattermapbox\"}],                        {\"height\": 700, \"legend\": {\"itemsizing\": \"constant\", \"tracegroupgap\": 0}, \"mapbox\": {\"center\": {\"lat\": 36, \"lon\": 128}, \"domain\": {\"x\": [0.0, 1.0], \"y\": [0.0, 1.0]}, \"style\": \"carto-positron\", \"zoom\": 5}, \"margin\": {\"t\": 60}, \"template\": {\"data\": {\"bar\": [{\"error_x\": {\"color\": \"#2a3f5f\"}, \"error_y\": {\"color\": \"#2a3f5f\"}, \"marker\": {\"line\": {\"color\": \"#E5ECF6\", \"width\": 0.5}}, \"type\": \"bar\"}], \"barpolar\": [{\"marker\": {\"line\": {\"color\": \"#E5ECF6\", \"width\": 0.5}}, \"type\": \"barpolar\"}], \"carpet\": [{\"aaxis\": {\"endlinecolor\": \"#2a3f5f\", \"gridcolor\": \"white\", \"linecolor\": \"white\", \"minorgridcolor\": \"white\", \"startlinecolor\": \"#2a3f5f\"}, \"baxis\": {\"endlinecolor\": \"#2a3f5f\", \"gridcolor\": \"white\", \"linecolor\": \"white\", \"minorgridcolor\": \"white\", \"startlinecolor\": \"#2a3f5f\"}, \"type\": \"carpet\"}], \"choropleth\": [{\"colorbar\": {\"outlinewidth\": 0, \"ticks\": \"\"}, \"type\": \"choropleth\"}], \"contour\": [{\"colorbar\": {\"outlinewidth\": 0, \"ticks\": \"\"}, \"colorscale\": [[0.0, \"#0d0887\"], [0.1111111111111111, \"#46039f\"], [0.2222222222222222, \"#7201a8\"], [0.3333333333333333, \"#9c179e\"], [0.4444444444444444, \"#bd3786\"], [0.5555555555555556, \"#d8576b\"], [0.6666666666666666, \"#ed7953\"], [0.7777777777777778, \"#fb9f3a\"], [0.8888888888888888, \"#fdca26\"], [1.0, \"#f0f921\"]], \"type\": \"contour\"}], \"contourcarpet\": [{\"colorbar\": {\"outlinewidth\": 0, \"ticks\": \"\"}, \"type\": \"contourcarpet\"}], \"heatmap\": [{\"colorbar\": {\"outlinewidth\": 0, \"ticks\": \"\"}, \"colorscale\": [[0.0, \"#0d0887\"], [0.1111111111111111, \"#46039f\"], [0.2222222222222222, \"#7201a8\"], [0.3333333333333333, \"#9c179e\"], [0.4444444444444444, \"#bd3786\"], [0.5555555555555556, \"#d8576b\"], [0.6666666666666666, \"#ed7953\"], [0.7777777777777778, \"#fb9f3a\"], [0.8888888888888888, \"#fdca26\"], [1.0, \"#f0f921\"]], \"type\": \"heatmap\"}], \"heatmapgl\": [{\"colorbar\": {\"outlinewidth\": 0, \"ticks\": \"\"}, \"colorscale\": [[0.0, \"#0d0887\"], [0.1111111111111111, \"#46039f\"], [0.2222222222222222, \"#7201a8\"], [0.3333333333333333, \"#9c179e\"], [0.4444444444444444, \"#bd3786\"], [0.5555555555555556, \"#d8576b\"], [0.6666666666666666, \"#ed7953\"], [0.7777777777777778, \"#fb9f3a\"], [0.8888888888888888, \"#fdca26\"], [1.0, \"#f0f921\"]], \"type\": \"heatmapgl\"}], \"histogram\": [{\"marker\": {\"colorbar\": {\"outlinewidth\": 0, \"ticks\": \"\"}}, \"type\": \"histogram\"}], \"histogram2d\": [{\"colorbar\": {\"outlinewidth\": 0, \"ticks\": \"\"}, \"colorscale\": [[0.0, \"#0d0887\"], [0.1111111111111111, \"#46039f\"], [0.2222222222222222, \"#7201a8\"], [0.3333333333333333, \"#9c179e\"], [0.4444444444444444, \"#bd3786\"], [0.5555555555555556, \"#d8576b\"], [0.6666666666666666, \"#ed7953\"], [0.7777777777777778, \"#fb9f3a\"], [0.8888888888888888, \"#fdca26\"], [1.0, \"#f0f921\"]], \"type\": \"histogram2d\"}], \"histogram2dcontour\": [{\"colorbar\": {\"outlinewidth\": 0, \"ticks\": \"\"}, \"colorscale\": [[0.0, \"#0d0887\"], [0.1111111111111111, \"#46039f\"], [0.2222222222222222, \"#7201a8\"], [0.3333333333333333, \"#9c179e\"], [0.4444444444444444, \"#bd3786\"], [0.5555555555555556, \"#d8576b\"], [0.6666666666666666, \"#ed7953\"], [0.7777777777777778, \"#fb9f3a\"], [0.8888888888888888, \"#fdca26\"], [1.0, \"#f0f921\"]], \"type\": \"histogram2dcontour\"}], \"mesh3d\": [{\"colorbar\": {\"outlinewidth\": 0, \"ticks\": \"\"}, \"type\": \"mesh3d\"}], \"parcoords\": [{\"line\": {\"colorbar\": {\"outlinewidth\": 0, \"ticks\": \"\"}}, \"type\": \"parcoords\"}], \"pie\": [{\"automargin\": true, \"type\": \"pie\"}], \"scatter\": [{\"marker\": {\"colorbar\": {\"outlinewidth\": 0, \"ticks\": \"\"}}, \"type\": \"scatter\"}], \"scatter3d\": [{\"line\": {\"colorbar\": {\"outlinewidth\": 0, \"ticks\": \"\"}}, \"marker\": {\"colorbar\": {\"outlinewidth\": 0, \"ticks\": \"\"}}, \"type\": \"scatter3d\"}], \"scattercarpet\": [{\"marker\": {\"colorbar\": {\"outlinewidth\": 0, \"ticks\": \"\"}}, \"type\": \"scattercarpet\"}], \"scattergeo\": [{\"marker\": {\"colorbar\": {\"outlinewidth\": 0, \"ticks\": \"\"}}, \"type\": \"scattergeo\"}], \"scattergl\": [{\"marker\": {\"colorbar\": {\"outlinewidth\": 0, \"ticks\": \"\"}}, \"type\": \"scattergl\"}], \"scattermapbox\": [{\"marker\": {\"colorbar\": {\"outlinewidth\": 0, \"ticks\": \"\"}}, \"type\": \"scattermapbox\"}], \"scatterpolar\": [{\"marker\": {\"colorbar\": {\"outlinewidth\": 0, \"ticks\": \"\"}}, \"type\": \"scatterpolar\"}], \"scatterpolargl\": [{\"marker\": {\"colorbar\": {\"outlinewidth\": 0, \"ticks\": \"\"}}, \"type\": \"scatterpolargl\"}], \"scatterternary\": [{\"marker\": {\"colorbar\": {\"outlinewidth\": 0, \"ticks\": \"\"}}, \"type\": \"scatterternary\"}], \"surface\": [{\"colorbar\": {\"outlinewidth\": 0, \"ticks\": \"\"}, \"colorscale\": [[0.0, \"#0d0887\"], [0.1111111111111111, \"#46039f\"], [0.2222222222222222, \"#7201a8\"], [0.3333333333333333, \"#9c179e\"], [0.4444444444444444, \"#bd3786\"], [0.5555555555555556, \"#d8576b\"], [0.6666666666666666, \"#ed7953\"], [0.7777777777777778, \"#fb9f3a\"], [0.8888888888888888, \"#fdca26\"], [1.0, \"#f0f921\"]], \"type\": \"surface\"}], \"table\": [{\"cells\": {\"fill\": {\"color\": \"#EBF0F8\"}, \"line\": {\"color\": \"white\"}}, \"header\": {\"fill\": {\"color\": \"#C8D4E3\"}, \"line\": {\"color\": \"white\"}}, \"type\": \"table\"}]}, \"layout\": {\"annotationdefaults\": {\"arrowcolor\": \"#2a3f5f\", \"arrowhead\": 0, \"arrowwidth\": 1}, \"autotypenumbers\": \"strict\", \"coloraxis\": {\"colorbar\": {\"outlinewidth\": 0, \"ticks\": \"\"}}, \"colorscale\": {\"diverging\": [[0, \"#8e0152\"], [0.1, \"#c51b7d\"], [0.2, \"#de77ae\"], [0.3, \"#f1b6da\"], [0.4, \"#fde0ef\"], [0.5, \"#f7f7f7\"], [0.6, \"#e6f5d0\"], [0.7, \"#b8e186\"], [0.8, \"#7fbc41\"], [0.9, \"#4d9221\"], [1, \"#276419\"]], \"sequential\": [[0.0, \"#0d0887\"], [0.1111111111111111, \"#46039f\"], [0.2222222222222222, \"#7201a8\"], [0.3333333333333333, \"#9c179e\"], [0.4444444444444444, \"#bd3786\"], [0.5555555555555556, \"#d8576b\"], [0.6666666666666666, \"#ed7953\"], [0.7777777777777778, \"#fb9f3a\"], [0.8888888888888888, \"#fdca26\"], [1.0, \"#f0f921\"]], \"sequentialminus\": [[0.0, \"#0d0887\"], [0.1111111111111111, \"#46039f\"], [0.2222222222222222, \"#7201a8\"], [0.3333333333333333, \"#9c179e\"], [0.4444444444444444, \"#bd3786\"], [0.5555555555555556, \"#d8576b\"], [0.6666666666666666, \"#ed7953\"], [0.7777777777777778, \"#fb9f3a\"], [0.8888888888888888, \"#fdca26\"], [1.0, \"#f0f921\"]]}, \"colorway\": [\"#636efa\", \"#EF553B\", \"#00cc96\", \"#ab63fa\", \"#FFA15A\", \"#19d3f3\", \"#FF6692\", \"#B6E880\", \"#FF97FF\", \"#FECB52\"], \"font\": {\"color\": \"#2a3f5f\"}, \"geo\": {\"bgcolor\": \"white\", \"lakecolor\": \"white\", \"landcolor\": \"#E5ECF6\", \"showlakes\": true, \"showland\": true, \"subunitcolor\": \"white\"}, \"hoverlabel\": {\"align\": \"left\"}, \"hovermode\": \"closest\", \"mapbox\": {\"style\": \"light\"}, \"paper_bgcolor\": \"white\", \"plot_bgcolor\": \"#E5ECF6\", \"polar\": {\"angularaxis\": {\"gridcolor\": \"white\", \"linecolor\": \"white\", \"ticks\": \"\"}, \"bgcolor\": \"#E5ECF6\", \"radialaxis\": {\"gridcolor\": \"white\", \"linecolor\": \"white\", \"ticks\": \"\"}}, \"scene\": {\"xaxis\": {\"backgroundcolor\": \"#E5ECF6\", \"gridcolor\": \"white\", \"gridwidth\": 2, \"linecolor\": \"white\", \"showbackground\": true, \"ticks\": \"\", \"zerolinecolor\": \"white\"}, \"yaxis\": {\"backgroundcolor\": \"#E5ECF6\", \"gridcolor\": \"white\", \"gridwidth\": 2, \"linecolor\": \"white\", \"showbackground\": true, \"ticks\": \"\", \"zerolinecolor\": \"white\"}, \"zaxis\": {\"backgroundcolor\": \"#E5ECF6\", \"gridcolor\": \"white\", \"gridwidth\": 2, \"linecolor\": \"white\", \"showbackground\": true, \"ticks\": \"\", \"zerolinecolor\": \"white\"}}, \"shapedefaults\": {\"line\": {\"color\": \"#2a3f5f\"}}, \"ternary\": {\"aaxis\": {\"gridcolor\": \"white\", \"linecolor\": \"white\", \"ticks\": \"\"}, \"baxis\": {\"gridcolor\": \"white\", \"linecolor\": \"white\", \"ticks\": \"\"}, \"bgcolor\": \"#E5ECF6\", \"caxis\": {\"gridcolor\": \"white\", \"linecolor\": \"white\", \"ticks\": \"\"}}, \"title\": {\"x\": 0.05}, \"xaxis\": {\"automargin\": true, \"gridcolor\": \"white\", \"linecolor\": \"white\", \"ticks\": \"\", \"title\": {\"standoff\": 15}, \"zerolinecolor\": \"white\", \"zerolinewidth\": 2}, \"yaxis\": {\"automargin\": true, \"gridcolor\": \"white\", \"linecolor\": \"white\", \"ticks\": \"\", \"title\": {\"standoff\": 15}, \"zerolinecolor\": \"white\", \"zerolinewidth\": 2}}}, \"title\": {\"text\": \"\\uc9c0\\uc5ed\\ubcc4 \\ub3d9\\ubb3c\\ubcf4\\ud638\\uc13c\\ud130 \\uc218\", \"x\": 0.5}, \"width\": 700},                        {\"responsive\": true}                    ).then(function(){\n",
       "                            \n",
       "var gd = document.getElementById('d35fffd7-ce80-4901-addb-2b87093a7027');\n",
       "var x = new MutationObserver(function (mutations, observer) {{\n",
       "        var display = window.getComputedStyle(gd).display;\n",
       "        if (!display || display === 'none') {{\n",
       "            console.log([gd, 'removed!']);\n",
       "            Plotly.purge(gd);\n",
       "            observer.disconnect();\n",
       "        }}\n",
       "}});\n",
       "\n",
       "// Listen for the removal of the full notebook cells\n",
       "var notebookContainer = gd.closest('#notebook-container');\n",
       "if (notebookContainer) {{\n",
       "    x.observe(notebookContainer, {childList: true});\n",
       "}}\n",
       "\n",
       "// Listen for the clearing of the current output cell\n",
       "var outputEl = gd.closest('.output');\n",
       "if (outputEl) {{\n",
       "    x.observe(outputEl, {childList: true});\n",
       "}}\n",
       "\n",
       "                        })                };                });            </script>        </div>"
      ]
     },
     "metadata": {},
     "output_type": "display_data"
    }
   ],
   "source": [
    "import plotly.express as px\n",
    "fig = px.scatter_mapbox(data_center_c, lat=\"Y\", lon=\"X\", size=\"careAddr\", hover_name = 'careAddr_1',\n",
    "                  size_max=20, zoom=5,\n",
    "                  mapbox_style=\"carto-positron\",\n",
    "                       center={\"lat\": 36, \"lon\": 128},\n",
    "                       width=700, height=700)\n",
    "fig.update_layout(title_text='지역별 동물보호센터 수', title_x=0.5)\n",
    "\n",
    "fig.show()"
   ]
  },
  {
   "cell_type": "code",
   "execution_count": 81,
   "metadata": {},
   "outputs": [
    {
     "data": {
      "text/html": [
       "<div>\n",
       "<style scoped>\n",
       "    .dataframe tbody tr th:only-of-type {\n",
       "        vertical-align: middle;\n",
       "    }\n",
       "\n",
       "    .dataframe tbody tr th {\n",
       "        vertical-align: top;\n",
       "    }\n",
       "\n",
       "    .dataframe thead th {\n",
       "        text-align: right;\n",
       "    }\n",
       "</style>\n",
       "<table border=\"1\" class=\"dataframe\">\n",
       "  <thead>\n",
       "    <tr style=\"text-align: right;\">\n",
       "      <th></th>\n",
       "      <th>careAddr</th>\n",
       "      <th>careNm</th>\n",
       "      <th>divisionNm</th>\n",
       "      <th>jibunAddr</th>\n",
       "      <th>lat</th>\n",
       "      <th>lng</th>\n",
       "      <th>orgNm</th>\n",
       "      <th>careAddr_0</th>\n",
       "      <th>careAddr_1</th>\n",
       "    </tr>\n",
       "  </thead>\n",
       "  <tbody>\n",
       "    <tr>\n",
       "      <th>0</th>\n",
       "      <td>대구광역시 북구 호국로 229 (서변동) 6층</td>\n",
       "      <td>(사)대구수의사회</td>\n",
       "      <td>법인</td>\n",
       "      <td>6층</td>\n",
       "      <td>35.922355665</td>\n",
       "      <td>128.599034473</td>\n",
       "      <td>대구광역시 수성구</td>\n",
       "      <td>대구광역시</td>\n",
       "      <td>대구광역시 북구</td>\n",
       "    </tr>\n",
       "    <tr>\n",
       "      <th>4</th>\n",
       "      <td>서울특별시 마포구 만리재로 74 (신공덕동, 신공덕2차삼성래미안) 삼성 래미안상가 ...</td>\n",
       "      <td>C.T종합동물병원</td>\n",
       "      <td>동물병원</td>\n",
       "      <td>서울특별시 마포구 신공덕동 160 삼성 래미안상가 117호</td>\n",
       "      <td>37.546859734</td>\n",
       "      <td>126.958384698</td>\n",
       "      <td>서울특별시 마포구</td>\n",
       "      <td>서울특별시</td>\n",
       "      <td>서울특별시 마포구</td>\n",
       "    </tr>\n",
       "    <tr>\n",
       "      <th>6</th>\n",
       "      <td>울산광역시 울주군 온산읍 덕신로 250 (온산읍)</td>\n",
       "      <td>MK동물병원</td>\n",
       "      <td>동물병원</td>\n",
       "      <td></td>\n",
       "      <td>35.433533</td>\n",
       "      <td>129.308733</td>\n",
       "      <td>울산광역시 울주군</td>\n",
       "      <td>울산광역시</td>\n",
       "      <td>울산광역시 울주군</td>\n",
       "    </tr>\n",
       "    <tr>\n",
       "      <th>10</th>\n",
       "      <td>인천광역시 서구 가정로 346 (가정동)</td>\n",
       "      <td>가정동물병원</td>\n",
       "      <td>동물병원</td>\n",
       "      <td>인천광역시 서구 가정동 517-32</td>\n",
       "      <td>37.515665283</td>\n",
       "      <td>126.673021837</td>\n",
       "      <td>인천광역시 서구</td>\n",
       "      <td>인천광역시</td>\n",
       "      <td>인천광역시 서구</td>\n",
       "    </tr>\n",
       "    <tr>\n",
       "      <th>11</th>\n",
       "      <td>경기도 가평군 가평읍 아랫마장길 59 (가평읍, 농업기술센터) 가평 유기동물 보호소...</td>\n",
       "      <td>가평군유기동물보호소</td>\n",
       "      <td>법인</td>\n",
       "      <td>가평 유기동물 보호소(10:00~18:00)</td>\n",
       "      <td>37.8459716369</td>\n",
       "      <td>127.4986540628</td>\n",
       "      <td>경기도 가평군</td>\n",
       "      <td>경기도</td>\n",
       "      <td>경기도 가평군</td>\n",
       "    </tr>\n",
       "    <tr>\n",
       "      <th>...</th>\n",
       "      <td>...</td>\n",
       "      <td>...</td>\n",
       "      <td>...</td>\n",
       "      <td>...</td>\n",
       "      <td>...</td>\n",
       "      <td>...</td>\n",
       "      <td>...</td>\n",
       "      <td>...</td>\n",
       "      <td>...</td>\n",
       "    </tr>\n",
       "    <tr>\n",
       "      <th>239</th>\n",
       "      <td>경기도 안산시 상록구 청곡길 50 (부곡동) 한국야생동물보호협회</td>\n",
       "      <td>한국야생동물보호협회</td>\n",
       "      <td>법인</td>\n",
       "      <td>한국야생동물보호협회</td>\n",
       "      <td>37.340107739</td>\n",
       "      <td>126.869974021</td>\n",
       "      <td>경기도 광명시</td>\n",
       "      <td>경기도</td>\n",
       "      <td>경기도 안산시</td>\n",
       "    </tr>\n",
       "    <tr>\n",
       "      <th>244</th>\n",
       "      <td>경상남도 함양군 함양읍 함양남서로 996-76 (함양읍, 농업기술센터)</td>\n",
       "      <td>함양군위탁보호소</td>\n",
       "      <td>단체</td>\n",
       "      <td></td>\n",
       "      <td>35.507592843</td>\n",
       "      <td>127.741370753</td>\n",
       "      <td>경상남도 함양군</td>\n",
       "      <td>경상남도</td>\n",
       "      <td>경상남도 함양군</td>\n",
       "    </tr>\n",
       "    <tr>\n",
       "      <th>245</th>\n",
       "      <td>대구광역시 수성구 수성동2가 명덕로 421 (수성동2가) 허동물병원</td>\n",
       "      <td>허동물병원</td>\n",
       "      <td>동물병원</td>\n",
       "      <td>허동물병원</td>\n",
       "      <td>35.854639935</td>\n",
       "      <td>128.616327564</td>\n",
       "      <td>대구광역시 수성구</td>\n",
       "      <td>대구광역시</td>\n",
       "      <td>대구광역시 수성구</td>\n",
       "    </tr>\n",
       "    <tr>\n",
       "      <th>246</th>\n",
       "      <td>서울특별시 마포구 독막로 45 (합정동)</td>\n",
       "      <td>홍익동물병원</td>\n",
       "      <td>동물병원</td>\n",
       "      <td>서울특별시 마포구 합정동 411-18</td>\n",
       "      <td>37.548099112</td>\n",
       "      <td>126.918393548</td>\n",
       "      <td>서울특별시 마포구</td>\n",
       "      <td>서울특별시</td>\n",
       "      <td>서울특별시 마포구</td>\n",
       "    </tr>\n",
       "    <tr>\n",
       "      <th>247</th>\n",
       "      <td>강원도 홍천군 화촌면 둔덕이길 68 (화촌면, 홍천군유기동물보호센터)</td>\n",
       "      <td>홍천군유기동물보호소</td>\n",
       "      <td>법인</td>\n",
       "      <td></td>\n",
       "      <td>37.755090937</td>\n",
       "      <td>127.947470346</td>\n",
       "      <td>강원도 홍천군</td>\n",
       "      <td>강원도</td>\n",
       "      <td>강원도 홍천군</td>\n",
       "    </tr>\n",
       "  </tbody>\n",
       "</table>\n",
       "<p>151 rows × 9 columns</p>\n",
       "</div>"
      ],
      "text/plain": [
       "                                              careAddr      careNm divisionNm  \\\n",
       "0                            대구광역시 북구 호국로 229 (서변동) 6층   (사)대구수의사회         법인   \n",
       "4    서울특별시 마포구 만리재로 74 (신공덕동, 신공덕2차삼성래미안) 삼성 래미안상가 ...   C.T종합동물병원       동물병원   \n",
       "6                         울산광역시 울주군 온산읍 덕신로 250 (온산읍)       MK동물병원       동물병원   \n",
       "10                             인천광역시 서구 가정로 346 (가정동)       가정동물병원       동물병원   \n",
       "11   경기도 가평군 가평읍 아랫마장길 59 (가평읍, 농업기술센터) 가평 유기동물 보호소...  가평군유기동물보호소         법인   \n",
       "..                                                 ...         ...        ...   \n",
       "239                경기도 안산시 상록구 청곡길 50 (부곡동) 한국야생동물보호협회  한국야생동물보호협회         법인   \n",
       "244           경상남도 함양군 함양읍 함양남서로 996-76 (함양읍, 농업기술센터)     함양군위탁보호소         단체   \n",
       "245              대구광역시 수성구 수성동2가 명덕로 421 (수성동2가) 허동물병원       허동물병원       동물병원   \n",
       "246                            서울특별시 마포구 독막로 45 (합정동)       홍익동물병원       동물병원   \n",
       "247            강원도 홍천군 화촌면 둔덕이길 68 (화촌면, 홍천군유기동물보호센터)   홍천군유기동물보호소         법인   \n",
       "\n",
       "                            jibunAddr            lat             lng  \\\n",
       "0                                  6층   35.922355665   128.599034473   \n",
       "4    서울특별시 마포구 신공덕동 160 삼성 래미안상가 117호   37.546859734   126.958384698   \n",
       "6                                          35.433533      129.308733   \n",
       "10               인천광역시 서구 가정동 517-32    37.515665283   126.673021837   \n",
       "11           가평 유기동물 보호소(10:00~18:00)  37.8459716369  127.4986540628   \n",
       "..                                ...            ...             ...   \n",
       "239                        한국야생동물보호협회   37.340107739   126.869974021   \n",
       "244                                     35.507592843   127.741370753   \n",
       "245                             허동물병원   35.854639935   128.616327564   \n",
       "246             서울특별시 마포구 합정동 411-18    37.548099112   126.918393548   \n",
       "247                                     37.755090937   127.947470346   \n",
       "\n",
       "         orgNm careAddr_0 careAddr_1  \n",
       "0    대구광역시 수성구      대구광역시   대구광역시 북구  \n",
       "4    서울특별시 마포구      서울특별시  서울특별시 마포구  \n",
       "6    울산광역시 울주군      울산광역시  울산광역시 울주군  \n",
       "10    인천광역시 서구      인천광역시   인천광역시 서구  \n",
       "11     경기도 가평군        경기도    경기도 가평군  \n",
       "..         ...        ...        ...  \n",
       "239    경기도 광명시        경기도    경기도 안산시  \n",
       "244   경상남도 함양군       경상남도   경상남도 함양군  \n",
       "245  대구광역시 수성구      대구광역시  대구광역시 수성구  \n",
       "246  서울특별시 마포구      서울특별시  서울특별시 마포구  \n",
       "247    강원도 홍천군        강원도    강원도 홍천군  \n",
       "\n",
       "[151 rows x 9 columns]"
      ]
     },
     "execution_count": 81,
     "metadata": {},
     "output_type": "execute_result"
    }
   ],
   "source": [
    "df_center.loc[(df_center['lat'].notnull())]"
   ]
  },
  {
   "cell_type": "code",
   "execution_count": 82,
   "metadata": {},
   "outputs": [
    {
     "data": {
      "application/vnd.plotly.v1+json": {
       "config": {
        "plotlyServerURL": "https://plot.ly"
       },
       "data": [
        {
         "hovertemplate": "<b>%{hovertext}</b><br><br>lat=%{lat}<br>lng=%{lon}<extra></extra>",
         "hovertext": [
          "(사)대구수의사회",
          "C.T종합동물병원",
          "MK동물병원",
          "가정동물병원",
          "가평군유기동물보호소",
          "감자동물병원",
          "강남동물병원",
          "강릉시동물사랑센터",
          "강진군 유기견 보호소",
          "강현림동물병원",
          "거제시유기동물보호소",
          "경동동물병원",
          "경주시유기동물보호소",
          "고양시동물보호센터",
          "고창동물병원",
          "광양시 임시보호소",
          "광주 동물보호소",
          "군산유기동물보호센터",
          "금강동물병원",
          "김천시 동물보호센터",
          "남부여동물병원",
          "남산동물병원",
          "노원반려동물문화센터",
          "누리동물병원",
          "누리동물병원",
          "누리동물병원",
          "다나동물병원",
          "단양군유기동물보호소",
          "담양군 동물보호 센터",
          "대구수의사회(아이펫)",
          "대구시수의사회(더난)",
          "대구시수의사회(더펫)",
          "대구시수의사회(동인)",
          "대구시수의사회(보경)",
          "대구시수의사회(삼덕)",
          "대구시수의사회(삼성)",
          "대구시수의사회(원)",
          "대전동물보호센터",
          "대전동물보호센터",
          "대전동물보호센터",
          "대전동물보호센터",
          "대전동물보호센터",
          "동물보호관리협회",
          "동인동물병원",
          "러브펫동물병원",
          "러브펫종합동물병원",
          "리틀쥬동물의료원",
          "마산유기동물보호소",
          "망원동물병원",
          "미래펫동물병원",
          "밀양시동물보호센터",
          "박창석동물병원",
          "반려동물보호센터",
          "범서조은동물병원",
          "베스트동물병원",
          "봉화군유기동물보호소",
          "부산동물보호센터",
          "사랑동물병원",
          "산청동물보호센터",
          "삼척시유기동물보호소",
          "서천유기동물보호소",
          "수원시 동물보호센터",
          "스마일동물병원",
          "스타캣츠",
          "신공항동물병원",
          "신세계동물병원",
          "아산시동물보호센터",
          "양산시유기동물보호소",
          "영덕유기동물보호센터",
          "영일동물플러스",
          "영주시 동물보호센터",
          "영천유기동물보호센터",
          "예스동물병원",
          "예천군유기동물보호소",
          "옥천동물병원",
          "와우동물병원",
          "용강동물병원",
          "용인시 동물보호센터",
          "우성동물병원",
          "울릉군농업기술센터",
          "울산동물병원",
          "울산유기동물보호센터",
          "울산유기동물보호센터",
          "울산유기동물보호센터",
          "울산유기동물보호센터",
          "원주유기동물보호센터",
          "월드동물병원",
          "웰케어 동물병원",
          "유기동물및동물보호협",
          "유기동물보호센터",
          "유기동물보호소",
          "유기동물임시보호센터",
          "익산유기동물보호소",
          "인천광역시 수의사회 ",
          "인천수의사회유기동물",
          "장성군동물보호센터",
          "장흥군 동물보호센터",
          "전북말산업복합센터",
          "정철동물병원",
          "제니스동물병원",
          "제주 동물보호센터",
          "제천시 동물보호센터",
          "종합가축병원",
          "주동물병원",
          "진도개메디컬센터",
          "진주시유기동물보호소",
          "진해유기동물보호소",
          "창녕 유기동물보호소",
          "창원유기동물보호소",
          "청도군동물보호소",
          "최동물병원",
          "최상오동물병원",
          "최종주동물병원",
          "춘천시 동물보호센터",
          "쿨펫 홈플러스 북구점",
          "쿨펫동물병원",
          "태백유기동물",
          "파주365동물의료센터",
          "펫동물병원",
          "펫토피아동물병원",
          "평택시유기동물보호소",
          "하남동물병원",
          "하동군유기동물보호소",
          "하얀비둘기",
          "하영효",
          "학교동물임시보호센터",
          "한국동물구조관리협회",
          "한국동물구조관리협회",
          "한국동물구조관리협회",
          "한국동물구조관리협회",
          "한국동물구조관리협회",
          "한국동물구조관리협회",
          "한국동물구조관리협회",
          "한국동물구조관리협회",
          "한국동물구조관리협회",
          "한국동물구조관리협회",
          "한국동물구조관리협회",
          "한국동물구조관리협회",
          "한국동물구조관리협회",
          "한국동물구조관리협회",
          "한국동물구조관리협회",
          "한국동물구조관리협회",
          "한국동물구조관리협회",
          "한국동물구조관리협회",
          "한국동물구조관리협회",
          "한국동물구조관리협회",
          "한국야생동물보호협회",
          "함양군위탁보호소",
          "허동물병원",
          "홍익동물병원",
          "홍천군유기동물보호소"
         ],
         "lat": [
          "35.922355665",
          "37.546859734",
          "35.433533",
          "37.515665283",
          "37.8459716369",
          "35.841278417",
          "35.542604193",
          "37.698788664",
          "34.62315224",
          "37.54403479",
          "34.883767588",
          "37.471957668",
          "35.860817385",
          "37.649779396",
          "35.4379775760",
          "34.988870019",
          "35.22293555",
          "35.960814865",
          "35.871651862",
          "36.084043041",
          "36.28164852",
          "35.551956519",
          "37.671351047",
          "35.194808961",
          "35.194808961",
          "35.1948086299",
          "37.378820999",
          "37.017139",
          "35.358597268",
          "35.863815962",
          "35.869326757",
          "35.889095781",
          "35.868390999",
          "35.877030489",
          "35.864857229",
          "35.860186857",
          "35.858496547",
          "36.362990159",
          "36.362990159",
          "36.362990159",
          "36.362990159",
          "36.362990159",
          "35.178922615",
          "35.868390999",
          "37.53867483",
          "37.4811777",
          "35.541733493",
          "35.1194213340",
          "37.554863058",
          "35.540416309",
          "35.40768428",
          "37.541517149",
          "36.590336584",
          "35.56351794",
          "37.73968128",
          "36.903668173",
          "35.151443296",
          "35.535831807",
          "35.426394",
          "37.359297145",
          "36.179524706",
          "37.28501978",
          "35.544706294",
          "37.313576381",
          "37.493607492",
          "35.854747079",
          "36.927579855",
          "35.324090",
          "36.43572989",
          "36.14538842",
          "36.766579037",
          "35.990661644",
          "35.84890794",
          "36.674849138",
          "36.303049814",
          "35.570265956",
          "37.544846922",
          "37.24331386",
          "36.230581367",
          "37.460054248",
          "35.555686102",
          "35.410291657",
          "35.390890519",
          "35.410291657",
          "35.390890519",
          "37.416318018",
          "36.108375551",
          "37.556875043",
          "35.178922615",
          "36.635989904",
          "34.7875755",
          "34.331872997",
          "35.936684242",
          "37.566239094",
          "37.571188167",
          "35.241536",
          "34.667650229",
          "35.823616274",
          "35.562033122",
          "35.859113776",
          "33.455532904",
          "37.084565721",
          "36.599690621",
          "35.543654331",
          "34.482361769",
          "35.227086565",
          "35.1139994618",
          "35.573454643",
          "35.2382793017",
          "35.6492911927",
          "36.747003864",
          "36.484828662",
          "36.172622878",
          "37.923210233",
          "35.630043356",
          "35.576007017",
          "37.172887869",
          "37.7277542870",
          "35.841449078",
          "37.367095691",
          "37.1306303346",
          "37.537155986",
          "35.07884862",
          "35.177499068",
          "35.328164046",
          "35.045491004",
          "37.8701158122",
          "37.8701158122",
          "37.8701158122",
          "37.869894005",
          "37.869894005",
          "37.869894005",
          "37.870483656",
          "37.869894005",
          "37.870483656",
          "37.869894005",
          "37.870483656",
          "37.870483656",
          "37.869894005",
          "37.874444736",
          "37.8701158122",
          "37.869894005",
          "37.870666189",
          "37.8701158122",
          "37.870198",
          "37.869894005",
          "37.340107739",
          "35.507592843",
          "35.854639935",
          "37.548099112",
          "37.755090937"
         ],
         "legendgroup": "",
         "lon": [
          "128.599034473",
          "126.958384698",
          "129.308733",
          "126.673021837",
          "127.4986540628",
          "128.704727246",
          "129.330474173",
          "128.829276323",
          "126.776205899",
          "126.862420091",
          "128.573667027",
          "126.629945155",
          "129.219656239",
          "126.870084624",
          "126.6995480785",
          "127.57785957",
          "126.881646146",
          "126.816307954",
          "128.635874536",
          "128.118882067",
          "126.909280389",
          "129.268013763",
          "127.049962143",
          "129.206317652",
          "129.206317652",
          "129.2063155055",
          "128.659550261",
          "128.301287",
          "127.001965613",
          "128.556541359",
          "128.550478302",
          "128.560711191",
          "128.60968014",
          "128.57099979",
          "128.598401934",
          "128.557148742",
          "128.605454984",
          "127.286853557",
          "127.286853557",
          "127.286853557",
          "127.286853557",
          "127.286853557",
          "128.899758103",
          "128.60968014",
          "127.205225785",
          "126.909573105",
          "129.306308764",
          "128.4682650739",
          "126.910866093",
          "129.312249549",
          "128.879770197",
          "126.950364461",
          "127.365419051",
          "129.23102294",
          "126.505433379",
          "128.772537713",
          "128.939632885",
          "129.313489602",
          "127.881274",
          "129.21957696",
          "126.772387742",
          "127.078698506",
          "129.260875251",
          "126.836753395",
          "126.537184779",
          "128.613181114",
          "127.038607031",
          "129.034170",
          "129.357620501",
          "129.333019051",
          "128.600891055",
          "128.926441328",
          "128.624392603",
          "128.47624852",
          "127.568776907",
          "129.12309314",
          "126.939479132",
          "127.159335344",
          "128.566102004",
          "130.87377027",
          "129.337060829",
          "129.288511713",
          "129.286001678",
          "129.288511713",
          "129.286001678",
          "127.912860682",
          "127.484174292",
          "126.919088707",
          "128.899758103",
          "128.683831267",
          "127.663041626",
          "126.781226058",
          "127.00241245",
          "126.719642412",
          "126.728413758",
          "126.610565",
          "126.944610554",
          "126.994724153",
          "129.355306941",
          "128.633406625",
          "126.589213112",
          "128.215049843",
          "128.202505671",
          "129.347125727",
          "126.278574748",
          "128.121872771",
          "128.7543116703",
          "128.507695136",
          "128.6456003034",
          "128.7343704070",
          "126.298537278",
          "127.717656316",
          "127.782333696",
          "127.734479045",
          "129.344880426",
          "129.359022747",
          "129.040791072",
          "126.7343761802",
          "128.700814566",
          "127.127681498",
          "127.0554225287",
          "127.204047798",
          "127.769121348",
          "128.917023278",
          "128.250490253",
          "126.538990071",
          "126.9835430508",
          "126.9835430508",
          "126.9835430508",
          "126.98311544",
          "126.98311544",
          "126.98311544",
          "126.983640464",
          "126.98311544",
          "126.983640464",
          "126.98311544",
          "126.983640464",
          "126.983640464",
          "126.98311544",
          "126.981671632",
          "126.9835430508",
          "126.98311544",
          "126.983355051",
          "126.9835430508",
          "126.983347",
          "126.98311544",
          "126.869974021",
          "127.741370753",
          "128.616327564",
          "126.918393548",
          "127.947470346"
         ],
         "marker": {
          "color": "#636efa"
         },
         "mode": "markers",
         "name": "",
         "showlegend": false,
         "subplot": "mapbox",
         "type": "scattermapbox"
        }
       ],
       "layout": {
        "height": 700,
        "legend": {
         "tracegroupgap": 0
        },
        "mapbox": {
         "center": {
          "lat": 36,
          "lon": 128
         },
         "domain": {
          "x": [
           0,
           1
          ],
          "y": [
           0,
           1
          ]
         },
         "style": "carto-positron",
         "zoom": 5.5
        },
        "margin": {
         "t": 60
        },
        "template": {
         "data": {
          "bar": [
           {
            "error_x": {
             "color": "#2a3f5f"
            },
            "error_y": {
             "color": "#2a3f5f"
            },
            "marker": {
             "line": {
              "color": "#E5ECF6",
              "width": 0.5
             }
            },
            "type": "bar"
           }
          ],
          "barpolar": [
           {
            "marker": {
             "line": {
              "color": "#E5ECF6",
              "width": 0.5
             }
            },
            "type": "barpolar"
           }
          ],
          "carpet": [
           {
            "aaxis": {
             "endlinecolor": "#2a3f5f",
             "gridcolor": "white",
             "linecolor": "white",
             "minorgridcolor": "white",
             "startlinecolor": "#2a3f5f"
            },
            "baxis": {
             "endlinecolor": "#2a3f5f",
             "gridcolor": "white",
             "linecolor": "white",
             "minorgridcolor": "white",
             "startlinecolor": "#2a3f5f"
            },
            "type": "carpet"
           }
          ],
          "choropleth": [
           {
            "colorbar": {
             "outlinewidth": 0,
             "ticks": ""
            },
            "type": "choropleth"
           }
          ],
          "contour": [
           {
            "colorbar": {
             "outlinewidth": 0,
             "ticks": ""
            },
            "colorscale": [
             [
              0,
              "#0d0887"
             ],
             [
              0.1111111111111111,
              "#46039f"
             ],
             [
              0.2222222222222222,
              "#7201a8"
             ],
             [
              0.3333333333333333,
              "#9c179e"
             ],
             [
              0.4444444444444444,
              "#bd3786"
             ],
             [
              0.5555555555555556,
              "#d8576b"
             ],
             [
              0.6666666666666666,
              "#ed7953"
             ],
             [
              0.7777777777777778,
              "#fb9f3a"
             ],
             [
              0.8888888888888888,
              "#fdca26"
             ],
             [
              1,
              "#f0f921"
             ]
            ],
            "type": "contour"
           }
          ],
          "contourcarpet": [
           {
            "colorbar": {
             "outlinewidth": 0,
             "ticks": ""
            },
            "type": "contourcarpet"
           }
          ],
          "heatmap": [
           {
            "colorbar": {
             "outlinewidth": 0,
             "ticks": ""
            },
            "colorscale": [
             [
              0,
              "#0d0887"
             ],
             [
              0.1111111111111111,
              "#46039f"
             ],
             [
              0.2222222222222222,
              "#7201a8"
             ],
             [
              0.3333333333333333,
              "#9c179e"
             ],
             [
              0.4444444444444444,
              "#bd3786"
             ],
             [
              0.5555555555555556,
              "#d8576b"
             ],
             [
              0.6666666666666666,
              "#ed7953"
             ],
             [
              0.7777777777777778,
              "#fb9f3a"
             ],
             [
              0.8888888888888888,
              "#fdca26"
             ],
             [
              1,
              "#f0f921"
             ]
            ],
            "type": "heatmap"
           }
          ],
          "heatmapgl": [
           {
            "colorbar": {
             "outlinewidth": 0,
             "ticks": ""
            },
            "colorscale": [
             [
              0,
              "#0d0887"
             ],
             [
              0.1111111111111111,
              "#46039f"
             ],
             [
              0.2222222222222222,
              "#7201a8"
             ],
             [
              0.3333333333333333,
              "#9c179e"
             ],
             [
              0.4444444444444444,
              "#bd3786"
             ],
             [
              0.5555555555555556,
              "#d8576b"
             ],
             [
              0.6666666666666666,
              "#ed7953"
             ],
             [
              0.7777777777777778,
              "#fb9f3a"
             ],
             [
              0.8888888888888888,
              "#fdca26"
             ],
             [
              1,
              "#f0f921"
             ]
            ],
            "type": "heatmapgl"
           }
          ],
          "histogram": [
           {
            "marker": {
             "colorbar": {
              "outlinewidth": 0,
              "ticks": ""
             }
            },
            "type": "histogram"
           }
          ],
          "histogram2d": [
           {
            "colorbar": {
             "outlinewidth": 0,
             "ticks": ""
            },
            "colorscale": [
             [
              0,
              "#0d0887"
             ],
             [
              0.1111111111111111,
              "#46039f"
             ],
             [
              0.2222222222222222,
              "#7201a8"
             ],
             [
              0.3333333333333333,
              "#9c179e"
             ],
             [
              0.4444444444444444,
              "#bd3786"
             ],
             [
              0.5555555555555556,
              "#d8576b"
             ],
             [
              0.6666666666666666,
              "#ed7953"
             ],
             [
              0.7777777777777778,
              "#fb9f3a"
             ],
             [
              0.8888888888888888,
              "#fdca26"
             ],
             [
              1,
              "#f0f921"
             ]
            ],
            "type": "histogram2d"
           }
          ],
          "histogram2dcontour": [
           {
            "colorbar": {
             "outlinewidth": 0,
             "ticks": ""
            },
            "colorscale": [
             [
              0,
              "#0d0887"
             ],
             [
              0.1111111111111111,
              "#46039f"
             ],
             [
              0.2222222222222222,
              "#7201a8"
             ],
             [
              0.3333333333333333,
              "#9c179e"
             ],
             [
              0.4444444444444444,
              "#bd3786"
             ],
             [
              0.5555555555555556,
              "#d8576b"
             ],
             [
              0.6666666666666666,
              "#ed7953"
             ],
             [
              0.7777777777777778,
              "#fb9f3a"
             ],
             [
              0.8888888888888888,
              "#fdca26"
             ],
             [
              1,
              "#f0f921"
             ]
            ],
            "type": "histogram2dcontour"
           }
          ],
          "mesh3d": [
           {
            "colorbar": {
             "outlinewidth": 0,
             "ticks": ""
            },
            "type": "mesh3d"
           }
          ],
          "parcoords": [
           {
            "line": {
             "colorbar": {
              "outlinewidth": 0,
              "ticks": ""
             }
            },
            "type": "parcoords"
           }
          ],
          "pie": [
           {
            "automargin": true,
            "type": "pie"
           }
          ],
          "scatter": [
           {
            "marker": {
             "colorbar": {
              "outlinewidth": 0,
              "ticks": ""
             }
            },
            "type": "scatter"
           }
          ],
          "scatter3d": [
           {
            "line": {
             "colorbar": {
              "outlinewidth": 0,
              "ticks": ""
             }
            },
            "marker": {
             "colorbar": {
              "outlinewidth": 0,
              "ticks": ""
             }
            },
            "type": "scatter3d"
           }
          ],
          "scattercarpet": [
           {
            "marker": {
             "colorbar": {
              "outlinewidth": 0,
              "ticks": ""
             }
            },
            "type": "scattercarpet"
           }
          ],
          "scattergeo": [
           {
            "marker": {
             "colorbar": {
              "outlinewidth": 0,
              "ticks": ""
             }
            },
            "type": "scattergeo"
           }
          ],
          "scattergl": [
           {
            "marker": {
             "colorbar": {
              "outlinewidth": 0,
              "ticks": ""
             }
            },
            "type": "scattergl"
           }
          ],
          "scattermapbox": [
           {
            "marker": {
             "colorbar": {
              "outlinewidth": 0,
              "ticks": ""
             }
            },
            "type": "scattermapbox"
           }
          ],
          "scatterpolar": [
           {
            "marker": {
             "colorbar": {
              "outlinewidth": 0,
              "ticks": ""
             }
            },
            "type": "scatterpolar"
           }
          ],
          "scatterpolargl": [
           {
            "marker": {
             "colorbar": {
              "outlinewidth": 0,
              "ticks": ""
             }
            },
            "type": "scatterpolargl"
           }
          ],
          "scatterternary": [
           {
            "marker": {
             "colorbar": {
              "outlinewidth": 0,
              "ticks": ""
             }
            },
            "type": "scatterternary"
           }
          ],
          "surface": [
           {
            "colorbar": {
             "outlinewidth": 0,
             "ticks": ""
            },
            "colorscale": [
             [
              0,
              "#0d0887"
             ],
             [
              0.1111111111111111,
              "#46039f"
             ],
             [
              0.2222222222222222,
              "#7201a8"
             ],
             [
              0.3333333333333333,
              "#9c179e"
             ],
             [
              0.4444444444444444,
              "#bd3786"
             ],
             [
              0.5555555555555556,
              "#d8576b"
             ],
             [
              0.6666666666666666,
              "#ed7953"
             ],
             [
              0.7777777777777778,
              "#fb9f3a"
             ],
             [
              0.8888888888888888,
              "#fdca26"
             ],
             [
              1,
              "#f0f921"
             ]
            ],
            "type": "surface"
           }
          ],
          "table": [
           {
            "cells": {
             "fill": {
              "color": "#EBF0F8"
             },
             "line": {
              "color": "white"
             }
            },
            "header": {
             "fill": {
              "color": "#C8D4E3"
             },
             "line": {
              "color": "white"
             }
            },
            "type": "table"
           }
          ]
         },
         "layout": {
          "annotationdefaults": {
           "arrowcolor": "#2a3f5f",
           "arrowhead": 0,
           "arrowwidth": 1
          },
          "autotypenumbers": "strict",
          "coloraxis": {
           "colorbar": {
            "outlinewidth": 0,
            "ticks": ""
           }
          },
          "colorscale": {
           "diverging": [
            [
             0,
             "#8e0152"
            ],
            [
             0.1,
             "#c51b7d"
            ],
            [
             0.2,
             "#de77ae"
            ],
            [
             0.3,
             "#f1b6da"
            ],
            [
             0.4,
             "#fde0ef"
            ],
            [
             0.5,
             "#f7f7f7"
            ],
            [
             0.6,
             "#e6f5d0"
            ],
            [
             0.7,
             "#b8e186"
            ],
            [
             0.8,
             "#7fbc41"
            ],
            [
             0.9,
             "#4d9221"
            ],
            [
             1,
             "#276419"
            ]
           ],
           "sequential": [
            [
             0,
             "#0d0887"
            ],
            [
             0.1111111111111111,
             "#46039f"
            ],
            [
             0.2222222222222222,
             "#7201a8"
            ],
            [
             0.3333333333333333,
             "#9c179e"
            ],
            [
             0.4444444444444444,
             "#bd3786"
            ],
            [
             0.5555555555555556,
             "#d8576b"
            ],
            [
             0.6666666666666666,
             "#ed7953"
            ],
            [
             0.7777777777777778,
             "#fb9f3a"
            ],
            [
             0.8888888888888888,
             "#fdca26"
            ],
            [
             1,
             "#f0f921"
            ]
           ],
           "sequentialminus": [
            [
             0,
             "#0d0887"
            ],
            [
             0.1111111111111111,
             "#46039f"
            ],
            [
             0.2222222222222222,
             "#7201a8"
            ],
            [
             0.3333333333333333,
             "#9c179e"
            ],
            [
             0.4444444444444444,
             "#bd3786"
            ],
            [
             0.5555555555555556,
             "#d8576b"
            ],
            [
             0.6666666666666666,
             "#ed7953"
            ],
            [
             0.7777777777777778,
             "#fb9f3a"
            ],
            [
             0.8888888888888888,
             "#fdca26"
            ],
            [
             1,
             "#f0f921"
            ]
           ]
          },
          "colorway": [
           "#636efa",
           "#EF553B",
           "#00cc96",
           "#ab63fa",
           "#FFA15A",
           "#19d3f3",
           "#FF6692",
           "#B6E880",
           "#FF97FF",
           "#FECB52"
          ],
          "font": {
           "color": "#2a3f5f"
          },
          "geo": {
           "bgcolor": "white",
           "lakecolor": "white",
           "landcolor": "#E5ECF6",
           "showlakes": true,
           "showland": true,
           "subunitcolor": "white"
          },
          "hoverlabel": {
           "align": "left"
          },
          "hovermode": "closest",
          "mapbox": {
           "style": "light"
          },
          "paper_bgcolor": "white",
          "plot_bgcolor": "#E5ECF6",
          "polar": {
           "angularaxis": {
            "gridcolor": "white",
            "linecolor": "white",
            "ticks": ""
           },
           "bgcolor": "#E5ECF6",
           "radialaxis": {
            "gridcolor": "white",
            "linecolor": "white",
            "ticks": ""
           }
          },
          "scene": {
           "xaxis": {
            "backgroundcolor": "#E5ECF6",
            "gridcolor": "white",
            "gridwidth": 2,
            "linecolor": "white",
            "showbackground": true,
            "ticks": "",
            "zerolinecolor": "white"
           },
           "yaxis": {
            "backgroundcolor": "#E5ECF6",
            "gridcolor": "white",
            "gridwidth": 2,
            "linecolor": "white",
            "showbackground": true,
            "ticks": "",
            "zerolinecolor": "white"
           },
           "zaxis": {
            "backgroundcolor": "#E5ECF6",
            "gridcolor": "white",
            "gridwidth": 2,
            "linecolor": "white",
            "showbackground": true,
            "ticks": "",
            "zerolinecolor": "white"
           }
          },
          "shapedefaults": {
           "line": {
            "color": "#2a3f5f"
           }
          },
          "ternary": {
           "aaxis": {
            "gridcolor": "white",
            "linecolor": "white",
            "ticks": ""
           },
           "baxis": {
            "gridcolor": "white",
            "linecolor": "white",
            "ticks": ""
           },
           "bgcolor": "#E5ECF6",
           "caxis": {
            "gridcolor": "white",
            "linecolor": "white",
            "ticks": ""
           }
          },
          "title": {
           "x": 0.05
          },
          "xaxis": {
           "automargin": true,
           "gridcolor": "white",
           "linecolor": "white",
           "ticks": "",
           "title": {
            "standoff": 15
           },
           "zerolinecolor": "white",
           "zerolinewidth": 2
          },
          "yaxis": {
           "automargin": true,
           "gridcolor": "white",
           "linecolor": "white",
           "ticks": "",
           "title": {
            "standoff": 15
           },
           "zerolinecolor": "white",
           "zerolinewidth": 2
          }
         }
        },
        "title": {
         "text": "전국 동물보호센터 위치",
         "x": 0.5
        },
        "width": 700
       }
      },
      "text/html": [
       "<div>                            <div id=\"221c63df-7615-4d80-8529-df35fb8e66d8\" class=\"plotly-graph-div\" style=\"height:700px; width:700px;\"></div>            <script type=\"text/javascript\">                require([\"plotly\"], function(Plotly) {                    window.PLOTLYENV=window.PLOTLYENV || {};                                    if (document.getElementById(\"221c63df-7615-4d80-8529-df35fb8e66d8\")) {                    Plotly.newPlot(                        \"221c63df-7615-4d80-8529-df35fb8e66d8\",                        [{\"hovertemplate\": \"<b>%{hovertext}</b><br><br>lat=%{lat}<br>lng=%{lon}<extra></extra>\", \"hovertext\": [\"(\\uc0ac)\\ub300\\uad6c\\uc218\\uc758\\uc0ac\\ud68c\", \"C.T\\uc885\\ud569\\ub3d9\\ubb3c\\ubcd1\\uc6d0\", \"MK\\ub3d9\\ubb3c\\ubcd1\\uc6d0\", \"\\uac00\\uc815\\ub3d9\\ubb3c\\ubcd1\\uc6d0\", \"\\uac00\\ud3c9\\uad70\\uc720\\uae30\\ub3d9\\ubb3c\\ubcf4\\ud638\\uc18c\", \"\\uac10\\uc790\\ub3d9\\ubb3c\\ubcd1\\uc6d0\", \"\\uac15\\ub0a8\\ub3d9\\ubb3c\\ubcd1\\uc6d0\", \"\\uac15\\ub989\\uc2dc\\ub3d9\\ubb3c\\uc0ac\\ub791\\uc13c\\ud130\", \"\\uac15\\uc9c4\\uad70 \\uc720\\uae30\\uacac \\ubcf4\\ud638\\uc18c\", \"\\uac15\\ud604\\ub9bc\\ub3d9\\ubb3c\\ubcd1\\uc6d0\", \"\\uac70\\uc81c\\uc2dc\\uc720\\uae30\\ub3d9\\ubb3c\\ubcf4\\ud638\\uc18c\", \"\\uacbd\\ub3d9\\ub3d9\\ubb3c\\ubcd1\\uc6d0\", \"\\uacbd\\uc8fc\\uc2dc\\uc720\\uae30\\ub3d9\\ubb3c\\ubcf4\\ud638\\uc18c\", \"\\uace0\\uc591\\uc2dc\\ub3d9\\ubb3c\\ubcf4\\ud638\\uc13c\\ud130\", \"\\uace0\\ucc3d\\ub3d9\\ubb3c\\ubcd1\\uc6d0\", \"\\uad11\\uc591\\uc2dc \\uc784\\uc2dc\\ubcf4\\ud638\\uc18c\", \"\\uad11\\uc8fc \\ub3d9\\ubb3c\\ubcf4\\ud638\\uc18c\", \"\\uad70\\uc0b0\\uc720\\uae30\\ub3d9\\ubb3c\\ubcf4\\ud638\\uc13c\\ud130\", \"\\uae08\\uac15\\ub3d9\\ubb3c\\ubcd1\\uc6d0\", \"\\uae40\\ucc9c\\uc2dc \\ub3d9\\ubb3c\\ubcf4\\ud638\\uc13c\\ud130\", \"\\ub0a8\\ubd80\\uc5ec\\ub3d9\\ubb3c\\ubcd1\\uc6d0\", \"\\ub0a8\\uc0b0\\ub3d9\\ubb3c\\ubcd1\\uc6d0\", \"\\ub178\\uc6d0\\ubc18\\ub824\\ub3d9\\ubb3c\\ubb38\\ud654\\uc13c\\ud130\", \"\\ub204\\ub9ac\\ub3d9\\ubb3c\\ubcd1\\uc6d0\", \"\\ub204\\ub9ac\\ub3d9\\ubb3c\\ubcd1\\uc6d0\", \"\\ub204\\ub9ac\\ub3d9\\ubb3c\\ubcd1\\uc6d0\", \"\\ub2e4\\ub098\\ub3d9\\ubb3c\\ubcd1\\uc6d0\", \"\\ub2e8\\uc591\\uad70\\uc720\\uae30\\ub3d9\\ubb3c\\ubcf4\\ud638\\uc18c\", \"\\ub2f4\\uc591\\uad70 \\ub3d9\\ubb3c\\ubcf4\\ud638 \\uc13c\\ud130\", \"\\ub300\\uad6c\\uc218\\uc758\\uc0ac\\ud68c(\\uc544\\uc774\\ud3ab)\", \"\\ub300\\uad6c\\uc2dc\\uc218\\uc758\\uc0ac\\ud68c(\\ub354\\ub09c)\", \"\\ub300\\uad6c\\uc2dc\\uc218\\uc758\\uc0ac\\ud68c(\\ub354\\ud3ab)\", \"\\ub300\\uad6c\\uc2dc\\uc218\\uc758\\uc0ac\\ud68c(\\ub3d9\\uc778)\", \"\\ub300\\uad6c\\uc2dc\\uc218\\uc758\\uc0ac\\ud68c(\\ubcf4\\uacbd)\", \"\\ub300\\uad6c\\uc2dc\\uc218\\uc758\\uc0ac\\ud68c(\\uc0bc\\ub355)\", \"\\ub300\\uad6c\\uc2dc\\uc218\\uc758\\uc0ac\\ud68c(\\uc0bc\\uc131)\", \"\\ub300\\uad6c\\uc2dc\\uc218\\uc758\\uc0ac\\ud68c(\\uc6d0)\", \"\\ub300\\uc804\\ub3d9\\ubb3c\\ubcf4\\ud638\\uc13c\\ud130\", \"\\ub300\\uc804\\ub3d9\\ubb3c\\ubcf4\\ud638\\uc13c\\ud130\", \"\\ub300\\uc804\\ub3d9\\ubb3c\\ubcf4\\ud638\\uc13c\\ud130\", \"\\ub300\\uc804\\ub3d9\\ubb3c\\ubcf4\\ud638\\uc13c\\ud130\", \"\\ub300\\uc804\\ub3d9\\ubb3c\\ubcf4\\ud638\\uc13c\\ud130\", \"\\ub3d9\\ubb3c\\ubcf4\\ud638\\uad00\\ub9ac\\ud611\\ud68c\", \"\\ub3d9\\uc778\\ub3d9\\ubb3c\\ubcd1\\uc6d0\", \"\\ub7ec\\ube0c\\ud3ab\\ub3d9\\ubb3c\\ubcd1\\uc6d0\", \"\\ub7ec\\ube0c\\ud3ab\\uc885\\ud569\\ub3d9\\ubb3c\\ubcd1\\uc6d0\", \"\\ub9ac\\ud2c0\\uc96c\\ub3d9\\ubb3c\\uc758\\ub8cc\\uc6d0\", \"\\ub9c8\\uc0b0\\uc720\\uae30\\ub3d9\\ubb3c\\ubcf4\\ud638\\uc18c\", \"\\ub9dd\\uc6d0\\ub3d9\\ubb3c\\ubcd1\\uc6d0\", \"\\ubbf8\\ub798\\ud3ab\\ub3d9\\ubb3c\\ubcd1\\uc6d0\", \"\\ubc00\\uc591\\uc2dc\\ub3d9\\ubb3c\\ubcf4\\ud638\\uc13c\\ud130\", \"\\ubc15\\ucc3d\\uc11d\\ub3d9\\ubb3c\\ubcd1\\uc6d0\", \"\\ubc18\\ub824\\ub3d9\\ubb3c\\ubcf4\\ud638\\uc13c\\ud130\", \"\\ubc94\\uc11c\\uc870\\uc740\\ub3d9\\ubb3c\\ubcd1\\uc6d0\", \"\\ubca0\\uc2a4\\ud2b8\\ub3d9\\ubb3c\\ubcd1\\uc6d0\", \"\\ubd09\\ud654\\uad70\\uc720\\uae30\\ub3d9\\ubb3c\\ubcf4\\ud638\\uc18c\", \"\\ubd80\\uc0b0\\ub3d9\\ubb3c\\ubcf4\\ud638\\uc13c\\ud130\", \"\\uc0ac\\ub791\\ub3d9\\ubb3c\\ubcd1\\uc6d0\", \"\\uc0b0\\uccad\\ub3d9\\ubb3c\\ubcf4\\ud638\\uc13c\\ud130\", \"\\uc0bc\\ucc99\\uc2dc\\uc720\\uae30\\ub3d9\\ubb3c\\ubcf4\\ud638\\uc18c\", \"\\uc11c\\ucc9c\\uc720\\uae30\\ub3d9\\ubb3c\\ubcf4\\ud638\\uc18c\", \"\\uc218\\uc6d0\\uc2dc \\ub3d9\\ubb3c\\ubcf4\\ud638\\uc13c\\ud130\", \"\\uc2a4\\ub9c8\\uc77c\\ub3d9\\ubb3c\\ubcd1\\uc6d0\", \"\\uc2a4\\ud0c0\\ucea3\\uce20\", \"\\uc2e0\\uacf5\\ud56d\\ub3d9\\ubb3c\\ubcd1\\uc6d0\", \"\\uc2e0\\uc138\\uacc4\\ub3d9\\ubb3c\\ubcd1\\uc6d0\", \"\\uc544\\uc0b0\\uc2dc\\ub3d9\\ubb3c\\ubcf4\\ud638\\uc13c\\ud130\", \"\\uc591\\uc0b0\\uc2dc\\uc720\\uae30\\ub3d9\\ubb3c\\ubcf4\\ud638\\uc18c\", \"\\uc601\\ub355\\uc720\\uae30\\ub3d9\\ubb3c\\ubcf4\\ud638\\uc13c\\ud130\", \"\\uc601\\uc77c\\ub3d9\\ubb3c\\ud50c\\ub7ec\\uc2a4\", \"\\uc601\\uc8fc\\uc2dc \\ub3d9\\ubb3c\\ubcf4\\ud638\\uc13c\\ud130\", \"\\uc601\\ucc9c\\uc720\\uae30\\ub3d9\\ubb3c\\ubcf4\\ud638\\uc13c\\ud130\", \"\\uc608\\uc2a4\\ub3d9\\ubb3c\\ubcd1\\uc6d0\", \"\\uc608\\ucc9c\\uad70\\uc720\\uae30\\ub3d9\\ubb3c\\ubcf4\\ud638\\uc18c\", \"\\uc625\\ucc9c\\ub3d9\\ubb3c\\ubcd1\\uc6d0\", \"\\uc640\\uc6b0\\ub3d9\\ubb3c\\ubcd1\\uc6d0\", \"\\uc6a9\\uac15\\ub3d9\\ubb3c\\ubcd1\\uc6d0\", \"\\uc6a9\\uc778\\uc2dc \\ub3d9\\ubb3c\\ubcf4\\ud638\\uc13c\\ud130\", \"\\uc6b0\\uc131\\ub3d9\\ubb3c\\ubcd1\\uc6d0\", \"\\uc6b8\\ub989\\uad70\\ub18d\\uc5c5\\uae30\\uc220\\uc13c\\ud130\", \"\\uc6b8\\uc0b0\\ub3d9\\ubb3c\\ubcd1\\uc6d0\", \"\\uc6b8\\uc0b0\\uc720\\uae30\\ub3d9\\ubb3c\\ubcf4\\ud638\\uc13c\\ud130\", \"\\uc6b8\\uc0b0\\uc720\\uae30\\ub3d9\\ubb3c\\ubcf4\\ud638\\uc13c\\ud130\", \"\\uc6b8\\uc0b0\\uc720\\uae30\\ub3d9\\ubb3c\\ubcf4\\ud638\\uc13c\\ud130\", \"\\uc6b8\\uc0b0\\uc720\\uae30\\ub3d9\\ubb3c\\ubcf4\\ud638\\uc13c\\ud130\", \"\\uc6d0\\uc8fc\\uc720\\uae30\\ub3d9\\ubb3c\\ubcf4\\ud638\\uc13c\\ud130\", \"\\uc6d4\\ub4dc\\ub3d9\\ubb3c\\ubcd1\\uc6d0\", \"\\uc6f0\\ucf00\\uc5b4 \\ub3d9\\ubb3c\\ubcd1\\uc6d0\", \"\\uc720\\uae30\\ub3d9\\ubb3c\\ubc0f\\ub3d9\\ubb3c\\ubcf4\\ud638\\ud611\", \"\\uc720\\uae30\\ub3d9\\ubb3c\\ubcf4\\ud638\\uc13c\\ud130\", \"\\uc720\\uae30\\ub3d9\\ubb3c\\ubcf4\\ud638\\uc18c\", \"\\uc720\\uae30\\ub3d9\\ubb3c\\uc784\\uc2dc\\ubcf4\\ud638\\uc13c\\ud130\", \"\\uc775\\uc0b0\\uc720\\uae30\\ub3d9\\ubb3c\\ubcf4\\ud638\\uc18c\", \"\\uc778\\ucc9c\\uad11\\uc5ed\\uc2dc \\uc218\\uc758\\uc0ac\\ud68c \", \"\\uc778\\ucc9c\\uc218\\uc758\\uc0ac\\ud68c\\uc720\\uae30\\ub3d9\\ubb3c\", \"\\uc7a5\\uc131\\uad70\\ub3d9\\ubb3c\\ubcf4\\ud638\\uc13c\\ud130\", \"\\uc7a5\\ud765\\uad70 \\ub3d9\\ubb3c\\ubcf4\\ud638\\uc13c\\ud130\", \"\\uc804\\ubd81\\ub9d0\\uc0b0\\uc5c5\\ubcf5\\ud569\\uc13c\\ud130\", \"\\uc815\\ucca0\\ub3d9\\ubb3c\\ubcd1\\uc6d0\", \"\\uc81c\\ub2c8\\uc2a4\\ub3d9\\ubb3c\\ubcd1\\uc6d0\", \"\\uc81c\\uc8fc \\ub3d9\\ubb3c\\ubcf4\\ud638\\uc13c\\ud130\", \"\\uc81c\\ucc9c\\uc2dc \\ub3d9\\ubb3c\\ubcf4\\ud638\\uc13c\\ud130\", \"\\uc885\\ud569\\uac00\\ucd95\\ubcd1\\uc6d0\", \"\\uc8fc\\ub3d9\\ubb3c\\ubcd1\\uc6d0\", \"\\uc9c4\\ub3c4\\uac1c\\uba54\\ub514\\uceec\\uc13c\\ud130\", \"\\uc9c4\\uc8fc\\uc2dc\\uc720\\uae30\\ub3d9\\ubb3c\\ubcf4\\ud638\\uc18c\", \"\\uc9c4\\ud574\\uc720\\uae30\\ub3d9\\ubb3c\\ubcf4\\ud638\\uc18c\", \"\\ucc3d\\ub155 \\uc720\\uae30\\ub3d9\\ubb3c\\ubcf4\\ud638\\uc18c\", \"\\ucc3d\\uc6d0\\uc720\\uae30\\ub3d9\\ubb3c\\ubcf4\\ud638\\uc18c\", \"\\uccad\\ub3c4\\uad70\\ub3d9\\ubb3c\\ubcf4\\ud638\\uc18c\", \"\\ucd5c\\ub3d9\\ubb3c\\ubcd1\\uc6d0\", \"\\ucd5c\\uc0c1\\uc624\\ub3d9\\ubb3c\\ubcd1\\uc6d0\", \"\\ucd5c\\uc885\\uc8fc\\ub3d9\\ubb3c\\ubcd1\\uc6d0\", \"\\ucd98\\ucc9c\\uc2dc \\ub3d9\\ubb3c\\ubcf4\\ud638\\uc13c\\ud130\", \"\\ucfe8\\ud3ab \\ud648\\ud50c\\ub7ec\\uc2a4 \\ubd81\\uad6c\\uc810\", \"\\ucfe8\\ud3ab\\ub3d9\\ubb3c\\ubcd1\\uc6d0\", \"\\ud0dc\\ubc31\\uc720\\uae30\\ub3d9\\ubb3c\", \"\\ud30c\\uc8fc365\\ub3d9\\ubb3c\\uc758\\ub8cc\\uc13c\\ud130\", \"\\ud3ab\\ub3d9\\ubb3c\\ubcd1\\uc6d0\", \"\\ud3ab\\ud1a0\\ud53c\\uc544\\ub3d9\\ubb3c\\ubcd1\\uc6d0\", \"\\ud3c9\\ud0dd\\uc2dc\\uc720\\uae30\\ub3d9\\ubb3c\\ubcf4\\ud638\\uc18c\", \"\\ud558\\ub0a8\\ub3d9\\ubb3c\\ubcd1\\uc6d0\", \"\\ud558\\ub3d9\\uad70\\uc720\\uae30\\ub3d9\\ubb3c\\ubcf4\\ud638\\uc18c\", \"\\ud558\\uc580\\ube44\\ub458\\uae30\", \"\\ud558\\uc601\\ud6a8\", \"\\ud559\\uad50\\ub3d9\\ubb3c\\uc784\\uc2dc\\ubcf4\\ud638\\uc13c\\ud130\", \"\\ud55c\\uad6d\\ub3d9\\ubb3c\\uad6c\\uc870\\uad00\\ub9ac\\ud611\\ud68c\", \"\\ud55c\\uad6d\\ub3d9\\ubb3c\\uad6c\\uc870\\uad00\\ub9ac\\ud611\\ud68c\", \"\\ud55c\\uad6d\\ub3d9\\ubb3c\\uad6c\\uc870\\uad00\\ub9ac\\ud611\\ud68c\", \"\\ud55c\\uad6d\\ub3d9\\ubb3c\\uad6c\\uc870\\uad00\\ub9ac\\ud611\\ud68c\", \"\\ud55c\\uad6d\\ub3d9\\ubb3c\\uad6c\\uc870\\uad00\\ub9ac\\ud611\\ud68c\", \"\\ud55c\\uad6d\\ub3d9\\ubb3c\\uad6c\\uc870\\uad00\\ub9ac\\ud611\\ud68c\", \"\\ud55c\\uad6d\\ub3d9\\ubb3c\\uad6c\\uc870\\uad00\\ub9ac\\ud611\\ud68c\", \"\\ud55c\\uad6d\\ub3d9\\ubb3c\\uad6c\\uc870\\uad00\\ub9ac\\ud611\\ud68c\", \"\\ud55c\\uad6d\\ub3d9\\ubb3c\\uad6c\\uc870\\uad00\\ub9ac\\ud611\\ud68c\", \"\\ud55c\\uad6d\\ub3d9\\ubb3c\\uad6c\\uc870\\uad00\\ub9ac\\ud611\\ud68c\", \"\\ud55c\\uad6d\\ub3d9\\ubb3c\\uad6c\\uc870\\uad00\\ub9ac\\ud611\\ud68c\", \"\\ud55c\\uad6d\\ub3d9\\ubb3c\\uad6c\\uc870\\uad00\\ub9ac\\ud611\\ud68c\", \"\\ud55c\\uad6d\\ub3d9\\ubb3c\\uad6c\\uc870\\uad00\\ub9ac\\ud611\\ud68c\", \"\\ud55c\\uad6d\\ub3d9\\ubb3c\\uad6c\\uc870\\uad00\\ub9ac\\ud611\\ud68c\", \"\\ud55c\\uad6d\\ub3d9\\ubb3c\\uad6c\\uc870\\uad00\\ub9ac\\ud611\\ud68c\", \"\\ud55c\\uad6d\\ub3d9\\ubb3c\\uad6c\\uc870\\uad00\\ub9ac\\ud611\\ud68c\", \"\\ud55c\\uad6d\\ub3d9\\ubb3c\\uad6c\\uc870\\uad00\\ub9ac\\ud611\\ud68c\", \"\\ud55c\\uad6d\\ub3d9\\ubb3c\\uad6c\\uc870\\uad00\\ub9ac\\ud611\\ud68c\", \"\\ud55c\\uad6d\\ub3d9\\ubb3c\\uad6c\\uc870\\uad00\\ub9ac\\ud611\\ud68c\", \"\\ud55c\\uad6d\\ub3d9\\ubb3c\\uad6c\\uc870\\uad00\\ub9ac\\ud611\\ud68c\", \"\\ud55c\\uad6d\\uc57c\\uc0dd\\ub3d9\\ubb3c\\ubcf4\\ud638\\ud611\\ud68c\", \"\\ud568\\uc591\\uad70\\uc704\\ud0c1\\ubcf4\\ud638\\uc18c\", \"\\ud5c8\\ub3d9\\ubb3c\\ubcd1\\uc6d0\", \"\\ud64d\\uc775\\ub3d9\\ubb3c\\ubcd1\\uc6d0\", \"\\ud64d\\ucc9c\\uad70\\uc720\\uae30\\ub3d9\\ubb3c\\ubcf4\\ud638\\uc18c\"], \"lat\": [\"35.922355665\", \"37.546859734\", \"35.433533\", \"37.515665283\", \"37.8459716369\", \"35.841278417\", \"35.542604193\", \"37.698788664\", \"34.62315224\", \"37.54403479\", \"34.883767588\", \"37.471957668\", \"35.860817385\", \"37.649779396\", \"35.4379775760\", \"34.988870019\", \"35.22293555\", \"35.960814865\", \"35.871651862\", \"36.084043041\", \"36.28164852\", \"35.551956519\", \"37.671351047\", \"35.194808961\", \"35.194808961\", \"35.1948086299\", \"37.378820999\", \"37.017139\", \"35.358597268\", \"35.863815962\", \"35.869326757\", \"35.889095781\", \"35.868390999\", \"35.877030489\", \"35.864857229\", \"35.860186857\", \"35.858496547\", \"36.362990159\", \"36.362990159\", \"36.362990159\", \"36.362990159\", \"36.362990159\", \"35.178922615\", \"35.868390999\", \"37.53867483\", \"37.4811777\", \"35.541733493\", \"35.1194213340\", \"37.554863058\", \"35.540416309\", \"35.40768428\", \"37.541517149\", \"36.590336584\", \"35.56351794\", \"37.73968128\", \"36.903668173\", \"35.151443296\", \"35.535831807\", \"35.426394\", \"37.359297145\", \"36.179524706\", \"37.28501978\", \"35.544706294\", \"37.313576381\", \"37.493607492\", \"35.854747079\", \"36.927579855\", \"35.324090\", \"36.43572989\", \"36.14538842\", \"36.766579037\", \"35.990661644\", \"35.84890794\", \"36.674849138\", \"36.303049814\", \"35.570265956\", \"37.544846922\", \"37.24331386\", \"36.230581367\", \"37.460054248\", \"35.555686102\", \"35.410291657\", \"35.390890519\", \"35.410291657\", \"35.390890519\", \"37.416318018\", \"36.108375551\", \"37.556875043\", \"35.178922615\", \"36.635989904\", \"34.7875755\", \"34.331872997\", \"35.936684242\", \"37.566239094\", \"37.571188167\", \"35.241536\", \"34.667650229\", \"35.823616274\", \"35.562033122\", \"35.859113776\", \"33.455532904\", \"37.084565721\", \"36.599690621\", \"35.543654331\", \"34.482361769\", \"35.227086565\", \"35.1139994618\", \"35.573454643\", \"35.2382793017\", \"35.6492911927\", \"36.747003864\", \"36.484828662\", \"36.172622878\", \"37.923210233\", \"35.630043356\", \"35.576007017\", \"37.172887869\", \"37.7277542870\", \"35.841449078\", \"37.367095691\", \"37.1306303346\", \"37.537155986\", \"35.07884862\", \"35.177499068\", \"35.328164046\", \"35.045491004\", \"37.8701158122\", \"37.8701158122\", \"37.8701158122\", \"37.869894005\", \"37.869894005\", \"37.869894005\", \"37.870483656\", \"37.869894005\", \"37.870483656\", \"37.869894005\", \"37.870483656\", \"37.870483656\", \"37.869894005\", \"37.874444736\", \"37.8701158122\", \"37.869894005\", \"37.870666189\", \"37.8701158122\", \"37.870198\", \"37.869894005\", \"37.340107739\", \"35.507592843\", \"35.854639935\", \"37.548099112\", \"37.755090937\"], \"legendgroup\": \"\", \"lon\": [\"128.599034473\", \"126.958384698\", \"129.308733\", \"126.673021837\", \"127.4986540628\", \"128.704727246\", \"129.330474173\", \"128.829276323\", \"126.776205899\", \"126.862420091\", \"128.573667027\", \"126.629945155\", \"129.219656239\", \"126.870084624\", \"126.6995480785\", \"127.57785957\", \"126.881646146\", \"126.816307954\", \"128.635874536\", \"128.118882067\", \"126.909280389\", \"129.268013763\", \"127.049962143\", \"129.206317652\", \"129.206317652\", \"129.2063155055\", \"128.659550261\", \"128.301287\", \"127.001965613\", \"128.556541359\", \"128.550478302\", \"128.560711191\", \"128.60968014\", \"128.57099979\", \"128.598401934\", \"128.557148742\", \"128.605454984\", \"127.286853557\", \"127.286853557\", \"127.286853557\", \"127.286853557\", \"127.286853557\", \"128.899758103\", \"128.60968014\", \"127.205225785\", \"126.909573105\", \"129.306308764\", \"128.4682650739\", \"126.910866093\", \"129.312249549\", \"128.879770197\", \"126.950364461\", \"127.365419051\", \"129.23102294\", \"126.505433379\", \"128.772537713\", \"128.939632885\", \"129.313489602\", \"127.881274\", \"129.21957696\", \"126.772387742\", \"127.078698506\", \"129.260875251\", \"126.836753395\", \"126.537184779\", \"128.613181114\", \"127.038607031\", \"129.034170\", \"129.357620501\", \"129.333019051\", \"128.600891055\", \"128.926441328\", \"128.624392603\", \"128.47624852\", \"127.568776907\", \"129.12309314\", \"126.939479132\", \"127.159335344\", \"128.566102004\", \"130.87377027\", \"129.337060829\", \"129.288511713\", \"129.286001678\", \"129.288511713\", \"129.286001678\", \"127.912860682\", \"127.484174292\", \"126.919088707\", \"128.899758103\", \"128.683831267\", \"127.663041626\", \"126.781226058\", \"127.00241245\", \"126.719642412\", \"126.728413758\", \"126.610565\", \"126.944610554\", \"126.994724153\", \"129.355306941\", \"128.633406625\", \"126.589213112\", \"128.215049843\", \"128.202505671\", \"129.347125727\", \"126.278574748\", \"128.121872771\", \"128.7543116703\", \"128.507695136\", \"128.6456003034\", \"128.7343704070\", \"126.298537278\", \"127.717656316\", \"127.782333696\", \"127.734479045\", \"129.344880426\", \"129.359022747\", \"129.040791072\", \"126.7343761802\", \"128.700814566\", \"127.127681498\", \"127.0554225287\", \"127.204047798\", \"127.769121348\", \"128.917023278\", \"128.250490253\", \"126.538990071\", \"126.9835430508\", \"126.9835430508\", \"126.9835430508\", \"126.98311544\", \"126.98311544\", \"126.98311544\", \"126.983640464\", \"126.98311544\", \"126.983640464\", \"126.98311544\", \"126.983640464\", \"126.983640464\", \"126.98311544\", \"126.981671632\", \"126.9835430508\", \"126.98311544\", \"126.983355051\", \"126.9835430508\", \"126.983347\", \"126.98311544\", \"126.869974021\", \"127.741370753\", \"128.616327564\", \"126.918393548\", \"127.947470346\"], \"marker\": {\"color\": \"#636efa\"}, \"mode\": \"markers\", \"name\": \"\", \"showlegend\": false, \"subplot\": \"mapbox\", \"type\": \"scattermapbox\"}],                        {\"height\": 700, \"legend\": {\"tracegroupgap\": 0}, \"mapbox\": {\"center\": {\"lat\": 36, \"lon\": 128}, \"domain\": {\"x\": [0.0, 1.0], \"y\": [0.0, 1.0]}, \"style\": \"carto-positron\", \"zoom\": 5.5}, \"margin\": {\"t\": 60}, \"template\": {\"data\": {\"bar\": [{\"error_x\": {\"color\": \"#2a3f5f\"}, \"error_y\": {\"color\": \"#2a3f5f\"}, \"marker\": {\"line\": {\"color\": \"#E5ECF6\", \"width\": 0.5}}, \"type\": \"bar\"}], \"barpolar\": [{\"marker\": {\"line\": {\"color\": \"#E5ECF6\", \"width\": 0.5}}, \"type\": \"barpolar\"}], \"carpet\": [{\"aaxis\": {\"endlinecolor\": \"#2a3f5f\", \"gridcolor\": \"white\", \"linecolor\": \"white\", \"minorgridcolor\": \"white\", \"startlinecolor\": \"#2a3f5f\"}, \"baxis\": {\"endlinecolor\": \"#2a3f5f\", \"gridcolor\": \"white\", \"linecolor\": \"white\", \"minorgridcolor\": \"white\", \"startlinecolor\": \"#2a3f5f\"}, \"type\": \"carpet\"}], \"choropleth\": [{\"colorbar\": {\"outlinewidth\": 0, \"ticks\": \"\"}, \"type\": \"choropleth\"}], \"contour\": [{\"colorbar\": {\"outlinewidth\": 0, \"ticks\": \"\"}, \"colorscale\": [[0.0, \"#0d0887\"], [0.1111111111111111, \"#46039f\"], [0.2222222222222222, \"#7201a8\"], [0.3333333333333333, \"#9c179e\"], [0.4444444444444444, \"#bd3786\"], [0.5555555555555556, \"#d8576b\"], [0.6666666666666666, \"#ed7953\"], [0.7777777777777778, \"#fb9f3a\"], [0.8888888888888888, \"#fdca26\"], [1.0, \"#f0f921\"]], \"type\": \"contour\"}], \"contourcarpet\": [{\"colorbar\": {\"outlinewidth\": 0, \"ticks\": \"\"}, \"type\": \"contourcarpet\"}], \"heatmap\": [{\"colorbar\": {\"outlinewidth\": 0, \"ticks\": \"\"}, \"colorscale\": [[0.0, \"#0d0887\"], [0.1111111111111111, \"#46039f\"], [0.2222222222222222, \"#7201a8\"], [0.3333333333333333, \"#9c179e\"], [0.4444444444444444, \"#bd3786\"], [0.5555555555555556, \"#d8576b\"], [0.6666666666666666, \"#ed7953\"], [0.7777777777777778, \"#fb9f3a\"], [0.8888888888888888, \"#fdca26\"], [1.0, \"#f0f921\"]], \"type\": \"heatmap\"}], \"heatmapgl\": [{\"colorbar\": {\"outlinewidth\": 0, \"ticks\": \"\"}, \"colorscale\": [[0.0, \"#0d0887\"], [0.1111111111111111, \"#46039f\"], [0.2222222222222222, \"#7201a8\"], [0.3333333333333333, \"#9c179e\"], [0.4444444444444444, \"#bd3786\"], [0.5555555555555556, \"#d8576b\"], [0.6666666666666666, \"#ed7953\"], [0.7777777777777778, \"#fb9f3a\"], [0.8888888888888888, \"#fdca26\"], [1.0, \"#f0f921\"]], \"type\": \"heatmapgl\"}], \"histogram\": [{\"marker\": {\"colorbar\": {\"outlinewidth\": 0, \"ticks\": \"\"}}, \"type\": \"histogram\"}], \"histogram2d\": [{\"colorbar\": {\"outlinewidth\": 0, \"ticks\": \"\"}, \"colorscale\": [[0.0, \"#0d0887\"], [0.1111111111111111, \"#46039f\"], [0.2222222222222222, \"#7201a8\"], [0.3333333333333333, \"#9c179e\"], [0.4444444444444444, \"#bd3786\"], [0.5555555555555556, \"#d8576b\"], [0.6666666666666666, \"#ed7953\"], [0.7777777777777778, \"#fb9f3a\"], [0.8888888888888888, \"#fdca26\"], [1.0, \"#f0f921\"]], \"type\": \"histogram2d\"}], \"histogram2dcontour\": [{\"colorbar\": {\"outlinewidth\": 0, \"ticks\": \"\"}, \"colorscale\": [[0.0, \"#0d0887\"], [0.1111111111111111, \"#46039f\"], [0.2222222222222222, \"#7201a8\"], [0.3333333333333333, \"#9c179e\"], [0.4444444444444444, \"#bd3786\"], [0.5555555555555556, \"#d8576b\"], [0.6666666666666666, \"#ed7953\"], [0.7777777777777778, \"#fb9f3a\"], [0.8888888888888888, \"#fdca26\"], [1.0, \"#f0f921\"]], \"type\": \"histogram2dcontour\"}], \"mesh3d\": [{\"colorbar\": {\"outlinewidth\": 0, \"ticks\": \"\"}, \"type\": \"mesh3d\"}], \"parcoords\": [{\"line\": {\"colorbar\": {\"outlinewidth\": 0, \"ticks\": \"\"}}, \"type\": \"parcoords\"}], \"pie\": [{\"automargin\": true, \"type\": \"pie\"}], \"scatter\": [{\"marker\": {\"colorbar\": {\"outlinewidth\": 0, \"ticks\": \"\"}}, \"type\": \"scatter\"}], \"scatter3d\": [{\"line\": {\"colorbar\": {\"outlinewidth\": 0, \"ticks\": \"\"}}, \"marker\": {\"colorbar\": {\"outlinewidth\": 0, \"ticks\": \"\"}}, \"type\": \"scatter3d\"}], \"scattercarpet\": [{\"marker\": {\"colorbar\": {\"outlinewidth\": 0, \"ticks\": \"\"}}, \"type\": \"scattercarpet\"}], \"scattergeo\": [{\"marker\": {\"colorbar\": {\"outlinewidth\": 0, \"ticks\": \"\"}}, \"type\": \"scattergeo\"}], \"scattergl\": [{\"marker\": {\"colorbar\": {\"outlinewidth\": 0, \"ticks\": \"\"}}, \"type\": \"scattergl\"}], \"scattermapbox\": [{\"marker\": {\"colorbar\": {\"outlinewidth\": 0, \"ticks\": \"\"}}, \"type\": \"scattermapbox\"}], \"scatterpolar\": [{\"marker\": {\"colorbar\": {\"outlinewidth\": 0, \"ticks\": \"\"}}, \"type\": \"scatterpolar\"}], \"scatterpolargl\": [{\"marker\": {\"colorbar\": {\"outlinewidth\": 0, \"ticks\": \"\"}}, \"type\": \"scatterpolargl\"}], \"scatterternary\": [{\"marker\": {\"colorbar\": {\"outlinewidth\": 0, \"ticks\": \"\"}}, \"type\": \"scatterternary\"}], \"surface\": [{\"colorbar\": {\"outlinewidth\": 0, \"ticks\": \"\"}, \"colorscale\": [[0.0, \"#0d0887\"], [0.1111111111111111, \"#46039f\"], [0.2222222222222222, \"#7201a8\"], [0.3333333333333333, \"#9c179e\"], [0.4444444444444444, \"#bd3786\"], [0.5555555555555556, \"#d8576b\"], [0.6666666666666666, \"#ed7953\"], [0.7777777777777778, \"#fb9f3a\"], [0.8888888888888888, \"#fdca26\"], [1.0, \"#f0f921\"]], \"type\": \"surface\"}], \"table\": [{\"cells\": {\"fill\": {\"color\": \"#EBF0F8\"}, \"line\": {\"color\": \"white\"}}, \"header\": {\"fill\": {\"color\": \"#C8D4E3\"}, \"line\": {\"color\": \"white\"}}, \"type\": \"table\"}]}, \"layout\": {\"annotationdefaults\": {\"arrowcolor\": \"#2a3f5f\", \"arrowhead\": 0, \"arrowwidth\": 1}, \"autotypenumbers\": \"strict\", \"coloraxis\": {\"colorbar\": {\"outlinewidth\": 0, \"ticks\": \"\"}}, \"colorscale\": {\"diverging\": [[0, \"#8e0152\"], [0.1, \"#c51b7d\"], [0.2, \"#de77ae\"], [0.3, \"#f1b6da\"], [0.4, \"#fde0ef\"], [0.5, \"#f7f7f7\"], [0.6, \"#e6f5d0\"], [0.7, \"#b8e186\"], [0.8, \"#7fbc41\"], [0.9, \"#4d9221\"], [1, \"#276419\"]], \"sequential\": [[0.0, \"#0d0887\"], [0.1111111111111111, \"#46039f\"], [0.2222222222222222, \"#7201a8\"], [0.3333333333333333, \"#9c179e\"], [0.4444444444444444, \"#bd3786\"], [0.5555555555555556, \"#d8576b\"], [0.6666666666666666, \"#ed7953\"], [0.7777777777777778, \"#fb9f3a\"], [0.8888888888888888, \"#fdca26\"], [1.0, \"#f0f921\"]], \"sequentialminus\": [[0.0, \"#0d0887\"], [0.1111111111111111, \"#46039f\"], [0.2222222222222222, \"#7201a8\"], [0.3333333333333333, \"#9c179e\"], [0.4444444444444444, \"#bd3786\"], [0.5555555555555556, \"#d8576b\"], [0.6666666666666666, \"#ed7953\"], [0.7777777777777778, \"#fb9f3a\"], [0.8888888888888888, \"#fdca26\"], [1.0, \"#f0f921\"]]}, \"colorway\": [\"#636efa\", \"#EF553B\", \"#00cc96\", \"#ab63fa\", \"#FFA15A\", \"#19d3f3\", \"#FF6692\", \"#B6E880\", \"#FF97FF\", \"#FECB52\"], \"font\": {\"color\": \"#2a3f5f\"}, \"geo\": {\"bgcolor\": \"white\", \"lakecolor\": \"white\", \"landcolor\": \"#E5ECF6\", \"showlakes\": true, \"showland\": true, \"subunitcolor\": \"white\"}, \"hoverlabel\": {\"align\": \"left\"}, \"hovermode\": \"closest\", \"mapbox\": {\"style\": \"light\"}, \"paper_bgcolor\": \"white\", \"plot_bgcolor\": \"#E5ECF6\", \"polar\": {\"angularaxis\": {\"gridcolor\": \"white\", \"linecolor\": \"white\", \"ticks\": \"\"}, \"bgcolor\": \"#E5ECF6\", \"radialaxis\": {\"gridcolor\": \"white\", \"linecolor\": \"white\", \"ticks\": \"\"}}, \"scene\": {\"xaxis\": {\"backgroundcolor\": \"#E5ECF6\", \"gridcolor\": \"white\", \"gridwidth\": 2, \"linecolor\": \"white\", \"showbackground\": true, \"ticks\": \"\", \"zerolinecolor\": \"white\"}, \"yaxis\": {\"backgroundcolor\": \"#E5ECF6\", \"gridcolor\": \"white\", \"gridwidth\": 2, \"linecolor\": \"white\", \"showbackground\": true, \"ticks\": \"\", \"zerolinecolor\": \"white\"}, \"zaxis\": {\"backgroundcolor\": \"#E5ECF6\", \"gridcolor\": \"white\", \"gridwidth\": 2, \"linecolor\": \"white\", \"showbackground\": true, \"ticks\": \"\", \"zerolinecolor\": \"white\"}}, \"shapedefaults\": {\"line\": {\"color\": \"#2a3f5f\"}}, \"ternary\": {\"aaxis\": {\"gridcolor\": \"white\", \"linecolor\": \"white\", \"ticks\": \"\"}, \"baxis\": {\"gridcolor\": \"white\", \"linecolor\": \"white\", \"ticks\": \"\"}, \"bgcolor\": \"#E5ECF6\", \"caxis\": {\"gridcolor\": \"white\", \"linecolor\": \"white\", \"ticks\": \"\"}}, \"title\": {\"x\": 0.05}, \"xaxis\": {\"automargin\": true, \"gridcolor\": \"white\", \"linecolor\": \"white\", \"ticks\": \"\", \"title\": {\"standoff\": 15}, \"zerolinecolor\": \"white\", \"zerolinewidth\": 2}, \"yaxis\": {\"automargin\": true, \"gridcolor\": \"white\", \"linecolor\": \"white\", \"ticks\": \"\", \"title\": {\"standoff\": 15}, \"zerolinecolor\": \"white\", \"zerolinewidth\": 2}}}, \"title\": {\"text\": \"\\uc804\\uad6d \\ub3d9\\ubb3c\\ubcf4\\ud638\\uc13c\\ud130 \\uc704\\uce58\", \"x\": 0.5}, \"width\": 700},                        {\"responsive\": true}                    ).then(function(){\n",
       "                            \n",
       "var gd = document.getElementById('221c63df-7615-4d80-8529-df35fb8e66d8');\n",
       "var x = new MutationObserver(function (mutations, observer) {{\n",
       "        var display = window.getComputedStyle(gd).display;\n",
       "        if (!display || display === 'none') {{\n",
       "            console.log([gd, 'removed!']);\n",
       "            Plotly.purge(gd);\n",
       "            observer.disconnect();\n",
       "        }}\n",
       "}});\n",
       "\n",
       "// Listen for the removal of the full notebook cells\n",
       "var notebookContainer = gd.closest('#notebook-container');\n",
       "if (notebookContainer) {{\n",
       "    x.observe(notebookContainer, {childList: true});\n",
       "}}\n",
       "\n",
       "// Listen for the clearing of the current output cell\n",
       "var outputEl = gd.closest('.output');\n",
       "if (outputEl) {{\n",
       "    x.observe(outputEl, {childList: true});\n",
       "}}\n",
       "\n",
       "                        })                };                });            </script>        </div>"
      ]
     },
     "metadata": {},
     "output_type": "display_data"
    }
   ],
   "source": [
    "fig = px.scatter_mapbox(df_center.loc[(df_center['lat'].notnull())], lat=\"lat\", lon=\"lng\",  hover_name = 'careNm',\n",
    "                  size_max=20, zoom=5.5,\n",
    "                  mapbox_style=\"carto-positron\",\n",
    "                       center={\"lat\": 36, \"lon\": 128},\n",
    "                       width=700, height=700)\n",
    "fig.update_layout(title_text='전국 동물보호센터 위치', title_x=0.5)\n",
    "\n",
    "fig.show()"
   ]
  },
  {
   "cell_type": "code",
   "execution_count": 85,
   "metadata": {},
   "outputs": [
    {
     "data": {
      "text/html": [
       "<div>\n",
       "<style scoped>\n",
       "    .dataframe tbody tr th:only-of-type {\n",
       "        vertical-align: middle;\n",
       "    }\n",
       "\n",
       "    .dataframe tbody tr th {\n",
       "        vertical-align: top;\n",
       "    }\n",
       "\n",
       "    .dataframe thead th {\n",
       "        text-align: right;\n",
       "    }\n",
       "</style>\n",
       "<table border=\"1\" class=\"dataframe\">\n",
       "  <thead>\n",
       "    <tr style=\"text-align: right;\">\n",
       "      <th></th>\n",
       "      <th>careAddr_0</th>\n",
       "      <th>careAddr</th>\n",
       "    </tr>\n",
       "  </thead>\n",
       "  <tbody>\n",
       "    <tr>\n",
       "      <th>0</th>\n",
       "      <td>강원도</td>\n",
       "      <td>16</td>\n",
       "    </tr>\n",
       "    <tr>\n",
       "      <th>1</th>\n",
       "      <td>경기도</td>\n",
       "      <td>58</td>\n",
       "    </tr>\n",
       "    <tr>\n",
       "      <th>2</th>\n",
       "      <td>경상남도</td>\n",
       "      <td>14</td>\n",
       "    </tr>\n",
       "    <tr>\n",
       "      <th>3</th>\n",
       "      <td>경상북도</td>\n",
       "      <td>17</td>\n",
       "    </tr>\n",
       "    <tr>\n",
       "      <th>4</th>\n",
       "      <td>광주광역시</td>\n",
       "      <td>5</td>\n",
       "    </tr>\n",
       "    <tr>\n",
       "      <th>5</th>\n",
       "      <td>대구광역시</td>\n",
       "      <td>18</td>\n",
       "    </tr>\n",
       "    <tr>\n",
       "      <th>6</th>\n",
       "      <td>대전광역시</td>\n",
       "      <td>5</td>\n",
       "    </tr>\n",
       "    <tr>\n",
       "      <th>7</th>\n",
       "      <td>부산광역시</td>\n",
       "      <td>11</td>\n",
       "    </tr>\n",
       "    <tr>\n",
       "      <th>8</th>\n",
       "      <td>서울특별시</td>\n",
       "      <td>35</td>\n",
       "    </tr>\n",
       "    <tr>\n",
       "      <th>9</th>\n",
       "      <td>세종특별자치시</td>\n",
       "      <td>3</td>\n",
       "    </tr>\n",
       "    <tr>\n",
       "      <th>10</th>\n",
       "      <td>울산광역시</td>\n",
       "      <td>18</td>\n",
       "    </tr>\n",
       "    <tr>\n",
       "      <th>11</th>\n",
       "      <td>인천광역시</td>\n",
       "      <td>7</td>\n",
       "    </tr>\n",
       "    <tr>\n",
       "      <th>12</th>\n",
       "      <td>전라남도</td>\n",
       "      <td>16</td>\n",
       "    </tr>\n",
       "    <tr>\n",
       "      <th>13</th>\n",
       "      <td>전라북도</td>\n",
       "      <td>8</td>\n",
       "    </tr>\n",
       "    <tr>\n",
       "      <th>14</th>\n",
       "      <td>제주특별자치도</td>\n",
       "      <td>3</td>\n",
       "    </tr>\n",
       "    <tr>\n",
       "      <th>15</th>\n",
       "      <td>충청남도</td>\n",
       "      <td>10</td>\n",
       "    </tr>\n",
       "    <tr>\n",
       "      <th>16</th>\n",
       "      <td>충청북도</td>\n",
       "      <td>7</td>\n",
       "    </tr>\n",
       "  </tbody>\n",
       "</table>\n",
       "</div>"
      ],
      "text/plain": [
       "   careAddr_0  careAddr\n",
       "0         강원도        16\n",
       "1         경기도        58\n",
       "2        경상남도        14\n",
       "3        경상북도        17\n",
       "4       광주광역시         5\n",
       "5       대구광역시        18\n",
       "6       대전광역시         5\n",
       "7       부산광역시        11\n",
       "8       서울특별시        35\n",
       "9     세종특별자치시         3\n",
       "10      울산광역시        18\n",
       "11      인천광역시         7\n",
       "12       전라남도        16\n",
       "13       전라북도         8\n",
       "14    제주특별자치도         3\n",
       "15       충청남도        10\n",
       "16       충청북도         7"
      ]
     },
     "execution_count": 85,
     "metadata": {},
     "output_type": "execute_result"
    }
   ],
   "source": [
    "df_center[['careAddr', 'careAddr_0']].groupby(['careAddr_0']).count().reset_index()"
   ]
  },
  {
   "cell_type": "code",
   "execution_count": 86,
   "metadata": {},
   "outputs": [
    {
     "data": {
      "application/vnd.plotly.v1+json": {
       "config": {
        "plotlyServerURL": "https://plot.ly"
       },
       "data": [
        {
         "customdata": [
          [
           "강원도"
          ],
          [
           "경기도"
          ],
          [
           "경상남도"
          ],
          [
           "경상북도"
          ],
          [
           "광주광역시"
          ],
          [
           "대구광역시"
          ],
          [
           "대전광역시"
          ],
          [
           "부산광역시"
          ],
          [
           "서울특별시"
          ],
          [
           "세종특별자치시"
          ],
          [
           "울산광역시"
          ],
          [
           "인천광역시"
          ],
          [
           "전라남도"
          ],
          [
           "전라북도"
          ],
          [
           "제주특별자치도"
          ],
          [
           "충청남도"
          ],
          [
           "충청북도"
          ]
         ],
         "domain": {
          "x": [
           0,
           1
          ],
          "y": [
           0,
           1
          ]
         },
         "hovertemplate": "지역=%{customdata[0]}<br>careAddr=%{value}<extra></extra>",
         "labels": [
          "강원도",
          "경기도",
          "경상남도",
          "경상북도",
          "광주광역시",
          "대구광역시",
          "대전광역시",
          "부산광역시",
          "서울특별시",
          "세종특별자치시",
          "울산광역시",
          "인천광역시",
          "전라남도",
          "전라북도",
          "제주특별자치도",
          "충청남도",
          "충청북도"
         ],
         "legendgroup": "",
         "name": "",
         "showlegend": true,
         "textinfo": "percent+label",
         "textposition": "inside",
         "type": "pie",
         "values": [
          16,
          58,
          14,
          17,
          5,
          18,
          5,
          11,
          35,
          3,
          18,
          7,
          16,
          8,
          3,
          10,
          7
         ]
        }
       ],
       "layout": {
        "legend": {
         "tracegroupgap": 0
        },
        "template": {
         "data": {
          "bar": [
           {
            "error_x": {
             "color": "#2a3f5f"
            },
            "error_y": {
             "color": "#2a3f5f"
            },
            "marker": {
             "line": {
              "color": "#E5ECF6",
              "width": 0.5
             }
            },
            "type": "bar"
           }
          ],
          "barpolar": [
           {
            "marker": {
             "line": {
              "color": "#E5ECF6",
              "width": 0.5
             }
            },
            "type": "barpolar"
           }
          ],
          "carpet": [
           {
            "aaxis": {
             "endlinecolor": "#2a3f5f",
             "gridcolor": "white",
             "linecolor": "white",
             "minorgridcolor": "white",
             "startlinecolor": "#2a3f5f"
            },
            "baxis": {
             "endlinecolor": "#2a3f5f",
             "gridcolor": "white",
             "linecolor": "white",
             "minorgridcolor": "white",
             "startlinecolor": "#2a3f5f"
            },
            "type": "carpet"
           }
          ],
          "choropleth": [
           {
            "colorbar": {
             "outlinewidth": 0,
             "ticks": ""
            },
            "type": "choropleth"
           }
          ],
          "contour": [
           {
            "colorbar": {
             "outlinewidth": 0,
             "ticks": ""
            },
            "colorscale": [
             [
              0,
              "#0d0887"
             ],
             [
              0.1111111111111111,
              "#46039f"
             ],
             [
              0.2222222222222222,
              "#7201a8"
             ],
             [
              0.3333333333333333,
              "#9c179e"
             ],
             [
              0.4444444444444444,
              "#bd3786"
             ],
             [
              0.5555555555555556,
              "#d8576b"
             ],
             [
              0.6666666666666666,
              "#ed7953"
             ],
             [
              0.7777777777777778,
              "#fb9f3a"
             ],
             [
              0.8888888888888888,
              "#fdca26"
             ],
             [
              1,
              "#f0f921"
             ]
            ],
            "type": "contour"
           }
          ],
          "contourcarpet": [
           {
            "colorbar": {
             "outlinewidth": 0,
             "ticks": ""
            },
            "type": "contourcarpet"
           }
          ],
          "heatmap": [
           {
            "colorbar": {
             "outlinewidth": 0,
             "ticks": ""
            },
            "colorscale": [
             [
              0,
              "#0d0887"
             ],
             [
              0.1111111111111111,
              "#46039f"
             ],
             [
              0.2222222222222222,
              "#7201a8"
             ],
             [
              0.3333333333333333,
              "#9c179e"
             ],
             [
              0.4444444444444444,
              "#bd3786"
             ],
             [
              0.5555555555555556,
              "#d8576b"
             ],
             [
              0.6666666666666666,
              "#ed7953"
             ],
             [
              0.7777777777777778,
              "#fb9f3a"
             ],
             [
              0.8888888888888888,
              "#fdca26"
             ],
             [
              1,
              "#f0f921"
             ]
            ],
            "type": "heatmap"
           }
          ],
          "heatmapgl": [
           {
            "colorbar": {
             "outlinewidth": 0,
             "ticks": ""
            },
            "colorscale": [
             [
              0,
              "#0d0887"
             ],
             [
              0.1111111111111111,
              "#46039f"
             ],
             [
              0.2222222222222222,
              "#7201a8"
             ],
             [
              0.3333333333333333,
              "#9c179e"
             ],
             [
              0.4444444444444444,
              "#bd3786"
             ],
             [
              0.5555555555555556,
              "#d8576b"
             ],
             [
              0.6666666666666666,
              "#ed7953"
             ],
             [
              0.7777777777777778,
              "#fb9f3a"
             ],
             [
              0.8888888888888888,
              "#fdca26"
             ],
             [
              1,
              "#f0f921"
             ]
            ],
            "type": "heatmapgl"
           }
          ],
          "histogram": [
           {
            "marker": {
             "colorbar": {
              "outlinewidth": 0,
              "ticks": ""
             }
            },
            "type": "histogram"
           }
          ],
          "histogram2d": [
           {
            "colorbar": {
             "outlinewidth": 0,
             "ticks": ""
            },
            "colorscale": [
             [
              0,
              "#0d0887"
             ],
             [
              0.1111111111111111,
              "#46039f"
             ],
             [
              0.2222222222222222,
              "#7201a8"
             ],
             [
              0.3333333333333333,
              "#9c179e"
             ],
             [
              0.4444444444444444,
              "#bd3786"
             ],
             [
              0.5555555555555556,
              "#d8576b"
             ],
             [
              0.6666666666666666,
              "#ed7953"
             ],
             [
              0.7777777777777778,
              "#fb9f3a"
             ],
             [
              0.8888888888888888,
              "#fdca26"
             ],
             [
              1,
              "#f0f921"
             ]
            ],
            "type": "histogram2d"
           }
          ],
          "histogram2dcontour": [
           {
            "colorbar": {
             "outlinewidth": 0,
             "ticks": ""
            },
            "colorscale": [
             [
              0,
              "#0d0887"
             ],
             [
              0.1111111111111111,
              "#46039f"
             ],
             [
              0.2222222222222222,
              "#7201a8"
             ],
             [
              0.3333333333333333,
              "#9c179e"
             ],
             [
              0.4444444444444444,
              "#bd3786"
             ],
             [
              0.5555555555555556,
              "#d8576b"
             ],
             [
              0.6666666666666666,
              "#ed7953"
             ],
             [
              0.7777777777777778,
              "#fb9f3a"
             ],
             [
              0.8888888888888888,
              "#fdca26"
             ],
             [
              1,
              "#f0f921"
             ]
            ],
            "type": "histogram2dcontour"
           }
          ],
          "mesh3d": [
           {
            "colorbar": {
             "outlinewidth": 0,
             "ticks": ""
            },
            "type": "mesh3d"
           }
          ],
          "parcoords": [
           {
            "line": {
             "colorbar": {
              "outlinewidth": 0,
              "ticks": ""
             }
            },
            "type": "parcoords"
           }
          ],
          "pie": [
           {
            "automargin": true,
            "type": "pie"
           }
          ],
          "scatter": [
           {
            "marker": {
             "colorbar": {
              "outlinewidth": 0,
              "ticks": ""
             }
            },
            "type": "scatter"
           }
          ],
          "scatter3d": [
           {
            "line": {
             "colorbar": {
              "outlinewidth": 0,
              "ticks": ""
             }
            },
            "marker": {
             "colorbar": {
              "outlinewidth": 0,
              "ticks": ""
             }
            },
            "type": "scatter3d"
           }
          ],
          "scattercarpet": [
           {
            "marker": {
             "colorbar": {
              "outlinewidth": 0,
              "ticks": ""
             }
            },
            "type": "scattercarpet"
           }
          ],
          "scattergeo": [
           {
            "marker": {
             "colorbar": {
              "outlinewidth": 0,
              "ticks": ""
             }
            },
            "type": "scattergeo"
           }
          ],
          "scattergl": [
           {
            "marker": {
             "colorbar": {
              "outlinewidth": 0,
              "ticks": ""
             }
            },
            "type": "scattergl"
           }
          ],
          "scattermapbox": [
           {
            "marker": {
             "colorbar": {
              "outlinewidth": 0,
              "ticks": ""
             }
            },
            "type": "scattermapbox"
           }
          ],
          "scatterpolar": [
           {
            "marker": {
             "colorbar": {
              "outlinewidth": 0,
              "ticks": ""
             }
            },
            "type": "scatterpolar"
           }
          ],
          "scatterpolargl": [
           {
            "marker": {
             "colorbar": {
              "outlinewidth": 0,
              "ticks": ""
             }
            },
            "type": "scatterpolargl"
           }
          ],
          "scatterternary": [
           {
            "marker": {
             "colorbar": {
              "outlinewidth": 0,
              "ticks": ""
             }
            },
            "type": "scatterternary"
           }
          ],
          "surface": [
           {
            "colorbar": {
             "outlinewidth": 0,
             "ticks": ""
            },
            "colorscale": [
             [
              0,
              "#0d0887"
             ],
             [
              0.1111111111111111,
              "#46039f"
             ],
             [
              0.2222222222222222,
              "#7201a8"
             ],
             [
              0.3333333333333333,
              "#9c179e"
             ],
             [
              0.4444444444444444,
              "#bd3786"
             ],
             [
              0.5555555555555556,
              "#d8576b"
             ],
             [
              0.6666666666666666,
              "#ed7953"
             ],
             [
              0.7777777777777778,
              "#fb9f3a"
             ],
             [
              0.8888888888888888,
              "#fdca26"
             ],
             [
              1,
              "#f0f921"
             ]
            ],
            "type": "surface"
           }
          ],
          "table": [
           {
            "cells": {
             "fill": {
              "color": "#EBF0F8"
             },
             "line": {
              "color": "white"
             }
            },
            "header": {
             "fill": {
              "color": "#C8D4E3"
             },
             "line": {
              "color": "white"
             }
            },
            "type": "table"
           }
          ]
         },
         "layout": {
          "annotationdefaults": {
           "arrowcolor": "#2a3f5f",
           "arrowhead": 0,
           "arrowwidth": 1
          },
          "autotypenumbers": "strict",
          "coloraxis": {
           "colorbar": {
            "outlinewidth": 0,
            "ticks": ""
           }
          },
          "colorscale": {
           "diverging": [
            [
             0,
             "#8e0152"
            ],
            [
             0.1,
             "#c51b7d"
            ],
            [
             0.2,
             "#de77ae"
            ],
            [
             0.3,
             "#f1b6da"
            ],
            [
             0.4,
             "#fde0ef"
            ],
            [
             0.5,
             "#f7f7f7"
            ],
            [
             0.6,
             "#e6f5d0"
            ],
            [
             0.7,
             "#b8e186"
            ],
            [
             0.8,
             "#7fbc41"
            ],
            [
             0.9,
             "#4d9221"
            ],
            [
             1,
             "#276419"
            ]
           ],
           "sequential": [
            [
             0,
             "#0d0887"
            ],
            [
             0.1111111111111111,
             "#46039f"
            ],
            [
             0.2222222222222222,
             "#7201a8"
            ],
            [
             0.3333333333333333,
             "#9c179e"
            ],
            [
             0.4444444444444444,
             "#bd3786"
            ],
            [
             0.5555555555555556,
             "#d8576b"
            ],
            [
             0.6666666666666666,
             "#ed7953"
            ],
            [
             0.7777777777777778,
             "#fb9f3a"
            ],
            [
             0.8888888888888888,
             "#fdca26"
            ],
            [
             1,
             "#f0f921"
            ]
           ],
           "sequentialminus": [
            [
             0,
             "#0d0887"
            ],
            [
             0.1111111111111111,
             "#46039f"
            ],
            [
             0.2222222222222222,
             "#7201a8"
            ],
            [
             0.3333333333333333,
             "#9c179e"
            ],
            [
             0.4444444444444444,
             "#bd3786"
            ],
            [
             0.5555555555555556,
             "#d8576b"
            ],
            [
             0.6666666666666666,
             "#ed7953"
            ],
            [
             0.7777777777777778,
             "#fb9f3a"
            ],
            [
             0.8888888888888888,
             "#fdca26"
            ],
            [
             1,
             "#f0f921"
            ]
           ]
          },
          "colorway": [
           "#636efa",
           "#EF553B",
           "#00cc96",
           "#ab63fa",
           "#FFA15A",
           "#19d3f3",
           "#FF6692",
           "#B6E880",
           "#FF97FF",
           "#FECB52"
          ],
          "font": {
           "color": "#2a3f5f"
          },
          "geo": {
           "bgcolor": "white",
           "lakecolor": "white",
           "landcolor": "#E5ECF6",
           "showlakes": true,
           "showland": true,
           "subunitcolor": "white"
          },
          "hoverlabel": {
           "align": "left"
          },
          "hovermode": "closest",
          "mapbox": {
           "style": "light"
          },
          "paper_bgcolor": "white",
          "plot_bgcolor": "#E5ECF6",
          "polar": {
           "angularaxis": {
            "gridcolor": "white",
            "linecolor": "white",
            "ticks": ""
           },
           "bgcolor": "#E5ECF6",
           "radialaxis": {
            "gridcolor": "white",
            "linecolor": "white",
            "ticks": ""
           }
          },
          "scene": {
           "xaxis": {
            "backgroundcolor": "#E5ECF6",
            "gridcolor": "white",
            "gridwidth": 2,
            "linecolor": "white",
            "showbackground": true,
            "ticks": "",
            "zerolinecolor": "white"
           },
           "yaxis": {
            "backgroundcolor": "#E5ECF6",
            "gridcolor": "white",
            "gridwidth": 2,
            "linecolor": "white",
            "showbackground": true,
            "ticks": "",
            "zerolinecolor": "white"
           },
           "zaxis": {
            "backgroundcolor": "#E5ECF6",
            "gridcolor": "white",
            "gridwidth": 2,
            "linecolor": "white",
            "showbackground": true,
            "ticks": "",
            "zerolinecolor": "white"
           }
          },
          "shapedefaults": {
           "line": {
            "color": "#2a3f5f"
           }
          },
          "ternary": {
           "aaxis": {
            "gridcolor": "white",
            "linecolor": "white",
            "ticks": ""
           },
           "baxis": {
            "gridcolor": "white",
            "linecolor": "white",
            "ticks": ""
           },
           "bgcolor": "#E5ECF6",
           "caxis": {
            "gridcolor": "white",
            "linecolor": "white",
            "ticks": ""
           }
          },
          "title": {
           "x": 0.05
          },
          "xaxis": {
           "automargin": true,
           "gridcolor": "white",
           "linecolor": "white",
           "ticks": "",
           "title": {
            "standoff": 15
           },
           "zerolinecolor": "white",
           "zerolinewidth": 2
          },
          "yaxis": {
           "automargin": true,
           "gridcolor": "white",
           "linecolor": "white",
           "ticks": "",
           "title": {
            "standoff": 15
           },
           "zerolinecolor": "white",
           "zerolinewidth": 2
          }
         }
        },
        "title": {
         "text": "시/도 별 동물보호센터 분포"
        }
       }
      },
      "text/html": [
       "<div>                            <div id=\"e2c5a970-73e6-4eb8-806e-3b3e55163237\" class=\"plotly-graph-div\" style=\"height:525px; width:100%;\"></div>            <script type=\"text/javascript\">                require([\"plotly\"], function(Plotly) {                    window.PLOTLYENV=window.PLOTLYENV || {};                                    if (document.getElementById(\"e2c5a970-73e6-4eb8-806e-3b3e55163237\")) {                    Plotly.newPlot(                        \"e2c5a970-73e6-4eb8-806e-3b3e55163237\",                        [{\"customdata\": [[\"\\uac15\\uc6d0\\ub3c4\"], [\"\\uacbd\\uae30\\ub3c4\"], [\"\\uacbd\\uc0c1\\ub0a8\\ub3c4\"], [\"\\uacbd\\uc0c1\\ubd81\\ub3c4\"], [\"\\uad11\\uc8fc\\uad11\\uc5ed\\uc2dc\"], [\"\\ub300\\uad6c\\uad11\\uc5ed\\uc2dc\"], [\"\\ub300\\uc804\\uad11\\uc5ed\\uc2dc\"], [\"\\ubd80\\uc0b0\\uad11\\uc5ed\\uc2dc\"], [\"\\uc11c\\uc6b8\\ud2b9\\ubcc4\\uc2dc\"], [\"\\uc138\\uc885\\ud2b9\\ubcc4\\uc790\\uce58\\uc2dc\"], [\"\\uc6b8\\uc0b0\\uad11\\uc5ed\\uc2dc\"], [\"\\uc778\\ucc9c\\uad11\\uc5ed\\uc2dc\"], [\"\\uc804\\ub77c\\ub0a8\\ub3c4\"], [\"\\uc804\\ub77c\\ubd81\\ub3c4\"], [\"\\uc81c\\uc8fc\\ud2b9\\ubcc4\\uc790\\uce58\\ub3c4\"], [\"\\ucda9\\uccad\\ub0a8\\ub3c4\"], [\"\\ucda9\\uccad\\ubd81\\ub3c4\"]], \"domain\": {\"x\": [0.0, 1.0], \"y\": [0.0, 1.0]}, \"hovertemplate\": \"\\uc9c0\\uc5ed=%{customdata[0]}<br>careAddr=%{value}<extra></extra>\", \"labels\": [\"\\uac15\\uc6d0\\ub3c4\", \"\\uacbd\\uae30\\ub3c4\", \"\\uacbd\\uc0c1\\ub0a8\\ub3c4\", \"\\uacbd\\uc0c1\\ubd81\\ub3c4\", \"\\uad11\\uc8fc\\uad11\\uc5ed\\uc2dc\", \"\\ub300\\uad6c\\uad11\\uc5ed\\uc2dc\", \"\\ub300\\uc804\\uad11\\uc5ed\\uc2dc\", \"\\ubd80\\uc0b0\\uad11\\uc5ed\\uc2dc\", \"\\uc11c\\uc6b8\\ud2b9\\ubcc4\\uc2dc\", \"\\uc138\\uc885\\ud2b9\\ubcc4\\uc790\\uce58\\uc2dc\", \"\\uc6b8\\uc0b0\\uad11\\uc5ed\\uc2dc\", \"\\uc778\\ucc9c\\uad11\\uc5ed\\uc2dc\", \"\\uc804\\ub77c\\ub0a8\\ub3c4\", \"\\uc804\\ub77c\\ubd81\\ub3c4\", \"\\uc81c\\uc8fc\\ud2b9\\ubcc4\\uc790\\uce58\\ub3c4\", \"\\ucda9\\uccad\\ub0a8\\ub3c4\", \"\\ucda9\\uccad\\ubd81\\ub3c4\"], \"legendgroup\": \"\", \"name\": \"\", \"showlegend\": true, \"textinfo\": \"percent+label\", \"textposition\": \"inside\", \"type\": \"pie\", \"values\": [16, 58, 14, 17, 5, 18, 5, 11, 35, 3, 18, 7, 16, 8, 3, 10, 7]}],                        {\"legend\": {\"tracegroupgap\": 0}, \"template\": {\"data\": {\"bar\": [{\"error_x\": {\"color\": \"#2a3f5f\"}, \"error_y\": {\"color\": \"#2a3f5f\"}, \"marker\": {\"line\": {\"color\": \"#E5ECF6\", \"width\": 0.5}}, \"type\": \"bar\"}], \"barpolar\": [{\"marker\": {\"line\": {\"color\": \"#E5ECF6\", \"width\": 0.5}}, \"type\": \"barpolar\"}], \"carpet\": [{\"aaxis\": {\"endlinecolor\": \"#2a3f5f\", \"gridcolor\": \"white\", \"linecolor\": \"white\", \"minorgridcolor\": \"white\", \"startlinecolor\": \"#2a3f5f\"}, \"baxis\": {\"endlinecolor\": \"#2a3f5f\", \"gridcolor\": \"white\", \"linecolor\": \"white\", \"minorgridcolor\": \"white\", \"startlinecolor\": \"#2a3f5f\"}, \"type\": \"carpet\"}], \"choropleth\": [{\"colorbar\": {\"outlinewidth\": 0, \"ticks\": \"\"}, \"type\": \"choropleth\"}], \"contour\": [{\"colorbar\": {\"outlinewidth\": 0, \"ticks\": \"\"}, \"colorscale\": [[0.0, \"#0d0887\"], [0.1111111111111111, \"#46039f\"], [0.2222222222222222, \"#7201a8\"], [0.3333333333333333, \"#9c179e\"], [0.4444444444444444, \"#bd3786\"], [0.5555555555555556, \"#d8576b\"], [0.6666666666666666, \"#ed7953\"], [0.7777777777777778, \"#fb9f3a\"], [0.8888888888888888, \"#fdca26\"], [1.0, \"#f0f921\"]], \"type\": \"contour\"}], \"contourcarpet\": [{\"colorbar\": {\"outlinewidth\": 0, \"ticks\": \"\"}, \"type\": \"contourcarpet\"}], \"heatmap\": [{\"colorbar\": {\"outlinewidth\": 0, \"ticks\": \"\"}, \"colorscale\": [[0.0, \"#0d0887\"], [0.1111111111111111, \"#46039f\"], [0.2222222222222222, \"#7201a8\"], [0.3333333333333333, \"#9c179e\"], [0.4444444444444444, \"#bd3786\"], [0.5555555555555556, \"#d8576b\"], [0.6666666666666666, \"#ed7953\"], [0.7777777777777778, \"#fb9f3a\"], [0.8888888888888888, \"#fdca26\"], [1.0, \"#f0f921\"]], \"type\": \"heatmap\"}], \"heatmapgl\": [{\"colorbar\": {\"outlinewidth\": 0, \"ticks\": \"\"}, \"colorscale\": [[0.0, \"#0d0887\"], [0.1111111111111111, \"#46039f\"], [0.2222222222222222, \"#7201a8\"], [0.3333333333333333, \"#9c179e\"], [0.4444444444444444, \"#bd3786\"], [0.5555555555555556, \"#d8576b\"], [0.6666666666666666, \"#ed7953\"], [0.7777777777777778, \"#fb9f3a\"], [0.8888888888888888, \"#fdca26\"], [1.0, \"#f0f921\"]], \"type\": \"heatmapgl\"}], \"histogram\": [{\"marker\": {\"colorbar\": {\"outlinewidth\": 0, \"ticks\": \"\"}}, \"type\": \"histogram\"}], \"histogram2d\": [{\"colorbar\": {\"outlinewidth\": 0, \"ticks\": \"\"}, \"colorscale\": [[0.0, \"#0d0887\"], [0.1111111111111111, \"#46039f\"], [0.2222222222222222, \"#7201a8\"], [0.3333333333333333, \"#9c179e\"], [0.4444444444444444, \"#bd3786\"], [0.5555555555555556, \"#d8576b\"], [0.6666666666666666, \"#ed7953\"], [0.7777777777777778, \"#fb9f3a\"], [0.8888888888888888, \"#fdca26\"], [1.0, \"#f0f921\"]], \"type\": \"histogram2d\"}], \"histogram2dcontour\": [{\"colorbar\": {\"outlinewidth\": 0, \"ticks\": \"\"}, \"colorscale\": [[0.0, \"#0d0887\"], [0.1111111111111111, \"#46039f\"], [0.2222222222222222, \"#7201a8\"], [0.3333333333333333, \"#9c179e\"], [0.4444444444444444, \"#bd3786\"], [0.5555555555555556, \"#d8576b\"], [0.6666666666666666, \"#ed7953\"], [0.7777777777777778, \"#fb9f3a\"], [0.8888888888888888, \"#fdca26\"], [1.0, \"#f0f921\"]], \"type\": \"histogram2dcontour\"}], \"mesh3d\": [{\"colorbar\": {\"outlinewidth\": 0, \"ticks\": \"\"}, \"type\": \"mesh3d\"}], \"parcoords\": [{\"line\": {\"colorbar\": {\"outlinewidth\": 0, \"ticks\": \"\"}}, \"type\": \"parcoords\"}], \"pie\": [{\"automargin\": true, \"type\": \"pie\"}], \"scatter\": [{\"marker\": {\"colorbar\": {\"outlinewidth\": 0, \"ticks\": \"\"}}, \"type\": \"scatter\"}], \"scatter3d\": [{\"line\": {\"colorbar\": {\"outlinewidth\": 0, \"ticks\": \"\"}}, \"marker\": {\"colorbar\": {\"outlinewidth\": 0, \"ticks\": \"\"}}, \"type\": \"scatter3d\"}], \"scattercarpet\": [{\"marker\": {\"colorbar\": {\"outlinewidth\": 0, \"ticks\": \"\"}}, \"type\": \"scattercarpet\"}], \"scattergeo\": [{\"marker\": {\"colorbar\": {\"outlinewidth\": 0, \"ticks\": \"\"}}, \"type\": \"scattergeo\"}], \"scattergl\": [{\"marker\": {\"colorbar\": {\"outlinewidth\": 0, \"ticks\": \"\"}}, \"type\": \"scattergl\"}], \"scattermapbox\": [{\"marker\": {\"colorbar\": {\"outlinewidth\": 0, \"ticks\": \"\"}}, \"type\": \"scattermapbox\"}], \"scatterpolar\": [{\"marker\": {\"colorbar\": {\"outlinewidth\": 0, \"ticks\": \"\"}}, \"type\": \"scatterpolar\"}], \"scatterpolargl\": [{\"marker\": {\"colorbar\": {\"outlinewidth\": 0, \"ticks\": \"\"}}, \"type\": \"scatterpolargl\"}], \"scatterternary\": [{\"marker\": {\"colorbar\": {\"outlinewidth\": 0, \"ticks\": \"\"}}, \"type\": \"scatterternary\"}], \"surface\": [{\"colorbar\": {\"outlinewidth\": 0, \"ticks\": \"\"}, \"colorscale\": [[0.0, \"#0d0887\"], [0.1111111111111111, \"#46039f\"], [0.2222222222222222, \"#7201a8\"], [0.3333333333333333, \"#9c179e\"], [0.4444444444444444, \"#bd3786\"], [0.5555555555555556, \"#d8576b\"], [0.6666666666666666, \"#ed7953\"], [0.7777777777777778, \"#fb9f3a\"], [0.8888888888888888, \"#fdca26\"], [1.0, \"#f0f921\"]], \"type\": \"surface\"}], \"table\": [{\"cells\": {\"fill\": {\"color\": \"#EBF0F8\"}, \"line\": {\"color\": \"white\"}}, \"header\": {\"fill\": {\"color\": \"#C8D4E3\"}, \"line\": {\"color\": \"white\"}}, \"type\": \"table\"}]}, \"layout\": {\"annotationdefaults\": {\"arrowcolor\": \"#2a3f5f\", \"arrowhead\": 0, \"arrowwidth\": 1}, \"autotypenumbers\": \"strict\", \"coloraxis\": {\"colorbar\": {\"outlinewidth\": 0, \"ticks\": \"\"}}, \"colorscale\": {\"diverging\": [[0, \"#8e0152\"], [0.1, \"#c51b7d\"], [0.2, \"#de77ae\"], [0.3, \"#f1b6da\"], [0.4, \"#fde0ef\"], [0.5, \"#f7f7f7\"], [0.6, \"#e6f5d0\"], [0.7, \"#b8e186\"], [0.8, \"#7fbc41\"], [0.9, \"#4d9221\"], [1, \"#276419\"]], \"sequential\": [[0.0, \"#0d0887\"], [0.1111111111111111, \"#46039f\"], [0.2222222222222222, \"#7201a8\"], [0.3333333333333333, \"#9c179e\"], [0.4444444444444444, \"#bd3786\"], [0.5555555555555556, \"#d8576b\"], [0.6666666666666666, \"#ed7953\"], [0.7777777777777778, \"#fb9f3a\"], [0.8888888888888888, \"#fdca26\"], [1.0, \"#f0f921\"]], \"sequentialminus\": [[0.0, \"#0d0887\"], [0.1111111111111111, \"#46039f\"], [0.2222222222222222, \"#7201a8\"], [0.3333333333333333, \"#9c179e\"], [0.4444444444444444, \"#bd3786\"], [0.5555555555555556, \"#d8576b\"], [0.6666666666666666, \"#ed7953\"], [0.7777777777777778, \"#fb9f3a\"], [0.8888888888888888, \"#fdca26\"], [1.0, \"#f0f921\"]]}, \"colorway\": [\"#636efa\", \"#EF553B\", \"#00cc96\", \"#ab63fa\", \"#FFA15A\", \"#19d3f3\", \"#FF6692\", \"#B6E880\", \"#FF97FF\", \"#FECB52\"], \"font\": {\"color\": \"#2a3f5f\"}, \"geo\": {\"bgcolor\": \"white\", \"lakecolor\": \"white\", \"landcolor\": \"#E5ECF6\", \"showlakes\": true, \"showland\": true, \"subunitcolor\": \"white\"}, \"hoverlabel\": {\"align\": \"left\"}, \"hovermode\": \"closest\", \"mapbox\": {\"style\": \"light\"}, \"paper_bgcolor\": \"white\", \"plot_bgcolor\": \"#E5ECF6\", \"polar\": {\"angularaxis\": {\"gridcolor\": \"white\", \"linecolor\": \"white\", \"ticks\": \"\"}, \"bgcolor\": \"#E5ECF6\", \"radialaxis\": {\"gridcolor\": \"white\", \"linecolor\": \"white\", \"ticks\": \"\"}}, \"scene\": {\"xaxis\": {\"backgroundcolor\": \"#E5ECF6\", \"gridcolor\": \"white\", \"gridwidth\": 2, \"linecolor\": \"white\", \"showbackground\": true, \"ticks\": \"\", \"zerolinecolor\": \"white\"}, \"yaxis\": {\"backgroundcolor\": \"#E5ECF6\", \"gridcolor\": \"white\", \"gridwidth\": 2, \"linecolor\": \"white\", \"showbackground\": true, \"ticks\": \"\", \"zerolinecolor\": \"white\"}, \"zaxis\": {\"backgroundcolor\": \"#E5ECF6\", \"gridcolor\": \"white\", \"gridwidth\": 2, \"linecolor\": \"white\", \"showbackground\": true, \"ticks\": \"\", \"zerolinecolor\": \"white\"}}, \"shapedefaults\": {\"line\": {\"color\": \"#2a3f5f\"}}, \"ternary\": {\"aaxis\": {\"gridcolor\": \"white\", \"linecolor\": \"white\", \"ticks\": \"\"}, \"baxis\": {\"gridcolor\": \"white\", \"linecolor\": \"white\", \"ticks\": \"\"}, \"bgcolor\": \"#E5ECF6\", \"caxis\": {\"gridcolor\": \"white\", \"linecolor\": \"white\", \"ticks\": \"\"}}, \"title\": {\"x\": 0.05}, \"xaxis\": {\"automargin\": true, \"gridcolor\": \"white\", \"linecolor\": \"white\", \"ticks\": \"\", \"title\": {\"standoff\": 15}, \"zerolinecolor\": \"white\", \"zerolinewidth\": 2}, \"yaxis\": {\"automargin\": true, \"gridcolor\": \"white\", \"linecolor\": \"white\", \"ticks\": \"\", \"title\": {\"standoff\": 15}, \"zerolinecolor\": \"white\", \"zerolinewidth\": 2}}}, \"title\": {\"text\": \"\\uc2dc/\\ub3c4 \\ubcc4 \\ub3d9\\ubb3c\\ubcf4\\ud638\\uc13c\\ud130 \\ubd84\\ud3ec\"}},                        {\"responsive\": true}                    ).then(function(){\n",
       "                            \n",
       "var gd = document.getElementById('e2c5a970-73e6-4eb8-806e-3b3e55163237');\n",
       "var x = new MutationObserver(function (mutations, observer) {{\n",
       "        var display = window.getComputedStyle(gd).display;\n",
       "        if (!display || display === 'none') {{\n",
       "            console.log([gd, 'removed!']);\n",
       "            Plotly.purge(gd);\n",
       "            observer.disconnect();\n",
       "        }}\n",
       "}});\n",
       "\n",
       "// Listen for the removal of the full notebook cells\n",
       "var notebookContainer = gd.closest('#notebook-container');\n",
       "if (notebookContainer) {{\n",
       "    x.observe(notebookContainer, {childList: true});\n",
       "}}\n",
       "\n",
       "// Listen for the clearing of the current output cell\n",
       "var outputEl = gd.closest('.output');\n",
       "if (outputEl) {{\n",
       "    x.observe(outputEl, {childList: true});\n",
       "}}\n",
       "\n",
       "                        })                };                });            </script>        </div>"
      ]
     },
     "metadata": {},
     "output_type": "display_data"
    }
   ],
   "source": [
    "df_center[['careAddr', 'careAddr_0']].groupby(['careAddr_0']).count()\n",
    "fig = px.pie(df_center[['careAddr', 'careAddr_0']].groupby(['careAddr_0']).count().reset_index(),\n",
    "             values='careAddr', names='careAddr_0', title='시/도 별 동물보호센터 분포',\n",
    "            hover_data=['careAddr_0'], labels={'careAddr_0':'지역'})\n",
    "fig.update_traces(textposition='inside', textinfo='percent+label')\n",
    "fig.show()"
   ]
  },
  {
   "cell_type": "code",
   "execution_count": 92,
   "metadata": {
    "scrolled": true
   },
   "outputs": [
    {
     "data": {
      "text/html": [
       "<div>\n",
       "<style scoped>\n",
       "    .dataframe tbody tr th:only-of-type {\n",
       "        vertical-align: middle;\n",
       "    }\n",
       "\n",
       "    .dataframe tbody tr th {\n",
       "        vertical-align: top;\n",
       "    }\n",
       "\n",
       "    .dataframe thead th {\n",
       "        text-align: right;\n",
       "    }\n",
       "</style>\n",
       "<table border=\"1\" class=\"dataframe\">\n",
       "  <thead>\n",
       "    <tr style=\"text-align: right;\">\n",
       "      <th></th>\n",
       "      <th>careAddr_0</th>\n",
       "      <th>divisionNm</th>\n",
       "      <th>careAddr</th>\n",
       "    </tr>\n",
       "  </thead>\n",
       "  <tbody>\n",
       "    <tr>\n",
       "      <th>0</th>\n",
       "      <td>강원도</td>\n",
       "      <td>개인</td>\n",
       "      <td>4</td>\n",
       "    </tr>\n",
       "    <tr>\n",
       "      <th>1</th>\n",
       "      <td>강원도</td>\n",
       "      <td>단체</td>\n",
       "      <td>1</td>\n",
       "    </tr>\n",
       "    <tr>\n",
       "      <th>2</th>\n",
       "      <td>강원도</td>\n",
       "      <td>동물병원</td>\n",
       "      <td>1</td>\n",
       "    </tr>\n",
       "    <tr>\n",
       "      <th>3</th>\n",
       "      <td>강원도</td>\n",
       "      <td>법인</td>\n",
       "      <td>10</td>\n",
       "    </tr>\n",
       "    <tr>\n",
       "      <th>4</th>\n",
       "      <td>경기도</td>\n",
       "      <td>단체</td>\n",
       "      <td>3</td>\n",
       "    </tr>\n",
       "    <tr>\n",
       "      <th>5</th>\n",
       "      <td>경기도</td>\n",
       "      <td>동물병원</td>\n",
       "      <td>25</td>\n",
       "    </tr>\n",
       "    <tr>\n",
       "      <th>6</th>\n",
       "      <td>경기도</td>\n",
       "      <td>법인</td>\n",
       "      <td>30</td>\n",
       "    </tr>\n",
       "    <tr>\n",
       "      <th>7</th>\n",
       "      <td>경상남도</td>\n",
       "      <td>개인</td>\n",
       "      <td>3</td>\n",
       "    </tr>\n",
       "    <tr>\n",
       "      <th>8</th>\n",
       "      <td>경상남도</td>\n",
       "      <td>단체</td>\n",
       "      <td>2</td>\n",
       "    </tr>\n",
       "    <tr>\n",
       "      <th>9</th>\n",
       "      <td>경상남도</td>\n",
       "      <td>법인</td>\n",
       "      <td>9</td>\n",
       "    </tr>\n",
       "    <tr>\n",
       "      <th>10</th>\n",
       "      <td>경상북도</td>\n",
       "      <td>개인</td>\n",
       "      <td>2</td>\n",
       "    </tr>\n",
       "    <tr>\n",
       "      <th>11</th>\n",
       "      <td>경상북도</td>\n",
       "      <td>단체</td>\n",
       "      <td>6</td>\n",
       "    </tr>\n",
       "    <tr>\n",
       "      <th>12</th>\n",
       "      <td>경상북도</td>\n",
       "      <td>동물병원</td>\n",
       "      <td>2</td>\n",
       "    </tr>\n",
       "    <tr>\n",
       "      <th>13</th>\n",
       "      <td>경상북도</td>\n",
       "      <td>법인</td>\n",
       "      <td>7</td>\n",
       "    </tr>\n",
       "    <tr>\n",
       "      <th>14</th>\n",
       "      <td>광주광역시</td>\n",
       "      <td>법인</td>\n",
       "      <td>5</td>\n",
       "    </tr>\n",
       "    <tr>\n",
       "      <th>15</th>\n",
       "      <td>대구광역시</td>\n",
       "      <td>단체</td>\n",
       "      <td>1</td>\n",
       "    </tr>\n",
       "    <tr>\n",
       "      <th>16</th>\n",
       "      <td>대구광역시</td>\n",
       "      <td>동물병원</td>\n",
       "      <td>8</td>\n",
       "    </tr>\n",
       "    <tr>\n",
       "      <th>17</th>\n",
       "      <td>대구광역시</td>\n",
       "      <td>법인</td>\n",
       "      <td>9</td>\n",
       "    </tr>\n",
       "    <tr>\n",
       "      <th>18</th>\n",
       "      <td>대전광역시</td>\n",
       "      <td>법인</td>\n",
       "      <td>5</td>\n",
       "    </tr>\n",
       "    <tr>\n",
       "      <th>19</th>\n",
       "      <td>부산광역시</td>\n",
       "      <td>단체</td>\n",
       "      <td>1</td>\n",
       "    </tr>\n",
       "    <tr>\n",
       "      <th>20</th>\n",
       "      <td>부산광역시</td>\n",
       "      <td>동물병원</td>\n",
       "      <td>4</td>\n",
       "    </tr>\n",
       "    <tr>\n",
       "      <th>21</th>\n",
       "      <td>부산광역시</td>\n",
       "      <td>법인</td>\n",
       "      <td>6</td>\n",
       "    </tr>\n",
       "    <tr>\n",
       "      <th>22</th>\n",
       "      <td>서울특별시</td>\n",
       "      <td>단체</td>\n",
       "      <td>2</td>\n",
       "    </tr>\n",
       "    <tr>\n",
       "      <th>23</th>\n",
       "      <td>서울특별시</td>\n",
       "      <td>동물병원</td>\n",
       "      <td>25</td>\n",
       "    </tr>\n",
       "    <tr>\n",
       "      <th>24</th>\n",
       "      <td>서울특별시</td>\n",
       "      <td>법인</td>\n",
       "      <td>8</td>\n",
       "    </tr>\n",
       "    <tr>\n",
       "      <th>25</th>\n",
       "      <td>세종특별자치시</td>\n",
       "      <td>개인</td>\n",
       "      <td>1</td>\n",
       "    </tr>\n",
       "    <tr>\n",
       "      <th>26</th>\n",
       "      <td>세종특별자치시</td>\n",
       "      <td>동물병원</td>\n",
       "      <td>2</td>\n",
       "    </tr>\n",
       "    <tr>\n",
       "      <th>27</th>\n",
       "      <td>울산광역시</td>\n",
       "      <td>개인</td>\n",
       "      <td>1</td>\n",
       "    </tr>\n",
       "    <tr>\n",
       "      <th>28</th>\n",
       "      <td>울산광역시</td>\n",
       "      <td>단체</td>\n",
       "      <td>2</td>\n",
       "    </tr>\n",
       "    <tr>\n",
       "      <th>29</th>\n",
       "      <td>울산광역시</td>\n",
       "      <td>동물병원</td>\n",
       "      <td>14</td>\n",
       "    </tr>\n",
       "    <tr>\n",
       "      <th>30</th>\n",
       "      <td>울산광역시</td>\n",
       "      <td>법인</td>\n",
       "      <td>1</td>\n",
       "    </tr>\n",
       "    <tr>\n",
       "      <th>31</th>\n",
       "      <td>인천광역시</td>\n",
       "      <td>단체</td>\n",
       "      <td>1</td>\n",
       "    </tr>\n",
       "    <tr>\n",
       "      <th>32</th>\n",
       "      <td>인천광역시</td>\n",
       "      <td>동물병원</td>\n",
       "      <td>5</td>\n",
       "    </tr>\n",
       "    <tr>\n",
       "      <th>33</th>\n",
       "      <td>인천광역시</td>\n",
       "      <td>법인</td>\n",
       "      <td>1</td>\n",
       "    </tr>\n",
       "    <tr>\n",
       "      <th>34</th>\n",
       "      <td>전라남도</td>\n",
       "      <td>개인</td>\n",
       "      <td>9</td>\n",
       "    </tr>\n",
       "    <tr>\n",
       "      <th>35</th>\n",
       "      <td>전라남도</td>\n",
       "      <td>법인</td>\n",
       "      <td>7</td>\n",
       "    </tr>\n",
       "    <tr>\n",
       "      <th>36</th>\n",
       "      <td>전라북도</td>\n",
       "      <td>단체</td>\n",
       "      <td>2</td>\n",
       "    </tr>\n",
       "    <tr>\n",
       "      <th>37</th>\n",
       "      <td>전라북도</td>\n",
       "      <td>동물병원</td>\n",
       "      <td>3</td>\n",
       "    </tr>\n",
       "    <tr>\n",
       "      <th>38</th>\n",
       "      <td>전라북도</td>\n",
       "      <td>법인</td>\n",
       "      <td>3</td>\n",
       "    </tr>\n",
       "    <tr>\n",
       "      <th>39</th>\n",
       "      <td>제주특별자치도</td>\n",
       "      <td>법인</td>\n",
       "      <td>3</td>\n",
       "    </tr>\n",
       "    <tr>\n",
       "      <th>40</th>\n",
       "      <td>충청남도</td>\n",
       "      <td>개인</td>\n",
       "      <td>1</td>\n",
       "    </tr>\n",
       "    <tr>\n",
       "      <th>41</th>\n",
       "      <td>충청남도</td>\n",
       "      <td>단체</td>\n",
       "      <td>1</td>\n",
       "    </tr>\n",
       "    <tr>\n",
       "      <th>42</th>\n",
       "      <td>충청남도</td>\n",
       "      <td>동물병원</td>\n",
       "      <td>7</td>\n",
       "    </tr>\n",
       "    <tr>\n",
       "      <th>43</th>\n",
       "      <td>충청남도</td>\n",
       "      <td>법인</td>\n",
       "      <td>1</td>\n",
       "    </tr>\n",
       "    <tr>\n",
       "      <th>44</th>\n",
       "      <td>충청북도</td>\n",
       "      <td>단체</td>\n",
       "      <td>2</td>\n",
       "    </tr>\n",
       "    <tr>\n",
       "      <th>45</th>\n",
       "      <td>충청북도</td>\n",
       "      <td>동물병원</td>\n",
       "      <td>3</td>\n",
       "    </tr>\n",
       "    <tr>\n",
       "      <th>46</th>\n",
       "      <td>충청북도</td>\n",
       "      <td>법인</td>\n",
       "      <td>2</td>\n",
       "    </tr>\n",
       "  </tbody>\n",
       "</table>\n",
       "</div>"
      ],
      "text/plain": [
       "   careAddr_0 divisionNm  careAddr\n",
       "0         강원도         개인         4\n",
       "1         강원도         단체         1\n",
       "2         강원도       동물병원         1\n",
       "3         강원도         법인        10\n",
       "4         경기도         단체         3\n",
       "5         경기도       동물병원        25\n",
       "6         경기도         법인        30\n",
       "7        경상남도         개인         3\n",
       "8        경상남도         단체         2\n",
       "9        경상남도         법인         9\n",
       "10       경상북도         개인         2\n",
       "11       경상북도         단체         6\n",
       "12       경상북도       동물병원         2\n",
       "13       경상북도         법인         7\n",
       "14      광주광역시         법인         5\n",
       "15      대구광역시         단체         1\n",
       "16      대구광역시       동물병원         8\n",
       "17      대구광역시         법인         9\n",
       "18      대전광역시         법인         5\n",
       "19      부산광역시         단체         1\n",
       "20      부산광역시       동물병원         4\n",
       "21      부산광역시         법인         6\n",
       "22      서울특별시         단체         2\n",
       "23      서울특별시       동물병원        25\n",
       "24      서울특별시         법인         8\n",
       "25    세종특별자치시         개인         1\n",
       "26    세종특별자치시       동물병원         2\n",
       "27      울산광역시         개인         1\n",
       "28      울산광역시         단체         2\n",
       "29      울산광역시       동물병원        14\n",
       "30      울산광역시         법인         1\n",
       "31      인천광역시         단체         1\n",
       "32      인천광역시       동물병원         5\n",
       "33      인천광역시         법인         1\n",
       "34       전라남도         개인         9\n",
       "35       전라남도         법인         7\n",
       "36       전라북도         단체         2\n",
       "37       전라북도       동물병원         3\n",
       "38       전라북도         법인         3\n",
       "39    제주특별자치도         법인         3\n",
       "40       충청남도         개인         1\n",
       "41       충청남도         단체         1\n",
       "42       충청남도       동물병원         7\n",
       "43       충청남도         법인         1\n",
       "44       충청북도         단체         2\n",
       "45       충청북도       동물병원         3\n",
       "46       충청북도         법인         2"
      ]
     },
     "execution_count": 92,
     "metadata": {},
     "output_type": "execute_result"
    }
   ],
   "source": [
    "df_center[['careAddr','divisionNm','careAddr_0']].groupby(['careAddr_0' , 'divisionNm']).count().reset_index()"
   ]
  },
  {
   "cell_type": "code",
   "execution_count": 90,
   "metadata": {},
   "outputs": [
    {
     "data": {
      "application/vnd.plotly.v1+json": {
       "config": {
        "plotlyServerURL": "https://plot.ly"
       },
       "data": [
        {
         "alignmentgroup": "True",
         "hovertemplate": "<b>%{hovertext}</b><br><br>divisionNm=개인<br>careAddr_0=%{x}<br>careAddr=%{y}<extra></extra>",
         "hovertext": [
          "개인",
          "개인",
          "개인",
          "개인",
          "개인",
          "개인",
          "개인"
         ],
         "legendgroup": "개인",
         "marker": {
          "color": "#636efa"
         },
         "name": "개인",
         "offsetgroup": "개인",
         "orientation": "v",
         "showlegend": true,
         "textposition": "auto",
         "type": "bar",
         "x": [
          "강원도",
          "경상남도",
          "경상북도",
          "세종특별자치시",
          "울산광역시",
          "전라남도",
          "충청남도"
         ],
         "xaxis": "x",
         "y": [
          4,
          3,
          2,
          1,
          1,
          9,
          1
         ],
         "yaxis": "y"
        },
        {
         "alignmentgroup": "True",
         "hovertemplate": "<b>%{hovertext}</b><br><br>divisionNm=단체<br>careAddr_0=%{x}<br>careAddr=%{y}<extra></extra>",
         "hovertext": [
          "단체",
          "단체",
          "단체",
          "단체",
          "단체",
          "단체",
          "단체",
          "단체",
          "단체",
          "단체",
          "단체",
          "단체"
         ],
         "legendgroup": "단체",
         "marker": {
          "color": "#EF553B"
         },
         "name": "단체",
         "offsetgroup": "단체",
         "orientation": "v",
         "showlegend": true,
         "textposition": "auto",
         "type": "bar",
         "x": [
          "강원도",
          "경기도",
          "경상남도",
          "경상북도",
          "대구광역시",
          "부산광역시",
          "서울특별시",
          "울산광역시",
          "인천광역시",
          "전라북도",
          "충청남도",
          "충청북도"
         ],
         "xaxis": "x",
         "y": [
          1,
          3,
          2,
          6,
          1,
          1,
          2,
          2,
          1,
          2,
          1,
          2
         ],
         "yaxis": "y"
        },
        {
         "alignmentgroup": "True",
         "hovertemplate": "<b>%{hovertext}</b><br><br>divisionNm=동물병원<br>careAddr_0=%{x}<br>careAddr=%{y}<extra></extra>",
         "hovertext": [
          "동물병원",
          "동물병원",
          "동물병원",
          "동물병원",
          "동물병원",
          "동물병원",
          "동물병원",
          "동물병원",
          "동물병원",
          "동물병원",
          "동물병원",
          "동물병원"
         ],
         "legendgroup": "동물병원",
         "marker": {
          "color": "#00cc96"
         },
         "name": "동물병원",
         "offsetgroup": "동물병원",
         "orientation": "v",
         "showlegend": true,
         "textposition": "auto",
         "type": "bar",
         "x": [
          "강원도",
          "경기도",
          "경상북도",
          "대구광역시",
          "부산광역시",
          "서울특별시",
          "세종특별자치시",
          "울산광역시",
          "인천광역시",
          "전라북도",
          "충청남도",
          "충청북도"
         ],
         "xaxis": "x",
         "y": [
          1,
          25,
          2,
          8,
          4,
          25,
          2,
          14,
          5,
          3,
          7,
          3
         ],
         "yaxis": "y"
        },
        {
         "alignmentgroup": "True",
         "hovertemplate": "<b>%{hovertext}</b><br><br>divisionNm=법인<br>careAddr_0=%{x}<br>careAddr=%{y}<extra></extra>",
         "hovertext": [
          "법인",
          "법인",
          "법인",
          "법인",
          "법인",
          "법인",
          "법인",
          "법인",
          "법인",
          "법인",
          "법인",
          "법인",
          "법인",
          "법인",
          "법인",
          "법인"
         ],
         "legendgroup": "법인",
         "marker": {
          "color": "#ab63fa"
         },
         "name": "법인",
         "offsetgroup": "법인",
         "orientation": "v",
         "showlegend": true,
         "textposition": "auto",
         "type": "bar",
         "x": [
          "강원도",
          "경기도",
          "경상남도",
          "경상북도",
          "광주광역시",
          "대구광역시",
          "대전광역시",
          "부산광역시",
          "서울특별시",
          "울산광역시",
          "인천광역시",
          "전라남도",
          "전라북도",
          "제주특별자치도",
          "충청남도",
          "충청북도"
         ],
         "xaxis": "x",
         "y": [
          10,
          30,
          9,
          7,
          5,
          9,
          5,
          6,
          8,
          1,
          1,
          7,
          3,
          3,
          1,
          2
         ],
         "yaxis": "y"
        }
       ],
       "layout": {
        "barmode": "relative",
        "legend": {
         "title": {
          "text": "divisionNm"
         },
         "tracegroupgap": 0
        },
        "margin": {
         "t": 60
        },
        "template": {
         "data": {
          "bar": [
           {
            "error_x": {
             "color": "#2a3f5f"
            },
            "error_y": {
             "color": "#2a3f5f"
            },
            "marker": {
             "line": {
              "color": "#E5ECF6",
              "width": 0.5
             }
            },
            "type": "bar"
           }
          ],
          "barpolar": [
           {
            "marker": {
             "line": {
              "color": "#E5ECF6",
              "width": 0.5
             }
            },
            "type": "barpolar"
           }
          ],
          "carpet": [
           {
            "aaxis": {
             "endlinecolor": "#2a3f5f",
             "gridcolor": "white",
             "linecolor": "white",
             "minorgridcolor": "white",
             "startlinecolor": "#2a3f5f"
            },
            "baxis": {
             "endlinecolor": "#2a3f5f",
             "gridcolor": "white",
             "linecolor": "white",
             "minorgridcolor": "white",
             "startlinecolor": "#2a3f5f"
            },
            "type": "carpet"
           }
          ],
          "choropleth": [
           {
            "colorbar": {
             "outlinewidth": 0,
             "ticks": ""
            },
            "type": "choropleth"
           }
          ],
          "contour": [
           {
            "colorbar": {
             "outlinewidth": 0,
             "ticks": ""
            },
            "colorscale": [
             [
              0,
              "#0d0887"
             ],
             [
              0.1111111111111111,
              "#46039f"
             ],
             [
              0.2222222222222222,
              "#7201a8"
             ],
             [
              0.3333333333333333,
              "#9c179e"
             ],
             [
              0.4444444444444444,
              "#bd3786"
             ],
             [
              0.5555555555555556,
              "#d8576b"
             ],
             [
              0.6666666666666666,
              "#ed7953"
             ],
             [
              0.7777777777777778,
              "#fb9f3a"
             ],
             [
              0.8888888888888888,
              "#fdca26"
             ],
             [
              1,
              "#f0f921"
             ]
            ],
            "type": "contour"
           }
          ],
          "contourcarpet": [
           {
            "colorbar": {
             "outlinewidth": 0,
             "ticks": ""
            },
            "type": "contourcarpet"
           }
          ],
          "heatmap": [
           {
            "colorbar": {
             "outlinewidth": 0,
             "ticks": ""
            },
            "colorscale": [
             [
              0,
              "#0d0887"
             ],
             [
              0.1111111111111111,
              "#46039f"
             ],
             [
              0.2222222222222222,
              "#7201a8"
             ],
             [
              0.3333333333333333,
              "#9c179e"
             ],
             [
              0.4444444444444444,
              "#bd3786"
             ],
             [
              0.5555555555555556,
              "#d8576b"
             ],
             [
              0.6666666666666666,
              "#ed7953"
             ],
             [
              0.7777777777777778,
              "#fb9f3a"
             ],
             [
              0.8888888888888888,
              "#fdca26"
             ],
             [
              1,
              "#f0f921"
             ]
            ],
            "type": "heatmap"
           }
          ],
          "heatmapgl": [
           {
            "colorbar": {
             "outlinewidth": 0,
             "ticks": ""
            },
            "colorscale": [
             [
              0,
              "#0d0887"
             ],
             [
              0.1111111111111111,
              "#46039f"
             ],
             [
              0.2222222222222222,
              "#7201a8"
             ],
             [
              0.3333333333333333,
              "#9c179e"
             ],
             [
              0.4444444444444444,
              "#bd3786"
             ],
             [
              0.5555555555555556,
              "#d8576b"
             ],
             [
              0.6666666666666666,
              "#ed7953"
             ],
             [
              0.7777777777777778,
              "#fb9f3a"
             ],
             [
              0.8888888888888888,
              "#fdca26"
             ],
             [
              1,
              "#f0f921"
             ]
            ],
            "type": "heatmapgl"
           }
          ],
          "histogram": [
           {
            "marker": {
             "colorbar": {
              "outlinewidth": 0,
              "ticks": ""
             }
            },
            "type": "histogram"
           }
          ],
          "histogram2d": [
           {
            "colorbar": {
             "outlinewidth": 0,
             "ticks": ""
            },
            "colorscale": [
             [
              0,
              "#0d0887"
             ],
             [
              0.1111111111111111,
              "#46039f"
             ],
             [
              0.2222222222222222,
              "#7201a8"
             ],
             [
              0.3333333333333333,
              "#9c179e"
             ],
             [
              0.4444444444444444,
              "#bd3786"
             ],
             [
              0.5555555555555556,
              "#d8576b"
             ],
             [
              0.6666666666666666,
              "#ed7953"
             ],
             [
              0.7777777777777778,
              "#fb9f3a"
             ],
             [
              0.8888888888888888,
              "#fdca26"
             ],
             [
              1,
              "#f0f921"
             ]
            ],
            "type": "histogram2d"
           }
          ],
          "histogram2dcontour": [
           {
            "colorbar": {
             "outlinewidth": 0,
             "ticks": ""
            },
            "colorscale": [
             [
              0,
              "#0d0887"
             ],
             [
              0.1111111111111111,
              "#46039f"
             ],
             [
              0.2222222222222222,
              "#7201a8"
             ],
             [
              0.3333333333333333,
              "#9c179e"
             ],
             [
              0.4444444444444444,
              "#bd3786"
             ],
             [
              0.5555555555555556,
              "#d8576b"
             ],
             [
              0.6666666666666666,
              "#ed7953"
             ],
             [
              0.7777777777777778,
              "#fb9f3a"
             ],
             [
              0.8888888888888888,
              "#fdca26"
             ],
             [
              1,
              "#f0f921"
             ]
            ],
            "type": "histogram2dcontour"
           }
          ],
          "mesh3d": [
           {
            "colorbar": {
             "outlinewidth": 0,
             "ticks": ""
            },
            "type": "mesh3d"
           }
          ],
          "parcoords": [
           {
            "line": {
             "colorbar": {
              "outlinewidth": 0,
              "ticks": ""
             }
            },
            "type": "parcoords"
           }
          ],
          "pie": [
           {
            "automargin": true,
            "type": "pie"
           }
          ],
          "scatter": [
           {
            "marker": {
             "colorbar": {
              "outlinewidth": 0,
              "ticks": ""
             }
            },
            "type": "scatter"
           }
          ],
          "scatter3d": [
           {
            "line": {
             "colorbar": {
              "outlinewidth": 0,
              "ticks": ""
             }
            },
            "marker": {
             "colorbar": {
              "outlinewidth": 0,
              "ticks": ""
             }
            },
            "type": "scatter3d"
           }
          ],
          "scattercarpet": [
           {
            "marker": {
             "colorbar": {
              "outlinewidth": 0,
              "ticks": ""
             }
            },
            "type": "scattercarpet"
           }
          ],
          "scattergeo": [
           {
            "marker": {
             "colorbar": {
              "outlinewidth": 0,
              "ticks": ""
             }
            },
            "type": "scattergeo"
           }
          ],
          "scattergl": [
           {
            "marker": {
             "colorbar": {
              "outlinewidth": 0,
              "ticks": ""
             }
            },
            "type": "scattergl"
           }
          ],
          "scattermapbox": [
           {
            "marker": {
             "colorbar": {
              "outlinewidth": 0,
              "ticks": ""
             }
            },
            "type": "scattermapbox"
           }
          ],
          "scatterpolar": [
           {
            "marker": {
             "colorbar": {
              "outlinewidth": 0,
              "ticks": ""
             }
            },
            "type": "scatterpolar"
           }
          ],
          "scatterpolargl": [
           {
            "marker": {
             "colorbar": {
              "outlinewidth": 0,
              "ticks": ""
             }
            },
            "type": "scatterpolargl"
           }
          ],
          "scatterternary": [
           {
            "marker": {
             "colorbar": {
              "outlinewidth": 0,
              "ticks": ""
             }
            },
            "type": "scatterternary"
           }
          ],
          "surface": [
           {
            "colorbar": {
             "outlinewidth": 0,
             "ticks": ""
            },
            "colorscale": [
             [
              0,
              "#0d0887"
             ],
             [
              0.1111111111111111,
              "#46039f"
             ],
             [
              0.2222222222222222,
              "#7201a8"
             ],
             [
              0.3333333333333333,
              "#9c179e"
             ],
             [
              0.4444444444444444,
              "#bd3786"
             ],
             [
              0.5555555555555556,
              "#d8576b"
             ],
             [
              0.6666666666666666,
              "#ed7953"
             ],
             [
              0.7777777777777778,
              "#fb9f3a"
             ],
             [
              0.8888888888888888,
              "#fdca26"
             ],
             [
              1,
              "#f0f921"
             ]
            ],
            "type": "surface"
           }
          ],
          "table": [
           {
            "cells": {
             "fill": {
              "color": "#EBF0F8"
             },
             "line": {
              "color": "white"
             }
            },
            "header": {
             "fill": {
              "color": "#C8D4E3"
             },
             "line": {
              "color": "white"
             }
            },
            "type": "table"
           }
          ]
         },
         "layout": {
          "annotationdefaults": {
           "arrowcolor": "#2a3f5f",
           "arrowhead": 0,
           "arrowwidth": 1
          },
          "autotypenumbers": "strict",
          "coloraxis": {
           "colorbar": {
            "outlinewidth": 0,
            "ticks": ""
           }
          },
          "colorscale": {
           "diverging": [
            [
             0,
             "#8e0152"
            ],
            [
             0.1,
             "#c51b7d"
            ],
            [
             0.2,
             "#de77ae"
            ],
            [
             0.3,
             "#f1b6da"
            ],
            [
             0.4,
             "#fde0ef"
            ],
            [
             0.5,
             "#f7f7f7"
            ],
            [
             0.6,
             "#e6f5d0"
            ],
            [
             0.7,
             "#b8e186"
            ],
            [
             0.8,
             "#7fbc41"
            ],
            [
             0.9,
             "#4d9221"
            ],
            [
             1,
             "#276419"
            ]
           ],
           "sequential": [
            [
             0,
             "#0d0887"
            ],
            [
             0.1111111111111111,
             "#46039f"
            ],
            [
             0.2222222222222222,
             "#7201a8"
            ],
            [
             0.3333333333333333,
             "#9c179e"
            ],
            [
             0.4444444444444444,
             "#bd3786"
            ],
            [
             0.5555555555555556,
             "#d8576b"
            ],
            [
             0.6666666666666666,
             "#ed7953"
            ],
            [
             0.7777777777777778,
             "#fb9f3a"
            ],
            [
             0.8888888888888888,
             "#fdca26"
            ],
            [
             1,
             "#f0f921"
            ]
           ],
           "sequentialminus": [
            [
             0,
             "#0d0887"
            ],
            [
             0.1111111111111111,
             "#46039f"
            ],
            [
             0.2222222222222222,
             "#7201a8"
            ],
            [
             0.3333333333333333,
             "#9c179e"
            ],
            [
             0.4444444444444444,
             "#bd3786"
            ],
            [
             0.5555555555555556,
             "#d8576b"
            ],
            [
             0.6666666666666666,
             "#ed7953"
            ],
            [
             0.7777777777777778,
             "#fb9f3a"
            ],
            [
             0.8888888888888888,
             "#fdca26"
            ],
            [
             1,
             "#f0f921"
            ]
           ]
          },
          "colorway": [
           "#636efa",
           "#EF553B",
           "#00cc96",
           "#ab63fa",
           "#FFA15A",
           "#19d3f3",
           "#FF6692",
           "#B6E880",
           "#FF97FF",
           "#FECB52"
          ],
          "font": {
           "color": "#2a3f5f"
          },
          "geo": {
           "bgcolor": "white",
           "lakecolor": "white",
           "landcolor": "#E5ECF6",
           "showlakes": true,
           "showland": true,
           "subunitcolor": "white"
          },
          "hoverlabel": {
           "align": "left"
          },
          "hovermode": "closest",
          "mapbox": {
           "style": "light"
          },
          "paper_bgcolor": "white",
          "plot_bgcolor": "#E5ECF6",
          "polar": {
           "angularaxis": {
            "gridcolor": "white",
            "linecolor": "white",
            "ticks": ""
           },
           "bgcolor": "#E5ECF6",
           "radialaxis": {
            "gridcolor": "white",
            "linecolor": "white",
            "ticks": ""
           }
          },
          "scene": {
           "xaxis": {
            "backgroundcolor": "#E5ECF6",
            "gridcolor": "white",
            "gridwidth": 2,
            "linecolor": "white",
            "showbackground": true,
            "ticks": "",
            "zerolinecolor": "white"
           },
           "yaxis": {
            "backgroundcolor": "#E5ECF6",
            "gridcolor": "white",
            "gridwidth": 2,
            "linecolor": "white",
            "showbackground": true,
            "ticks": "",
            "zerolinecolor": "white"
           },
           "zaxis": {
            "backgroundcolor": "#E5ECF6",
            "gridcolor": "white",
            "gridwidth": 2,
            "linecolor": "white",
            "showbackground": true,
            "ticks": "",
            "zerolinecolor": "white"
           }
          },
          "shapedefaults": {
           "line": {
            "color": "#2a3f5f"
           }
          },
          "ternary": {
           "aaxis": {
            "gridcolor": "white",
            "linecolor": "white",
            "ticks": ""
           },
           "baxis": {
            "gridcolor": "white",
            "linecolor": "white",
            "ticks": ""
           },
           "bgcolor": "#E5ECF6",
           "caxis": {
            "gridcolor": "white",
            "linecolor": "white",
            "ticks": ""
           }
          },
          "title": {
           "x": 0.05
          },
          "xaxis": {
           "automargin": true,
           "gridcolor": "white",
           "linecolor": "white",
           "ticks": "",
           "title": {
            "standoff": 15
           },
           "zerolinecolor": "white",
           "zerolinewidth": 2
          },
          "yaxis": {
           "automargin": true,
           "gridcolor": "white",
           "linecolor": "white",
           "ticks": "",
           "title": {
            "standoff": 15
           },
           "zerolinecolor": "white",
           "zerolinewidth": 2
          }
         }
        },
        "xaxis": {
         "anchor": "y",
         "domain": [
          0,
          1
         ],
         "title": {
          "text": "careAddr_0"
         }
        },
        "yaxis": {
         "anchor": "x",
         "domain": [
          0,
          1
         ],
         "title": {
          "text": "careAddr"
         }
        }
       }
      },
      "text/html": [
       "<div>                            <div id=\"a78c3c86-59fd-4d36-9dcb-b5f581eb6da0\" class=\"plotly-graph-div\" style=\"height:525px; width:100%;\"></div>            <script type=\"text/javascript\">                require([\"plotly\"], function(Plotly) {                    window.PLOTLYENV=window.PLOTLYENV || {};                                    if (document.getElementById(\"a78c3c86-59fd-4d36-9dcb-b5f581eb6da0\")) {                    Plotly.newPlot(                        \"a78c3c86-59fd-4d36-9dcb-b5f581eb6da0\",                        [{\"alignmentgroup\": \"True\", \"hovertemplate\": \"<b>%{hovertext}</b><br><br>divisionNm=\\uac1c\\uc778<br>careAddr_0=%{x}<br>careAddr=%{y}<extra></extra>\", \"hovertext\": [\"\\uac1c\\uc778\", \"\\uac1c\\uc778\", \"\\uac1c\\uc778\", \"\\uac1c\\uc778\", \"\\uac1c\\uc778\", \"\\uac1c\\uc778\", \"\\uac1c\\uc778\"], \"legendgroup\": \"\\uac1c\\uc778\", \"marker\": {\"color\": \"#636efa\"}, \"name\": \"\\uac1c\\uc778\", \"offsetgroup\": \"\\uac1c\\uc778\", \"orientation\": \"v\", \"showlegend\": true, \"textposition\": \"auto\", \"type\": \"bar\", \"x\": [\"\\uac15\\uc6d0\\ub3c4\", \"\\uacbd\\uc0c1\\ub0a8\\ub3c4\", \"\\uacbd\\uc0c1\\ubd81\\ub3c4\", \"\\uc138\\uc885\\ud2b9\\ubcc4\\uc790\\uce58\\uc2dc\", \"\\uc6b8\\uc0b0\\uad11\\uc5ed\\uc2dc\", \"\\uc804\\ub77c\\ub0a8\\ub3c4\", \"\\ucda9\\uccad\\ub0a8\\ub3c4\"], \"xaxis\": \"x\", \"y\": [4, 3, 2, 1, 1, 9, 1], \"yaxis\": \"y\"}, {\"alignmentgroup\": \"True\", \"hovertemplate\": \"<b>%{hovertext}</b><br><br>divisionNm=\\ub2e8\\uccb4<br>careAddr_0=%{x}<br>careAddr=%{y}<extra></extra>\", \"hovertext\": [\"\\ub2e8\\uccb4\", \"\\ub2e8\\uccb4\", \"\\ub2e8\\uccb4\", \"\\ub2e8\\uccb4\", \"\\ub2e8\\uccb4\", \"\\ub2e8\\uccb4\", \"\\ub2e8\\uccb4\", \"\\ub2e8\\uccb4\", \"\\ub2e8\\uccb4\", \"\\ub2e8\\uccb4\", \"\\ub2e8\\uccb4\", \"\\ub2e8\\uccb4\"], \"legendgroup\": \"\\ub2e8\\uccb4\", \"marker\": {\"color\": \"#EF553B\"}, \"name\": \"\\ub2e8\\uccb4\", \"offsetgroup\": \"\\ub2e8\\uccb4\", \"orientation\": \"v\", \"showlegend\": true, \"textposition\": \"auto\", \"type\": \"bar\", \"x\": [\"\\uac15\\uc6d0\\ub3c4\", \"\\uacbd\\uae30\\ub3c4\", \"\\uacbd\\uc0c1\\ub0a8\\ub3c4\", \"\\uacbd\\uc0c1\\ubd81\\ub3c4\", \"\\ub300\\uad6c\\uad11\\uc5ed\\uc2dc\", \"\\ubd80\\uc0b0\\uad11\\uc5ed\\uc2dc\", \"\\uc11c\\uc6b8\\ud2b9\\ubcc4\\uc2dc\", \"\\uc6b8\\uc0b0\\uad11\\uc5ed\\uc2dc\", \"\\uc778\\ucc9c\\uad11\\uc5ed\\uc2dc\", \"\\uc804\\ub77c\\ubd81\\ub3c4\", \"\\ucda9\\uccad\\ub0a8\\ub3c4\", \"\\ucda9\\uccad\\ubd81\\ub3c4\"], \"xaxis\": \"x\", \"y\": [1, 3, 2, 6, 1, 1, 2, 2, 1, 2, 1, 2], \"yaxis\": \"y\"}, {\"alignmentgroup\": \"True\", \"hovertemplate\": \"<b>%{hovertext}</b><br><br>divisionNm=\\ub3d9\\ubb3c\\ubcd1\\uc6d0<br>careAddr_0=%{x}<br>careAddr=%{y}<extra></extra>\", \"hovertext\": [\"\\ub3d9\\ubb3c\\ubcd1\\uc6d0\", \"\\ub3d9\\ubb3c\\ubcd1\\uc6d0\", \"\\ub3d9\\ubb3c\\ubcd1\\uc6d0\", \"\\ub3d9\\ubb3c\\ubcd1\\uc6d0\", \"\\ub3d9\\ubb3c\\ubcd1\\uc6d0\", \"\\ub3d9\\ubb3c\\ubcd1\\uc6d0\", \"\\ub3d9\\ubb3c\\ubcd1\\uc6d0\", \"\\ub3d9\\ubb3c\\ubcd1\\uc6d0\", \"\\ub3d9\\ubb3c\\ubcd1\\uc6d0\", \"\\ub3d9\\ubb3c\\ubcd1\\uc6d0\", \"\\ub3d9\\ubb3c\\ubcd1\\uc6d0\", \"\\ub3d9\\ubb3c\\ubcd1\\uc6d0\"], \"legendgroup\": \"\\ub3d9\\ubb3c\\ubcd1\\uc6d0\", \"marker\": {\"color\": \"#00cc96\"}, \"name\": \"\\ub3d9\\ubb3c\\ubcd1\\uc6d0\", \"offsetgroup\": \"\\ub3d9\\ubb3c\\ubcd1\\uc6d0\", \"orientation\": \"v\", \"showlegend\": true, \"textposition\": \"auto\", \"type\": \"bar\", \"x\": [\"\\uac15\\uc6d0\\ub3c4\", \"\\uacbd\\uae30\\ub3c4\", \"\\uacbd\\uc0c1\\ubd81\\ub3c4\", \"\\ub300\\uad6c\\uad11\\uc5ed\\uc2dc\", \"\\ubd80\\uc0b0\\uad11\\uc5ed\\uc2dc\", \"\\uc11c\\uc6b8\\ud2b9\\ubcc4\\uc2dc\", \"\\uc138\\uc885\\ud2b9\\ubcc4\\uc790\\uce58\\uc2dc\", \"\\uc6b8\\uc0b0\\uad11\\uc5ed\\uc2dc\", \"\\uc778\\ucc9c\\uad11\\uc5ed\\uc2dc\", \"\\uc804\\ub77c\\ubd81\\ub3c4\", \"\\ucda9\\uccad\\ub0a8\\ub3c4\", \"\\ucda9\\uccad\\ubd81\\ub3c4\"], \"xaxis\": \"x\", \"y\": [1, 25, 2, 8, 4, 25, 2, 14, 5, 3, 7, 3], \"yaxis\": \"y\"}, {\"alignmentgroup\": \"True\", \"hovertemplate\": \"<b>%{hovertext}</b><br><br>divisionNm=\\ubc95\\uc778<br>careAddr_0=%{x}<br>careAddr=%{y}<extra></extra>\", \"hovertext\": [\"\\ubc95\\uc778\", \"\\ubc95\\uc778\", \"\\ubc95\\uc778\", \"\\ubc95\\uc778\", \"\\ubc95\\uc778\", \"\\ubc95\\uc778\", \"\\ubc95\\uc778\", \"\\ubc95\\uc778\", \"\\ubc95\\uc778\", \"\\ubc95\\uc778\", \"\\ubc95\\uc778\", \"\\ubc95\\uc778\", \"\\ubc95\\uc778\", \"\\ubc95\\uc778\", \"\\ubc95\\uc778\", \"\\ubc95\\uc778\"], \"legendgroup\": \"\\ubc95\\uc778\", \"marker\": {\"color\": \"#ab63fa\"}, \"name\": \"\\ubc95\\uc778\", \"offsetgroup\": \"\\ubc95\\uc778\", \"orientation\": \"v\", \"showlegend\": true, \"textposition\": \"auto\", \"type\": \"bar\", \"x\": [\"\\uac15\\uc6d0\\ub3c4\", \"\\uacbd\\uae30\\ub3c4\", \"\\uacbd\\uc0c1\\ub0a8\\ub3c4\", \"\\uacbd\\uc0c1\\ubd81\\ub3c4\", \"\\uad11\\uc8fc\\uad11\\uc5ed\\uc2dc\", \"\\ub300\\uad6c\\uad11\\uc5ed\\uc2dc\", \"\\ub300\\uc804\\uad11\\uc5ed\\uc2dc\", \"\\ubd80\\uc0b0\\uad11\\uc5ed\\uc2dc\", \"\\uc11c\\uc6b8\\ud2b9\\ubcc4\\uc2dc\", \"\\uc6b8\\uc0b0\\uad11\\uc5ed\\uc2dc\", \"\\uc778\\ucc9c\\uad11\\uc5ed\\uc2dc\", \"\\uc804\\ub77c\\ub0a8\\ub3c4\", \"\\uc804\\ub77c\\ubd81\\ub3c4\", \"\\uc81c\\uc8fc\\ud2b9\\ubcc4\\uc790\\uce58\\ub3c4\", \"\\ucda9\\uccad\\ub0a8\\ub3c4\", \"\\ucda9\\uccad\\ubd81\\ub3c4\"], \"xaxis\": \"x\", \"y\": [10, 30, 9, 7, 5, 9, 5, 6, 8, 1, 1, 7, 3, 3, 1, 2], \"yaxis\": \"y\"}],                        {\"barmode\": \"relative\", \"legend\": {\"title\": {\"text\": \"divisionNm\"}, \"tracegroupgap\": 0}, \"margin\": {\"t\": 60}, \"template\": {\"data\": {\"bar\": [{\"error_x\": {\"color\": \"#2a3f5f\"}, \"error_y\": {\"color\": \"#2a3f5f\"}, \"marker\": {\"line\": {\"color\": \"#E5ECF6\", \"width\": 0.5}}, \"type\": \"bar\"}], \"barpolar\": [{\"marker\": {\"line\": {\"color\": \"#E5ECF6\", \"width\": 0.5}}, \"type\": \"barpolar\"}], \"carpet\": [{\"aaxis\": {\"endlinecolor\": \"#2a3f5f\", \"gridcolor\": \"white\", \"linecolor\": \"white\", \"minorgridcolor\": \"white\", \"startlinecolor\": \"#2a3f5f\"}, \"baxis\": {\"endlinecolor\": \"#2a3f5f\", \"gridcolor\": \"white\", \"linecolor\": \"white\", \"minorgridcolor\": \"white\", \"startlinecolor\": \"#2a3f5f\"}, \"type\": \"carpet\"}], \"choropleth\": [{\"colorbar\": {\"outlinewidth\": 0, \"ticks\": \"\"}, \"type\": \"choropleth\"}], \"contour\": [{\"colorbar\": {\"outlinewidth\": 0, \"ticks\": \"\"}, \"colorscale\": [[0.0, \"#0d0887\"], [0.1111111111111111, \"#46039f\"], [0.2222222222222222, \"#7201a8\"], [0.3333333333333333, \"#9c179e\"], [0.4444444444444444, \"#bd3786\"], [0.5555555555555556, \"#d8576b\"], [0.6666666666666666, \"#ed7953\"], [0.7777777777777778, \"#fb9f3a\"], [0.8888888888888888, \"#fdca26\"], [1.0, \"#f0f921\"]], \"type\": \"contour\"}], \"contourcarpet\": [{\"colorbar\": {\"outlinewidth\": 0, \"ticks\": \"\"}, \"type\": \"contourcarpet\"}], \"heatmap\": [{\"colorbar\": {\"outlinewidth\": 0, \"ticks\": \"\"}, \"colorscale\": [[0.0, \"#0d0887\"], [0.1111111111111111, \"#46039f\"], [0.2222222222222222, \"#7201a8\"], [0.3333333333333333, \"#9c179e\"], [0.4444444444444444, \"#bd3786\"], [0.5555555555555556, \"#d8576b\"], [0.6666666666666666, \"#ed7953\"], [0.7777777777777778, \"#fb9f3a\"], [0.8888888888888888, \"#fdca26\"], [1.0, \"#f0f921\"]], \"type\": \"heatmap\"}], \"heatmapgl\": [{\"colorbar\": {\"outlinewidth\": 0, \"ticks\": \"\"}, \"colorscale\": [[0.0, \"#0d0887\"], [0.1111111111111111, \"#46039f\"], [0.2222222222222222, \"#7201a8\"], [0.3333333333333333, \"#9c179e\"], [0.4444444444444444, \"#bd3786\"], [0.5555555555555556, \"#d8576b\"], [0.6666666666666666, \"#ed7953\"], [0.7777777777777778, \"#fb9f3a\"], [0.8888888888888888, \"#fdca26\"], [1.0, \"#f0f921\"]], \"type\": \"heatmapgl\"}], \"histogram\": [{\"marker\": {\"colorbar\": {\"outlinewidth\": 0, \"ticks\": \"\"}}, \"type\": \"histogram\"}], \"histogram2d\": [{\"colorbar\": {\"outlinewidth\": 0, \"ticks\": \"\"}, \"colorscale\": [[0.0, \"#0d0887\"], [0.1111111111111111, \"#46039f\"], [0.2222222222222222, \"#7201a8\"], [0.3333333333333333, \"#9c179e\"], [0.4444444444444444, \"#bd3786\"], [0.5555555555555556, \"#d8576b\"], [0.6666666666666666, \"#ed7953\"], [0.7777777777777778, \"#fb9f3a\"], [0.8888888888888888, \"#fdca26\"], [1.0, \"#f0f921\"]], \"type\": \"histogram2d\"}], \"histogram2dcontour\": [{\"colorbar\": {\"outlinewidth\": 0, \"ticks\": \"\"}, \"colorscale\": [[0.0, \"#0d0887\"], [0.1111111111111111, \"#46039f\"], [0.2222222222222222, \"#7201a8\"], [0.3333333333333333, \"#9c179e\"], [0.4444444444444444, \"#bd3786\"], [0.5555555555555556, \"#d8576b\"], [0.6666666666666666, \"#ed7953\"], [0.7777777777777778, \"#fb9f3a\"], [0.8888888888888888, \"#fdca26\"], [1.0, \"#f0f921\"]], \"type\": \"histogram2dcontour\"}], \"mesh3d\": [{\"colorbar\": {\"outlinewidth\": 0, \"ticks\": \"\"}, \"type\": \"mesh3d\"}], \"parcoords\": [{\"line\": {\"colorbar\": {\"outlinewidth\": 0, \"ticks\": \"\"}}, \"type\": \"parcoords\"}], \"pie\": [{\"automargin\": true, \"type\": \"pie\"}], \"scatter\": [{\"marker\": {\"colorbar\": {\"outlinewidth\": 0, \"ticks\": \"\"}}, \"type\": \"scatter\"}], \"scatter3d\": [{\"line\": {\"colorbar\": {\"outlinewidth\": 0, \"ticks\": \"\"}}, \"marker\": {\"colorbar\": {\"outlinewidth\": 0, \"ticks\": \"\"}}, \"type\": \"scatter3d\"}], \"scattercarpet\": [{\"marker\": {\"colorbar\": {\"outlinewidth\": 0, \"ticks\": \"\"}}, \"type\": \"scattercarpet\"}], \"scattergeo\": [{\"marker\": {\"colorbar\": {\"outlinewidth\": 0, \"ticks\": \"\"}}, \"type\": \"scattergeo\"}], \"scattergl\": [{\"marker\": {\"colorbar\": {\"outlinewidth\": 0, \"ticks\": \"\"}}, \"type\": \"scattergl\"}], \"scattermapbox\": [{\"marker\": {\"colorbar\": {\"outlinewidth\": 0, \"ticks\": \"\"}}, \"type\": \"scattermapbox\"}], \"scatterpolar\": [{\"marker\": {\"colorbar\": {\"outlinewidth\": 0, \"ticks\": \"\"}}, \"type\": \"scatterpolar\"}], \"scatterpolargl\": [{\"marker\": {\"colorbar\": {\"outlinewidth\": 0, \"ticks\": \"\"}}, \"type\": \"scatterpolargl\"}], \"scatterternary\": [{\"marker\": {\"colorbar\": {\"outlinewidth\": 0, \"ticks\": \"\"}}, \"type\": \"scatterternary\"}], \"surface\": [{\"colorbar\": {\"outlinewidth\": 0, \"ticks\": \"\"}, \"colorscale\": [[0.0, \"#0d0887\"], [0.1111111111111111, \"#46039f\"], [0.2222222222222222, \"#7201a8\"], [0.3333333333333333, \"#9c179e\"], [0.4444444444444444, \"#bd3786\"], [0.5555555555555556, \"#d8576b\"], [0.6666666666666666, \"#ed7953\"], [0.7777777777777778, \"#fb9f3a\"], [0.8888888888888888, \"#fdca26\"], [1.0, \"#f0f921\"]], \"type\": \"surface\"}], \"table\": [{\"cells\": {\"fill\": {\"color\": \"#EBF0F8\"}, \"line\": {\"color\": \"white\"}}, \"header\": {\"fill\": {\"color\": \"#C8D4E3\"}, \"line\": {\"color\": \"white\"}}, \"type\": \"table\"}]}, \"layout\": {\"annotationdefaults\": {\"arrowcolor\": \"#2a3f5f\", \"arrowhead\": 0, \"arrowwidth\": 1}, \"autotypenumbers\": \"strict\", \"coloraxis\": {\"colorbar\": {\"outlinewidth\": 0, \"ticks\": \"\"}}, \"colorscale\": {\"diverging\": [[0, \"#8e0152\"], [0.1, \"#c51b7d\"], [0.2, \"#de77ae\"], [0.3, \"#f1b6da\"], [0.4, \"#fde0ef\"], [0.5, \"#f7f7f7\"], [0.6, \"#e6f5d0\"], [0.7, \"#b8e186\"], [0.8, \"#7fbc41\"], [0.9, \"#4d9221\"], [1, \"#276419\"]], \"sequential\": [[0.0, \"#0d0887\"], [0.1111111111111111, \"#46039f\"], [0.2222222222222222, \"#7201a8\"], [0.3333333333333333, \"#9c179e\"], [0.4444444444444444, \"#bd3786\"], [0.5555555555555556, \"#d8576b\"], [0.6666666666666666, \"#ed7953\"], [0.7777777777777778, \"#fb9f3a\"], [0.8888888888888888, \"#fdca26\"], [1.0, \"#f0f921\"]], \"sequentialminus\": [[0.0, \"#0d0887\"], [0.1111111111111111, \"#46039f\"], [0.2222222222222222, \"#7201a8\"], [0.3333333333333333, \"#9c179e\"], [0.4444444444444444, \"#bd3786\"], [0.5555555555555556, \"#d8576b\"], [0.6666666666666666, \"#ed7953\"], [0.7777777777777778, \"#fb9f3a\"], [0.8888888888888888, \"#fdca26\"], [1.0, \"#f0f921\"]]}, \"colorway\": [\"#636efa\", \"#EF553B\", \"#00cc96\", \"#ab63fa\", \"#FFA15A\", \"#19d3f3\", \"#FF6692\", \"#B6E880\", \"#FF97FF\", \"#FECB52\"], \"font\": {\"color\": \"#2a3f5f\"}, \"geo\": {\"bgcolor\": \"white\", \"lakecolor\": \"white\", \"landcolor\": \"#E5ECF6\", \"showlakes\": true, \"showland\": true, \"subunitcolor\": \"white\"}, \"hoverlabel\": {\"align\": \"left\"}, \"hovermode\": \"closest\", \"mapbox\": {\"style\": \"light\"}, \"paper_bgcolor\": \"white\", \"plot_bgcolor\": \"#E5ECF6\", \"polar\": {\"angularaxis\": {\"gridcolor\": \"white\", \"linecolor\": \"white\", \"ticks\": \"\"}, \"bgcolor\": \"#E5ECF6\", \"radialaxis\": {\"gridcolor\": \"white\", \"linecolor\": \"white\", \"ticks\": \"\"}}, \"scene\": {\"xaxis\": {\"backgroundcolor\": \"#E5ECF6\", \"gridcolor\": \"white\", \"gridwidth\": 2, \"linecolor\": \"white\", \"showbackground\": true, \"ticks\": \"\", \"zerolinecolor\": \"white\"}, \"yaxis\": {\"backgroundcolor\": \"#E5ECF6\", \"gridcolor\": \"white\", \"gridwidth\": 2, \"linecolor\": \"white\", \"showbackground\": true, \"ticks\": \"\", \"zerolinecolor\": \"white\"}, \"zaxis\": {\"backgroundcolor\": \"#E5ECF6\", \"gridcolor\": \"white\", \"gridwidth\": 2, \"linecolor\": \"white\", \"showbackground\": true, \"ticks\": \"\", \"zerolinecolor\": \"white\"}}, \"shapedefaults\": {\"line\": {\"color\": \"#2a3f5f\"}}, \"ternary\": {\"aaxis\": {\"gridcolor\": \"white\", \"linecolor\": \"white\", \"ticks\": \"\"}, \"baxis\": {\"gridcolor\": \"white\", \"linecolor\": \"white\", \"ticks\": \"\"}, \"bgcolor\": \"#E5ECF6\", \"caxis\": {\"gridcolor\": \"white\", \"linecolor\": \"white\", \"ticks\": \"\"}}, \"title\": {\"x\": 0.05}, \"xaxis\": {\"automargin\": true, \"gridcolor\": \"white\", \"linecolor\": \"white\", \"ticks\": \"\", \"title\": {\"standoff\": 15}, \"zerolinecolor\": \"white\", \"zerolinewidth\": 2}, \"yaxis\": {\"automargin\": true, \"gridcolor\": \"white\", \"linecolor\": \"white\", \"ticks\": \"\", \"title\": {\"standoff\": 15}, \"zerolinecolor\": \"white\", \"zerolinewidth\": 2}}}, \"xaxis\": {\"anchor\": \"y\", \"domain\": [0.0, 1.0], \"title\": {\"text\": \"careAddr_0\"}}, \"yaxis\": {\"anchor\": \"x\", \"domain\": [0.0, 1.0], \"title\": {\"text\": \"careAddr\"}}},                        {\"responsive\": true}                    ).then(function(){\n",
       "                            \n",
       "var gd = document.getElementById('a78c3c86-59fd-4d36-9dcb-b5f581eb6da0');\n",
       "var x = new MutationObserver(function (mutations, observer) {{\n",
       "        var display = window.getComputedStyle(gd).display;\n",
       "        if (!display || display === 'none') {{\n",
       "            console.log([gd, 'removed!']);\n",
       "            Plotly.purge(gd);\n",
       "            observer.disconnect();\n",
       "        }}\n",
       "}});\n",
       "\n",
       "// Listen for the removal of the full notebook cells\n",
       "var notebookContainer = gd.closest('#notebook-container');\n",
       "if (notebookContainer) {{\n",
       "    x.observe(notebookContainer, {childList: true});\n",
       "}}\n",
       "\n",
       "// Listen for the clearing of the current output cell\n",
       "var outputEl = gd.closest('.output');\n",
       "if (outputEl) {{\n",
       "    x.observe(outputEl, {childList: true});\n",
       "}}\n",
       "\n",
       "                        })                };                });            </script>        </div>"
      ]
     },
     "metadata": {},
     "output_type": "display_data"
    }
   ],
   "source": [
    "fig = px.bar(df_center[['careAddr','divisionNm','careAddr_0']].groupby(['careAddr_0' , 'divisionNm']).count().reset_index(),\n",
    "             x=\"careAddr_0\", y=\"careAddr\", color=\"divisionNm\",\n",
    "               hover_name=\"divisionNm\")\n",
    "fig.show()"
   ]
  },
  {
   "cell_type": "code",
   "execution_count": null,
   "metadata": {},
   "outputs": [],
   "source": []
  },
  {
   "cell_type": "code",
   "execution_count": null,
   "metadata": {},
   "outputs": [],
   "source": []
  },
  {
   "cell_type": "code",
   "execution_count": null,
   "metadata": {},
   "outputs": [],
   "source": []
  },
  {
   "cell_type": "code",
   "execution_count": null,
   "metadata": {},
   "outputs": [],
   "source": []
  },
  {
   "cell_type": "code",
   "execution_count": null,
   "metadata": {},
   "outputs": [],
   "source": []
  },
  {
   "cell_type": "code",
   "execution_count": null,
   "metadata": {},
   "outputs": [],
   "source": []
  }
 ],
 "metadata": {
  "kernelspec": {
   "display_name": "Python 3",
   "language": "python",
   "name": "python3"
  },
  "language_info": {
   "codemirror_mode": {
    "name": "ipython",
    "version": 3
   },
   "file_extension": ".py",
   "mimetype": "text/x-python",
   "name": "python",
   "nbconvert_exporter": "python",
   "pygments_lexer": "ipython3",
   "version": "3.7.6"
  }
 },
 "nbformat": 4,
 "nbformat_minor": 4
}
